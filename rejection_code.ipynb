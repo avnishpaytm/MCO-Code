{
 "cells": [
  {
   "cell_type": "code",
   "execution_count": 1,
   "metadata": {},
   "outputs": [],
   "source": [
    "import pandas as pd\n",
    "import numpy as np\n",
    "from datetime import datetime, timedelta\n",
    "from datetime import time\n",
    "import os\n"
   ]
  },
  {
   "cell_type": "code",
   "execution_count": 2,
   "metadata": {},
   "outputs": [],
   "source": [
    "data=\"all_flow_data_27th April'25.csv\"\n",
    "input_file=\"rejection_reason_28-April'25.csv\"\n",
    "mco_output_file=\"MCO_Rejection_27th April'25.csv\"\n",
    "kyc_acc_output_file=\"KYC_ACC_Rejection_27th April'25.csv\"\n"
   ]
  },
  {
   "cell_type": "code",
   "execution_count": 3,
   "metadata": {},
   "outputs": [],
   "source": [
    "#data=\"all_flow_data_31st Mar'25.csv\"\n",
    "#input_file=\"mco_all_rejection_01st April.csv\"\n",
    "#mco_output_file=\"MCO_all_Rejection_31st Mar'25.csv\"\n",
    "#kyc_acc_output_file=\"KYC_all_ACC_Rejection_31st Mar'25.csv\"\n"
   ]
  },
  {
   "cell_type": "code",
   "execution_count": 4,
   "metadata": {},
   "outputs": [
    {
     "data": {
      "text/plain": [
       "47050"
      ]
     },
     "execution_count": 4,
     "metadata": {},
     "output_type": "execute_result"
    }
   ],
   "source": [
    "rejection_data=pd.read_csv(input_file,memory_map=True)\n",
    "data=pd.read_csv(data,memory_map=True)\n",
    "len(rejection_data)"
   ]
  },
  {
   "cell_type": "code",
   "execution_count": 5,
   "metadata": {},
   "outputs": [
    {
     "data": {
      "text/html": [
       "<div>\n",
       "<style scoped>\n",
       "    .dataframe tbody tr th:only-of-type {\n",
       "        vertical-align: middle;\n",
       "    }\n",
       "\n",
       "    .dataframe tbody tr th {\n",
       "        vertical-align: top;\n",
       "    }\n",
       "\n",
       "    .dataframe thead th {\n",
       "        text-align: right;\n",
       "    }\n",
       "</style>\n",
       "<table border=\"1\" class=\"dataframe\">\n",
       "  <thead>\n",
       "    <tr style=\"text-align: right;\">\n",
       "      <th></th>\n",
       "      <th>cust_id</th>\n",
       "      <th>lead_id</th>\n",
       "      <th>entity_type</th>\n",
       "      <th>rejected_field_reason</th>\n",
       "      <th>rejected_field_name</th>\n",
       "      <th>updated_at</th>\n",
       "      <th>solution_type</th>\n",
       "      <th>solution_type_level_2</th>\n",
       "      <th>solution_type_level_3</th>\n",
       "      <th>FSE_Ecode</th>\n",
       "    </tr>\n",
       "  </thead>\n",
       "  <tbody>\n",
       "    <tr>\n",
       "      <th>0</th>\n",
       "      <td>325296481</td>\n",
       "      <td>ca236b01-7bc1-49cd-8395-a609dc80859f</td>\n",
       "      <td>PROPRIETORSHIP</td>\n",
       "      <td>Random photo</td>\n",
       "      <td>drugLicense_OnlineNotVerifiable</td>\n",
       "      <td>2025-04-13 16:03:31.000</td>\n",
       "      <td>merchant_common_onboard</td>\n",
       "      <td>NaN</td>\n",
       "      <td>ACCOUNT_UPGRADE_LENDING</td>\n",
       "      <td>10213056</td>\n",
       "    </tr>\n",
       "    <tr>\n",
       "      <th>1</th>\n",
       "      <td>1949133037</td>\n",
       "      <td>c1dd745a-1382-463b-a397-e3f8ea138bc2</td>\n",
       "      <td>INDIVIDUAL</td>\n",
       "      <td>Bank account holder mismatch with business/pro...</td>\n",
       "      <td>bankVerificationStatus</td>\n",
       "      <td>2025-04-10 16:08:59.000</td>\n",
       "      <td>merchant_common_onboard</td>\n",
       "      <td>NaN</td>\n",
       "      <td>NaN</td>\n",
       "      <td>10196197</td>\n",
       "    </tr>\n",
       "    <tr>\n",
       "      <th>2</th>\n",
       "      <td>1949133037</td>\n",
       "      <td>c1dd745a-1382-463b-a397-e3f8ea138bc2</td>\n",
       "      <td>INDIVIDUAL</td>\n",
       "      <td>Name on PassBook mismatch with business/KYC name</td>\n",
       "      <td>bankPassbook</td>\n",
       "      <td>2025-04-10 16:08:59.000</td>\n",
       "      <td>merchant_common_onboard</td>\n",
       "      <td>NaN</td>\n",
       "      <td>NaN</td>\n",
       "      <td>10196197</td>\n",
       "    </tr>\n",
       "    <tr>\n",
       "      <th>3</th>\n",
       "      <td>1949012636</td>\n",
       "      <td>66606431-66fb-42cd-86f7-c1eca1f4fe56</td>\n",
       "      <td>INDIVIDUAL</td>\n",
       "      <td>Bank proof is rejected</td>\n",
       "      <td>bankVerificationStatus</td>\n",
       "      <td>2025-04-08 20:06:55.000</td>\n",
       "      <td>merchant_common_onboard</td>\n",
       "      <td>NaN</td>\n",
       "      <td>NaN</td>\n",
       "      <td>10225795</td>\n",
       "    </tr>\n",
       "    <tr>\n",
       "      <th>4</th>\n",
       "      <td>1949012636</td>\n",
       "      <td>66606431-66fb-42cd-86f7-c1eca1f4fe56</td>\n",
       "      <td>INDIVIDUAL</td>\n",
       "      <td>IFSC in bank proof mismatch with IFSC in Penny...</td>\n",
       "      <td>bankPassbook</td>\n",
       "      <td>2025-04-08 20:06:55.000</td>\n",
       "      <td>merchant_common_onboard</td>\n",
       "      <td>NaN</td>\n",
       "      <td>NaN</td>\n",
       "      <td>10225795</td>\n",
       "    </tr>\n",
       "  </tbody>\n",
       "</table>\n",
       "</div>"
      ],
      "text/plain": [
       "      cust_id                               lead_id     entity_type  \\\n",
       "0   325296481  ca236b01-7bc1-49cd-8395-a609dc80859f  PROPRIETORSHIP   \n",
       "1  1949133037  c1dd745a-1382-463b-a397-e3f8ea138bc2      INDIVIDUAL   \n",
       "2  1949133037  c1dd745a-1382-463b-a397-e3f8ea138bc2      INDIVIDUAL   \n",
       "3  1949012636  66606431-66fb-42cd-86f7-c1eca1f4fe56      INDIVIDUAL   \n",
       "4  1949012636  66606431-66fb-42cd-86f7-c1eca1f4fe56      INDIVIDUAL   \n",
       "\n",
       "                               rejected_field_reason  \\\n",
       "0                                       Random photo   \n",
       "1  Bank account holder mismatch with business/pro...   \n",
       "2   Name on PassBook mismatch with business/KYC name   \n",
       "3                             Bank proof is rejected   \n",
       "4  IFSC in bank proof mismatch with IFSC in Penny...   \n",
       "\n",
       "               rejected_field_name               updated_at  \\\n",
       "0  drugLicense_OnlineNotVerifiable  2025-04-13 16:03:31.000   \n",
       "1           bankVerificationStatus  2025-04-10 16:08:59.000   \n",
       "2                     bankPassbook  2025-04-10 16:08:59.000   \n",
       "3           bankVerificationStatus  2025-04-08 20:06:55.000   \n",
       "4                     bankPassbook  2025-04-08 20:06:55.000   \n",
       "\n",
       "             solution_type  solution_type_level_2    solution_type_level_3  \\\n",
       "0  merchant_common_onboard                    NaN  ACCOUNT_UPGRADE_LENDING   \n",
       "1  merchant_common_onboard                    NaN                      NaN   \n",
       "2  merchant_common_onboard                    NaN                      NaN   \n",
       "3  merchant_common_onboard                    NaN                      NaN   \n",
       "4  merchant_common_onboard                    NaN                      NaN   \n",
       "\n",
       "  FSE_Ecode  \n",
       "0  10213056  \n",
       "1  10196197  \n",
       "2  10196197  \n",
       "3  10225795  \n",
       "4  10225795  "
      ]
     },
     "execution_count": 5,
     "metadata": {},
     "output_type": "execute_result"
    }
   ],
   "source": [
    "rejection_data.head(5)"
   ]
  },
  {
   "cell_type": "code",
   "execution_count": 6,
   "metadata": {},
   "outputs": [
    {
     "data": {
      "text/html": [
       "<div>\n",
       "<style scoped>\n",
       "    .dataframe tbody tr th:only-of-type {\n",
       "        vertical-align: middle;\n",
       "    }\n",
       "\n",
       "    .dataframe tbody tr th {\n",
       "        vertical-align: top;\n",
       "    }\n",
       "\n",
       "    .dataframe thead th {\n",
       "        text-align: right;\n",
       "    }\n",
       "</style>\n",
       "<table border=\"1\" class=\"dataframe\">\n",
       "  <thead>\n",
       "    <tr style=\"text-align: right;\">\n",
       "      <th></th>\n",
       "      <th>Lead_ID</th>\n",
       "      <th>Product_Context</th>\n",
       "      <th>Stage movement count</th>\n",
       "      <th>solution_type_level_3</th>\n",
       "    </tr>\n",
       "  </thead>\n",
       "  <tbody>\n",
       "    <tr>\n",
       "      <th>0</th>\n",
       "      <td>3ca188f5-7e3f-481c-9bd5-d5070f57332d</td>\n",
       "      <td>NON_EDC</td>\n",
       "      <td>NaN</td>\n",
       "      <td>NaN</td>\n",
       "    </tr>\n",
       "    <tr>\n",
       "      <th>1</th>\n",
       "      <td>f45b4500-5d21-4d41-b312-a38927a154c0</td>\n",
       "      <td>NON_EDC</td>\n",
       "      <td>NaN</td>\n",
       "      <td>NaN</td>\n",
       "    </tr>\n",
       "    <tr>\n",
       "      <th>2</th>\n",
       "      <td>ac18a7c8-0266-4bd1-a4f5-a3b79e2e1879</td>\n",
       "      <td>NON_EDC</td>\n",
       "      <td>NaN</td>\n",
       "      <td>NaN</td>\n",
       "    </tr>\n",
       "    <tr>\n",
       "      <th>3</th>\n",
       "      <td>09adf869-7990-42e9-92f9-2d19e29c15f7</td>\n",
       "      <td>NON_EDC</td>\n",
       "      <td>{\"PANEL_SUCCESS\":1}</td>\n",
       "      <td>NaN</td>\n",
       "    </tr>\n",
       "    <tr>\n",
       "      <th>4</th>\n",
       "      <td>eaacf912-6353-4767-96b5-ed529288a43e</td>\n",
       "      <td>NON_EDC</td>\n",
       "      <td>{\"PANEL_SUCCESS\":1}</td>\n",
       "      <td>NaN</td>\n",
       "    </tr>\n",
       "  </tbody>\n",
       "</table>\n",
       "</div>"
      ],
      "text/plain": [
       "                                Lead_ID Product_Context Stage movement count  \\\n",
       "0  3ca188f5-7e3f-481c-9bd5-d5070f57332d         NON_EDC                  NaN   \n",
       "1  f45b4500-5d21-4d41-b312-a38927a154c0         NON_EDC                  NaN   \n",
       "2  ac18a7c8-0266-4bd1-a4f5-a3b79e2e1879         NON_EDC                  NaN   \n",
       "3  09adf869-7990-42e9-92f9-2d19e29c15f7         NON_EDC  {\"PANEL_SUCCESS\":1}   \n",
       "4  eaacf912-6353-4767-96b5-ed529288a43e         NON_EDC  {\"PANEL_SUCCESS\":1}   \n",
       "\n",
       "  solution_type_level_3  \n",
       "0                   NaN  \n",
       "1                   NaN  \n",
       "2                   NaN  \n",
       "3                   NaN  \n",
       "4                   NaN  "
      ]
     },
     "execution_count": 6,
     "metadata": {},
     "output_type": "execute_result"
    }
   ],
   "source": [
    "data=data[['Lead_ID','Product_Context','Stage movement count','solution_type_level_3']]\n",
    "data.head(5)"
   ]
  },
  {
   "cell_type": "code",
   "execution_count": 7,
   "metadata": {},
   "outputs": [
    {
     "data": {
      "text/plain": [
       "KYC_UPDATE         27853\n",
       "ACCOUNT_UPGRADE    11899\n",
       "3P FSE               642\n",
       "DIY                    1\n",
       "Name: solution_type_level_3, dtype: int64"
      ]
     },
     "execution_count": 7,
     "metadata": {},
     "output_type": "execute_result"
    }
   ],
   "source": [
    "data['solution_type_level_3'].value_counts()"
   ]
  },
  {
   "cell_type": "code",
   "execution_count": 8,
   "metadata": {},
   "outputs": [
    {
     "data": {
      "text/html": [
       "<div>\n",
       "<style scoped>\n",
       "    .dataframe tbody tr th:only-of-type {\n",
       "        vertical-align: middle;\n",
       "    }\n",
       "\n",
       "    .dataframe tbody tr th {\n",
       "        vertical-align: top;\n",
       "    }\n",
       "\n",
       "    .dataframe thead th {\n",
       "        text-align: right;\n",
       "    }\n",
       "</style>\n",
       "<table border=\"1\" class=\"dataframe\">\n",
       "  <thead>\n",
       "    <tr style=\"text-align: right;\">\n",
       "      <th></th>\n",
       "      <th>cust_id</th>\n",
       "      <th>lead_id</th>\n",
       "      <th>entity_type</th>\n",
       "      <th>rejected_field_reason</th>\n",
       "      <th>rejected_field_name</th>\n",
       "      <th>updated_at</th>\n",
       "      <th>solution_type</th>\n",
       "      <th>solution_type_level_2</th>\n",
       "      <th>solution_type_level_3</th>\n",
       "      <th>FSE_Ecode</th>\n",
       "    </tr>\n",
       "  </thead>\n",
       "  <tbody>\n",
       "    <tr>\n",
       "      <th>0</th>\n",
       "      <td>325296481</td>\n",
       "      <td>ca236b01-7bc1-49cd-8395-a609dc80859f</td>\n",
       "      <td>PROPRIETORSHIP</td>\n",
       "      <td>Random photo</td>\n",
       "      <td>drugLicense_OnlineNotVerifiable</td>\n",
       "      <td>2025-04-13 16:03:31</td>\n",
       "      <td>merchant_common_onboard</td>\n",
       "      <td>NaN</td>\n",
       "      <td>ACCOUNT_UPGRADE_LENDING</td>\n",
       "      <td>10213056</td>\n",
       "    </tr>\n",
       "    <tr>\n",
       "      <th>1</th>\n",
       "      <td>1949133037</td>\n",
       "      <td>c1dd745a-1382-463b-a397-e3f8ea138bc2</td>\n",
       "      <td>INDIVIDUAL</td>\n",
       "      <td>Bank account holder mismatch with business/pro...</td>\n",
       "      <td>bankVerificationStatus</td>\n",
       "      <td>2025-04-10 16:08:59</td>\n",
       "      <td>merchant_common_onboard</td>\n",
       "      <td>NaN</td>\n",
       "      <td>NaN</td>\n",
       "      <td>10196197</td>\n",
       "    </tr>\n",
       "    <tr>\n",
       "      <th>2</th>\n",
       "      <td>1949133037</td>\n",
       "      <td>c1dd745a-1382-463b-a397-e3f8ea138bc2</td>\n",
       "      <td>INDIVIDUAL</td>\n",
       "      <td>Name on PassBook mismatch with business/KYC name</td>\n",
       "      <td>bankPassbook</td>\n",
       "      <td>2025-04-10 16:08:59</td>\n",
       "      <td>merchant_common_onboard</td>\n",
       "      <td>NaN</td>\n",
       "      <td>NaN</td>\n",
       "      <td>10196197</td>\n",
       "    </tr>\n",
       "    <tr>\n",
       "      <th>3</th>\n",
       "      <td>1949012636</td>\n",
       "      <td>66606431-66fb-42cd-86f7-c1eca1f4fe56</td>\n",
       "      <td>INDIVIDUAL</td>\n",
       "      <td>Bank proof is rejected</td>\n",
       "      <td>bankVerificationStatus</td>\n",
       "      <td>2025-04-08 20:06:55</td>\n",
       "      <td>merchant_common_onboard</td>\n",
       "      <td>NaN</td>\n",
       "      <td>NaN</td>\n",
       "      <td>10225795</td>\n",
       "    </tr>\n",
       "    <tr>\n",
       "      <th>4</th>\n",
       "      <td>1949012636</td>\n",
       "      <td>66606431-66fb-42cd-86f7-c1eca1f4fe56</td>\n",
       "      <td>INDIVIDUAL</td>\n",
       "      <td>IFSC in bank proof mismatch with IFSC in Penny...</td>\n",
       "      <td>bankPassbook</td>\n",
       "      <td>2025-04-08 20:06:55</td>\n",
       "      <td>merchant_common_onboard</td>\n",
       "      <td>NaN</td>\n",
       "      <td>NaN</td>\n",
       "      <td>10225795</td>\n",
       "    </tr>\n",
       "  </tbody>\n",
       "</table>\n",
       "</div>"
      ],
      "text/plain": [
       "      cust_id                               lead_id     entity_type  \\\n",
       "0   325296481  ca236b01-7bc1-49cd-8395-a609dc80859f  PROPRIETORSHIP   \n",
       "1  1949133037  c1dd745a-1382-463b-a397-e3f8ea138bc2      INDIVIDUAL   \n",
       "2  1949133037  c1dd745a-1382-463b-a397-e3f8ea138bc2      INDIVIDUAL   \n",
       "3  1949012636  66606431-66fb-42cd-86f7-c1eca1f4fe56      INDIVIDUAL   \n",
       "4  1949012636  66606431-66fb-42cd-86f7-c1eca1f4fe56      INDIVIDUAL   \n",
       "\n",
       "                               rejected_field_reason  \\\n",
       "0                                       Random photo   \n",
       "1  Bank account holder mismatch with business/pro...   \n",
       "2   Name on PassBook mismatch with business/KYC name   \n",
       "3                             Bank proof is rejected   \n",
       "4  IFSC in bank proof mismatch with IFSC in Penny...   \n",
       "\n",
       "               rejected_field_name          updated_at  \\\n",
       "0  drugLicense_OnlineNotVerifiable 2025-04-13 16:03:31   \n",
       "1           bankVerificationStatus 2025-04-10 16:08:59   \n",
       "2                     bankPassbook 2025-04-10 16:08:59   \n",
       "3           bankVerificationStatus 2025-04-08 20:06:55   \n",
       "4                     bankPassbook 2025-04-08 20:06:55   \n",
       "\n",
       "             solution_type  solution_type_level_2    solution_type_level_3  \\\n",
       "0  merchant_common_onboard                    NaN  ACCOUNT_UPGRADE_LENDING   \n",
       "1  merchant_common_onboard                    NaN                      NaN   \n",
       "2  merchant_common_onboard                    NaN                      NaN   \n",
       "3  merchant_common_onboard                    NaN                      NaN   \n",
       "4  merchant_common_onboard                    NaN                      NaN   \n",
       "\n",
       "  FSE_Ecode  \n",
       "0  10213056  \n",
       "1  10196197  \n",
       "2  10196197  \n",
       "3  10225795  \n",
       "4  10225795  "
      ]
     },
     "execution_count": 8,
     "metadata": {},
     "output_type": "execute_result"
    }
   ],
   "source": [
    "rejection_data['updated_at']=pd.to_datetime(rejection_data['updated_at'],errors='coerce')\n",
    "rejection_data.head(5)"
   ]
  },
  {
   "cell_type": "code",
   "execution_count": 9,
   "metadata": {},
   "outputs": [
    {
     "data": {
      "text/plain": [
       "Timestamp('2025-04-28 00:00:00')"
      ]
     },
     "execution_count": 9,
     "metadata": {},
     "output_type": "execute_result"
    }
   ],
   "source": [
    "current_date = pd.Timestamp(datetime.now().date())\n",
    "current_date\n"
   ]
  },
  {
   "cell_type": "code",
   "execution_count": 10,
   "metadata": {},
   "outputs": [
    {
     "name": "stderr",
     "output_type": "stream",
     "text": [
      "c:\\ProgramData\\Anaconda3\\lib\\site-packages\\pandas\\core\\ops\\array_ops.py:73: FutureWarning: Comparison of Timestamp with datetime.date is deprecated in order to match the standard library behavior. In a future version these will be considered non-comparable. Use 'ts == pd.Timestamp(date)' or 'ts.date() == date' instead.\n",
      "  result = libops.scalar_compare(x.ravel(), y, op)\n"
     ]
    },
    {
     "data": {
      "text/plain": [
       "46140"
      ]
     },
     "execution_count": 10,
     "metadata": {},
     "output_type": "execute_result"
    }
   ],
   "source": [
    "rejection_data=rejection_data[rejection_data['updated_at'].dt.date != current_date]\n",
    "len(rejection_data)"
   ]
  },
  {
   "cell_type": "code",
   "execution_count": 11,
   "metadata": {},
   "outputs": [
    {
     "data": {
      "text/plain": [
       "array(['ACCOUNT_UPGRADE_LENDING', nan, 'KYC_UPDATE', 'ACCOUNT_UPGRADE',\n",
       "       'PROFILE_UPDATE', 'DIY'], dtype=object)"
      ]
     },
     "execution_count": 11,
     "metadata": {},
     "output_type": "execute_result"
    }
   ],
   "source": [
    "rejection_data['solution_type_level_3'].unique()"
   ]
  },
  {
   "cell_type": "code",
   "execution_count": 12,
   "metadata": {},
   "outputs": [
    {
     "data": {
      "text/plain": [
       "array(['ACCOUNT_UPGRADE_LENDING', nan, 'KYC_UPDATE', 'ACCOUNT_UPGRADE',\n",
       "       'PROFILE_UPDATE', 'DIY'], dtype=object)"
      ]
     },
     "execution_count": 12,
     "metadata": {},
     "output_type": "execute_result"
    }
   ],
   "source": [
    "rejection_data=rejection_data[rejection_data['solution_type_level_3']!='YBL_LIMIT_ENHANCEMENT']\n",
    "\n",
    "rejection_data['solution_type_level_3'].unique()"
   ]
  },
  {
   "cell_type": "code",
   "execution_count": 13,
   "metadata": {},
   "outputs": [
    {
     "data": {
      "text/plain": [
       "array(['ACCOUNT_UPGRADE', nan, 'KYC_UPDATE', 'DIY'], dtype=object)"
      ]
     },
     "execution_count": 13,
     "metadata": {},
     "output_type": "execute_result"
    }
   ],
   "source": [
    "rejection_data['solution_type_level_3']=rejection_data['solution_type_level_3'].replace(['ACCOUNT_UPGRADE_LENDING','PROFILE_UPDATE'],'ACCOUNT_UPGRADE')\n",
    "\n",
    "rejection_data['solution_type_level_3'].unique()"
   ]
  },
  {
   "cell_type": "code",
   "execution_count": 14,
   "metadata": {},
   "outputs": [
    {
     "data": {
      "text/plain": [
       "ACCOUNT_UPGRADE    3902\n",
       "KYC_UPDATE         3339\n",
       "DIY                  11\n",
       "Name: solution_type_level_3, dtype: int64"
      ]
     },
     "execution_count": 14,
     "metadata": {},
     "output_type": "execute_result"
    }
   ],
   "source": [
    "rejection_data['solution_type_level_3'].value_counts()"
   ]
  },
  {
   "cell_type": "code",
   "execution_count": 15,
   "metadata": {},
   "outputs": [
    {
     "data": {
      "text/plain": [
       "INDIVIDUAL            31237\n",
       "PROPRIETORSHIP        13431\n",
       "NON_PROPRIETORSHIP     1472\n",
       "Name: entity_type, dtype: int64"
      ]
     },
     "execution_count": 15,
     "metadata": {},
     "output_type": "execute_result"
    }
   ],
   "source": [
    "rejection_data.loc[~rejection_data['entity_type'].isin(['INDIVIDUAL','PROPRIETORSHIP']),'entity_type']='NON_PROPRIETORSHIP'\n",
    "rejection_data['entity_type'].value_counts()"
   ]
  },
  {
   "cell_type": "code",
   "execution_count": 16,
   "metadata": {},
   "outputs": [
    {
     "data": {
      "text/plain": [
       "ACCOUNT_UPGRADE    3902\n",
       "KYC_UPDATE         3339\n",
       "Name: solution_type_level_3, dtype: int64"
      ]
     },
     "execution_count": 16,
     "metadata": {},
     "output_type": "execute_result"
    }
   ],
   "source": [
    "kyc_acc_rejection=rejection_data[rejection_data[\"solution_type_level_3\"].isin([\"ACCOUNT_UPGRADE\",\"KYC_UPDATE\"])]\n",
    "kyc_acc_rejection['solution_type_level_3'].value_counts()\n"
   ]
  },
  {
   "cell_type": "code",
   "execution_count": 17,
   "metadata": {},
   "outputs": [
    {
     "data": {
      "text/plain": [
       "38899"
      ]
     },
     "execution_count": 17,
     "metadata": {},
     "output_type": "execute_result"
    }
   ],
   "source": [
    "mco_rejection=rejection_data[~rejection_data[\"solution_type_level_3\"].isin([\"ACCOUNT_UPGRADE\",\"KYC_UPDATE\"])]\n",
    "len(mco_rejection)"
   ]
  },
  {
   "cell_type": "code",
   "execution_count": 18,
   "metadata": {},
   "outputs": [
    {
     "data": {
      "text/plain": [
       "Index(['cust_id', 'lead_id', 'entity_type', 'entuty_type_1',\n",
       "       'rejected_field_reason', 'rejected_field_name', 'updated_at',\n",
       "       'solution_type', 'solution_type_level_2', 'solution_type_level_3',\n",
       "       'FSE_Ecode'],\n",
       "      dtype='object')"
      ]
     },
     "execution_count": 18,
     "metadata": {},
     "output_type": "execute_result"
    }
   ],
   "source": [
    "kyc_acc_rejection.insert(kyc_acc_rejection.columns.get_loc('entity_type')+1,'entuty_type_1',np.nan)\n",
    "kyc_acc_rejection.columns"
   ]
  },
  {
   "cell_type": "code",
   "execution_count": 19,
   "metadata": {},
   "outputs": [
    {
     "name": "stderr",
     "output_type": "stream",
     "text": [
      "C:\\Users\\avnish1.yadav\\AppData\\Local\\Temp\\ipykernel_16808\\272290521.py:1: SettingWithCopyWarning: \n",
      "A value is trying to be set on a copy of a slice from a DataFrame.\n",
      "Try using .loc[row_indexer,col_indexer] = value instead\n",
      "\n",
      "See the caveats in the documentation: https://pandas.pydata.org/pandas-docs/stable/user_guide/indexing.html#returning-a-view-versus-a-copy\n",
      "  kyc_acc_rejection.loc[:, 'entuty_type_1'] = kyc_acc_rejection['entity_type']\n"
     ]
    },
    {
     "data": {
      "text/plain": [
       "PROPRIETORSHIP        5513\n",
       "INDIVIDUAL            1630\n",
       "NON_PROPRIETORSHIP      98\n",
       "Name: entuty_type_1, dtype: int64"
      ]
     },
     "execution_count": 19,
     "metadata": {},
     "output_type": "execute_result"
    }
   ],
   "source": [
    "kyc_acc_rejection.loc[:, 'entuty_type_1'] = kyc_acc_rejection['entity_type']\n",
    "kyc_acc_rejection['entuty_type_1'].value_counts()"
   ]
  },
  {
   "cell_type": "code",
   "execution_count": 20,
   "metadata": {},
   "outputs": [
    {
     "name": "stderr",
     "output_type": "stream",
     "text": [
      "C:\\Users\\avnish1.yadav\\AppData\\Local\\Temp\\ipykernel_16808\\2156595060.py:1: SettingWithCopyWarning: \n",
      "A value is trying to be set on a copy of a slice from a DataFrame.\n",
      "Try using .loc[row_indexer,col_indexer] = value instead\n",
      "\n",
      "See the caveats in the documentation: https://pandas.pydata.org/pandas-docs/stable/user_guide/indexing.html#returning-a-view-versus-a-copy\n",
      "  kyc_acc_rejection['entuty_type_1']=kyc_acc_rejection['entuty_type_1'].replace(['PROPRIETORSHIP','NON_PROPRIETORSHIP'],'NON_EDC')\n"
     ]
    },
    {
     "data": {
      "text/plain": [
       "NON_EDC       5611\n",
       "INDIVIDUAL    1630\n",
       "Name: entuty_type_1, dtype: int64"
      ]
     },
     "execution_count": 20,
     "metadata": {},
     "output_type": "execute_result"
    }
   ],
   "source": [
    "kyc_acc_rejection['entuty_type_1']=kyc_acc_rejection['entuty_type_1'].replace(['PROPRIETORSHIP','NON_PROPRIETORSHIP'],'NON_EDC')\n",
    "kyc_acc_rejection['entuty_type_1'].value_counts()"
   ]
  },
  {
   "cell_type": "code",
   "execution_count": 21,
   "metadata": {},
   "outputs": [
    {
     "data": {
      "text/plain": [
       "Index(['cust_id', 'lead_id', 'entity_type', 'entuty_type_1',\n",
       "       'rejected_field_reason', 'rejected_field_name', 'updated_at',\n",
       "       'solution_type', 'solution_type_level_3', 'FSE_Ecode'],\n",
       "      dtype='object')"
      ]
     },
     "execution_count": 21,
     "metadata": {},
     "output_type": "execute_result"
    }
   ],
   "source": [
    "kyc_acc_rejection=kyc_acc_rejection.drop(columns=['solution_type_level_2'])\n",
    "kyc_acc_rejection.columns"
   ]
  },
  {
   "cell_type": "code",
   "execution_count": 22,
   "metadata": {},
   "outputs": [],
   "source": [
    "kyc_acc_rejection=pd.merge(kyc_acc_rejection,data,left_on='lead_id',right_on='Lead_ID',how='left')\n",
    "kyc_acc_rejection=kyc_acc_rejection.drop(columns=['Lead_ID'])"
   ]
  },
  {
   "cell_type": "code",
   "execution_count": 23,
   "metadata": {},
   "outputs": [
    {
     "data": {
      "text/plain": [
       "Index(['cust_id', 'lead_id', 'entity_type', 'entuty_type_1',\n",
       "       'rejected_field_reason', 'rejected_field_name', 'updated_at',\n",
       "       'solution_type', 'solution_type_level_3_x', 'FSE_Ecode',\n",
       "       'Product_Context', 'Stage movement count', 'solution_type_level_3_y'],\n",
       "      dtype='object')"
      ]
     },
     "execution_count": 23,
     "metadata": {},
     "output_type": "execute_result"
    }
   ],
   "source": [
    "kyc_acc_rejection.columns"
   ]
  },
  {
   "cell_type": "code",
   "execution_count": 24,
   "metadata": {},
   "outputs": [],
   "source": [
    "kyc_acc_rejection.loc[kyc_acc_rejection['solution_type_level_3_y']=='3P FSE','solution_type_level_3_x']='3P FSE'"
   ]
  },
  {
   "cell_type": "code",
   "execution_count": 25,
   "metadata": {},
   "outputs": [
    {
     "data": {
      "text/plain": [
       "ACCOUNT_UPGRADE    3902\n",
       "KYC_UPDATE         3176\n",
       "3P FSE              163\n",
       "Name: solution_type_level_3_x, dtype: int64"
      ]
     },
     "execution_count": 25,
     "metadata": {},
     "output_type": "execute_result"
    }
   ],
   "source": [
    "kyc_acc_rejection['solution_type_level_3_x'].value_counts()"
   ]
  },
  {
   "cell_type": "code",
   "execution_count": 26,
   "metadata": {},
   "outputs": [
    {
     "data": {
      "text/plain": [
       "Index(['cust_id', 'lead_id', 'entity_type', 'entuty_type_1',\n",
       "       'rejected_field_reason', 'rejected_field_name', 'updated_at',\n",
       "       'solution_type', 'solution_type_level_3_x', 'FSE_Ecode',\n",
       "       'Product_Context', 'Stage movement count', 'solution_type_level_3_y'],\n",
       "      dtype='object')"
      ]
     },
     "execution_count": 26,
     "metadata": {},
     "output_type": "execute_result"
    }
   ],
   "source": [
    "kyc_acc_rejection.columns"
   ]
  },
  {
   "cell_type": "code",
   "execution_count": 27,
   "metadata": {},
   "outputs": [
    {
     "data": {
      "text/plain": [
       "Index(['cust_id', 'lead_id', 'entity_type', 'entuty_type_1',\n",
       "       'rejected_field_reason', 'rejected_field_name', 'updated_at',\n",
       "       'solution_type', 'solution_type_level_3_x', 'Product_Context',\n",
       "       'Stage movement count', 'solution_type_level_3_y'],\n",
       "      dtype='object')"
      ]
     },
     "execution_count": 27,
     "metadata": {},
     "output_type": "execute_result"
    }
   ],
   "source": [
    "kyc_acc_rejection = kyc_acc_rejection.drop(columns=['FSE_Ecode'])\n",
    "kyc_acc_rejection.columns\n"
   ]
  },
  {
   "cell_type": "code",
   "execution_count": 28,
   "metadata": {},
   "outputs": [
    {
     "data": {
      "text/plain": [
       "Index(['cust_id', 'lead_id', 'entity_type', 'rejected_field_reason',\n",
       "       'rejected_field_name', 'updated_at', 'solution_type_level_3',\n",
       "       'FSE_Ecode'],\n",
       "      dtype='object')"
      ]
     },
     "execution_count": 28,
     "metadata": {},
     "output_type": "execute_result"
    }
   ],
   "source": [
    "mco_rejection=mco_rejection.drop(columns=['solution_type_level_2','solution_type'])\n",
    "mco_rejection.columns"
   ]
  },
  {
   "cell_type": "code",
   "execution_count": 29,
   "metadata": {},
   "outputs": [],
   "source": [
    "mco_rejection.insert(mco_rejection.columns.get_loc('entity_type')+1,'entuty_type_1',np.nan)\n",
    "mco_rejection.insert(mco_rejection.columns.get_loc('entuty_type_1')+1,'Product_Context',np.nan)\n",
    "mco_rejection.insert(mco_rejection.columns.get_loc('rejected_field_name')+1,'Stage movement count',np.nan)"
   ]
  },
  {
   "cell_type": "code",
   "execution_count": 30,
   "metadata": {},
   "outputs": [],
   "source": [
    "mco_rejection=pd.merge(mco_rejection,data,left_on='lead_id',right_on='Lead_ID',how='left')\n",
    "mco_rejection=mco_rejection.drop(columns=['Lead_ID'])"
   ]
  },
  {
   "cell_type": "code",
   "execution_count": 31,
   "metadata": {},
   "outputs": [
    {
     "data": {
      "text/plain": [
       "Index(['cust_id', 'lead_id', 'entity_type', 'entuty_type_1',\n",
       "       'Product_Context_x', 'rejected_field_reason', 'rejected_field_name',\n",
       "       'Stage movement count_x', 'updated_at', 'solution_type_level_3_x',\n",
       "       'FSE_Ecode', 'Product_Context_y', 'Stage movement count_y',\n",
       "       'solution_type_level_3_y'],\n",
       "      dtype='object')"
      ]
     },
     "execution_count": 31,
     "metadata": {},
     "output_type": "execute_result"
    }
   ],
   "source": [
    "mco_rejection.columns"
   ]
  },
  {
   "cell_type": "code",
   "execution_count": 32,
   "metadata": {},
   "outputs": [],
   "source": [
    "mco_rejection['Product_Context_x']=mco_rejection['Product_Context_y']\n",
    "mco_rejection['Stage movement count_x']=mco_rejection['Stage movement count_y']\n",
    "mco_rejection['entuty_type_1']=mco_rejection['entity_type']\n",
    "mco_rejection=mco_rejection.drop(columns=['Product_Context_y','Stage movement count_y'])"
   ]
  },
  {
   "cell_type": "code",
   "execution_count": 33,
   "metadata": {},
   "outputs": [],
   "source": [
    "mco_rejection.loc[mco_rejection['entuty_type_1'].isin(['PROPRIETORSHIP','NON_PROPRIETORSHIP']),'entuty_type_1']=mco_rejection['Product_Context_x']\n"
   ]
  },
  {
   "cell_type": "code",
   "execution_count": 34,
   "metadata": {},
   "outputs": [
    {
     "data": {
      "text/html": [
       "<div>\n",
       "<style scoped>\n",
       "    .dataframe tbody tr th:only-of-type {\n",
       "        vertical-align: middle;\n",
       "    }\n",
       "\n",
       "    .dataframe tbody tr th {\n",
       "        vertical-align: top;\n",
       "    }\n",
       "\n",
       "    .dataframe thead th {\n",
       "        text-align: right;\n",
       "    }\n",
       "</style>\n",
       "<table border=\"1\" class=\"dataframe\">\n",
       "  <thead>\n",
       "    <tr style=\"text-align: right;\">\n",
       "      <th></th>\n",
       "      <th>cust_id</th>\n",
       "      <th>lead_id</th>\n",
       "      <th>entity_type</th>\n",
       "      <th>entuty_type_1</th>\n",
       "      <th>Product_Context_x</th>\n",
       "      <th>rejected_field_reason</th>\n",
       "      <th>rejected_field_name</th>\n",
       "      <th>Stage movement count_x</th>\n",
       "      <th>updated_at</th>\n",
       "      <th>solution_type_level_3_x</th>\n",
       "      <th>FSE_Ecode</th>\n",
       "      <th>solution_type_level_3_y</th>\n",
       "    </tr>\n",
       "  </thead>\n",
       "  <tbody>\n",
       "    <tr>\n",
       "      <th>0</th>\n",
       "      <td>1949133037</td>\n",
       "      <td>c1dd745a-1382-463b-a397-e3f8ea138bc2</td>\n",
       "      <td>INDIVIDUAL</td>\n",
       "      <td>INDIVIDUAL</td>\n",
       "      <td>NON_EDC</td>\n",
       "      <td>Bank account holder mismatch with business/pro...</td>\n",
       "      <td>bankVerificationStatus</td>\n",
       "      <td>{\"QC_REJECTED\":2}</td>\n",
       "      <td>2025-04-10 16:08:59</td>\n",
       "      <td>NaN</td>\n",
       "      <td>10196197</td>\n",
       "      <td>NaN</td>\n",
       "    </tr>\n",
       "    <tr>\n",
       "      <th>1</th>\n",
       "      <td>1949133037</td>\n",
       "      <td>c1dd745a-1382-463b-a397-e3f8ea138bc2</td>\n",
       "      <td>INDIVIDUAL</td>\n",
       "      <td>INDIVIDUAL</td>\n",
       "      <td>NON_EDC</td>\n",
       "      <td>Name on PassBook mismatch with business/KYC name</td>\n",
       "      <td>bankPassbook</td>\n",
       "      <td>{\"QC_REJECTED\":2}</td>\n",
       "      <td>2025-04-10 16:08:59</td>\n",
       "      <td>NaN</td>\n",
       "      <td>10196197</td>\n",
       "      <td>NaN</td>\n",
       "    </tr>\n",
       "    <tr>\n",
       "      <th>2</th>\n",
       "      <td>1949012636</td>\n",
       "      <td>66606431-66fb-42cd-86f7-c1eca1f4fe56</td>\n",
       "      <td>INDIVIDUAL</td>\n",
       "      <td>INDIVIDUAL</td>\n",
       "      <td>NON_EDC</td>\n",
       "      <td>Bank proof is rejected</td>\n",
       "      <td>bankVerificationStatus</td>\n",
       "      <td>{\"QC_REJECTED\":1}</td>\n",
       "      <td>2025-04-08 20:06:55</td>\n",
       "      <td>NaN</td>\n",
       "      <td>10225795</td>\n",
       "      <td>NaN</td>\n",
       "    </tr>\n",
       "    <tr>\n",
       "      <th>3</th>\n",
       "      <td>1949012636</td>\n",
       "      <td>66606431-66fb-42cd-86f7-c1eca1f4fe56</td>\n",
       "      <td>INDIVIDUAL</td>\n",
       "      <td>INDIVIDUAL</td>\n",
       "      <td>NON_EDC</td>\n",
       "      <td>IFSC in bank proof mismatch with IFSC in Penny...</td>\n",
       "      <td>bankPassbook</td>\n",
       "      <td>{\"QC_REJECTED\":1}</td>\n",
       "      <td>2025-04-08 20:06:55</td>\n",
       "      <td>NaN</td>\n",
       "      <td>10225795</td>\n",
       "      <td>NaN</td>\n",
       "    </tr>\n",
       "    <tr>\n",
       "      <th>4</th>\n",
       "      <td>1476995669</td>\n",
       "      <td>d7089c42-54f6-4020-81dd-ee6b2746dbf8</td>\n",
       "      <td>INDIVIDUAL</td>\n",
       "      <td>INDIVIDUAL</td>\n",
       "      <td>NON_EDC</td>\n",
       "      <td>Bank account holder mismatch with business/pro...</td>\n",
       "      <td>bankVerificationStatus</td>\n",
       "      <td>{\"QC_REJECTED\":1}</td>\n",
       "      <td>2025-04-25 11:09:32</td>\n",
       "      <td>NaN</td>\n",
       "      <td>10161874</td>\n",
       "      <td>NaN</td>\n",
       "    </tr>\n",
       "  </tbody>\n",
       "</table>\n",
       "</div>"
      ],
      "text/plain": [
       "      cust_id                               lead_id entity_type entuty_type_1  \\\n",
       "0  1949133037  c1dd745a-1382-463b-a397-e3f8ea138bc2  INDIVIDUAL    INDIVIDUAL   \n",
       "1  1949133037  c1dd745a-1382-463b-a397-e3f8ea138bc2  INDIVIDUAL    INDIVIDUAL   \n",
       "2  1949012636  66606431-66fb-42cd-86f7-c1eca1f4fe56  INDIVIDUAL    INDIVIDUAL   \n",
       "3  1949012636  66606431-66fb-42cd-86f7-c1eca1f4fe56  INDIVIDUAL    INDIVIDUAL   \n",
       "4  1476995669  d7089c42-54f6-4020-81dd-ee6b2746dbf8  INDIVIDUAL    INDIVIDUAL   \n",
       "\n",
       "  Product_Context_x                              rejected_field_reason  \\\n",
       "0           NON_EDC  Bank account holder mismatch with business/pro...   \n",
       "1           NON_EDC   Name on PassBook mismatch with business/KYC name   \n",
       "2           NON_EDC                             Bank proof is rejected   \n",
       "3           NON_EDC  IFSC in bank proof mismatch with IFSC in Penny...   \n",
       "4           NON_EDC  Bank account holder mismatch with business/pro...   \n",
       "\n",
       "      rejected_field_name Stage movement count_x          updated_at  \\\n",
       "0  bankVerificationStatus      {\"QC_REJECTED\":2} 2025-04-10 16:08:59   \n",
       "1            bankPassbook      {\"QC_REJECTED\":2} 2025-04-10 16:08:59   \n",
       "2  bankVerificationStatus      {\"QC_REJECTED\":1} 2025-04-08 20:06:55   \n",
       "3            bankPassbook      {\"QC_REJECTED\":1} 2025-04-08 20:06:55   \n",
       "4  bankVerificationStatus      {\"QC_REJECTED\":1} 2025-04-25 11:09:32   \n",
       "\n",
       "  solution_type_level_3_x FSE_Ecode solution_type_level_3_y  \n",
       "0                     NaN  10196197                     NaN  \n",
       "1                     NaN  10196197                     NaN  \n",
       "2                     NaN  10225795                     NaN  \n",
       "3                     NaN  10225795                     NaN  \n",
       "4                     NaN  10161874                     NaN  "
      ]
     },
     "execution_count": 34,
     "metadata": {},
     "output_type": "execute_result"
    }
   ],
   "source": [
    "mco_rejection.head(5)"
   ]
  },
  {
   "cell_type": "code",
   "execution_count": 35,
   "metadata": {},
   "outputs": [
    {
     "data": {
      "text/html": [
       "<div>\n",
       "<style scoped>\n",
       "    .dataframe tbody tr th:only-of-type {\n",
       "        vertical-align: middle;\n",
       "    }\n",
       "\n",
       "    .dataframe tbody tr th {\n",
       "        vertical-align: top;\n",
       "    }\n",
       "\n",
       "    .dataframe thead th {\n",
       "        text-align: right;\n",
       "    }\n",
       "</style>\n",
       "<table border=\"1\" class=\"dataframe\">\n",
       "  <thead>\n",
       "    <tr style=\"text-align: right;\">\n",
       "      <th></th>\n",
       "      <th>cust_id</th>\n",
       "      <th>lead_id</th>\n",
       "      <th>entity_type</th>\n",
       "      <th>entuty_type_1</th>\n",
       "      <th>rejected_field_reason</th>\n",
       "      <th>rejected_field_name</th>\n",
       "      <th>updated_at</th>\n",
       "      <th>solution_type</th>\n",
       "      <th>solution_type_level_3_x</th>\n",
       "      <th>Product_Context</th>\n",
       "      <th>Stage movement count</th>\n",
       "      <th>solution_type_level_3_y</th>\n",
       "    </tr>\n",
       "  </thead>\n",
       "  <tbody>\n",
       "    <tr>\n",
       "      <th>0</th>\n",
       "      <td>325296481</td>\n",
       "      <td>ca236b01-7bc1-49cd-8395-a609dc80859f</td>\n",
       "      <td>PROPRIETORSHIP</td>\n",
       "      <td>NON_EDC</td>\n",
       "      <td>Random photo</td>\n",
       "      <td>drugLicense_OnlineNotVerifiable</td>\n",
       "      <td>2025-04-13 16:03:31</td>\n",
       "      <td>merchant_common_onboard</td>\n",
       "      <td>ACCOUNT_UPGRADE</td>\n",
       "      <td>NON_EDC</td>\n",
       "      <td>{\"QC_REJECTED\":1}</td>\n",
       "      <td>ACCOUNT_UPGRADE</td>\n",
       "    </tr>\n",
       "    <tr>\n",
       "      <th>1</th>\n",
       "      <td>1413674905</td>\n",
       "      <td>c8b1bcfb-d41c-4f25-a23c-31622f8e0d59</td>\n",
       "      <td>INDIVIDUAL</td>\n",
       "      <td>INDIVIDUAL</td>\n",
       "      <td>Name on Aadhaar mismatch with name on settleme...</td>\n",
       "      <td>aadharVerificationStatus</td>\n",
       "      <td>2025-04-05 19:28:13</td>\n",
       "      <td>merchant_common_onboard</td>\n",
       "      <td>KYC_UPDATE</td>\n",
       "      <td>NON_EDC</td>\n",
       "      <td>{\"QC_REJECTED\":1}</td>\n",
       "      <td>KYC_UPDATE</td>\n",
       "    </tr>\n",
       "    <tr>\n",
       "      <th>2</th>\n",
       "      <td>1413674905</td>\n",
       "      <td>c8b1bcfb-d41c-4f25-a23c-31622f8e0d59</td>\n",
       "      <td>INDIVIDUAL</td>\n",
       "      <td>INDIVIDUAL</td>\n",
       "      <td>The name on PAN does not match with the name o...</td>\n",
       "      <td>pan</td>\n",
       "      <td>2025-04-05 19:28:13</td>\n",
       "      <td>merchant_common_onboard</td>\n",
       "      <td>KYC_UPDATE</td>\n",
       "      <td>NON_EDC</td>\n",
       "      <td>{\"QC_REJECTED\":1}</td>\n",
       "      <td>KYC_UPDATE</td>\n",
       "    </tr>\n",
       "    <tr>\n",
       "      <th>3</th>\n",
       "      <td>1341791275</td>\n",
       "      <td>d08e2222-abbc-4830-a760-2785ac632d23</td>\n",
       "      <td>PROPRIETORSHIP</td>\n",
       "      <td>NON_EDC</td>\n",
       "      <td>Random document</td>\n",
       "      <td>governmentIssuedLicense_business</td>\n",
       "      <td>2025-04-21 14:13:59</td>\n",
       "      <td>merchant_common_onboard</td>\n",
       "      <td>ACCOUNT_UPGRADE</td>\n",
       "      <td>NON_EDC</td>\n",
       "      <td>{\"QC_REJECTED\":1}</td>\n",
       "      <td>ACCOUNT_UPGRADE</td>\n",
       "    </tr>\n",
       "    <tr>\n",
       "      <th>4</th>\n",
       "      <td>1185418856</td>\n",
       "      <td>82902672-64bd-46c2-8c6b-2898ebcfdf10</td>\n",
       "      <td>PROPRIETORSHIP</td>\n",
       "      <td>NON_EDC</td>\n",
       "      <td>Proprietor name mismatch with NSDL name</td>\n",
       "      <td>foodLicense</td>\n",
       "      <td>2025-04-22 14:05:40</td>\n",
       "      <td>merchant_common_onboard</td>\n",
       "      <td>ACCOUNT_UPGRADE</td>\n",
       "      <td>NON_EDC</td>\n",
       "      <td>{\"QC_REJECTED\":1}</td>\n",
       "      <td>ACCOUNT_UPGRADE</td>\n",
       "    </tr>\n",
       "  </tbody>\n",
       "</table>\n",
       "</div>"
      ],
      "text/plain": [
       "      cust_id                               lead_id     entity_type  \\\n",
       "0   325296481  ca236b01-7bc1-49cd-8395-a609dc80859f  PROPRIETORSHIP   \n",
       "1  1413674905  c8b1bcfb-d41c-4f25-a23c-31622f8e0d59      INDIVIDUAL   \n",
       "2  1413674905  c8b1bcfb-d41c-4f25-a23c-31622f8e0d59      INDIVIDUAL   \n",
       "3  1341791275  d08e2222-abbc-4830-a760-2785ac632d23  PROPRIETORSHIP   \n",
       "4  1185418856  82902672-64bd-46c2-8c6b-2898ebcfdf10  PROPRIETORSHIP   \n",
       "\n",
       "  entuty_type_1                              rejected_field_reason  \\\n",
       "0       NON_EDC                                       Random photo   \n",
       "1    INDIVIDUAL  Name on Aadhaar mismatch with name on settleme...   \n",
       "2    INDIVIDUAL  The name on PAN does not match with the name o...   \n",
       "3       NON_EDC                                    Random document   \n",
       "4       NON_EDC            Proprietor name mismatch with NSDL name   \n",
       "\n",
       "                rejected_field_name          updated_at  \\\n",
       "0   drugLicense_OnlineNotVerifiable 2025-04-13 16:03:31   \n",
       "1          aadharVerificationStatus 2025-04-05 19:28:13   \n",
       "2                               pan 2025-04-05 19:28:13   \n",
       "3  governmentIssuedLicense_business 2025-04-21 14:13:59   \n",
       "4                       foodLicense 2025-04-22 14:05:40   \n",
       "\n",
       "             solution_type solution_type_level_3_x Product_Context  \\\n",
       "0  merchant_common_onboard         ACCOUNT_UPGRADE         NON_EDC   \n",
       "1  merchant_common_onboard              KYC_UPDATE         NON_EDC   \n",
       "2  merchant_common_onboard              KYC_UPDATE         NON_EDC   \n",
       "3  merchant_common_onboard         ACCOUNT_UPGRADE         NON_EDC   \n",
       "4  merchant_common_onboard         ACCOUNT_UPGRADE         NON_EDC   \n",
       "\n",
       "  Stage movement count solution_type_level_3_y  \n",
       "0    {\"QC_REJECTED\":1}         ACCOUNT_UPGRADE  \n",
       "1    {\"QC_REJECTED\":1}              KYC_UPDATE  \n",
       "2    {\"QC_REJECTED\":1}              KYC_UPDATE  \n",
       "3    {\"QC_REJECTED\":1}         ACCOUNT_UPGRADE  \n",
       "4    {\"QC_REJECTED\":1}         ACCOUNT_UPGRADE  "
      ]
     },
     "execution_count": 35,
     "metadata": {},
     "output_type": "execute_result"
    }
   ],
   "source": [
    "kyc_acc_rejection.head(5)"
   ]
  },
  {
   "cell_type": "code",
   "execution_count": 36,
   "metadata": {},
   "outputs": [],
   "source": [
    "#mco_rejection=mco_rejection.drop(columns=['solution_type_level_3_y'])\n",
    "kyc_acc_rejection=kyc_acc_rejection.drop(columns=['Product_Context', 'Stage movement count', 'solution_type_level_3_y'])"
   ]
  },
  {
   "cell_type": "code",
   "execution_count": 37,
   "metadata": {},
   "outputs": [
    {
     "data": {
      "text/plain": [
       "Index(['cust_id', 'lead_id', 'entity_type', 'entuty_type_1',\n",
       "       'rejected_field_reason', 'rejected_field_name', 'updated_at',\n",
       "       'solution_type', 'solution_type_level_3_x'],\n",
       "      dtype='object')"
      ]
     },
     "execution_count": 37,
     "metadata": {},
     "output_type": "execute_result"
    }
   ],
   "source": [
    "kyc_acc_rejection.columns"
   ]
  },
  {
   "cell_type": "code",
   "execution_count": 38,
   "metadata": {},
   "outputs": [],
   "source": [
    "mco_rejection=mco_rejection.drop(columns=['solution_type_level_3_x', 'solution_type_level_3_y'])"
   ]
  },
  {
   "cell_type": "code",
   "execution_count": 39,
   "metadata": {},
   "outputs": [
    {
     "data": {
      "text/plain": [
       "Index(['cust_id', 'lead_id', 'entity_type', 'entuty_type_1',\n",
       "       'Product_Context_x', 'rejected_field_reason', 'rejected_field_name',\n",
       "       'Stage movement count_x', 'updated_at', 'FSE_Ecode'],\n",
       "      dtype='object')"
      ]
     },
     "execution_count": 39,
     "metadata": {},
     "output_type": "execute_result"
    }
   ],
   "source": [
    "mco_rejection.columns"
   ]
  },
  {
   "cell_type": "code",
   "execution_count": 40,
   "metadata": {},
   "outputs": [
    {
     "data": {
      "text/plain": [
       "38899"
      ]
     },
     "execution_count": 40,
     "metadata": {},
     "output_type": "execute_result"
    }
   ],
   "source": [
    "len(mco_rejection)"
   ]
  },
  {
   "cell_type": "code",
   "execution_count": 41,
   "metadata": {},
   "outputs": [
    {
     "data": {
      "text/plain": [
       "5292"
      ]
     },
     "execution_count": 41,
     "metadata": {},
     "output_type": "execute_result"
    }
   ],
   "source": [
    "mco_rejection['Product_Context_x'].isna().sum()"
   ]
  },
  {
   "cell_type": "code",
   "execution_count": 42,
   "metadata": {},
   "outputs": [
    {
     "data": {
      "text/plain": [
       "33607"
      ]
     },
     "execution_count": 42,
     "metadata": {},
     "output_type": "execute_result"
    }
   ],
   "source": [
    "mco_rejection = mco_rejection.dropna(subset=['Product_Context_x'])\n",
    "len(mco_rejection)"
   ]
  },
  {
   "cell_type": "code",
   "execution_count": 43,
   "metadata": {},
   "outputs": [],
   "source": [
    "kyc_acc_rejection.to_csv(kyc_acc_output_file, index=False)\n",
    "mco_rejection.to_csv(mco_output_file, index=False)"
   ]
  },
  {
   "cell_type": "code",
   "execution_count": null,
   "metadata": {},
   "outputs": [],
   "source": []
  },
  {
   "cell_type": "code",
   "execution_count": null,
   "metadata": {},
   "outputs": [],
   "source": []
  }
 ],
 "metadata": {
  "kernelspec": {
   "display_name": "base",
   "language": "python",
   "name": "python3"
  },
  "language_info": {
   "codemirror_mode": {
    "name": "ipython",
    "version": 3
   },
   "file_extension": ".py",
   "mimetype": "text/x-python",
   "name": "python",
   "nbconvert_exporter": "python",
   "pygments_lexer": "ipython3",
   "version": "3.9.12"
  }
 },
 "nbformat": 4,
 "nbformat_minor": 2
}
