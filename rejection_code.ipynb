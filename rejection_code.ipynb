{
 "cells": [
  {
   "cell_type": "code",
   "execution_count": 1,
   "metadata": {},
   "outputs": [],
   "source": [
    "import pandas as pd\n",
    "import numpy as np\n",
    "from datetime import datetime, timedelta\n",
    "from datetime import time\n",
    "import os\n"
   ]
  },
  {
   "cell_type": "code",
   "execution_count": 2,
   "metadata": {},
   "outputs": [],
   "source": [
    "data=\"all_flow_data_30th April'25.csv\"\n",
    "input_file=\"rejection_reason_01-MAy'25.csv\"\n",
    "mco_output_file=\"MCO_Rejection_30th April'25.csv\"\n",
    "kyc_acc_output_file=\"KYC_ACC_Rejection_30th April'25.csv\"\n"
   ]
  },
  {
   "cell_type": "code",
   "execution_count": 3,
   "metadata": {},
   "outputs": [],
   "source": [
    "#data=\"all_flow_data_31st Mar'25.csv\"\n",
    "#input_file=\"mco_all_rejection_01st April.csv\"\n",
    "#mco_output_file=\"MCO_all_Rejection_31st Mar'25.csv\"\n",
    "#kyc_acc_output_file=\"KYC_all_ACC_Rejection_31st Mar'25.csv\"\n"
   ]
  },
  {
   "cell_type": "code",
   "execution_count": 4,
   "metadata": {},
   "outputs": [
    {
     "data": {
      "text/plain": [
       "53141"
      ]
     },
     "execution_count": 4,
     "metadata": {},
     "output_type": "execute_result"
    }
   ],
   "source": [
    "rejection_data=pd.read_csv(input_file,memory_map=True)\n",
    "data=pd.read_csv(data,memory_map=True)\n",
    "len(rejection_data)"
   ]
  },
  {
   "cell_type": "code",
   "execution_count": 5,
   "metadata": {},
   "outputs": [
    {
     "data": {
      "text/html": [
       "<div>\n",
       "<style scoped>\n",
       "    .dataframe tbody tr th:only-of-type {\n",
       "        vertical-align: middle;\n",
       "    }\n",
       "\n",
       "    .dataframe tbody tr th {\n",
       "        vertical-align: top;\n",
       "    }\n",
       "\n",
       "    .dataframe thead th {\n",
       "        text-align: right;\n",
       "    }\n",
       "</style>\n",
       "<table border=\"1\" class=\"dataframe\">\n",
       "  <thead>\n",
       "    <tr style=\"text-align: right;\">\n",
       "      <th></th>\n",
       "      <th>cust_id</th>\n",
       "      <th>lead_id</th>\n",
       "      <th>entity_type</th>\n",
       "      <th>rejected_field_reason</th>\n",
       "      <th>rejected_field_name</th>\n",
       "      <th>updated_at</th>\n",
       "      <th>solution_type</th>\n",
       "      <th>solution_type_level_2</th>\n",
       "      <th>solution_type_level_3</th>\n",
       "      <th>FSE_Ecode</th>\n",
       "    </tr>\n",
       "  </thead>\n",
       "  <tbody>\n",
       "    <tr>\n",
       "      <th>0</th>\n",
       "      <td>1487746109</td>\n",
       "      <td>27f71d14-cc8e-4e87-8648-47c60047d566</td>\n",
       "      <td>PARTNERSHIP</td>\n",
       "      <td>Declaration not attached</td>\n",
       "      <td>authSignatoryDeclaration</td>\n",
       "      <td>2025-04-04 12:59:32.000</td>\n",
       "      <td>merchant_common_onboard</td>\n",
       "      <td>NaN</td>\n",
       "      <td>NaN</td>\n",
       "      <td>10221391</td>\n",
       "    </tr>\n",
       "    <tr>\n",
       "      <th>1</th>\n",
       "      <td>1487746109</td>\n",
       "      <td>27f71d14-cc8e-4e87-8648-47c60047d566</td>\n",
       "      <td>PARTNERSHIP</td>\n",
       "      <td>Grey LoB without license</td>\n",
       "      <td>shopFrontPhoto</td>\n",
       "      <td>2025-04-04 12:59:32.000</td>\n",
       "      <td>merchant_common_onboard</td>\n",
       "      <td>NaN</td>\n",
       "      <td>NaN</td>\n",
       "      <td>10221391</td>\n",
       "    </tr>\n",
       "    <tr>\n",
       "      <th>2</th>\n",
       "      <td>1487746109</td>\n",
       "      <td>27f71d14-cc8e-4e87-8648-47c60047d566</td>\n",
       "      <td>PARTNERSHIP</td>\n",
       "      <td>Government/Notary seal and signatures missing</td>\n",
       "      <td>PartnershipDeed</td>\n",
       "      <td>2025-04-04 12:59:32.000</td>\n",
       "      <td>merchant_common_onboard</td>\n",
       "      <td>NaN</td>\n",
       "      <td>NaN</td>\n",
       "      <td>10221391</td>\n",
       "    </tr>\n",
       "    <tr>\n",
       "      <th>3</th>\n",
       "      <td>1487746109</td>\n",
       "      <td>27f71d14-cc8e-4e87-8648-47c60047d566</td>\n",
       "      <td>PARTNERSHIP</td>\n",
       "      <td>Random Document/Edited Document Provided</td>\n",
       "      <td>auditedFinancials</td>\n",
       "      <td>2025-04-04 12:59:32.000</td>\n",
       "      <td>merchant_common_onboard</td>\n",
       "      <td>NaN</td>\n",
       "      <td>NaN</td>\n",
       "      <td>10221391</td>\n",
       "    </tr>\n",
       "    <tr>\n",
       "      <th>4</th>\n",
       "      <td>1294535469</td>\n",
       "      <td>879493e5-7466-42ae-8753-c67d6f9177d0</td>\n",
       "      <td>PROPRIETORSHIP</td>\n",
       "      <td>Legal Name Not Mentioned / Not Clear/Mismatched</td>\n",
       "      <td>governmentIssuedLicense_business</td>\n",
       "      <td>2025-04-05 13:52:31.000</td>\n",
       "      <td>merchant_common_onboard</td>\n",
       "      <td>NaN</td>\n",
       "      <td>ACCOUNT_UPGRADE_LENDING</td>\n",
       "      <td>10220741</td>\n",
       "    </tr>\n",
       "  </tbody>\n",
       "</table>\n",
       "</div>"
      ],
      "text/plain": [
       "      cust_id                               lead_id     entity_type  \\\n",
       "0  1487746109  27f71d14-cc8e-4e87-8648-47c60047d566     PARTNERSHIP   \n",
       "1  1487746109  27f71d14-cc8e-4e87-8648-47c60047d566     PARTNERSHIP   \n",
       "2  1487746109  27f71d14-cc8e-4e87-8648-47c60047d566     PARTNERSHIP   \n",
       "3  1487746109  27f71d14-cc8e-4e87-8648-47c60047d566     PARTNERSHIP   \n",
       "4  1294535469  879493e5-7466-42ae-8753-c67d6f9177d0  PROPRIETORSHIP   \n",
       "\n",
       "                             rejected_field_reason  \\\n",
       "0                         Declaration not attached   \n",
       "1                         Grey LoB without license   \n",
       "2    Government/Notary seal and signatures missing   \n",
       "3         Random Document/Edited Document Provided   \n",
       "4  Legal Name Not Mentioned / Not Clear/Mismatched   \n",
       "\n",
       "                rejected_field_name               updated_at  \\\n",
       "0          authSignatoryDeclaration  2025-04-04 12:59:32.000   \n",
       "1                    shopFrontPhoto  2025-04-04 12:59:32.000   \n",
       "2                   PartnershipDeed  2025-04-04 12:59:32.000   \n",
       "3                 auditedFinancials  2025-04-04 12:59:32.000   \n",
       "4  governmentIssuedLicense_business  2025-04-05 13:52:31.000   \n",
       "\n",
       "             solution_type  solution_type_level_2    solution_type_level_3  \\\n",
       "0  merchant_common_onboard                    NaN                      NaN   \n",
       "1  merchant_common_onboard                    NaN                      NaN   \n",
       "2  merchant_common_onboard                    NaN                      NaN   \n",
       "3  merchant_common_onboard                    NaN                      NaN   \n",
       "4  merchant_common_onboard                    NaN  ACCOUNT_UPGRADE_LENDING   \n",
       "\n",
       "  FSE_Ecode  \n",
       "0  10221391  \n",
       "1  10221391  \n",
       "2  10221391  \n",
       "3  10221391  \n",
       "4  10220741  "
      ]
     },
     "execution_count": 5,
     "metadata": {},
     "output_type": "execute_result"
    }
   ],
   "source": [
    "rejection_data.head(5)"
   ]
  },
  {
   "cell_type": "code",
   "execution_count": 6,
   "metadata": {},
   "outputs": [
    {
     "data": {
      "text/html": [
       "<div>\n",
       "<style scoped>\n",
       "    .dataframe tbody tr th:only-of-type {\n",
       "        vertical-align: middle;\n",
       "    }\n",
       "\n",
       "    .dataframe tbody tr th {\n",
       "        vertical-align: top;\n",
       "    }\n",
       "\n",
       "    .dataframe thead th {\n",
       "        text-align: right;\n",
       "    }\n",
       "</style>\n",
       "<table border=\"1\" class=\"dataframe\">\n",
       "  <thead>\n",
       "    <tr style=\"text-align: right;\">\n",
       "      <th></th>\n",
       "      <th>Lead_ID</th>\n",
       "      <th>Product_Context</th>\n",
       "      <th>Stage movement count</th>\n",
       "      <th>solution_type_level_3</th>\n",
       "    </tr>\n",
       "  </thead>\n",
       "  <tbody>\n",
       "    <tr>\n",
       "      <th>0</th>\n",
       "      <td>efc93744-c371-4ebf-a3a9-26141c2e384d</td>\n",
       "      <td>NON_EDC</td>\n",
       "      <td>NaN</td>\n",
       "      <td>NaN</td>\n",
       "    </tr>\n",
       "    <tr>\n",
       "      <th>1</th>\n",
       "      <td>5e755088-313e-443e-941e-a68c0aa4ce5b</td>\n",
       "      <td>NON_EDC</td>\n",
       "      <td>NaN</td>\n",
       "      <td>NaN</td>\n",
       "    </tr>\n",
       "    <tr>\n",
       "      <th>2</th>\n",
       "      <td>1d8f7316-e36c-45d7-8a97-e487a05deebf</td>\n",
       "      <td>NON_EDC</td>\n",
       "      <td>NaN</td>\n",
       "      <td>NaN</td>\n",
       "    </tr>\n",
       "    <tr>\n",
       "      <th>3</th>\n",
       "      <td>66d12184-bba8-4623-820a-419586550730</td>\n",
       "      <td>NON_EDC</td>\n",
       "      <td>{\"QC_REJECTED\":2}</td>\n",
       "      <td>NaN</td>\n",
       "    </tr>\n",
       "    <tr>\n",
       "      <th>4</th>\n",
       "      <td>6a59ff13-e65c-4697-a657-bd09271553f2</td>\n",
       "      <td>NON_EDC</td>\n",
       "      <td>NaN</td>\n",
       "      <td>NaN</td>\n",
       "    </tr>\n",
       "  </tbody>\n",
       "</table>\n",
       "</div>"
      ],
      "text/plain": [
       "                                Lead_ID Product_Context Stage movement count  \\\n",
       "0  efc93744-c371-4ebf-a3a9-26141c2e384d         NON_EDC                  NaN   \n",
       "1  5e755088-313e-443e-941e-a68c0aa4ce5b         NON_EDC                  NaN   \n",
       "2  1d8f7316-e36c-45d7-8a97-e487a05deebf         NON_EDC                  NaN   \n",
       "3  66d12184-bba8-4623-820a-419586550730         NON_EDC    {\"QC_REJECTED\":2}   \n",
       "4  6a59ff13-e65c-4697-a657-bd09271553f2         NON_EDC                  NaN   \n",
       "\n",
       "  solution_type_level_3  \n",
       "0                   NaN  \n",
       "1                   NaN  \n",
       "2                   NaN  \n",
       "3                   NaN  \n",
       "4                   NaN  "
      ]
     },
     "execution_count": 6,
     "metadata": {},
     "output_type": "execute_result"
    }
   ],
   "source": [
    "data=data[['Lead_ID','Product_Context','Stage movement count','solution_type_level_3']]\n",
    "data.head(5)"
   ]
  },
  {
   "cell_type": "code",
   "execution_count": 7,
   "metadata": {},
   "outputs": [
    {
     "data": {
      "text/plain": [
       "solution_type_level_3\n",
       "KYC_UPDATE         30134\n",
       "ACCOUNT_UPGRADE    13216\n",
       "3P FSE               714\n",
       "DIY                    1\n",
       "Name: count, dtype: int64"
      ]
     },
     "execution_count": 7,
     "metadata": {},
     "output_type": "execute_result"
    }
   ],
   "source": [
    "data['solution_type_level_3'].value_counts()"
   ]
  },
  {
   "cell_type": "code",
   "execution_count": 8,
   "metadata": {},
   "outputs": [
    {
     "data": {
      "text/html": [
       "<div>\n",
       "<style scoped>\n",
       "    .dataframe tbody tr th:only-of-type {\n",
       "        vertical-align: middle;\n",
       "    }\n",
       "\n",
       "    .dataframe tbody tr th {\n",
       "        vertical-align: top;\n",
       "    }\n",
       "\n",
       "    .dataframe thead th {\n",
       "        text-align: right;\n",
       "    }\n",
       "</style>\n",
       "<table border=\"1\" class=\"dataframe\">\n",
       "  <thead>\n",
       "    <tr style=\"text-align: right;\">\n",
       "      <th></th>\n",
       "      <th>cust_id</th>\n",
       "      <th>lead_id</th>\n",
       "      <th>entity_type</th>\n",
       "      <th>rejected_field_reason</th>\n",
       "      <th>rejected_field_name</th>\n",
       "      <th>updated_at</th>\n",
       "      <th>solution_type</th>\n",
       "      <th>solution_type_level_2</th>\n",
       "      <th>solution_type_level_3</th>\n",
       "      <th>FSE_Ecode</th>\n",
       "    </tr>\n",
       "  </thead>\n",
       "  <tbody>\n",
       "    <tr>\n",
       "      <th>0</th>\n",
       "      <td>1487746109</td>\n",
       "      <td>27f71d14-cc8e-4e87-8648-47c60047d566</td>\n",
       "      <td>PARTNERSHIP</td>\n",
       "      <td>Declaration not attached</td>\n",
       "      <td>authSignatoryDeclaration</td>\n",
       "      <td>2025-04-04 12:59:32</td>\n",
       "      <td>merchant_common_onboard</td>\n",
       "      <td>NaN</td>\n",
       "      <td>NaN</td>\n",
       "      <td>10221391</td>\n",
       "    </tr>\n",
       "    <tr>\n",
       "      <th>1</th>\n",
       "      <td>1487746109</td>\n",
       "      <td>27f71d14-cc8e-4e87-8648-47c60047d566</td>\n",
       "      <td>PARTNERSHIP</td>\n",
       "      <td>Grey LoB without license</td>\n",
       "      <td>shopFrontPhoto</td>\n",
       "      <td>2025-04-04 12:59:32</td>\n",
       "      <td>merchant_common_onboard</td>\n",
       "      <td>NaN</td>\n",
       "      <td>NaN</td>\n",
       "      <td>10221391</td>\n",
       "    </tr>\n",
       "    <tr>\n",
       "      <th>2</th>\n",
       "      <td>1487746109</td>\n",
       "      <td>27f71d14-cc8e-4e87-8648-47c60047d566</td>\n",
       "      <td>PARTNERSHIP</td>\n",
       "      <td>Government/Notary seal and signatures missing</td>\n",
       "      <td>PartnershipDeed</td>\n",
       "      <td>2025-04-04 12:59:32</td>\n",
       "      <td>merchant_common_onboard</td>\n",
       "      <td>NaN</td>\n",
       "      <td>NaN</td>\n",
       "      <td>10221391</td>\n",
       "    </tr>\n",
       "    <tr>\n",
       "      <th>3</th>\n",
       "      <td>1487746109</td>\n",
       "      <td>27f71d14-cc8e-4e87-8648-47c60047d566</td>\n",
       "      <td>PARTNERSHIP</td>\n",
       "      <td>Random Document/Edited Document Provided</td>\n",
       "      <td>auditedFinancials</td>\n",
       "      <td>2025-04-04 12:59:32</td>\n",
       "      <td>merchant_common_onboard</td>\n",
       "      <td>NaN</td>\n",
       "      <td>NaN</td>\n",
       "      <td>10221391</td>\n",
       "    </tr>\n",
       "    <tr>\n",
       "      <th>4</th>\n",
       "      <td>1294535469</td>\n",
       "      <td>879493e5-7466-42ae-8753-c67d6f9177d0</td>\n",
       "      <td>PROPRIETORSHIP</td>\n",
       "      <td>Legal Name Not Mentioned / Not Clear/Mismatched</td>\n",
       "      <td>governmentIssuedLicense_business</td>\n",
       "      <td>2025-04-05 13:52:31</td>\n",
       "      <td>merchant_common_onboard</td>\n",
       "      <td>NaN</td>\n",
       "      <td>ACCOUNT_UPGRADE_LENDING</td>\n",
       "      <td>10220741</td>\n",
       "    </tr>\n",
       "  </tbody>\n",
       "</table>\n",
       "</div>"
      ],
      "text/plain": [
       "      cust_id                               lead_id     entity_type  \\\n",
       "0  1487746109  27f71d14-cc8e-4e87-8648-47c60047d566     PARTNERSHIP   \n",
       "1  1487746109  27f71d14-cc8e-4e87-8648-47c60047d566     PARTNERSHIP   \n",
       "2  1487746109  27f71d14-cc8e-4e87-8648-47c60047d566     PARTNERSHIP   \n",
       "3  1487746109  27f71d14-cc8e-4e87-8648-47c60047d566     PARTNERSHIP   \n",
       "4  1294535469  879493e5-7466-42ae-8753-c67d6f9177d0  PROPRIETORSHIP   \n",
       "\n",
       "                             rejected_field_reason  \\\n",
       "0                         Declaration not attached   \n",
       "1                         Grey LoB without license   \n",
       "2    Government/Notary seal and signatures missing   \n",
       "3         Random Document/Edited Document Provided   \n",
       "4  Legal Name Not Mentioned / Not Clear/Mismatched   \n",
       "\n",
       "                rejected_field_name          updated_at  \\\n",
       "0          authSignatoryDeclaration 2025-04-04 12:59:32   \n",
       "1                    shopFrontPhoto 2025-04-04 12:59:32   \n",
       "2                   PartnershipDeed 2025-04-04 12:59:32   \n",
       "3                 auditedFinancials 2025-04-04 12:59:32   \n",
       "4  governmentIssuedLicense_business 2025-04-05 13:52:31   \n",
       "\n",
       "             solution_type  solution_type_level_2    solution_type_level_3  \\\n",
       "0  merchant_common_onboard                    NaN                      NaN   \n",
       "1  merchant_common_onboard                    NaN                      NaN   \n",
       "2  merchant_common_onboard                    NaN                      NaN   \n",
       "3  merchant_common_onboard                    NaN                      NaN   \n",
       "4  merchant_common_onboard                    NaN  ACCOUNT_UPGRADE_LENDING   \n",
       "\n",
       "  FSE_Ecode  \n",
       "0  10221391  \n",
       "1  10221391  \n",
       "2  10221391  \n",
       "3  10221391  \n",
       "4  10220741  "
      ]
     },
     "execution_count": 8,
     "metadata": {},
     "output_type": "execute_result"
    }
   ],
   "source": [
    "rejection_data['updated_at']=pd.to_datetime(rejection_data['updated_at'],errors='coerce')\n",
    "rejection_data.head(5)"
   ]
  },
  {
   "cell_type": "code",
   "execution_count": 9,
   "metadata": {},
   "outputs": [
    {
     "data": {
      "text/plain": [
       "Timestamp('2025-05-01 00:00:00')"
      ]
     },
     "execution_count": 9,
     "metadata": {},
     "output_type": "execute_result"
    }
   ],
   "source": [
    "current_date = pd.Timestamp(datetime.now().date())\n",
    "current_date\n"
   ]
  },
  {
   "cell_type": "code",
   "execution_count": 10,
   "metadata": {},
   "outputs": [
    {
     "data": {
      "text/plain": [
       "53141"
      ]
     },
     "execution_count": 10,
     "metadata": {},
     "output_type": "execute_result"
    }
   ],
   "source": [
    "rejection_data=rejection_data[rejection_data['updated_at'].dt.date != current_date]\n",
    "len(rejection_data)"
   ]
  },
  {
   "cell_type": "code",
   "execution_count": 11,
   "metadata": {},
   "outputs": [
    {
     "data": {
      "text/plain": [
       "array([nan, 'ACCOUNT_UPGRADE_LENDING', 'KYC_UPDATE', 'ACCOUNT_UPGRADE',\n",
       "       'PROFILE_UPDATE', 'DIY'], dtype=object)"
      ]
     },
     "execution_count": 11,
     "metadata": {},
     "output_type": "execute_result"
    }
   ],
   "source": [
    "rejection_data['solution_type_level_3'].unique()"
   ]
  },
  {
   "cell_type": "code",
   "execution_count": 12,
   "metadata": {},
   "outputs": [
    {
     "data": {
      "text/plain": [
       "array([nan, 'ACCOUNT_UPGRADE_LENDING', 'KYC_UPDATE', 'ACCOUNT_UPGRADE',\n",
       "       'PROFILE_UPDATE', 'DIY'], dtype=object)"
      ]
     },
     "execution_count": 12,
     "metadata": {},
     "output_type": "execute_result"
    }
   ],
   "source": [
    "rejection_data=rejection_data[rejection_data['solution_type_level_3']!='YBL_LIMIT_ENHANCEMENT']\n",
    "\n",
    "rejection_data['solution_type_level_3'].unique()"
   ]
  },
  {
   "cell_type": "code",
   "execution_count": 13,
   "metadata": {},
   "outputs": [
    {
     "data": {
      "text/plain": [
       "array([nan, 'ACCOUNT_UPGRADE', 'KYC_UPDATE', 'DIY'], dtype=object)"
      ]
     },
     "execution_count": 13,
     "metadata": {},
     "output_type": "execute_result"
    }
   ],
   "source": [
    "rejection_data['solution_type_level_3']=rejection_data['solution_type_level_3'].replace(['ACCOUNT_UPGRADE_LENDING','PROFILE_UPDATE'],'ACCOUNT_UPGRADE')\n",
    "\n",
    "rejection_data['solution_type_level_3'].unique()"
   ]
  },
  {
   "cell_type": "code",
   "execution_count": 14,
   "metadata": {},
   "outputs": [
    {
     "data": {
      "text/plain": [
       "solution_type_level_3\n",
       "ACCOUNT_UPGRADE    4368\n",
       "KYC_UPDATE         3614\n",
       "DIY                  11\n",
       "Name: count, dtype: int64"
      ]
     },
     "execution_count": 14,
     "metadata": {},
     "output_type": "execute_result"
    }
   ],
   "source": [
    "rejection_data['solution_type_level_3'].value_counts()"
   ]
  },
  {
   "cell_type": "code",
   "execution_count": 15,
   "metadata": {},
   "outputs": [
    {
     "data": {
      "text/plain": [
       "entity_type\n",
       "INDIVIDUAL            36364\n",
       "PROPRIETORSHIP        15047\n",
       "NON_PROPRIETORSHIP     1730\n",
       "Name: count, dtype: int64"
      ]
     },
     "execution_count": 15,
     "metadata": {},
     "output_type": "execute_result"
    }
   ],
   "source": [
    "rejection_data.loc[~rejection_data['entity_type'].isin(['INDIVIDUAL','PROPRIETORSHIP']),'entity_type']='NON_PROPRIETORSHIP'\n",
    "rejection_data['entity_type'].value_counts()"
   ]
  },
  {
   "cell_type": "code",
   "execution_count": 16,
   "metadata": {},
   "outputs": [
    {
     "data": {
      "text/plain": [
       "solution_type_level_3\n",
       "ACCOUNT_UPGRADE    4368\n",
       "KYC_UPDATE         3614\n",
       "Name: count, dtype: int64"
      ]
     },
     "execution_count": 16,
     "metadata": {},
     "output_type": "execute_result"
    }
   ],
   "source": [
    "kyc_acc_rejection=rejection_data[rejection_data[\"solution_type_level_3\"].isin([\"ACCOUNT_UPGRADE\",\"KYC_UPDATE\"])]\n",
    "kyc_acc_rejection['solution_type_level_3'].value_counts()\n"
   ]
  },
  {
   "cell_type": "code",
   "execution_count": 17,
   "metadata": {},
   "outputs": [
    {
     "data": {
      "text/plain": [
       "45159"
      ]
     },
     "execution_count": 17,
     "metadata": {},
     "output_type": "execute_result"
    }
   ],
   "source": [
    "mco_rejection=rejection_data[~rejection_data[\"solution_type_level_3\"].isin([\"ACCOUNT_UPGRADE\",\"KYC_UPDATE\"])]\n",
    "len(mco_rejection)"
   ]
  },
  {
   "cell_type": "code",
   "execution_count": 18,
   "metadata": {},
   "outputs": [
    {
     "data": {
      "text/plain": [
       "Index(['cust_id', 'lead_id', 'entity_type', 'entuty_type_1',\n",
       "       'rejected_field_reason', 'rejected_field_name', 'updated_at',\n",
       "       'solution_type', 'solution_type_level_2', 'solution_type_level_3',\n",
       "       'FSE_Ecode'],\n",
       "      dtype='object')"
      ]
     },
     "execution_count": 18,
     "metadata": {},
     "output_type": "execute_result"
    }
   ],
   "source": [
    "kyc_acc_rejection.insert(kyc_acc_rejection.columns.get_loc('entity_type')+1,'entuty_type_1',np.nan)\n",
    "kyc_acc_rejection.columns"
   ]
  },
  {
   "cell_type": "code",
   "execution_count": 19,
   "metadata": {},
   "outputs": [
    {
     "name": "stderr",
     "output_type": "stream",
     "text": [
      "C:\\Users\\avnish1.yadav\\AppData\\Local\\Temp\\ipykernel_4876\\272290521.py:1: FutureWarning: Setting an item of incompatible dtype is deprecated and will raise in a future error of pandas. Value '['PROPRIETORSHIP' 'PROPRIETORSHIP' 'PROPRIETORSHIP' ... 'PROPRIETORSHIP'\n",
      " 'PROPRIETORSHIP' 'PROPRIETORSHIP']' has dtype incompatible with float64, please explicitly cast to a compatible dtype first.\n",
      "  kyc_acc_rejection.loc[:, 'entuty_type_1'] = kyc_acc_rejection['entity_type']\n"
     ]
    },
    {
     "data": {
      "text/plain": [
       "entuty_type_1\n",
       "PROPRIETORSHIP        6104\n",
       "INDIVIDUAL            1777\n",
       "NON_PROPRIETORSHIP     101\n",
       "Name: count, dtype: int64"
      ]
     },
     "execution_count": 19,
     "metadata": {},
     "output_type": "execute_result"
    }
   ],
   "source": [
    "kyc_acc_rejection.loc[:, 'entuty_type_1'] = kyc_acc_rejection['entity_type']\n",
    "kyc_acc_rejection['entuty_type_1'].value_counts()"
   ]
  },
  {
   "cell_type": "code",
   "execution_count": 20,
   "metadata": {},
   "outputs": [
    {
     "name": "stderr",
     "output_type": "stream",
     "text": [
      "C:\\Users\\avnish1.yadav\\AppData\\Local\\Temp\\ipykernel_4876\\2156595060.py:1: SettingWithCopyWarning: \n",
      "A value is trying to be set on a copy of a slice from a DataFrame.\n",
      "Try using .loc[row_indexer,col_indexer] = value instead\n",
      "\n",
      "See the caveats in the documentation: https://pandas.pydata.org/pandas-docs/stable/user_guide/indexing.html#returning-a-view-versus-a-copy\n",
      "  kyc_acc_rejection['entuty_type_1']=kyc_acc_rejection['entuty_type_1'].replace(['PROPRIETORSHIP','NON_PROPRIETORSHIP'],'NON_EDC')\n"
     ]
    },
    {
     "data": {
      "text/plain": [
       "entuty_type_1\n",
       "NON_EDC       6205\n",
       "INDIVIDUAL    1777\n",
       "Name: count, dtype: int64"
      ]
     },
     "execution_count": 20,
     "metadata": {},
     "output_type": "execute_result"
    }
   ],
   "source": [
    "kyc_acc_rejection['entuty_type_1']=kyc_acc_rejection['entuty_type_1'].replace(['PROPRIETORSHIP','NON_PROPRIETORSHIP'],'NON_EDC')\n",
    "kyc_acc_rejection['entuty_type_1'].value_counts()"
   ]
  },
  {
   "cell_type": "code",
   "execution_count": 21,
   "metadata": {},
   "outputs": [
    {
     "data": {
      "text/plain": [
       "Index(['cust_id', 'lead_id', 'entity_type', 'entuty_type_1',\n",
       "       'rejected_field_reason', 'rejected_field_name', 'updated_at',\n",
       "       'solution_type', 'solution_type_level_3', 'FSE_Ecode'],\n",
       "      dtype='object')"
      ]
     },
     "execution_count": 21,
     "metadata": {},
     "output_type": "execute_result"
    }
   ],
   "source": [
    "kyc_acc_rejection=kyc_acc_rejection.drop(columns=['solution_type_level_2'])\n",
    "kyc_acc_rejection.columns"
   ]
  },
  {
   "cell_type": "code",
   "execution_count": 22,
   "metadata": {},
   "outputs": [],
   "source": [
    "kyc_acc_rejection=pd.merge(kyc_acc_rejection,data,left_on='lead_id',right_on='Lead_ID',how='left')\n",
    "kyc_acc_rejection=kyc_acc_rejection.drop(columns=['Lead_ID'])"
   ]
  },
  {
   "cell_type": "code",
   "execution_count": 23,
   "metadata": {},
   "outputs": [
    {
     "data": {
      "text/plain": [
       "Index(['cust_id', 'lead_id', 'entity_type', 'entuty_type_1',\n",
       "       'rejected_field_reason', 'rejected_field_name', 'updated_at',\n",
       "       'solution_type', 'solution_type_level_3_x', 'FSE_Ecode',\n",
       "       'Product_Context', 'Stage movement count', 'solution_type_level_3_y'],\n",
       "      dtype='object')"
      ]
     },
     "execution_count": 23,
     "metadata": {},
     "output_type": "execute_result"
    }
   ],
   "source": [
    "kyc_acc_rejection.columns"
   ]
  },
  {
   "cell_type": "code",
   "execution_count": 24,
   "metadata": {},
   "outputs": [],
   "source": [
    "kyc_acc_rejection.loc[kyc_acc_rejection['solution_type_level_3_y']=='3P FSE','solution_type_level_3_x']='3P FSE'"
   ]
  },
  {
   "cell_type": "code",
   "execution_count": 25,
   "metadata": {},
   "outputs": [
    {
     "data": {
      "text/plain": [
       "solution_type_level_3_x\n",
       "ACCOUNT_UPGRADE    4368\n",
       "KYC_UPDATE         3431\n",
       "3P FSE              183\n",
       "Name: count, dtype: int64"
      ]
     },
     "execution_count": 25,
     "metadata": {},
     "output_type": "execute_result"
    }
   ],
   "source": [
    "kyc_acc_rejection['solution_type_level_3_x'].value_counts()"
   ]
  },
  {
   "cell_type": "code",
   "execution_count": 26,
   "metadata": {},
   "outputs": [
    {
     "data": {
      "text/plain": [
       "Index(['cust_id', 'lead_id', 'entity_type', 'entuty_type_1',\n",
       "       'rejected_field_reason', 'rejected_field_name', 'updated_at',\n",
       "       'solution_type', 'solution_type_level_3_x', 'FSE_Ecode',\n",
       "       'Product_Context', 'Stage movement count', 'solution_type_level_3_y'],\n",
       "      dtype='object')"
      ]
     },
     "execution_count": 26,
     "metadata": {},
     "output_type": "execute_result"
    }
   ],
   "source": [
    "kyc_acc_rejection.columns"
   ]
  },
  {
   "cell_type": "code",
   "execution_count": 27,
   "metadata": {},
   "outputs": [
    {
     "data": {
      "text/plain": [
       "Index(['cust_id', 'lead_id', 'entity_type', 'entuty_type_1',\n",
       "       'rejected_field_reason', 'rejected_field_name', 'updated_at',\n",
       "       'solution_type', 'solution_type_level_3_x', 'Product_Context',\n",
       "       'Stage movement count', 'solution_type_level_3_y'],\n",
       "      dtype='object')"
      ]
     },
     "execution_count": 27,
     "metadata": {},
     "output_type": "execute_result"
    }
   ],
   "source": [
    "kyc_acc_rejection = kyc_acc_rejection.drop(columns=['FSE_Ecode'])\n",
    "kyc_acc_rejection.columns\n"
   ]
  },
  {
   "cell_type": "code",
   "execution_count": 28,
   "metadata": {},
   "outputs": [
    {
     "data": {
      "text/plain": [
       "Index(['cust_id', 'lead_id', 'entity_type', 'rejected_field_reason',\n",
       "       'rejected_field_name', 'updated_at', 'solution_type_level_3',\n",
       "       'FSE_Ecode'],\n",
       "      dtype='object')"
      ]
     },
     "execution_count": 28,
     "metadata": {},
     "output_type": "execute_result"
    }
   ],
   "source": [
    "mco_rejection=mco_rejection.drop(columns=['solution_type_level_2','solution_type'])\n",
    "mco_rejection.columns"
   ]
  },
  {
   "cell_type": "code",
   "execution_count": 29,
   "metadata": {},
   "outputs": [],
   "source": [
    "mco_rejection.insert(mco_rejection.columns.get_loc('entity_type')+1,'entuty_type_1',np.nan)\n",
    "mco_rejection.insert(mco_rejection.columns.get_loc('entuty_type_1')+1,'Product_Context',np.nan)\n",
    "mco_rejection.insert(mco_rejection.columns.get_loc('rejected_field_name')+1,'Stage movement count',np.nan)"
   ]
  },
  {
   "cell_type": "code",
   "execution_count": 30,
   "metadata": {},
   "outputs": [],
   "source": [
    "mco_rejection=pd.merge(mco_rejection,data,left_on='lead_id',right_on='Lead_ID',how='left')\n",
    "mco_rejection=mco_rejection.drop(columns=['Lead_ID'])"
   ]
  },
  {
   "cell_type": "code",
   "execution_count": 31,
   "metadata": {},
   "outputs": [
    {
     "data": {
      "text/plain": [
       "Index(['cust_id', 'lead_id', 'entity_type', 'entuty_type_1',\n",
       "       'Product_Context_x', 'rejected_field_reason', 'rejected_field_name',\n",
       "       'Stage movement count_x', 'updated_at', 'solution_type_level_3_x',\n",
       "       'FSE_Ecode', 'Product_Context_y', 'Stage movement count_y',\n",
       "       'solution_type_level_3_y'],\n",
       "      dtype='object')"
      ]
     },
     "execution_count": 31,
     "metadata": {},
     "output_type": "execute_result"
    }
   ],
   "source": [
    "mco_rejection.columns"
   ]
  },
  {
   "cell_type": "code",
   "execution_count": 32,
   "metadata": {},
   "outputs": [],
   "source": [
    "mco_rejection['Product_Context_x']=mco_rejection['Product_Context_y']\n",
    "mco_rejection['Stage movement count_x']=mco_rejection['Stage movement count_y']\n",
    "mco_rejection['entuty_type_1']=mco_rejection['entity_type']\n",
    "mco_rejection=mco_rejection.drop(columns=['Product_Context_y','Stage movement count_y'])"
   ]
  },
  {
   "cell_type": "code",
   "execution_count": 33,
   "metadata": {},
   "outputs": [],
   "source": [
    "mco_rejection.loc[mco_rejection['entuty_type_1'].isin(['PROPRIETORSHIP','NON_PROPRIETORSHIP']),'entuty_type_1']=mco_rejection['Product_Context_x']\n"
   ]
  },
  {
   "cell_type": "code",
   "execution_count": 34,
   "metadata": {},
   "outputs": [
    {
     "data": {
      "text/html": [
       "<div>\n",
       "<style scoped>\n",
       "    .dataframe tbody tr th:only-of-type {\n",
       "        vertical-align: middle;\n",
       "    }\n",
       "\n",
       "    .dataframe tbody tr th {\n",
       "        vertical-align: top;\n",
       "    }\n",
       "\n",
       "    .dataframe thead th {\n",
       "        text-align: right;\n",
       "    }\n",
       "</style>\n",
       "<table border=\"1\" class=\"dataframe\">\n",
       "  <thead>\n",
       "    <tr style=\"text-align: right;\">\n",
       "      <th></th>\n",
       "      <th>cust_id</th>\n",
       "      <th>lead_id</th>\n",
       "      <th>entity_type</th>\n",
       "      <th>entuty_type_1</th>\n",
       "      <th>Product_Context_x</th>\n",
       "      <th>rejected_field_reason</th>\n",
       "      <th>rejected_field_name</th>\n",
       "      <th>Stage movement count_x</th>\n",
       "      <th>updated_at</th>\n",
       "      <th>solution_type_level_3_x</th>\n",
       "      <th>FSE_Ecode</th>\n",
       "      <th>solution_type_level_3_y</th>\n",
       "    </tr>\n",
       "  </thead>\n",
       "  <tbody>\n",
       "    <tr>\n",
       "      <th>0</th>\n",
       "      <td>1487746109</td>\n",
       "      <td>27f71d14-cc8e-4e87-8648-47c60047d566</td>\n",
       "      <td>NON_PROPRIETORSHIP</td>\n",
       "      <td>NON_EDC</td>\n",
       "      <td>NON_EDC</td>\n",
       "      <td>Declaration not attached</td>\n",
       "      <td>authSignatoryDeclaration</td>\n",
       "      <td>{\"QC_REJECTED\":2}</td>\n",
       "      <td>2025-04-04 12:59:32</td>\n",
       "      <td>NaN</td>\n",
       "      <td>10221391</td>\n",
       "      <td>NaN</td>\n",
       "    </tr>\n",
       "    <tr>\n",
       "      <th>1</th>\n",
       "      <td>1487746109</td>\n",
       "      <td>27f71d14-cc8e-4e87-8648-47c60047d566</td>\n",
       "      <td>NON_PROPRIETORSHIP</td>\n",
       "      <td>NON_EDC</td>\n",
       "      <td>NON_EDC</td>\n",
       "      <td>Grey LoB without license</td>\n",
       "      <td>shopFrontPhoto</td>\n",
       "      <td>{\"QC_REJECTED\":2}</td>\n",
       "      <td>2025-04-04 12:59:32</td>\n",
       "      <td>NaN</td>\n",
       "      <td>10221391</td>\n",
       "      <td>NaN</td>\n",
       "    </tr>\n",
       "    <tr>\n",
       "      <th>2</th>\n",
       "      <td>1487746109</td>\n",
       "      <td>27f71d14-cc8e-4e87-8648-47c60047d566</td>\n",
       "      <td>NON_PROPRIETORSHIP</td>\n",
       "      <td>NON_EDC</td>\n",
       "      <td>NON_EDC</td>\n",
       "      <td>Government/Notary seal and signatures missing</td>\n",
       "      <td>PartnershipDeed</td>\n",
       "      <td>{\"QC_REJECTED\":2}</td>\n",
       "      <td>2025-04-04 12:59:32</td>\n",
       "      <td>NaN</td>\n",
       "      <td>10221391</td>\n",
       "      <td>NaN</td>\n",
       "    </tr>\n",
       "    <tr>\n",
       "      <th>3</th>\n",
       "      <td>1487746109</td>\n",
       "      <td>27f71d14-cc8e-4e87-8648-47c60047d566</td>\n",
       "      <td>NON_PROPRIETORSHIP</td>\n",
       "      <td>NON_EDC</td>\n",
       "      <td>NON_EDC</td>\n",
       "      <td>Random Document/Edited Document Provided</td>\n",
       "      <td>auditedFinancials</td>\n",
       "      <td>{\"QC_REJECTED\":2}</td>\n",
       "      <td>2025-04-04 12:59:32</td>\n",
       "      <td>NaN</td>\n",
       "      <td>10221391</td>\n",
       "      <td>NaN</td>\n",
       "    </tr>\n",
       "    <tr>\n",
       "      <th>4</th>\n",
       "      <td>3208823001</td>\n",
       "      <td>7ef419f2-e643-4265-aaf5-03f7dd807968</td>\n",
       "      <td>INDIVIDUAL</td>\n",
       "      <td>INDIVIDUAL</td>\n",
       "      <td>NON_EDC</td>\n",
       "      <td>Bank proof is rejected</td>\n",
       "      <td>bankVerificationStatus</td>\n",
       "      <td>{\"QC_REJECTED\":1}</td>\n",
       "      <td>2025-04-01 14:15:48</td>\n",
       "      <td>NaN</td>\n",
       "      <td>976891</td>\n",
       "      <td>NaN</td>\n",
       "    </tr>\n",
       "  </tbody>\n",
       "</table>\n",
       "</div>"
      ],
      "text/plain": [
       "      cust_id                               lead_id         entity_type  \\\n",
       "0  1487746109  27f71d14-cc8e-4e87-8648-47c60047d566  NON_PROPRIETORSHIP   \n",
       "1  1487746109  27f71d14-cc8e-4e87-8648-47c60047d566  NON_PROPRIETORSHIP   \n",
       "2  1487746109  27f71d14-cc8e-4e87-8648-47c60047d566  NON_PROPRIETORSHIP   \n",
       "3  1487746109  27f71d14-cc8e-4e87-8648-47c60047d566  NON_PROPRIETORSHIP   \n",
       "4  3208823001  7ef419f2-e643-4265-aaf5-03f7dd807968          INDIVIDUAL   \n",
       "\n",
       "  entuty_type_1 Product_Context_x  \\\n",
       "0       NON_EDC           NON_EDC   \n",
       "1       NON_EDC           NON_EDC   \n",
       "2       NON_EDC           NON_EDC   \n",
       "3       NON_EDC           NON_EDC   \n",
       "4    INDIVIDUAL           NON_EDC   \n",
       "\n",
       "                           rejected_field_reason       rejected_field_name  \\\n",
       "0                       Declaration not attached  authSignatoryDeclaration   \n",
       "1                       Grey LoB without license            shopFrontPhoto   \n",
       "2  Government/Notary seal and signatures missing           PartnershipDeed   \n",
       "3       Random Document/Edited Document Provided         auditedFinancials   \n",
       "4                         Bank proof is rejected    bankVerificationStatus   \n",
       "\n",
       "  Stage movement count_x          updated_at solution_type_level_3_x  \\\n",
       "0      {\"QC_REJECTED\":2} 2025-04-04 12:59:32                     NaN   \n",
       "1      {\"QC_REJECTED\":2} 2025-04-04 12:59:32                     NaN   \n",
       "2      {\"QC_REJECTED\":2} 2025-04-04 12:59:32                     NaN   \n",
       "3      {\"QC_REJECTED\":2} 2025-04-04 12:59:32                     NaN   \n",
       "4      {\"QC_REJECTED\":1} 2025-04-01 14:15:48                     NaN   \n",
       "\n",
       "  FSE_Ecode solution_type_level_3_y  \n",
       "0  10221391                     NaN  \n",
       "1  10221391                     NaN  \n",
       "2  10221391                     NaN  \n",
       "3  10221391                     NaN  \n",
       "4    976891                     NaN  "
      ]
     },
     "execution_count": 34,
     "metadata": {},
     "output_type": "execute_result"
    }
   ],
   "source": [
    "mco_rejection.head(5)"
   ]
  },
  {
   "cell_type": "code",
   "execution_count": 35,
   "metadata": {},
   "outputs": [
    {
     "data": {
      "text/html": [
       "<div>\n",
       "<style scoped>\n",
       "    .dataframe tbody tr th:only-of-type {\n",
       "        vertical-align: middle;\n",
       "    }\n",
       "\n",
       "    .dataframe tbody tr th {\n",
       "        vertical-align: top;\n",
       "    }\n",
       "\n",
       "    .dataframe thead th {\n",
       "        text-align: right;\n",
       "    }\n",
       "</style>\n",
       "<table border=\"1\" class=\"dataframe\">\n",
       "  <thead>\n",
       "    <tr style=\"text-align: right;\">\n",
       "      <th></th>\n",
       "      <th>cust_id</th>\n",
       "      <th>lead_id</th>\n",
       "      <th>entity_type</th>\n",
       "      <th>entuty_type_1</th>\n",
       "      <th>rejected_field_reason</th>\n",
       "      <th>rejected_field_name</th>\n",
       "      <th>updated_at</th>\n",
       "      <th>solution_type</th>\n",
       "      <th>solution_type_level_3_x</th>\n",
       "      <th>Product_Context</th>\n",
       "      <th>Stage movement count</th>\n",
       "      <th>solution_type_level_3_y</th>\n",
       "    </tr>\n",
       "  </thead>\n",
       "  <tbody>\n",
       "    <tr>\n",
       "      <th>0</th>\n",
       "      <td>1294535469</td>\n",
       "      <td>879493e5-7466-42ae-8753-c67d6f9177d0</td>\n",
       "      <td>PROPRIETORSHIP</td>\n",
       "      <td>NON_EDC</td>\n",
       "      <td>Legal Name Not Mentioned / Not Clear/Mismatched</td>\n",
       "      <td>governmentIssuedLicense_business</td>\n",
       "      <td>2025-04-05 13:52:31</td>\n",
       "      <td>merchant_common_onboard</td>\n",
       "      <td>ACCOUNT_UPGRADE</td>\n",
       "      <td>NON_EDC</td>\n",
       "      <td>{\"QC_REJECTED\":1}</td>\n",
       "      <td>ACCOUNT_UPGRADE</td>\n",
       "    </tr>\n",
       "    <tr>\n",
       "      <th>1</th>\n",
       "      <td>1294535469</td>\n",
       "      <td>879493e5-7466-42ae-8753-c67d6f9177d0</td>\n",
       "      <td>PROPRIETORSHIP</td>\n",
       "      <td>NON_EDC</td>\n",
       "      <td>Name on business address proof document does n...</td>\n",
       "      <td>governmentIssuedLicense_business</td>\n",
       "      <td>2025-04-05 13:52:31</td>\n",
       "      <td>merchant_common_onboard</td>\n",
       "      <td>ACCOUNT_UPGRADE</td>\n",
       "      <td>NON_EDC</td>\n",
       "      <td>{\"QC_REJECTED\":1}</td>\n",
       "      <td>ACCOUNT_UPGRADE</td>\n",
       "    </tr>\n",
       "    <tr>\n",
       "      <th>2</th>\n",
       "      <td>127519786</td>\n",
       "      <td>a74055d9-01b6-4432-8c00-61d0ef568a9e</td>\n",
       "      <td>PROPRIETORSHIP</td>\n",
       "      <td>NON_EDC</td>\n",
       "      <td>Not a fixed shop</td>\n",
       "      <td>shopFrontPhoto</td>\n",
       "      <td>2025-04-28 19:01:56</td>\n",
       "      <td>merchant_common_onboard</td>\n",
       "      <td>ACCOUNT_UPGRADE</td>\n",
       "      <td>NON_EDC</td>\n",
       "      <td>{\"QC_REJECTED\":1}</td>\n",
       "      <td>ACCOUNT_UPGRADE</td>\n",
       "    </tr>\n",
       "    <tr>\n",
       "      <th>3</th>\n",
       "      <td>1443667406</td>\n",
       "      <td>bcc22387-f93d-46dc-a723-ce321fd25936</td>\n",
       "      <td>INDIVIDUAL</td>\n",
       "      <td>INDIVIDUAL</td>\n",
       "      <td>Complete Shop photo not uploaded</td>\n",
       "      <td>shopFrontPhoto</td>\n",
       "      <td>2025-04-08 13:15:32</td>\n",
       "      <td>merchant_common_onboard</td>\n",
       "      <td>KYC_UPDATE</td>\n",
       "      <td>NON_EDC</td>\n",
       "      <td>{\"QC_REJECTED\":1}</td>\n",
       "      <td>KYC_UPDATE</td>\n",
       "    </tr>\n",
       "    <tr>\n",
       "      <th>4</th>\n",
       "      <td>1784847428</td>\n",
       "      <td>abdf5d4f-f182-4d39-a4d9-b6368fd98f6c</td>\n",
       "      <td>PROPRIETORSHIP</td>\n",
       "      <td>NON_EDC</td>\n",
       "      <td>Forged document</td>\n",
       "      <td>pan</td>\n",
       "      <td>2025-04-26 19:21:59</td>\n",
       "      <td>merchant_common_onboard</td>\n",
       "      <td>ACCOUNT_UPGRADE</td>\n",
       "      <td>NON_EDC</td>\n",
       "      <td>{\"QC_REJECTED\":2}</td>\n",
       "      <td>ACCOUNT_UPGRADE</td>\n",
       "    </tr>\n",
       "  </tbody>\n",
       "</table>\n",
       "</div>"
      ],
      "text/plain": [
       "      cust_id                               lead_id     entity_type  \\\n",
       "0  1294535469  879493e5-7466-42ae-8753-c67d6f9177d0  PROPRIETORSHIP   \n",
       "1  1294535469  879493e5-7466-42ae-8753-c67d6f9177d0  PROPRIETORSHIP   \n",
       "2   127519786  a74055d9-01b6-4432-8c00-61d0ef568a9e  PROPRIETORSHIP   \n",
       "3  1443667406  bcc22387-f93d-46dc-a723-ce321fd25936      INDIVIDUAL   \n",
       "4  1784847428  abdf5d4f-f182-4d39-a4d9-b6368fd98f6c  PROPRIETORSHIP   \n",
       "\n",
       "  entuty_type_1                              rejected_field_reason  \\\n",
       "0       NON_EDC    Legal Name Not Mentioned / Not Clear/Mismatched   \n",
       "1       NON_EDC  Name on business address proof document does n...   \n",
       "2       NON_EDC                                   Not a fixed shop   \n",
       "3    INDIVIDUAL                   Complete Shop photo not uploaded   \n",
       "4       NON_EDC                                    Forged document   \n",
       "\n",
       "                rejected_field_name          updated_at  \\\n",
       "0  governmentIssuedLicense_business 2025-04-05 13:52:31   \n",
       "1  governmentIssuedLicense_business 2025-04-05 13:52:31   \n",
       "2                    shopFrontPhoto 2025-04-28 19:01:56   \n",
       "3                    shopFrontPhoto 2025-04-08 13:15:32   \n",
       "4                               pan 2025-04-26 19:21:59   \n",
       "\n",
       "             solution_type solution_type_level_3_x Product_Context  \\\n",
       "0  merchant_common_onboard         ACCOUNT_UPGRADE         NON_EDC   \n",
       "1  merchant_common_onboard         ACCOUNT_UPGRADE         NON_EDC   \n",
       "2  merchant_common_onboard         ACCOUNT_UPGRADE         NON_EDC   \n",
       "3  merchant_common_onboard              KYC_UPDATE         NON_EDC   \n",
       "4  merchant_common_onboard         ACCOUNT_UPGRADE         NON_EDC   \n",
       "\n",
       "  Stage movement count solution_type_level_3_y  \n",
       "0    {\"QC_REJECTED\":1}         ACCOUNT_UPGRADE  \n",
       "1    {\"QC_REJECTED\":1}         ACCOUNT_UPGRADE  \n",
       "2    {\"QC_REJECTED\":1}         ACCOUNT_UPGRADE  \n",
       "3    {\"QC_REJECTED\":1}              KYC_UPDATE  \n",
       "4    {\"QC_REJECTED\":2}         ACCOUNT_UPGRADE  "
      ]
     },
     "execution_count": 35,
     "metadata": {},
     "output_type": "execute_result"
    }
   ],
   "source": [
    "kyc_acc_rejection.head(5)"
   ]
  },
  {
   "cell_type": "code",
   "execution_count": 36,
   "metadata": {},
   "outputs": [],
   "source": [
    "#mco_rejection=mco_rejection.drop(columns=['solution_type_level_3_y'])\n",
    "kyc_acc_rejection=kyc_acc_rejection.drop(columns=['Product_Context', 'Stage movement count', 'solution_type_level_3_y'])"
   ]
  },
  {
   "cell_type": "code",
   "execution_count": 37,
   "metadata": {},
   "outputs": [
    {
     "data": {
      "text/plain": [
       "Index(['cust_id', 'lead_id', 'entity_type', 'entuty_type_1',\n",
       "       'rejected_field_reason', 'rejected_field_name', 'updated_at',\n",
       "       'solution_type', 'solution_type_level_3_x'],\n",
       "      dtype='object')"
      ]
     },
     "execution_count": 37,
     "metadata": {},
     "output_type": "execute_result"
    }
   ],
   "source": [
    "kyc_acc_rejection.columns"
   ]
  },
  {
   "cell_type": "code",
   "execution_count": 38,
   "metadata": {},
   "outputs": [],
   "source": [
    "mco_rejection=mco_rejection.drop(columns=['solution_type_level_3_x', 'solution_type_level_3_y'])"
   ]
  },
  {
   "cell_type": "code",
   "execution_count": 39,
   "metadata": {},
   "outputs": [
    {
     "data": {
      "text/plain": [
       "Index(['cust_id', 'lead_id', 'entity_type', 'entuty_type_1',\n",
       "       'Product_Context_x', 'rejected_field_reason', 'rejected_field_name',\n",
       "       'Stage movement count_x', 'updated_at', 'FSE_Ecode'],\n",
       "      dtype='object')"
      ]
     },
     "execution_count": 39,
     "metadata": {},
     "output_type": "execute_result"
    }
   ],
   "source": [
    "mco_rejection.columns"
   ]
  },
  {
   "cell_type": "code",
   "execution_count": 40,
   "metadata": {},
   "outputs": [
    {
     "data": {
      "text/plain": [
       "45161"
      ]
     },
     "execution_count": 40,
     "metadata": {},
     "output_type": "execute_result"
    }
   ],
   "source": [
    "len(mco_rejection)"
   ]
  },
  {
   "cell_type": "code",
   "execution_count": 41,
   "metadata": {},
   "outputs": [
    {
     "data": {
      "text/plain": [
       "6912"
      ]
     },
     "execution_count": 41,
     "metadata": {},
     "output_type": "execute_result"
    }
   ],
   "source": [
    "mco_rejection['Product_Context_x'].isna().sum()"
   ]
  },
  {
   "cell_type": "code",
   "execution_count": 42,
   "metadata": {},
   "outputs": [
    {
     "data": {
      "text/plain": [
       "38249"
      ]
     },
     "execution_count": 42,
     "metadata": {},
     "output_type": "execute_result"
    }
   ],
   "source": [
    "mco_rejection = mco_rejection.dropna(subset=['Product_Context_x'])\n",
    "len(mco_rejection)"
   ]
  },
  {
   "cell_type": "code",
   "execution_count": 43,
   "metadata": {},
   "outputs": [],
   "source": [
    "kyc_acc_rejection.to_csv(kyc_acc_output_file, index=False)\n",
    "mco_rejection.to_csv(mco_output_file, index=False)"
   ]
  },
  {
   "cell_type": "code",
   "execution_count": null,
   "metadata": {},
   "outputs": [],
   "source": []
  },
  {
   "cell_type": "code",
   "execution_count": null,
   "metadata": {},
   "outputs": [],
   "source": []
  }
 ],
 "metadata": {
  "kernelspec": {
   "display_name": "base",
   "language": "python",
   "name": "python3"
  },
  "language_info": {
   "codemirror_mode": {
    "name": "ipython",
    "version": 3
   },
   "file_extension": ".py",
   "mimetype": "text/x-python",
   "name": "python",
   "nbconvert_exporter": "python",
   "pygments_lexer": "ipython3",
   "version": "3.12.7"
  }
 },
 "nbformat": 4,
 "nbformat_minor": 2
}
