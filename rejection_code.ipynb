{
 "cells": [
  {
   "cell_type": "code",
   "execution_count": 1,
   "metadata": {},
   "outputs": [],
   "source": [
    "import pandas as pd\n",
    "import numpy as np\n",
    "from datetime import datetime, timedelta\n",
    "from datetime import time\n",
    "import os\n"
   ]
  },
  {
   "cell_type": "code",
   "execution_count": 2,
   "metadata": {},
   "outputs": [],
   "source": [
    "data=\"all_flow_data_29th April'25.csv\"\n",
    "input_file=\"rejection_reason_30-April'25.csv\"\n",
    "mco_output_file=\"MCO_Rejection_29th April'25.csv\"\n",
    "kyc_acc_output_file=\"KYC_ACC_Rejection_29th April'25.csv\"\n"
   ]
  },
  {
   "cell_type": "code",
   "execution_count": 3,
   "metadata": {},
   "outputs": [],
   "source": [
    "#data=\"all_flow_data_31st Mar'25.csv\"\n",
    "#input_file=\"mco_all_rejection_01st April.csv\"\n",
    "#mco_output_file=\"MCO_all_Rejection_31st Mar'25.csv\"\n",
    "#kyc_acc_output_file=\"KYC_all_ACC_Rejection_31st Mar'25.csv\"\n"
   ]
  },
  {
   "cell_type": "code",
   "execution_count": 4,
   "metadata": {},
   "outputs": [
    {
     "data": {
      "text/plain": [
       "51195"
      ]
     },
     "execution_count": 4,
     "metadata": {},
     "output_type": "execute_result"
    }
   ],
   "source": [
    "rejection_data=pd.read_csv(input_file,memory_map=True)\n",
    "data=pd.read_csv(data,memory_map=True)\n",
    "len(rejection_data)"
   ]
  },
  {
   "cell_type": "code",
   "execution_count": 5,
   "metadata": {},
   "outputs": [
    {
     "data": {
      "text/html": [
       "<div>\n",
       "<style scoped>\n",
       "    .dataframe tbody tr th:only-of-type {\n",
       "        vertical-align: middle;\n",
       "    }\n",
       "\n",
       "    .dataframe tbody tr th {\n",
       "        vertical-align: top;\n",
       "    }\n",
       "\n",
       "    .dataframe thead th {\n",
       "        text-align: right;\n",
       "    }\n",
       "</style>\n",
       "<table border=\"1\" class=\"dataframe\">\n",
       "  <thead>\n",
       "    <tr style=\"text-align: right;\">\n",
       "      <th></th>\n",
       "      <th>cust_id</th>\n",
       "      <th>lead_id</th>\n",
       "      <th>entity_type</th>\n",
       "      <th>rejected_field_reason</th>\n",
       "      <th>rejected_field_name</th>\n",
       "      <th>updated_at</th>\n",
       "      <th>solution_type</th>\n",
       "      <th>solution_type_level_2</th>\n",
       "      <th>solution_type_level_3</th>\n",
       "      <th>FSE_Ecode</th>\n",
       "    </tr>\n",
       "  </thead>\n",
       "  <tbody>\n",
       "    <tr>\n",
       "      <th>0</th>\n",
       "      <td>1487746109</td>\n",
       "      <td>27f71d14-cc8e-4e87-8648-47c60047d566</td>\n",
       "      <td>PARTNERSHIP</td>\n",
       "      <td>Declaration not attached</td>\n",
       "      <td>authSignatoryDeclaration</td>\n",
       "      <td>2025-04-04 12:59:32.000</td>\n",
       "      <td>merchant_common_onboard</td>\n",
       "      <td>NaN</td>\n",
       "      <td>NaN</td>\n",
       "      <td>10221391</td>\n",
       "    </tr>\n",
       "    <tr>\n",
       "      <th>1</th>\n",
       "      <td>1487746109</td>\n",
       "      <td>27f71d14-cc8e-4e87-8648-47c60047d566</td>\n",
       "      <td>PARTNERSHIP</td>\n",
       "      <td>Grey LoB without license</td>\n",
       "      <td>shopFrontPhoto</td>\n",
       "      <td>2025-04-04 12:59:32.000</td>\n",
       "      <td>merchant_common_onboard</td>\n",
       "      <td>NaN</td>\n",
       "      <td>NaN</td>\n",
       "      <td>10221391</td>\n",
       "    </tr>\n",
       "    <tr>\n",
       "      <th>2</th>\n",
       "      <td>1487746109</td>\n",
       "      <td>27f71d14-cc8e-4e87-8648-47c60047d566</td>\n",
       "      <td>PARTNERSHIP</td>\n",
       "      <td>Government/Notary seal and signatures missing</td>\n",
       "      <td>PartnershipDeed</td>\n",
       "      <td>2025-04-04 12:59:32.000</td>\n",
       "      <td>merchant_common_onboard</td>\n",
       "      <td>NaN</td>\n",
       "      <td>NaN</td>\n",
       "      <td>10221391</td>\n",
       "    </tr>\n",
       "    <tr>\n",
       "      <th>3</th>\n",
       "      <td>1487746109</td>\n",
       "      <td>27f71d14-cc8e-4e87-8648-47c60047d566</td>\n",
       "      <td>PARTNERSHIP</td>\n",
       "      <td>Random Document/Edited Document Provided</td>\n",
       "      <td>auditedFinancials</td>\n",
       "      <td>2025-04-04 12:59:32.000</td>\n",
       "      <td>merchant_common_onboard</td>\n",
       "      <td>NaN</td>\n",
       "      <td>NaN</td>\n",
       "      <td>10221391</td>\n",
       "    </tr>\n",
       "    <tr>\n",
       "      <th>4</th>\n",
       "      <td>1949853375</td>\n",
       "      <td>9a7e2605-3c7a-4f89-9fe1-8aae74470256</td>\n",
       "      <td>INDIVIDUAL</td>\n",
       "      <td>Aadhar image not clear</td>\n",
       "      <td>aadhaar</td>\n",
       "      <td>2025-04-22 15:56:53.000</td>\n",
       "      <td>merchant_common_onboard</td>\n",
       "      <td>NaN</td>\n",
       "      <td>NaN</td>\n",
       "      <td>41743</td>\n",
       "    </tr>\n",
       "  </tbody>\n",
       "</table>\n",
       "</div>"
      ],
      "text/plain": [
       "      cust_id                               lead_id  entity_type  \\\n",
       "0  1487746109  27f71d14-cc8e-4e87-8648-47c60047d566  PARTNERSHIP   \n",
       "1  1487746109  27f71d14-cc8e-4e87-8648-47c60047d566  PARTNERSHIP   \n",
       "2  1487746109  27f71d14-cc8e-4e87-8648-47c60047d566  PARTNERSHIP   \n",
       "3  1487746109  27f71d14-cc8e-4e87-8648-47c60047d566  PARTNERSHIP   \n",
       "4  1949853375  9a7e2605-3c7a-4f89-9fe1-8aae74470256   INDIVIDUAL   \n",
       "\n",
       "                           rejected_field_reason       rejected_field_name  \\\n",
       "0                       Declaration not attached  authSignatoryDeclaration   \n",
       "1                       Grey LoB without license            shopFrontPhoto   \n",
       "2  Government/Notary seal and signatures missing           PartnershipDeed   \n",
       "3       Random Document/Edited Document Provided         auditedFinancials   \n",
       "4                         Aadhar image not clear                   aadhaar   \n",
       "\n",
       "                updated_at            solution_type  solution_type_level_2  \\\n",
       "0  2025-04-04 12:59:32.000  merchant_common_onboard                    NaN   \n",
       "1  2025-04-04 12:59:32.000  merchant_common_onboard                    NaN   \n",
       "2  2025-04-04 12:59:32.000  merchant_common_onboard                    NaN   \n",
       "3  2025-04-04 12:59:32.000  merchant_common_onboard                    NaN   \n",
       "4  2025-04-22 15:56:53.000  merchant_common_onboard                    NaN   \n",
       "\n",
       "  solution_type_level_3 FSE_Ecode  \n",
       "0                   NaN  10221391  \n",
       "1                   NaN  10221391  \n",
       "2                   NaN  10221391  \n",
       "3                   NaN  10221391  \n",
       "4                   NaN     41743  "
      ]
     },
     "execution_count": 5,
     "metadata": {},
     "output_type": "execute_result"
    }
   ],
   "source": [
    "rejection_data.head(5)"
   ]
  },
  {
   "cell_type": "code",
   "execution_count": 6,
   "metadata": {},
   "outputs": [
    {
     "data": {
      "text/html": [
       "<div>\n",
       "<style scoped>\n",
       "    .dataframe tbody tr th:only-of-type {\n",
       "        vertical-align: middle;\n",
       "    }\n",
       "\n",
       "    .dataframe tbody tr th {\n",
       "        vertical-align: top;\n",
       "    }\n",
       "\n",
       "    .dataframe thead th {\n",
       "        text-align: right;\n",
       "    }\n",
       "</style>\n",
       "<table border=\"1\" class=\"dataframe\">\n",
       "  <thead>\n",
       "    <tr style=\"text-align: right;\">\n",
       "      <th></th>\n",
       "      <th>Lead_ID</th>\n",
       "      <th>Product_Context</th>\n",
       "      <th>Stage movement count</th>\n",
       "      <th>solution_type_level_3</th>\n",
       "    </tr>\n",
       "  </thead>\n",
       "  <tbody>\n",
       "    <tr>\n",
       "      <th>0</th>\n",
       "      <td>2d268e32-9af4-4ef9-92d5-b819b0e94f1d</td>\n",
       "      <td>NON_EDC</td>\n",
       "      <td>NaN</td>\n",
       "      <td>NaN</td>\n",
       "    </tr>\n",
       "    <tr>\n",
       "      <th>1</th>\n",
       "      <td>efc93744-c371-4ebf-a3a9-26141c2e384d</td>\n",
       "      <td>NON_EDC</td>\n",
       "      <td>NaN</td>\n",
       "      <td>NaN</td>\n",
       "    </tr>\n",
       "    <tr>\n",
       "      <th>2</th>\n",
       "      <td>bbce84f6-a683-4f7a-ad14-b1f30cae1f96</td>\n",
       "      <td>NON_EDC</td>\n",
       "      <td>{\"QC_REJECTED\":1}</td>\n",
       "      <td>NaN</td>\n",
       "    </tr>\n",
       "    <tr>\n",
       "      <th>3</th>\n",
       "      <td>ac18a7c8-0266-4bd1-a4f5-a3b79e2e1879</td>\n",
       "      <td>NON_EDC</td>\n",
       "      <td>NaN</td>\n",
       "      <td>NaN</td>\n",
       "    </tr>\n",
       "    <tr>\n",
       "      <th>4</th>\n",
       "      <td>3b334f7f-72e5-4b66-bb72-59fa037130f9</td>\n",
       "      <td>NON_EDC</td>\n",
       "      <td>NaN</td>\n",
       "      <td>NaN</td>\n",
       "    </tr>\n",
       "  </tbody>\n",
       "</table>\n",
       "</div>"
      ],
      "text/plain": [
       "                                Lead_ID Product_Context Stage movement count  \\\n",
       "0  2d268e32-9af4-4ef9-92d5-b819b0e94f1d         NON_EDC                  NaN   \n",
       "1  efc93744-c371-4ebf-a3a9-26141c2e384d         NON_EDC                  NaN   \n",
       "2  bbce84f6-a683-4f7a-ad14-b1f30cae1f96         NON_EDC    {\"QC_REJECTED\":1}   \n",
       "3  ac18a7c8-0266-4bd1-a4f5-a3b79e2e1879         NON_EDC                  NaN   \n",
       "4  3b334f7f-72e5-4b66-bb72-59fa037130f9         NON_EDC                  NaN   \n",
       "\n",
       "  solution_type_level_3  \n",
       "0                   NaN  \n",
       "1                   NaN  \n",
       "2                   NaN  \n",
       "3                   NaN  \n",
       "4                   NaN  "
      ]
     },
     "execution_count": 6,
     "metadata": {},
     "output_type": "execute_result"
    }
   ],
   "source": [
    "data=data[['Lead_ID','Product_Context','Stage movement count','solution_type_level_3']]\n",
    "data.head(5)"
   ]
  },
  {
   "cell_type": "code",
   "execution_count": 7,
   "metadata": {},
   "outputs": [
    {
     "data": {
      "text/plain": [
       "KYC_UPDATE         29461\n",
       "ACCOUNT_UPGRADE    12867\n",
       "3P FSE               694\n",
       "DIY                    1\n",
       "Name: solution_type_level_3, dtype: int64"
      ]
     },
     "execution_count": 7,
     "metadata": {},
     "output_type": "execute_result"
    }
   ],
   "source": [
    "data['solution_type_level_3'].value_counts()"
   ]
  },
  {
   "cell_type": "code",
   "execution_count": 8,
   "metadata": {},
   "outputs": [
    {
     "data": {
      "text/html": [
       "<div>\n",
       "<style scoped>\n",
       "    .dataframe tbody tr th:only-of-type {\n",
       "        vertical-align: middle;\n",
       "    }\n",
       "\n",
       "    .dataframe tbody tr th {\n",
       "        vertical-align: top;\n",
       "    }\n",
       "\n",
       "    .dataframe thead th {\n",
       "        text-align: right;\n",
       "    }\n",
       "</style>\n",
       "<table border=\"1\" class=\"dataframe\">\n",
       "  <thead>\n",
       "    <tr style=\"text-align: right;\">\n",
       "      <th></th>\n",
       "      <th>cust_id</th>\n",
       "      <th>lead_id</th>\n",
       "      <th>entity_type</th>\n",
       "      <th>rejected_field_reason</th>\n",
       "      <th>rejected_field_name</th>\n",
       "      <th>updated_at</th>\n",
       "      <th>solution_type</th>\n",
       "      <th>solution_type_level_2</th>\n",
       "      <th>solution_type_level_3</th>\n",
       "      <th>FSE_Ecode</th>\n",
       "    </tr>\n",
       "  </thead>\n",
       "  <tbody>\n",
       "    <tr>\n",
       "      <th>0</th>\n",
       "      <td>1487746109</td>\n",
       "      <td>27f71d14-cc8e-4e87-8648-47c60047d566</td>\n",
       "      <td>PARTNERSHIP</td>\n",
       "      <td>Declaration not attached</td>\n",
       "      <td>authSignatoryDeclaration</td>\n",
       "      <td>2025-04-04 12:59:32</td>\n",
       "      <td>merchant_common_onboard</td>\n",
       "      <td>NaN</td>\n",
       "      <td>NaN</td>\n",
       "      <td>10221391</td>\n",
       "    </tr>\n",
       "    <tr>\n",
       "      <th>1</th>\n",
       "      <td>1487746109</td>\n",
       "      <td>27f71d14-cc8e-4e87-8648-47c60047d566</td>\n",
       "      <td>PARTNERSHIP</td>\n",
       "      <td>Grey LoB without license</td>\n",
       "      <td>shopFrontPhoto</td>\n",
       "      <td>2025-04-04 12:59:32</td>\n",
       "      <td>merchant_common_onboard</td>\n",
       "      <td>NaN</td>\n",
       "      <td>NaN</td>\n",
       "      <td>10221391</td>\n",
       "    </tr>\n",
       "    <tr>\n",
       "      <th>2</th>\n",
       "      <td>1487746109</td>\n",
       "      <td>27f71d14-cc8e-4e87-8648-47c60047d566</td>\n",
       "      <td>PARTNERSHIP</td>\n",
       "      <td>Government/Notary seal and signatures missing</td>\n",
       "      <td>PartnershipDeed</td>\n",
       "      <td>2025-04-04 12:59:32</td>\n",
       "      <td>merchant_common_onboard</td>\n",
       "      <td>NaN</td>\n",
       "      <td>NaN</td>\n",
       "      <td>10221391</td>\n",
       "    </tr>\n",
       "    <tr>\n",
       "      <th>3</th>\n",
       "      <td>1487746109</td>\n",
       "      <td>27f71d14-cc8e-4e87-8648-47c60047d566</td>\n",
       "      <td>PARTNERSHIP</td>\n",
       "      <td>Random Document/Edited Document Provided</td>\n",
       "      <td>auditedFinancials</td>\n",
       "      <td>2025-04-04 12:59:32</td>\n",
       "      <td>merchant_common_onboard</td>\n",
       "      <td>NaN</td>\n",
       "      <td>NaN</td>\n",
       "      <td>10221391</td>\n",
       "    </tr>\n",
       "    <tr>\n",
       "      <th>4</th>\n",
       "      <td>1949853375</td>\n",
       "      <td>9a7e2605-3c7a-4f89-9fe1-8aae74470256</td>\n",
       "      <td>INDIVIDUAL</td>\n",
       "      <td>Aadhar image not clear</td>\n",
       "      <td>aadhaar</td>\n",
       "      <td>2025-04-22 15:56:53</td>\n",
       "      <td>merchant_common_onboard</td>\n",
       "      <td>NaN</td>\n",
       "      <td>NaN</td>\n",
       "      <td>41743</td>\n",
       "    </tr>\n",
       "  </tbody>\n",
       "</table>\n",
       "</div>"
      ],
      "text/plain": [
       "      cust_id                               lead_id  entity_type  \\\n",
       "0  1487746109  27f71d14-cc8e-4e87-8648-47c60047d566  PARTNERSHIP   \n",
       "1  1487746109  27f71d14-cc8e-4e87-8648-47c60047d566  PARTNERSHIP   \n",
       "2  1487746109  27f71d14-cc8e-4e87-8648-47c60047d566  PARTNERSHIP   \n",
       "3  1487746109  27f71d14-cc8e-4e87-8648-47c60047d566  PARTNERSHIP   \n",
       "4  1949853375  9a7e2605-3c7a-4f89-9fe1-8aae74470256   INDIVIDUAL   \n",
       "\n",
       "                           rejected_field_reason       rejected_field_name  \\\n",
       "0                       Declaration not attached  authSignatoryDeclaration   \n",
       "1                       Grey LoB without license            shopFrontPhoto   \n",
       "2  Government/Notary seal and signatures missing           PartnershipDeed   \n",
       "3       Random Document/Edited Document Provided         auditedFinancials   \n",
       "4                         Aadhar image not clear                   aadhaar   \n",
       "\n",
       "           updated_at            solution_type  solution_type_level_2  \\\n",
       "0 2025-04-04 12:59:32  merchant_common_onboard                    NaN   \n",
       "1 2025-04-04 12:59:32  merchant_common_onboard                    NaN   \n",
       "2 2025-04-04 12:59:32  merchant_common_onboard                    NaN   \n",
       "3 2025-04-04 12:59:32  merchant_common_onboard                    NaN   \n",
       "4 2025-04-22 15:56:53  merchant_common_onboard                    NaN   \n",
       "\n",
       "  solution_type_level_3 FSE_Ecode  \n",
       "0                   NaN  10221391  \n",
       "1                   NaN  10221391  \n",
       "2                   NaN  10221391  \n",
       "3                   NaN  10221391  \n",
       "4                   NaN     41743  "
      ]
     },
     "execution_count": 8,
     "metadata": {},
     "output_type": "execute_result"
    }
   ],
   "source": [
    "rejection_data['updated_at']=pd.to_datetime(rejection_data['updated_at'],errors='coerce')\n",
    "rejection_data.head(5)"
   ]
  },
  {
   "cell_type": "code",
   "execution_count": 9,
   "metadata": {},
   "outputs": [
    {
     "data": {
      "text/plain": [
       "Timestamp('2025-04-30 00:00:00')"
      ]
     },
     "execution_count": 9,
     "metadata": {},
     "output_type": "execute_result"
    }
   ],
   "source": [
    "current_date = pd.Timestamp(datetime.now().date())\n",
    "current_date\n"
   ]
  },
  {
   "cell_type": "code",
   "execution_count": 10,
   "metadata": {},
   "outputs": [
    {
     "name": "stderr",
     "output_type": "stream",
     "text": [
      "c:\\ProgramData\\Anaconda3\\lib\\site-packages\\pandas\\core\\ops\\array_ops.py:73: FutureWarning: Comparison of Timestamp with datetime.date is deprecated in order to match the standard library behavior. In a future version these will be considered non-comparable. Use 'ts == pd.Timestamp(date)' or 'ts.date() == date' instead.\n",
      "  result = libops.scalar_compare(x.ravel(), y, op)\n"
     ]
    },
    {
     "data": {
      "text/plain": [
       "50741"
      ]
     },
     "execution_count": 10,
     "metadata": {},
     "output_type": "execute_result"
    }
   ],
   "source": [
    "rejection_data=rejection_data[rejection_data['updated_at'].dt.date != current_date]\n",
    "len(rejection_data)"
   ]
  },
  {
   "cell_type": "code",
   "execution_count": 11,
   "metadata": {},
   "outputs": [
    {
     "data": {
      "text/plain": [
       "array([nan, 'ACCOUNT_UPGRADE_LENDING', 'ACCOUNT_UPGRADE', 'KYC_UPDATE',\n",
       "       'DIY', 'PROFILE_UPDATE'], dtype=object)"
      ]
     },
     "execution_count": 11,
     "metadata": {},
     "output_type": "execute_result"
    }
   ],
   "source": [
    "rejection_data['solution_type_level_3'].unique()"
   ]
  },
  {
   "cell_type": "code",
   "execution_count": 12,
   "metadata": {},
   "outputs": [
    {
     "data": {
      "text/plain": [
       "array([nan, 'ACCOUNT_UPGRADE_LENDING', 'ACCOUNT_UPGRADE', 'KYC_UPDATE',\n",
       "       'DIY', 'PROFILE_UPDATE'], dtype=object)"
      ]
     },
     "execution_count": 12,
     "metadata": {},
     "output_type": "execute_result"
    }
   ],
   "source": [
    "rejection_data=rejection_data[rejection_data['solution_type_level_3']!='YBL_LIMIT_ENHANCEMENT']\n",
    "\n",
    "rejection_data['solution_type_level_3'].unique()"
   ]
  },
  {
   "cell_type": "code",
   "execution_count": 13,
   "metadata": {},
   "outputs": [
    {
     "data": {
      "text/plain": [
       "array([nan, 'ACCOUNT_UPGRADE', 'KYC_UPDATE', 'DIY'], dtype=object)"
      ]
     },
     "execution_count": 13,
     "metadata": {},
     "output_type": "execute_result"
    }
   ],
   "source": [
    "rejection_data['solution_type_level_3']=rejection_data['solution_type_level_3'].replace(['ACCOUNT_UPGRADE_LENDING','PROFILE_UPDATE'],'ACCOUNT_UPGRADE')\n",
    "\n",
    "rejection_data['solution_type_level_3'].unique()"
   ]
  },
  {
   "cell_type": "code",
   "execution_count": 14,
   "metadata": {},
   "outputs": [
    {
     "data": {
      "text/plain": [
       "ACCOUNT_UPGRADE    4210\n",
       "KYC_UPDATE         3498\n",
       "DIY                  11\n",
       "Name: solution_type_level_3, dtype: int64"
      ]
     },
     "execution_count": 14,
     "metadata": {},
     "output_type": "execute_result"
    }
   ],
   "source": [
    "rejection_data['solution_type_level_3'].value_counts()"
   ]
  },
  {
   "cell_type": "code",
   "execution_count": 15,
   "metadata": {},
   "outputs": [
    {
     "data": {
      "text/plain": [
       "INDIVIDUAL            34582\n",
       "PROPRIETORSHIP        14512\n",
       "NON_PROPRIETORSHIP     1647\n",
       "Name: entity_type, dtype: int64"
      ]
     },
     "execution_count": 15,
     "metadata": {},
     "output_type": "execute_result"
    }
   ],
   "source": [
    "rejection_data.loc[~rejection_data['entity_type'].isin(['INDIVIDUAL','PROPRIETORSHIP']),'entity_type']='NON_PROPRIETORSHIP'\n",
    "rejection_data['entity_type'].value_counts()"
   ]
  },
  {
   "cell_type": "code",
   "execution_count": 16,
   "metadata": {},
   "outputs": [
    {
     "data": {
      "text/plain": [
       "ACCOUNT_UPGRADE    4210\n",
       "KYC_UPDATE         3498\n",
       "Name: solution_type_level_3, dtype: int64"
      ]
     },
     "execution_count": 16,
     "metadata": {},
     "output_type": "execute_result"
    }
   ],
   "source": [
    "kyc_acc_rejection=rejection_data[rejection_data[\"solution_type_level_3\"].isin([\"ACCOUNT_UPGRADE\",\"KYC_UPDATE\"])]\n",
    "kyc_acc_rejection['solution_type_level_3'].value_counts()\n"
   ]
  },
  {
   "cell_type": "code",
   "execution_count": 17,
   "metadata": {},
   "outputs": [
    {
     "data": {
      "text/plain": [
       "43033"
      ]
     },
     "execution_count": 17,
     "metadata": {},
     "output_type": "execute_result"
    }
   ],
   "source": [
    "mco_rejection=rejection_data[~rejection_data[\"solution_type_level_3\"].isin([\"ACCOUNT_UPGRADE\",\"KYC_UPDATE\"])]\n",
    "len(mco_rejection)"
   ]
  },
  {
   "cell_type": "code",
   "execution_count": 18,
   "metadata": {},
   "outputs": [
    {
     "data": {
      "text/plain": [
       "Index(['cust_id', 'lead_id', 'entity_type', 'entuty_type_1',\n",
       "       'rejected_field_reason', 'rejected_field_name', 'updated_at',\n",
       "       'solution_type', 'solution_type_level_2', 'solution_type_level_3',\n",
       "       'FSE_Ecode'],\n",
       "      dtype='object')"
      ]
     },
     "execution_count": 18,
     "metadata": {},
     "output_type": "execute_result"
    }
   ],
   "source": [
    "kyc_acc_rejection.insert(kyc_acc_rejection.columns.get_loc('entity_type')+1,'entuty_type_1',np.nan)\n",
    "kyc_acc_rejection.columns"
   ]
  },
  {
   "cell_type": "code",
   "execution_count": 19,
   "metadata": {},
   "outputs": [
    {
     "name": "stderr",
     "output_type": "stream",
     "text": [
      "C:\\Users\\avnish1.yadav\\AppData\\Local\\Temp\\ipykernel_28188\\272290521.py:1: SettingWithCopyWarning: \n",
      "A value is trying to be set on a copy of a slice from a DataFrame.\n",
      "Try using .loc[row_indexer,col_indexer] = value instead\n",
      "\n",
      "See the caveats in the documentation: https://pandas.pydata.org/pandas-docs/stable/user_guide/indexing.html#returning-a-view-versus-a-copy\n",
      "  kyc_acc_rejection.loc[:, 'entuty_type_1'] = kyc_acc_rejection['entity_type']\n"
     ]
    },
    {
     "data": {
      "text/plain": [
       "PROPRIETORSHIP        5897\n",
       "INDIVIDUAL            1713\n",
       "NON_PROPRIETORSHIP      98\n",
       "Name: entuty_type_1, dtype: int64"
      ]
     },
     "execution_count": 19,
     "metadata": {},
     "output_type": "execute_result"
    }
   ],
   "source": [
    "kyc_acc_rejection.loc[:, 'entuty_type_1'] = kyc_acc_rejection['entity_type']\n",
    "kyc_acc_rejection['entuty_type_1'].value_counts()"
   ]
  },
  {
   "cell_type": "code",
   "execution_count": 20,
   "metadata": {},
   "outputs": [
    {
     "name": "stderr",
     "output_type": "stream",
     "text": [
      "C:\\Users\\avnish1.yadav\\AppData\\Local\\Temp\\ipykernel_28188\\2156595060.py:1: SettingWithCopyWarning: \n",
      "A value is trying to be set on a copy of a slice from a DataFrame.\n",
      "Try using .loc[row_indexer,col_indexer] = value instead\n",
      "\n",
      "See the caveats in the documentation: https://pandas.pydata.org/pandas-docs/stable/user_guide/indexing.html#returning-a-view-versus-a-copy\n",
      "  kyc_acc_rejection['entuty_type_1']=kyc_acc_rejection['entuty_type_1'].replace(['PROPRIETORSHIP','NON_PROPRIETORSHIP'],'NON_EDC')\n"
     ]
    },
    {
     "data": {
      "text/plain": [
       "NON_EDC       5995\n",
       "INDIVIDUAL    1713\n",
       "Name: entuty_type_1, dtype: int64"
      ]
     },
     "execution_count": 20,
     "metadata": {},
     "output_type": "execute_result"
    }
   ],
   "source": [
    "kyc_acc_rejection['entuty_type_1']=kyc_acc_rejection['entuty_type_1'].replace(['PROPRIETORSHIP','NON_PROPRIETORSHIP'],'NON_EDC')\n",
    "kyc_acc_rejection['entuty_type_1'].value_counts()"
   ]
  },
  {
   "cell_type": "code",
   "execution_count": 21,
   "metadata": {},
   "outputs": [
    {
     "data": {
      "text/plain": [
       "Index(['cust_id', 'lead_id', 'entity_type', 'entuty_type_1',\n",
       "       'rejected_field_reason', 'rejected_field_name', 'updated_at',\n",
       "       'solution_type', 'solution_type_level_3', 'FSE_Ecode'],\n",
       "      dtype='object')"
      ]
     },
     "execution_count": 21,
     "metadata": {},
     "output_type": "execute_result"
    }
   ],
   "source": [
    "kyc_acc_rejection=kyc_acc_rejection.drop(columns=['solution_type_level_2'])\n",
    "kyc_acc_rejection.columns"
   ]
  },
  {
   "cell_type": "code",
   "execution_count": 22,
   "metadata": {},
   "outputs": [],
   "source": [
    "kyc_acc_rejection=pd.merge(kyc_acc_rejection,data,left_on='lead_id',right_on='Lead_ID',how='left')\n",
    "kyc_acc_rejection=kyc_acc_rejection.drop(columns=['Lead_ID'])"
   ]
  },
  {
   "cell_type": "code",
   "execution_count": 23,
   "metadata": {},
   "outputs": [
    {
     "data": {
      "text/plain": [
       "Index(['cust_id', 'lead_id', 'entity_type', 'entuty_type_1',\n",
       "       'rejected_field_reason', 'rejected_field_name', 'updated_at',\n",
       "       'solution_type', 'solution_type_level_3_x', 'FSE_Ecode',\n",
       "       'Product_Context', 'Stage movement count', 'solution_type_level_3_y'],\n",
       "      dtype='object')"
      ]
     },
     "execution_count": 23,
     "metadata": {},
     "output_type": "execute_result"
    }
   ],
   "source": [
    "kyc_acc_rejection.columns"
   ]
  },
  {
   "cell_type": "code",
   "execution_count": 24,
   "metadata": {},
   "outputs": [],
   "source": [
    "kyc_acc_rejection.loc[kyc_acc_rejection['solution_type_level_3_y']=='3P FSE','solution_type_level_3_x']='3P FSE'"
   ]
  },
  {
   "cell_type": "code",
   "execution_count": 25,
   "metadata": {},
   "outputs": [
    {
     "data": {
      "text/plain": [
       "ACCOUNT_UPGRADE    4210\n",
       "KYC_UPDATE         3322\n",
       "3P FSE              176\n",
       "Name: solution_type_level_3_x, dtype: int64"
      ]
     },
     "execution_count": 25,
     "metadata": {},
     "output_type": "execute_result"
    }
   ],
   "source": [
    "kyc_acc_rejection['solution_type_level_3_x'].value_counts()"
   ]
  },
  {
   "cell_type": "code",
   "execution_count": 26,
   "metadata": {},
   "outputs": [
    {
     "data": {
      "text/plain": [
       "Index(['cust_id', 'lead_id', 'entity_type', 'entuty_type_1',\n",
       "       'rejected_field_reason', 'rejected_field_name', 'updated_at',\n",
       "       'solution_type', 'solution_type_level_3_x', 'FSE_Ecode',\n",
       "       'Product_Context', 'Stage movement count', 'solution_type_level_3_y'],\n",
       "      dtype='object')"
      ]
     },
     "execution_count": 26,
     "metadata": {},
     "output_type": "execute_result"
    }
   ],
   "source": [
    "kyc_acc_rejection.columns"
   ]
  },
  {
   "cell_type": "code",
   "execution_count": 27,
   "metadata": {},
   "outputs": [
    {
     "data": {
      "text/plain": [
       "Index(['cust_id', 'lead_id', 'entity_type', 'entuty_type_1',\n",
       "       'rejected_field_reason', 'rejected_field_name', 'updated_at',\n",
       "       'solution_type', 'solution_type_level_3_x', 'Product_Context',\n",
       "       'Stage movement count', 'solution_type_level_3_y'],\n",
       "      dtype='object')"
      ]
     },
     "execution_count": 27,
     "metadata": {},
     "output_type": "execute_result"
    }
   ],
   "source": [
    "kyc_acc_rejection = kyc_acc_rejection.drop(columns=['FSE_Ecode'])\n",
    "kyc_acc_rejection.columns\n"
   ]
  },
  {
   "cell_type": "code",
   "execution_count": 28,
   "metadata": {},
   "outputs": [
    {
     "data": {
      "text/plain": [
       "Index(['cust_id', 'lead_id', 'entity_type', 'rejected_field_reason',\n",
       "       'rejected_field_name', 'updated_at', 'solution_type_level_3',\n",
       "       'FSE_Ecode'],\n",
       "      dtype='object')"
      ]
     },
     "execution_count": 28,
     "metadata": {},
     "output_type": "execute_result"
    }
   ],
   "source": [
    "mco_rejection=mco_rejection.drop(columns=['solution_type_level_2','solution_type'])\n",
    "mco_rejection.columns"
   ]
  },
  {
   "cell_type": "code",
   "execution_count": 29,
   "metadata": {},
   "outputs": [],
   "source": [
    "mco_rejection.insert(mco_rejection.columns.get_loc('entity_type')+1,'entuty_type_1',np.nan)\n",
    "mco_rejection.insert(mco_rejection.columns.get_loc('entuty_type_1')+1,'Product_Context',np.nan)\n",
    "mco_rejection.insert(mco_rejection.columns.get_loc('rejected_field_name')+1,'Stage movement count',np.nan)"
   ]
  },
  {
   "cell_type": "code",
   "execution_count": 30,
   "metadata": {},
   "outputs": [],
   "source": [
    "mco_rejection=pd.merge(mco_rejection,data,left_on='lead_id',right_on='Lead_ID',how='left')\n",
    "mco_rejection=mco_rejection.drop(columns=['Lead_ID'])"
   ]
  },
  {
   "cell_type": "code",
   "execution_count": 31,
   "metadata": {},
   "outputs": [
    {
     "data": {
      "text/plain": [
       "Index(['cust_id', 'lead_id', 'entity_type', 'entuty_type_1',\n",
       "       'Product_Context_x', 'rejected_field_reason', 'rejected_field_name',\n",
       "       'Stage movement count_x', 'updated_at', 'solution_type_level_3_x',\n",
       "       'FSE_Ecode', 'Product_Context_y', 'Stage movement count_y',\n",
       "       'solution_type_level_3_y'],\n",
       "      dtype='object')"
      ]
     },
     "execution_count": 31,
     "metadata": {},
     "output_type": "execute_result"
    }
   ],
   "source": [
    "mco_rejection.columns"
   ]
  },
  {
   "cell_type": "code",
   "execution_count": 32,
   "metadata": {},
   "outputs": [],
   "source": [
    "mco_rejection['Product_Context_x']=mco_rejection['Product_Context_y']\n",
    "mco_rejection['Stage movement count_x']=mco_rejection['Stage movement count_y']\n",
    "mco_rejection['entuty_type_1']=mco_rejection['entity_type']\n",
    "mco_rejection=mco_rejection.drop(columns=['Product_Context_y','Stage movement count_y'])"
   ]
  },
  {
   "cell_type": "code",
   "execution_count": 33,
   "metadata": {},
   "outputs": [],
   "source": [
    "mco_rejection.loc[mco_rejection['entuty_type_1'].isin(['PROPRIETORSHIP','NON_PROPRIETORSHIP']),'entuty_type_1']=mco_rejection['Product_Context_x']\n"
   ]
  },
  {
   "cell_type": "code",
   "execution_count": 34,
   "metadata": {},
   "outputs": [
    {
     "data": {
      "text/html": [
       "<div>\n",
       "<style scoped>\n",
       "    .dataframe tbody tr th:only-of-type {\n",
       "        vertical-align: middle;\n",
       "    }\n",
       "\n",
       "    .dataframe tbody tr th {\n",
       "        vertical-align: top;\n",
       "    }\n",
       "\n",
       "    .dataframe thead th {\n",
       "        text-align: right;\n",
       "    }\n",
       "</style>\n",
       "<table border=\"1\" class=\"dataframe\">\n",
       "  <thead>\n",
       "    <tr style=\"text-align: right;\">\n",
       "      <th></th>\n",
       "      <th>cust_id</th>\n",
       "      <th>lead_id</th>\n",
       "      <th>entity_type</th>\n",
       "      <th>entuty_type_1</th>\n",
       "      <th>Product_Context_x</th>\n",
       "      <th>rejected_field_reason</th>\n",
       "      <th>rejected_field_name</th>\n",
       "      <th>Stage movement count_x</th>\n",
       "      <th>updated_at</th>\n",
       "      <th>solution_type_level_3_x</th>\n",
       "      <th>FSE_Ecode</th>\n",
       "      <th>solution_type_level_3_y</th>\n",
       "    </tr>\n",
       "  </thead>\n",
       "  <tbody>\n",
       "    <tr>\n",
       "      <th>0</th>\n",
       "      <td>1487746109</td>\n",
       "      <td>27f71d14-cc8e-4e87-8648-47c60047d566</td>\n",
       "      <td>NON_PROPRIETORSHIP</td>\n",
       "      <td>NON_EDC</td>\n",
       "      <td>NON_EDC</td>\n",
       "      <td>Declaration not attached</td>\n",
       "      <td>authSignatoryDeclaration</td>\n",
       "      <td>{\"QC_REJECTED\":2}</td>\n",
       "      <td>2025-04-04 12:59:32</td>\n",
       "      <td>NaN</td>\n",
       "      <td>10221391</td>\n",
       "      <td>NaN</td>\n",
       "    </tr>\n",
       "    <tr>\n",
       "      <th>1</th>\n",
       "      <td>1487746109</td>\n",
       "      <td>27f71d14-cc8e-4e87-8648-47c60047d566</td>\n",
       "      <td>NON_PROPRIETORSHIP</td>\n",
       "      <td>NON_EDC</td>\n",
       "      <td>NON_EDC</td>\n",
       "      <td>Grey LoB without license</td>\n",
       "      <td>shopFrontPhoto</td>\n",
       "      <td>{\"QC_REJECTED\":2}</td>\n",
       "      <td>2025-04-04 12:59:32</td>\n",
       "      <td>NaN</td>\n",
       "      <td>10221391</td>\n",
       "      <td>NaN</td>\n",
       "    </tr>\n",
       "    <tr>\n",
       "      <th>2</th>\n",
       "      <td>1487746109</td>\n",
       "      <td>27f71d14-cc8e-4e87-8648-47c60047d566</td>\n",
       "      <td>NON_PROPRIETORSHIP</td>\n",
       "      <td>NON_EDC</td>\n",
       "      <td>NON_EDC</td>\n",
       "      <td>Government/Notary seal and signatures missing</td>\n",
       "      <td>PartnershipDeed</td>\n",
       "      <td>{\"QC_REJECTED\":2}</td>\n",
       "      <td>2025-04-04 12:59:32</td>\n",
       "      <td>NaN</td>\n",
       "      <td>10221391</td>\n",
       "      <td>NaN</td>\n",
       "    </tr>\n",
       "    <tr>\n",
       "      <th>3</th>\n",
       "      <td>1487746109</td>\n",
       "      <td>27f71d14-cc8e-4e87-8648-47c60047d566</td>\n",
       "      <td>NON_PROPRIETORSHIP</td>\n",
       "      <td>NON_EDC</td>\n",
       "      <td>NON_EDC</td>\n",
       "      <td>Random Document/Edited Document Provided</td>\n",
       "      <td>auditedFinancials</td>\n",
       "      <td>{\"QC_REJECTED\":2}</td>\n",
       "      <td>2025-04-04 12:59:32</td>\n",
       "      <td>NaN</td>\n",
       "      <td>10221391</td>\n",
       "      <td>NaN</td>\n",
       "    </tr>\n",
       "    <tr>\n",
       "      <th>4</th>\n",
       "      <td>1949853375</td>\n",
       "      <td>9a7e2605-3c7a-4f89-9fe1-8aae74470256</td>\n",
       "      <td>INDIVIDUAL</td>\n",
       "      <td>INDIVIDUAL</td>\n",
       "      <td>NON_EDC</td>\n",
       "      <td>Aadhar image not clear</td>\n",
       "      <td>aadhaar</td>\n",
       "      <td>{\"QC_REJECTED\":2}</td>\n",
       "      <td>2025-04-22 15:56:53</td>\n",
       "      <td>NaN</td>\n",
       "      <td>41743</td>\n",
       "      <td>NaN</td>\n",
       "    </tr>\n",
       "  </tbody>\n",
       "</table>\n",
       "</div>"
      ],
      "text/plain": [
       "      cust_id                               lead_id         entity_type  \\\n",
       "0  1487746109  27f71d14-cc8e-4e87-8648-47c60047d566  NON_PROPRIETORSHIP   \n",
       "1  1487746109  27f71d14-cc8e-4e87-8648-47c60047d566  NON_PROPRIETORSHIP   \n",
       "2  1487746109  27f71d14-cc8e-4e87-8648-47c60047d566  NON_PROPRIETORSHIP   \n",
       "3  1487746109  27f71d14-cc8e-4e87-8648-47c60047d566  NON_PROPRIETORSHIP   \n",
       "4  1949853375  9a7e2605-3c7a-4f89-9fe1-8aae74470256          INDIVIDUAL   \n",
       "\n",
       "  entuty_type_1 Product_Context_x  \\\n",
       "0       NON_EDC           NON_EDC   \n",
       "1       NON_EDC           NON_EDC   \n",
       "2       NON_EDC           NON_EDC   \n",
       "3       NON_EDC           NON_EDC   \n",
       "4    INDIVIDUAL           NON_EDC   \n",
       "\n",
       "                           rejected_field_reason       rejected_field_name  \\\n",
       "0                       Declaration not attached  authSignatoryDeclaration   \n",
       "1                       Grey LoB without license            shopFrontPhoto   \n",
       "2  Government/Notary seal and signatures missing           PartnershipDeed   \n",
       "3       Random Document/Edited Document Provided         auditedFinancials   \n",
       "4                         Aadhar image not clear                   aadhaar   \n",
       "\n",
       "  Stage movement count_x          updated_at solution_type_level_3_x  \\\n",
       "0      {\"QC_REJECTED\":2} 2025-04-04 12:59:32                     NaN   \n",
       "1      {\"QC_REJECTED\":2} 2025-04-04 12:59:32                     NaN   \n",
       "2      {\"QC_REJECTED\":2} 2025-04-04 12:59:32                     NaN   \n",
       "3      {\"QC_REJECTED\":2} 2025-04-04 12:59:32                     NaN   \n",
       "4      {\"QC_REJECTED\":2} 2025-04-22 15:56:53                     NaN   \n",
       "\n",
       "  FSE_Ecode solution_type_level_3_y  \n",
       "0  10221391                     NaN  \n",
       "1  10221391                     NaN  \n",
       "2  10221391                     NaN  \n",
       "3  10221391                     NaN  \n",
       "4     41743                     NaN  "
      ]
     },
     "execution_count": 34,
     "metadata": {},
     "output_type": "execute_result"
    }
   ],
   "source": [
    "mco_rejection.head(5)"
   ]
  },
  {
   "cell_type": "code",
   "execution_count": 35,
   "metadata": {},
   "outputs": [
    {
     "data": {
      "text/html": [
       "<div>\n",
       "<style scoped>\n",
       "    .dataframe tbody tr th:only-of-type {\n",
       "        vertical-align: middle;\n",
       "    }\n",
       "\n",
       "    .dataframe tbody tr th {\n",
       "        vertical-align: top;\n",
       "    }\n",
       "\n",
       "    .dataframe thead th {\n",
       "        text-align: right;\n",
       "    }\n",
       "</style>\n",
       "<table border=\"1\" class=\"dataframe\">\n",
       "  <thead>\n",
       "    <tr style=\"text-align: right;\">\n",
       "      <th></th>\n",
       "      <th>cust_id</th>\n",
       "      <th>lead_id</th>\n",
       "      <th>entity_type</th>\n",
       "      <th>entuty_type_1</th>\n",
       "      <th>rejected_field_reason</th>\n",
       "      <th>rejected_field_name</th>\n",
       "      <th>updated_at</th>\n",
       "      <th>solution_type</th>\n",
       "      <th>solution_type_level_3_x</th>\n",
       "      <th>Product_Context</th>\n",
       "      <th>Stage movement count</th>\n",
       "      <th>solution_type_level_3_y</th>\n",
       "    </tr>\n",
       "  </thead>\n",
       "  <tbody>\n",
       "    <tr>\n",
       "      <th>0</th>\n",
       "      <td>1285561550</td>\n",
       "      <td>696d20cc-169a-465a-bfc2-246554c920b1</td>\n",
       "      <td>PROPRIETORSHIP</td>\n",
       "      <td>NON_EDC</td>\n",
       "      <td>Category mismatch between shop photo and busin...</td>\n",
       "      <td>shopFrontPhoto</td>\n",
       "      <td>2025-04-16 18:30:37</td>\n",
       "      <td>merchant_common_onboard</td>\n",
       "      <td>ACCOUNT_UPGRADE</td>\n",
       "      <td>NON_EDC</td>\n",
       "      <td>{\"QC_REJECTED\":5}</td>\n",
       "      <td>ACCOUNT_UPGRADE</td>\n",
       "    </tr>\n",
       "    <tr>\n",
       "      <th>1</th>\n",
       "      <td>1285561550</td>\n",
       "      <td>696d20cc-169a-465a-bfc2-246554c920b1</td>\n",
       "      <td>PROPRIETORSHIP</td>\n",
       "      <td>NON_EDC</td>\n",
       "      <td>Line of business mismatch with Shop photo Line...</td>\n",
       "      <td>udyam_udhyog_aadhaar</td>\n",
       "      <td>2025-04-16 18:30:37</td>\n",
       "      <td>merchant_common_onboard</td>\n",
       "      <td>ACCOUNT_UPGRADE</td>\n",
       "      <td>NON_EDC</td>\n",
       "      <td>{\"QC_REJECTED\":5}</td>\n",
       "      <td>ACCOUNT_UPGRADE</td>\n",
       "    </tr>\n",
       "    <tr>\n",
       "      <th>2</th>\n",
       "      <td>301634008</td>\n",
       "      <td>df484756-d350-421a-b87c-bcfda035f249</td>\n",
       "      <td>PROPRIETORSHIP</td>\n",
       "      <td>NON_EDC</td>\n",
       "      <td>Grey LoB without license</td>\n",
       "      <td>shopFrontPhoto</td>\n",
       "      <td>2025-04-10 17:48:48</td>\n",
       "      <td>merchant_common_onboard</td>\n",
       "      <td>ACCOUNT_UPGRADE</td>\n",
       "      <td>NON_EDC</td>\n",
       "      <td>{\"QC_REJECTED\":1}</td>\n",
       "      <td>ACCOUNT_UPGRADE</td>\n",
       "    </tr>\n",
       "    <tr>\n",
       "      <th>3</th>\n",
       "      <td>301634008</td>\n",
       "      <td>df484756-d350-421a-b87c-bcfda035f249</td>\n",
       "      <td>PROPRIETORSHIP</td>\n",
       "      <td>NON_EDC</td>\n",
       "      <td>Document not legible</td>\n",
       "      <td>fdaLicense</td>\n",
       "      <td>2025-04-10 17:48:48</td>\n",
       "      <td>merchant_common_onboard</td>\n",
       "      <td>ACCOUNT_UPGRADE</td>\n",
       "      <td>NON_EDC</td>\n",
       "      <td>{\"QC_REJECTED\":1}</td>\n",
       "      <td>ACCOUNT_UPGRADE</td>\n",
       "    </tr>\n",
       "    <tr>\n",
       "      <th>4</th>\n",
       "      <td>301634008</td>\n",
       "      <td>df484756-d350-421a-b87c-bcfda035f249</td>\n",
       "      <td>PROPRIETORSHIP</td>\n",
       "      <td>NON_EDC</td>\n",
       "      <td>Proprietor name mismatch with NSDL name</td>\n",
       "      <td>drugLicense_OnlineVerifiable</td>\n",
       "      <td>2025-04-10 17:48:48</td>\n",
       "      <td>merchant_common_onboard</td>\n",
       "      <td>ACCOUNT_UPGRADE</td>\n",
       "      <td>NON_EDC</td>\n",
       "      <td>{\"QC_REJECTED\":1}</td>\n",
       "      <td>ACCOUNT_UPGRADE</td>\n",
       "    </tr>\n",
       "  </tbody>\n",
       "</table>\n",
       "</div>"
      ],
      "text/plain": [
       "      cust_id                               lead_id     entity_type  \\\n",
       "0  1285561550  696d20cc-169a-465a-bfc2-246554c920b1  PROPRIETORSHIP   \n",
       "1  1285561550  696d20cc-169a-465a-bfc2-246554c920b1  PROPRIETORSHIP   \n",
       "2   301634008  df484756-d350-421a-b87c-bcfda035f249  PROPRIETORSHIP   \n",
       "3   301634008  df484756-d350-421a-b87c-bcfda035f249  PROPRIETORSHIP   \n",
       "4   301634008  df484756-d350-421a-b87c-bcfda035f249  PROPRIETORSHIP   \n",
       "\n",
       "  entuty_type_1                              rejected_field_reason  \\\n",
       "0       NON_EDC  Category mismatch between shop photo and busin...   \n",
       "1       NON_EDC  Line of business mismatch with Shop photo Line...   \n",
       "2       NON_EDC                           Grey LoB without license   \n",
       "3       NON_EDC                               Document not legible   \n",
       "4       NON_EDC            Proprietor name mismatch with NSDL name   \n",
       "\n",
       "            rejected_field_name          updated_at            solution_type  \\\n",
       "0                shopFrontPhoto 2025-04-16 18:30:37  merchant_common_onboard   \n",
       "1          udyam_udhyog_aadhaar 2025-04-16 18:30:37  merchant_common_onboard   \n",
       "2                shopFrontPhoto 2025-04-10 17:48:48  merchant_common_onboard   \n",
       "3                    fdaLicense 2025-04-10 17:48:48  merchant_common_onboard   \n",
       "4  drugLicense_OnlineVerifiable 2025-04-10 17:48:48  merchant_common_onboard   \n",
       "\n",
       "  solution_type_level_3_x Product_Context Stage movement count  \\\n",
       "0         ACCOUNT_UPGRADE         NON_EDC    {\"QC_REJECTED\":5}   \n",
       "1         ACCOUNT_UPGRADE         NON_EDC    {\"QC_REJECTED\":5}   \n",
       "2         ACCOUNT_UPGRADE         NON_EDC    {\"QC_REJECTED\":1}   \n",
       "3         ACCOUNT_UPGRADE         NON_EDC    {\"QC_REJECTED\":1}   \n",
       "4         ACCOUNT_UPGRADE         NON_EDC    {\"QC_REJECTED\":1}   \n",
       "\n",
       "  solution_type_level_3_y  \n",
       "0         ACCOUNT_UPGRADE  \n",
       "1         ACCOUNT_UPGRADE  \n",
       "2         ACCOUNT_UPGRADE  \n",
       "3         ACCOUNT_UPGRADE  \n",
       "4         ACCOUNT_UPGRADE  "
      ]
     },
     "execution_count": 35,
     "metadata": {},
     "output_type": "execute_result"
    }
   ],
   "source": [
    "kyc_acc_rejection.head(5)"
   ]
  },
  {
   "cell_type": "code",
   "execution_count": 36,
   "metadata": {},
   "outputs": [],
   "source": [
    "#mco_rejection=mco_rejection.drop(columns=['solution_type_level_3_y'])\n",
    "kyc_acc_rejection=kyc_acc_rejection.drop(columns=['Product_Context', 'Stage movement count', 'solution_type_level_3_y'])"
   ]
  },
  {
   "cell_type": "code",
   "execution_count": 37,
   "metadata": {},
   "outputs": [
    {
     "data": {
      "text/plain": [
       "Index(['cust_id', 'lead_id', 'entity_type', 'entuty_type_1',\n",
       "       'rejected_field_reason', 'rejected_field_name', 'updated_at',\n",
       "       'solution_type', 'solution_type_level_3_x'],\n",
       "      dtype='object')"
      ]
     },
     "execution_count": 37,
     "metadata": {},
     "output_type": "execute_result"
    }
   ],
   "source": [
    "kyc_acc_rejection.columns"
   ]
  },
  {
   "cell_type": "code",
   "execution_count": 38,
   "metadata": {},
   "outputs": [],
   "source": [
    "mco_rejection=mco_rejection.drop(columns=['solution_type_level_3_x', 'solution_type_level_3_y'])"
   ]
  },
  {
   "cell_type": "code",
   "execution_count": 39,
   "metadata": {},
   "outputs": [
    {
     "data": {
      "text/plain": [
       "Index(['cust_id', 'lead_id', 'entity_type', 'entuty_type_1',\n",
       "       'Product_Context_x', 'rejected_field_reason', 'rejected_field_name',\n",
       "       'Stage movement count_x', 'updated_at', 'FSE_Ecode'],\n",
       "      dtype='object')"
      ]
     },
     "execution_count": 39,
     "metadata": {},
     "output_type": "execute_result"
    }
   ],
   "source": [
    "mco_rejection.columns"
   ]
  },
  {
   "cell_type": "code",
   "execution_count": 40,
   "metadata": {},
   "outputs": [
    {
     "data": {
      "text/plain": [
       "43035"
      ]
     },
     "execution_count": 40,
     "metadata": {},
     "output_type": "execute_result"
    }
   ],
   "source": [
    "len(mco_rejection)"
   ]
  },
  {
   "cell_type": "code",
   "execution_count": 41,
   "metadata": {},
   "outputs": [
    {
     "data": {
      "text/plain": [
       "5756"
      ]
     },
     "execution_count": 41,
     "metadata": {},
     "output_type": "execute_result"
    }
   ],
   "source": [
    "mco_rejection['Product_Context_x'].isna().sum()"
   ]
  },
  {
   "cell_type": "code",
   "execution_count": 42,
   "metadata": {},
   "outputs": [
    {
     "data": {
      "text/plain": [
       "37279"
      ]
     },
     "execution_count": 42,
     "metadata": {},
     "output_type": "execute_result"
    }
   ],
   "source": [
    "mco_rejection = mco_rejection.dropna(subset=['Product_Context_x'])\n",
    "len(mco_rejection)"
   ]
  },
  {
   "cell_type": "code",
   "execution_count": 43,
   "metadata": {},
   "outputs": [],
   "source": [
    "kyc_acc_rejection.to_csv(kyc_acc_output_file, index=False)\n",
    "mco_rejection.to_csv(mco_output_file, index=False)"
   ]
  },
  {
   "cell_type": "code",
   "execution_count": null,
   "metadata": {},
   "outputs": [],
   "source": []
  },
  {
   "cell_type": "code",
   "execution_count": null,
   "metadata": {},
   "outputs": [],
   "source": []
  }
 ],
 "metadata": {
  "kernelspec": {
   "display_name": "base",
   "language": "python",
   "name": "python3"
  },
  "language_info": {
   "codemirror_mode": {
    "name": "ipython",
    "version": 3
   },
   "file_extension": ".py",
   "mimetype": "text/x-python",
   "name": "python",
   "nbconvert_exporter": "python",
   "pygments_lexer": "ipython3",
   "version": "3.9.12"
  }
 },
 "nbformat": 4,
 "nbformat_minor": 2
}
