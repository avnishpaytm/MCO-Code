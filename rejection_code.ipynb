{
 "cells": [
  {
   "cell_type": "code",
   "execution_count": 1,
   "metadata": {},
   "outputs": [],
   "source": [
    "import pandas as pd\n",
    "import numpy as np\n",
    "from datetime import datetime, timedelta\n",
    "from datetime import time\n",
    "import os\n"
   ]
  },
  {
   "cell_type": "code",
   "execution_count": 2,
   "metadata": {},
   "outputs": [],
   "source": [
    "data=\"all_flow_data_13th May'25.csv\"\n",
    "input_file=\"rejection_reason_14-MAy'25.csv\"\n",
    "mco_output_file=\"MCO_Rejection_13th May'25.csv\"\n",
    "kyc_acc_output_file=\"KYC_ACC_Rejection_13th May'25.csv\"\n"
   ]
  },
  {
   "cell_type": "code",
   "execution_count": 3,
   "metadata": {},
   "outputs": [],
   "source": [
    "#data=\"all_flow_data_31st Mar'25.csv\"\n",
    "#input_file=\"mco_all_rejection_01st April.csv\"\n",
    "#mco_output_file=\"MCO_all_Rejection_31st Mar'25.csv\"\n",
    "#kyc_acc_output_file=\"KYC_all_ACC_Rejection_31st Mar'25.csv\"\n"
   ]
  },
  {
   "cell_type": "code",
   "execution_count": 4,
   "metadata": {},
   "outputs": [
    {
     "data": {
      "text/plain": [
       "23610"
      ]
     },
     "execution_count": 4,
     "metadata": {},
     "output_type": "execute_result"
    }
   ],
   "source": [
    "rejection_data=pd.read_csv(input_file,memory_map=True)\n",
    "data=pd.read_csv(data,memory_map=True)\n",
    "len(rejection_data)"
   ]
  },
  {
   "cell_type": "code",
   "execution_count": 5,
   "metadata": {},
   "outputs": [
    {
     "data": {
      "text/html": [
       "<div>\n",
       "<style scoped>\n",
       "    .dataframe tbody tr th:only-of-type {\n",
       "        vertical-align: middle;\n",
       "    }\n",
       "\n",
       "    .dataframe tbody tr th {\n",
       "        vertical-align: top;\n",
       "    }\n",
       "\n",
       "    .dataframe thead th {\n",
       "        text-align: right;\n",
       "    }\n",
       "</style>\n",
       "<table border=\"1\" class=\"dataframe\">\n",
       "  <thead>\n",
       "    <tr style=\"text-align: right;\">\n",
       "      <th></th>\n",
       "      <th>cust_id</th>\n",
       "      <th>lead_id</th>\n",
       "      <th>entity_type</th>\n",
       "      <th>rejected_field_reason</th>\n",
       "      <th>rejected_field_name</th>\n",
       "      <th>updated_at</th>\n",
       "      <th>solution_type</th>\n",
       "      <th>solution_type_level_2</th>\n",
       "      <th>solution_type_level_3</th>\n",
       "      <th>FSE_Ecode</th>\n",
       "    </tr>\n",
       "  </thead>\n",
       "  <tbody>\n",
       "    <tr>\n",
       "      <th>0</th>\n",
       "      <td>1950723051</td>\n",
       "      <td>c71f0bfd-8acc-47ca-9cf2-87d5c5cbc2bb</td>\n",
       "      <td>INDIVIDUAL</td>\n",
       "      <td>Savings account  - Bank Account name does not ...</td>\n",
       "      <td>bankVerificationStatus</td>\n",
       "      <td>2025-05-07 12:31:38.000</td>\n",
       "      <td>merchant_common_onboard</td>\n",
       "      <td>NaN</td>\n",
       "      <td>NaN</td>\n",
       "      <td>10165748</td>\n",
       "    </tr>\n",
       "    <tr>\n",
       "      <th>1</th>\n",
       "      <td>1950723051</td>\n",
       "      <td>c71f0bfd-8acc-47ca-9cf2-87d5c5cbc2bb</td>\n",
       "      <td>INDIVIDUAL</td>\n",
       "      <td>Grey LoB without license</td>\n",
       "      <td>shopFrontPhoto</td>\n",
       "      <td>2025-05-07 12:31:38.000</td>\n",
       "      <td>merchant_common_onboard</td>\n",
       "      <td>NaN</td>\n",
       "      <td>NaN</td>\n",
       "      <td>10165748</td>\n",
       "    </tr>\n",
       "    <tr>\n",
       "      <th>2</th>\n",
       "      <td>1950851752</td>\n",
       "      <td>349658eb-2d99-4d44-bc7f-72ecf1b49d4b</td>\n",
       "      <td>TRUST</td>\n",
       "      <td>Government/Notary seal and signatures missing</td>\n",
       "      <td>TrustDeed</td>\n",
       "      <td>2025-05-10 14:48:25.000</td>\n",
       "      <td>merchant_common_onboard</td>\n",
       "      <td>NaN</td>\n",
       "      <td>NaN</td>\n",
       "      <td>10100155</td>\n",
       "    </tr>\n",
       "    <tr>\n",
       "      <th>3</th>\n",
       "      <td>1950851752</td>\n",
       "      <td>349658eb-2d99-4d44-bc7f-72ecf1b49d4b</td>\n",
       "      <td>TRUST</td>\n",
       "      <td>Grey LoB without license</td>\n",
       "      <td>shopFrontPhoto</td>\n",
       "      <td>2025-05-10 14:48:25.000</td>\n",
       "      <td>merchant_common_onboard</td>\n",
       "      <td>NaN</td>\n",
       "      <td>NaN</td>\n",
       "      <td>10100155</td>\n",
       "    </tr>\n",
       "    <tr>\n",
       "      <th>4</th>\n",
       "      <td>1304710673</td>\n",
       "      <td>d9e158a0-3a7c-44ad-98a7-22f8755edcce</td>\n",
       "      <td>PROPRIETORSHIP</td>\n",
       "      <td>Document expired, please upload another document</td>\n",
       "      <td>fssaiFoodLicense</td>\n",
       "      <td>2025-05-02 10:48:27.000</td>\n",
       "      <td>merchant_common_onboard</td>\n",
       "      <td>NaN</td>\n",
       "      <td>NaN</td>\n",
       "      <td>54025</td>\n",
       "    </tr>\n",
       "  </tbody>\n",
       "</table>\n",
       "</div>"
      ],
      "text/plain": [
       "      cust_id                               lead_id     entity_type  \\\n",
       "0  1950723051  c71f0bfd-8acc-47ca-9cf2-87d5c5cbc2bb      INDIVIDUAL   \n",
       "1  1950723051  c71f0bfd-8acc-47ca-9cf2-87d5c5cbc2bb      INDIVIDUAL   \n",
       "2  1950851752  349658eb-2d99-4d44-bc7f-72ecf1b49d4b           TRUST   \n",
       "3  1950851752  349658eb-2d99-4d44-bc7f-72ecf1b49d4b           TRUST   \n",
       "4  1304710673  d9e158a0-3a7c-44ad-98a7-22f8755edcce  PROPRIETORSHIP   \n",
       "\n",
       "                               rejected_field_reason     rejected_field_name  \\\n",
       "0  Savings account  - Bank Account name does not ...  bankVerificationStatus   \n",
       "1                           Grey LoB without license          shopFrontPhoto   \n",
       "2      Government/Notary seal and signatures missing               TrustDeed   \n",
       "3                           Grey LoB without license          shopFrontPhoto   \n",
       "4   Document expired, please upload another document        fssaiFoodLicense   \n",
       "\n",
       "                updated_at            solution_type  solution_type_level_2  \\\n",
       "0  2025-05-07 12:31:38.000  merchant_common_onboard                    NaN   \n",
       "1  2025-05-07 12:31:38.000  merchant_common_onboard                    NaN   \n",
       "2  2025-05-10 14:48:25.000  merchant_common_onboard                    NaN   \n",
       "3  2025-05-10 14:48:25.000  merchant_common_onboard                    NaN   \n",
       "4  2025-05-02 10:48:27.000  merchant_common_onboard                    NaN   \n",
       "\n",
       "  solution_type_level_3 FSE_Ecode  \n",
       "0                   NaN  10165748  \n",
       "1                   NaN  10165748  \n",
       "2                   NaN  10100155  \n",
       "3                   NaN  10100155  \n",
       "4                   NaN     54025  "
      ]
     },
     "execution_count": 5,
     "metadata": {},
     "output_type": "execute_result"
    }
   ],
   "source": [
    "rejection_data.head(5)"
   ]
  },
  {
   "cell_type": "code",
   "execution_count": 6,
   "metadata": {},
   "outputs": [
    {
     "data": {
      "text/html": [
       "<div>\n",
       "<style scoped>\n",
       "    .dataframe tbody tr th:only-of-type {\n",
       "        vertical-align: middle;\n",
       "    }\n",
       "\n",
       "    .dataframe tbody tr th {\n",
       "        vertical-align: top;\n",
       "    }\n",
       "\n",
       "    .dataframe thead th {\n",
       "        text-align: right;\n",
       "    }\n",
       "</style>\n",
       "<table border=\"1\" class=\"dataframe\">\n",
       "  <thead>\n",
       "    <tr style=\"text-align: right;\">\n",
       "      <th></th>\n",
       "      <th>Lead_ID</th>\n",
       "      <th>Product_Context</th>\n",
       "      <th>Stage movement count</th>\n",
       "      <th>solution_type_level_3</th>\n",
       "    </tr>\n",
       "  </thead>\n",
       "  <tbody>\n",
       "    <tr>\n",
       "      <th>0</th>\n",
       "      <td>09301547-f722-4109-aeae-4aacd808b0a2</td>\n",
       "      <td>NON_EDC</td>\n",
       "      <td>{\"PANEL_SUCCESS\":1}</td>\n",
       "      <td>NaN</td>\n",
       "    </tr>\n",
       "    <tr>\n",
       "      <th>1</th>\n",
       "      <td>396e0e0b-75eb-4838-a00b-eb5e4fa96923</td>\n",
       "      <td>NON_EDC</td>\n",
       "      <td>{\"PANEL_SUCCESS\":1}</td>\n",
       "      <td>NaN</td>\n",
       "    </tr>\n",
       "    <tr>\n",
       "      <th>2</th>\n",
       "      <td>f4e42f6c-2083-4602-9520-f3a45cd8763a</td>\n",
       "      <td>NON_EDC</td>\n",
       "      <td>{\"PANEL_SUCCESS\":1}</td>\n",
       "      <td>NaN</td>\n",
       "    </tr>\n",
       "    <tr>\n",
       "      <th>3</th>\n",
       "      <td>44312860-dbfe-4b2e-be91-3a4e964bbfa3</td>\n",
       "      <td>NON_EDC</td>\n",
       "      <td>{\"PANEL_SUCCESS\":1}</td>\n",
       "      <td>NaN</td>\n",
       "    </tr>\n",
       "    <tr>\n",
       "      <th>4</th>\n",
       "      <td>3f69fdcb-f639-48b3-b717-b4c5f107a805</td>\n",
       "      <td>NON_EDC</td>\n",
       "      <td>{\"QC_REJECTED\":2,\"PANEL_SUCCESS\":1}</td>\n",
       "      <td>NaN</td>\n",
       "    </tr>\n",
       "  </tbody>\n",
       "</table>\n",
       "</div>"
      ],
      "text/plain": [
       "                                Lead_ID Product_Context  \\\n",
       "0  09301547-f722-4109-aeae-4aacd808b0a2         NON_EDC   \n",
       "1  396e0e0b-75eb-4838-a00b-eb5e4fa96923         NON_EDC   \n",
       "2  f4e42f6c-2083-4602-9520-f3a45cd8763a         NON_EDC   \n",
       "3  44312860-dbfe-4b2e-be91-3a4e964bbfa3         NON_EDC   \n",
       "4  3f69fdcb-f639-48b3-b717-b4c5f107a805         NON_EDC   \n",
       "\n",
       "                  Stage movement count solution_type_level_3  \n",
       "0                  {\"PANEL_SUCCESS\":1}                   NaN  \n",
       "1                  {\"PANEL_SUCCESS\":1}                   NaN  \n",
       "2                  {\"PANEL_SUCCESS\":1}                   NaN  \n",
       "3                  {\"PANEL_SUCCESS\":1}                   NaN  \n",
       "4  {\"QC_REJECTED\":2,\"PANEL_SUCCESS\":1}                   NaN  "
      ]
     },
     "execution_count": 6,
     "metadata": {},
     "output_type": "execute_result"
    }
   ],
   "source": [
    "data=data[['Lead_ID','Product_Context','Stage movement count','solution_type_level_3']]\n",
    "data.head(5)"
   ]
  },
  {
   "cell_type": "code",
   "execution_count": 7,
   "metadata": {},
   "outputs": [
    {
     "data": {
      "text/plain": [
       "solution_type_level_3\n",
       "KYC_UPDATE         9287\n",
       "ACCOUNT_UPGRADE    4786\n",
       "3P FSE              338\n",
       "Name: count, dtype: int64"
      ]
     },
     "execution_count": 7,
     "metadata": {},
     "output_type": "execute_result"
    }
   ],
   "source": [
    "data['solution_type_level_3'].value_counts()"
   ]
  },
  {
   "cell_type": "code",
   "execution_count": 8,
   "metadata": {},
   "outputs": [
    {
     "data": {
      "text/html": [
       "<div>\n",
       "<style scoped>\n",
       "    .dataframe tbody tr th:only-of-type {\n",
       "        vertical-align: middle;\n",
       "    }\n",
       "\n",
       "    .dataframe tbody tr th {\n",
       "        vertical-align: top;\n",
       "    }\n",
       "\n",
       "    .dataframe thead th {\n",
       "        text-align: right;\n",
       "    }\n",
       "</style>\n",
       "<table border=\"1\" class=\"dataframe\">\n",
       "  <thead>\n",
       "    <tr style=\"text-align: right;\">\n",
       "      <th></th>\n",
       "      <th>cust_id</th>\n",
       "      <th>lead_id</th>\n",
       "      <th>entity_type</th>\n",
       "      <th>rejected_field_reason</th>\n",
       "      <th>rejected_field_name</th>\n",
       "      <th>updated_at</th>\n",
       "      <th>solution_type</th>\n",
       "      <th>solution_type_level_2</th>\n",
       "      <th>solution_type_level_3</th>\n",
       "      <th>FSE_Ecode</th>\n",
       "    </tr>\n",
       "  </thead>\n",
       "  <tbody>\n",
       "    <tr>\n",
       "      <th>0</th>\n",
       "      <td>1950723051</td>\n",
       "      <td>c71f0bfd-8acc-47ca-9cf2-87d5c5cbc2bb</td>\n",
       "      <td>INDIVIDUAL</td>\n",
       "      <td>Savings account  - Bank Account name does not ...</td>\n",
       "      <td>bankVerificationStatus</td>\n",
       "      <td>2025-05-07 12:31:38</td>\n",
       "      <td>merchant_common_onboard</td>\n",
       "      <td>NaN</td>\n",
       "      <td>NaN</td>\n",
       "      <td>10165748</td>\n",
       "    </tr>\n",
       "    <tr>\n",
       "      <th>1</th>\n",
       "      <td>1950723051</td>\n",
       "      <td>c71f0bfd-8acc-47ca-9cf2-87d5c5cbc2bb</td>\n",
       "      <td>INDIVIDUAL</td>\n",
       "      <td>Grey LoB without license</td>\n",
       "      <td>shopFrontPhoto</td>\n",
       "      <td>2025-05-07 12:31:38</td>\n",
       "      <td>merchant_common_onboard</td>\n",
       "      <td>NaN</td>\n",
       "      <td>NaN</td>\n",
       "      <td>10165748</td>\n",
       "    </tr>\n",
       "    <tr>\n",
       "      <th>2</th>\n",
       "      <td>1950851752</td>\n",
       "      <td>349658eb-2d99-4d44-bc7f-72ecf1b49d4b</td>\n",
       "      <td>TRUST</td>\n",
       "      <td>Government/Notary seal and signatures missing</td>\n",
       "      <td>TrustDeed</td>\n",
       "      <td>2025-05-10 14:48:25</td>\n",
       "      <td>merchant_common_onboard</td>\n",
       "      <td>NaN</td>\n",
       "      <td>NaN</td>\n",
       "      <td>10100155</td>\n",
       "    </tr>\n",
       "    <tr>\n",
       "      <th>3</th>\n",
       "      <td>1950851752</td>\n",
       "      <td>349658eb-2d99-4d44-bc7f-72ecf1b49d4b</td>\n",
       "      <td>TRUST</td>\n",
       "      <td>Grey LoB without license</td>\n",
       "      <td>shopFrontPhoto</td>\n",
       "      <td>2025-05-10 14:48:25</td>\n",
       "      <td>merchant_common_onboard</td>\n",
       "      <td>NaN</td>\n",
       "      <td>NaN</td>\n",
       "      <td>10100155</td>\n",
       "    </tr>\n",
       "    <tr>\n",
       "      <th>4</th>\n",
       "      <td>1304710673</td>\n",
       "      <td>d9e158a0-3a7c-44ad-98a7-22f8755edcce</td>\n",
       "      <td>PROPRIETORSHIP</td>\n",
       "      <td>Document expired, please upload another document</td>\n",
       "      <td>fssaiFoodLicense</td>\n",
       "      <td>2025-05-02 10:48:27</td>\n",
       "      <td>merchant_common_onboard</td>\n",
       "      <td>NaN</td>\n",
       "      <td>NaN</td>\n",
       "      <td>54025</td>\n",
       "    </tr>\n",
       "  </tbody>\n",
       "</table>\n",
       "</div>"
      ],
      "text/plain": [
       "      cust_id                               lead_id     entity_type  \\\n",
       "0  1950723051  c71f0bfd-8acc-47ca-9cf2-87d5c5cbc2bb      INDIVIDUAL   \n",
       "1  1950723051  c71f0bfd-8acc-47ca-9cf2-87d5c5cbc2bb      INDIVIDUAL   \n",
       "2  1950851752  349658eb-2d99-4d44-bc7f-72ecf1b49d4b           TRUST   \n",
       "3  1950851752  349658eb-2d99-4d44-bc7f-72ecf1b49d4b           TRUST   \n",
       "4  1304710673  d9e158a0-3a7c-44ad-98a7-22f8755edcce  PROPRIETORSHIP   \n",
       "\n",
       "                               rejected_field_reason     rejected_field_name  \\\n",
       "0  Savings account  - Bank Account name does not ...  bankVerificationStatus   \n",
       "1                           Grey LoB without license          shopFrontPhoto   \n",
       "2      Government/Notary seal and signatures missing               TrustDeed   \n",
       "3                           Grey LoB without license          shopFrontPhoto   \n",
       "4   Document expired, please upload another document        fssaiFoodLicense   \n",
       "\n",
       "           updated_at            solution_type  solution_type_level_2  \\\n",
       "0 2025-05-07 12:31:38  merchant_common_onboard                    NaN   \n",
       "1 2025-05-07 12:31:38  merchant_common_onboard                    NaN   \n",
       "2 2025-05-10 14:48:25  merchant_common_onboard                    NaN   \n",
       "3 2025-05-10 14:48:25  merchant_common_onboard                    NaN   \n",
       "4 2025-05-02 10:48:27  merchant_common_onboard                    NaN   \n",
       "\n",
       "  solution_type_level_3 FSE_Ecode  \n",
       "0                   NaN  10165748  \n",
       "1                   NaN  10165748  \n",
       "2                   NaN  10100155  \n",
       "3                   NaN  10100155  \n",
       "4                   NaN     54025  "
      ]
     },
     "execution_count": 8,
     "metadata": {},
     "output_type": "execute_result"
    }
   ],
   "source": [
    "rejection_data['updated_at']=pd.to_datetime(rejection_data['updated_at'],errors='coerce')\n",
    "rejection_data.head(5)"
   ]
  },
  {
   "cell_type": "code",
   "execution_count": 9,
   "metadata": {},
   "outputs": [
    {
     "data": {
      "text/plain": [
       "Timestamp('2025-05-14 00:00:00')"
      ]
     },
     "execution_count": 9,
     "metadata": {},
     "output_type": "execute_result"
    }
   ],
   "source": [
    "current_date = pd.Timestamp(datetime.now().date())\n",
    "current_date\n"
   ]
  },
  {
   "cell_type": "code",
   "execution_count": 10,
   "metadata": {},
   "outputs": [
    {
     "data": {
      "text/plain": [
       "23610"
      ]
     },
     "execution_count": 10,
     "metadata": {},
     "output_type": "execute_result"
    }
   ],
   "source": [
    "rejection_data=rejection_data[rejection_data['updated_at'].dt.date != current_date]\n",
    "len(rejection_data)"
   ]
  },
  {
   "cell_type": "code",
   "execution_count": 11,
   "metadata": {},
   "outputs": [
    {
     "data": {
      "text/plain": [
       "array([nan, 'ACCOUNT_UPGRADE_LENDING', 'KYC_UPDATE', 'ACCOUNT_UPGRADE',\n",
       "       'PROFILE_UPDATE'], dtype=object)"
      ]
     },
     "execution_count": 11,
     "metadata": {},
     "output_type": "execute_result"
    }
   ],
   "source": [
    "rejection_data['solution_type_level_3'].unique()"
   ]
  },
  {
   "cell_type": "code",
   "execution_count": 12,
   "metadata": {},
   "outputs": [
    {
     "data": {
      "text/plain": [
       "array([nan, 'ACCOUNT_UPGRADE_LENDING', 'KYC_UPDATE', 'ACCOUNT_UPGRADE',\n",
       "       'PROFILE_UPDATE'], dtype=object)"
      ]
     },
     "execution_count": 12,
     "metadata": {},
     "output_type": "execute_result"
    }
   ],
   "source": [
    "rejection_data=rejection_data[rejection_data['solution_type_level_3']!='YBL_LIMIT_ENHANCEMENT']\n",
    "\n",
    "rejection_data['solution_type_level_3'].unique()"
   ]
  },
  {
   "cell_type": "code",
   "execution_count": 13,
   "metadata": {},
   "outputs": [
    {
     "data": {
      "text/plain": [
       "array([nan, 'ACCOUNT_UPGRADE', 'KYC_UPDATE'], dtype=object)"
      ]
     },
     "execution_count": 13,
     "metadata": {},
     "output_type": "execute_result"
    }
   ],
   "source": [
    "rejection_data['solution_type_level_3']=rejection_data['solution_type_level_3'].replace(['ACCOUNT_UPGRADE_LENDING','PROFILE_UPDATE'],'ACCOUNT_UPGRADE')\n",
    "\n",
    "rejection_data['solution_type_level_3'].unique()"
   ]
  },
  {
   "cell_type": "code",
   "execution_count": 14,
   "metadata": {},
   "outputs": [
    {
     "data": {
      "text/plain": [
       "solution_type_level_3\n",
       "ACCOUNT_UPGRADE    1527\n",
       "KYC_UPDATE          933\n",
       "Name: count, dtype: int64"
      ]
     },
     "execution_count": 14,
     "metadata": {},
     "output_type": "execute_result"
    }
   ],
   "source": [
    "rejection_data['solution_type_level_3'].value_counts()"
   ]
  },
  {
   "cell_type": "code",
   "execution_count": 15,
   "metadata": {},
   "outputs": [
    {
     "data": {
      "text/plain": [
       "entity_type\n",
       "INDIVIDUAL            16961\n",
       "PROPRIETORSHIP         5950\n",
       "NON_PROPRIETORSHIP      699\n",
       "Name: count, dtype: int64"
      ]
     },
     "execution_count": 15,
     "metadata": {},
     "output_type": "execute_result"
    }
   ],
   "source": [
    "rejection_data.loc[~rejection_data['entity_type'].isin(['INDIVIDUAL','PROPRIETORSHIP']),'entity_type']='NON_PROPRIETORSHIP'\n",
    "rejection_data['entity_type'].value_counts()"
   ]
  },
  {
   "cell_type": "code",
   "execution_count": 16,
   "metadata": {},
   "outputs": [
    {
     "data": {
      "text/plain": [
       "solution_type_level_3\n",
       "ACCOUNT_UPGRADE    1527\n",
       "KYC_UPDATE          933\n",
       "Name: count, dtype: int64"
      ]
     },
     "execution_count": 16,
     "metadata": {},
     "output_type": "execute_result"
    }
   ],
   "source": [
    "kyc_acc_rejection=rejection_data[rejection_data[\"solution_type_level_3\"].isin([\"ACCOUNT_UPGRADE\",\"KYC_UPDATE\"])]\n",
    "kyc_acc_rejection['solution_type_level_3'].value_counts()\n"
   ]
  },
  {
   "cell_type": "code",
   "execution_count": 17,
   "metadata": {},
   "outputs": [
    {
     "data": {
      "text/plain": [
       "21150"
      ]
     },
     "execution_count": 17,
     "metadata": {},
     "output_type": "execute_result"
    }
   ],
   "source": [
    "mco_rejection=rejection_data[~rejection_data[\"solution_type_level_3\"].isin([\"ACCOUNT_UPGRADE\",\"KYC_UPDATE\"])]\n",
    "len(mco_rejection)"
   ]
  },
  {
   "cell_type": "code",
   "execution_count": 18,
   "metadata": {},
   "outputs": [
    {
     "data": {
      "text/plain": [
       "Index(['cust_id', 'lead_id', 'entity_type', 'entuty_type_1',\n",
       "       'rejected_field_reason', 'rejected_field_name', 'updated_at',\n",
       "       'solution_type', 'solution_type_level_2', 'solution_type_level_3',\n",
       "       'FSE_Ecode'],\n",
       "      dtype='object')"
      ]
     },
     "execution_count": 18,
     "metadata": {},
     "output_type": "execute_result"
    }
   ],
   "source": [
    "kyc_acc_rejection.insert(kyc_acc_rejection.columns.get_loc('entity_type')+1,'entuty_type_1',np.nan)\n",
    "kyc_acc_rejection.columns"
   ]
  },
  {
   "cell_type": "code",
   "execution_count": 19,
   "metadata": {},
   "outputs": [
    {
     "name": "stderr",
     "output_type": "stream",
     "text": [
      "C:\\Users\\avnish1.yadav\\AppData\\Local\\Temp\\ipykernel_32024\\272290521.py:1: FutureWarning: Setting an item of incompatible dtype is deprecated and will raise in a future error of pandas. Value '['PROPRIETORSHIP' 'PROPRIETORSHIP' 'INDIVIDUAL' ... 'PROPRIETORSHIP'\n",
      " 'PROPRIETORSHIP' 'PROPRIETORSHIP']' has dtype incompatible with float64, please explicitly cast to a compatible dtype first.\n",
      "  kyc_acc_rejection.loc[:, 'entuty_type_1'] = kyc_acc_rejection['entity_type']\n"
     ]
    },
    {
     "data": {
      "text/plain": [
       "entuty_type_1\n",
       "PROPRIETORSHIP        2019\n",
       "INDIVIDUAL             434\n",
       "NON_PROPRIETORSHIP       7\n",
       "Name: count, dtype: int64"
      ]
     },
     "execution_count": 19,
     "metadata": {},
     "output_type": "execute_result"
    }
   ],
   "source": [
    "kyc_acc_rejection.loc[:, 'entuty_type_1'] = kyc_acc_rejection['entity_type']\n",
    "kyc_acc_rejection['entuty_type_1'].value_counts()"
   ]
  },
  {
   "cell_type": "code",
   "execution_count": 20,
   "metadata": {},
   "outputs": [
    {
     "name": "stderr",
     "output_type": "stream",
     "text": [
      "C:\\Users\\avnish1.yadav\\AppData\\Local\\Temp\\ipykernel_32024\\2156595060.py:1: SettingWithCopyWarning: \n",
      "A value is trying to be set on a copy of a slice from a DataFrame.\n",
      "Try using .loc[row_indexer,col_indexer] = value instead\n",
      "\n",
      "See the caveats in the documentation: https://pandas.pydata.org/pandas-docs/stable/user_guide/indexing.html#returning-a-view-versus-a-copy\n",
      "  kyc_acc_rejection['entuty_type_1']=kyc_acc_rejection['entuty_type_1'].replace(['PROPRIETORSHIP','NON_PROPRIETORSHIP'],'NON_EDC')\n"
     ]
    },
    {
     "data": {
      "text/plain": [
       "entuty_type_1\n",
       "NON_EDC       2026\n",
       "INDIVIDUAL     434\n",
       "Name: count, dtype: int64"
      ]
     },
     "execution_count": 20,
     "metadata": {},
     "output_type": "execute_result"
    }
   ],
   "source": [
    "kyc_acc_rejection['entuty_type_1']=kyc_acc_rejection['entuty_type_1'].replace(['PROPRIETORSHIP','NON_PROPRIETORSHIP'],'NON_EDC')\n",
    "kyc_acc_rejection['entuty_type_1'].value_counts()"
   ]
  },
  {
   "cell_type": "code",
   "execution_count": 21,
   "metadata": {},
   "outputs": [
    {
     "data": {
      "text/plain": [
       "Index(['cust_id', 'lead_id', 'entity_type', 'entuty_type_1',\n",
       "       'rejected_field_reason', 'rejected_field_name', 'updated_at',\n",
       "       'solution_type', 'solution_type_level_3', 'FSE_Ecode'],\n",
       "      dtype='object')"
      ]
     },
     "execution_count": 21,
     "metadata": {},
     "output_type": "execute_result"
    }
   ],
   "source": [
    "kyc_acc_rejection=kyc_acc_rejection.drop(columns=['solution_type_level_2'])\n",
    "kyc_acc_rejection.columns"
   ]
  },
  {
   "cell_type": "code",
   "execution_count": 22,
   "metadata": {},
   "outputs": [],
   "source": [
    "kyc_acc_rejection=pd.merge(kyc_acc_rejection,data,left_on='lead_id',right_on='Lead_ID',how='left')\n",
    "kyc_acc_rejection=kyc_acc_rejection.drop(columns=['Lead_ID'])"
   ]
  },
  {
   "cell_type": "code",
   "execution_count": 23,
   "metadata": {},
   "outputs": [
    {
     "data": {
      "text/plain": [
       "Index(['cust_id', 'lead_id', 'entity_type', 'entuty_type_1',\n",
       "       'rejected_field_reason', 'rejected_field_name', 'updated_at',\n",
       "       'solution_type', 'solution_type_level_3_x', 'FSE_Ecode',\n",
       "       'Product_Context', 'Stage movement count', 'solution_type_level_3_y'],\n",
       "      dtype='object')"
      ]
     },
     "execution_count": 23,
     "metadata": {},
     "output_type": "execute_result"
    }
   ],
   "source": [
    "kyc_acc_rejection.columns"
   ]
  },
  {
   "cell_type": "code",
   "execution_count": 24,
   "metadata": {},
   "outputs": [],
   "source": [
    "kyc_acc_rejection.loc[kyc_acc_rejection['solution_type_level_3_y']=='3P FSE','solution_type_level_3_x']='3P FSE'"
   ]
  },
  {
   "cell_type": "code",
   "execution_count": 25,
   "metadata": {},
   "outputs": [
    {
     "data": {
      "text/plain": [
       "solution_type_level_3_x\n",
       "ACCOUNT_UPGRADE    1527\n",
       "KYC_UPDATE          832\n",
       "3P FSE              101\n",
       "Name: count, dtype: int64"
      ]
     },
     "execution_count": 25,
     "metadata": {},
     "output_type": "execute_result"
    }
   ],
   "source": [
    "kyc_acc_rejection['solution_type_level_3_x'].value_counts()"
   ]
  },
  {
   "cell_type": "code",
   "execution_count": 26,
   "metadata": {},
   "outputs": [
    {
     "data": {
      "text/plain": [
       "Index(['cust_id', 'lead_id', 'entity_type', 'entuty_type_1',\n",
       "       'rejected_field_reason', 'rejected_field_name', 'updated_at',\n",
       "       'solution_type', 'solution_type_level_3_x', 'FSE_Ecode',\n",
       "       'Product_Context', 'Stage movement count', 'solution_type_level_3_y'],\n",
       "      dtype='object')"
      ]
     },
     "execution_count": 26,
     "metadata": {},
     "output_type": "execute_result"
    }
   ],
   "source": [
    "kyc_acc_rejection.columns"
   ]
  },
  {
   "cell_type": "code",
   "execution_count": 27,
   "metadata": {},
   "outputs": [
    {
     "data": {
      "text/plain": [
       "Index(['cust_id', 'lead_id', 'entity_type', 'entuty_type_1',\n",
       "       'rejected_field_reason', 'rejected_field_name', 'updated_at',\n",
       "       'solution_type', 'solution_type_level_3_x', 'Product_Context',\n",
       "       'Stage movement count', 'solution_type_level_3_y'],\n",
       "      dtype='object')"
      ]
     },
     "execution_count": 27,
     "metadata": {},
     "output_type": "execute_result"
    }
   ],
   "source": [
    "kyc_acc_rejection = kyc_acc_rejection.drop(columns=['FSE_Ecode'])\n",
    "kyc_acc_rejection.columns\n"
   ]
  },
  {
   "cell_type": "code",
   "execution_count": 28,
   "metadata": {},
   "outputs": [
    {
     "data": {
      "text/plain": [
       "Index(['cust_id', 'lead_id', 'entity_type', 'rejected_field_reason',\n",
       "       'rejected_field_name', 'updated_at', 'solution_type_level_3',\n",
       "       'FSE_Ecode'],\n",
       "      dtype='object')"
      ]
     },
     "execution_count": 28,
     "metadata": {},
     "output_type": "execute_result"
    }
   ],
   "source": [
    "mco_rejection=mco_rejection.drop(columns=['solution_type_level_2','solution_type'])\n",
    "mco_rejection.columns"
   ]
  },
  {
   "cell_type": "code",
   "execution_count": 29,
   "metadata": {},
   "outputs": [],
   "source": [
    "mco_rejection.insert(mco_rejection.columns.get_loc('entity_type')+1,'entuty_type_1',np.nan)\n",
    "mco_rejection.insert(mco_rejection.columns.get_loc('entuty_type_1')+1,'Product_Context',np.nan)\n",
    "mco_rejection.insert(mco_rejection.columns.get_loc('rejected_field_name')+1,'Stage movement count',np.nan)"
   ]
  },
  {
   "cell_type": "code",
   "execution_count": 30,
   "metadata": {},
   "outputs": [],
   "source": [
    "mco_rejection=pd.merge(mco_rejection,data,left_on='lead_id',right_on='Lead_ID',how='left')\n",
    "mco_rejection=mco_rejection.drop(columns=['Lead_ID'])"
   ]
  },
  {
   "cell_type": "code",
   "execution_count": 31,
   "metadata": {},
   "outputs": [
    {
     "data": {
      "text/plain": [
       "Index(['cust_id', 'lead_id', 'entity_type', 'entuty_type_1',\n",
       "       'Product_Context_x', 'rejected_field_reason', 'rejected_field_name',\n",
       "       'Stage movement count_x', 'updated_at', 'solution_type_level_3_x',\n",
       "       'FSE_Ecode', 'Product_Context_y', 'Stage movement count_y',\n",
       "       'solution_type_level_3_y'],\n",
       "      dtype='object')"
      ]
     },
     "execution_count": 31,
     "metadata": {},
     "output_type": "execute_result"
    }
   ],
   "source": [
    "mco_rejection.columns"
   ]
  },
  {
   "cell_type": "code",
   "execution_count": 32,
   "metadata": {},
   "outputs": [],
   "source": [
    "mco_rejection['Product_Context_x']=mco_rejection['Product_Context_y']\n",
    "mco_rejection['Stage movement count_x']=mco_rejection['Stage movement count_y']\n",
    "mco_rejection['entuty_type_1']=mco_rejection['entity_type']\n",
    "mco_rejection=mco_rejection.drop(columns=['Product_Context_y','Stage movement count_y'])"
   ]
  },
  {
   "cell_type": "code",
   "execution_count": 33,
   "metadata": {},
   "outputs": [],
   "source": [
    "mco_rejection.loc[mco_rejection['entuty_type_1'].isin(['PROPRIETORSHIP','NON_PROPRIETORSHIP']),'entuty_type_1']=mco_rejection['Product_Context_x']\n"
   ]
  },
  {
   "cell_type": "code",
   "execution_count": 34,
   "metadata": {},
   "outputs": [
    {
     "data": {
      "text/html": [
       "<div>\n",
       "<style scoped>\n",
       "    .dataframe tbody tr th:only-of-type {\n",
       "        vertical-align: middle;\n",
       "    }\n",
       "\n",
       "    .dataframe tbody tr th {\n",
       "        vertical-align: top;\n",
       "    }\n",
       "\n",
       "    .dataframe thead th {\n",
       "        text-align: right;\n",
       "    }\n",
       "</style>\n",
       "<table border=\"1\" class=\"dataframe\">\n",
       "  <thead>\n",
       "    <tr style=\"text-align: right;\">\n",
       "      <th></th>\n",
       "      <th>cust_id</th>\n",
       "      <th>lead_id</th>\n",
       "      <th>entity_type</th>\n",
       "      <th>entuty_type_1</th>\n",
       "      <th>Product_Context_x</th>\n",
       "      <th>rejected_field_reason</th>\n",
       "      <th>rejected_field_name</th>\n",
       "      <th>Stage movement count_x</th>\n",
       "      <th>updated_at</th>\n",
       "      <th>solution_type_level_3_x</th>\n",
       "      <th>FSE_Ecode</th>\n",
       "      <th>solution_type_level_3_y</th>\n",
       "    </tr>\n",
       "  </thead>\n",
       "  <tbody>\n",
       "    <tr>\n",
       "      <th>0</th>\n",
       "      <td>1950723051</td>\n",
       "      <td>c71f0bfd-8acc-47ca-9cf2-87d5c5cbc2bb</td>\n",
       "      <td>INDIVIDUAL</td>\n",
       "      <td>INDIVIDUAL</td>\n",
       "      <td>NON_EDC</td>\n",
       "      <td>Savings account  - Bank Account name does not ...</td>\n",
       "      <td>bankVerificationStatus</td>\n",
       "      <td>{\"QC_REJECTED\":2}</td>\n",
       "      <td>2025-05-07 12:31:38</td>\n",
       "      <td>NaN</td>\n",
       "      <td>10165748</td>\n",
       "      <td>NaN</td>\n",
       "    </tr>\n",
       "    <tr>\n",
       "      <th>1</th>\n",
       "      <td>1950723051</td>\n",
       "      <td>c71f0bfd-8acc-47ca-9cf2-87d5c5cbc2bb</td>\n",
       "      <td>INDIVIDUAL</td>\n",
       "      <td>INDIVIDUAL</td>\n",
       "      <td>NON_EDC</td>\n",
       "      <td>Grey LoB without license</td>\n",
       "      <td>shopFrontPhoto</td>\n",
       "      <td>{\"QC_REJECTED\":2}</td>\n",
       "      <td>2025-05-07 12:31:38</td>\n",
       "      <td>NaN</td>\n",
       "      <td>10165748</td>\n",
       "      <td>NaN</td>\n",
       "    </tr>\n",
       "    <tr>\n",
       "      <th>2</th>\n",
       "      <td>1950851752</td>\n",
       "      <td>349658eb-2d99-4d44-bc7f-72ecf1b49d4b</td>\n",
       "      <td>NON_PROPRIETORSHIP</td>\n",
       "      <td>NaN</td>\n",
       "      <td>NaN</td>\n",
       "      <td>Government/Notary seal and signatures missing</td>\n",
       "      <td>TrustDeed</td>\n",
       "      <td>NaN</td>\n",
       "      <td>2025-05-10 14:48:25</td>\n",
       "      <td>NaN</td>\n",
       "      <td>10100155</td>\n",
       "      <td>NaN</td>\n",
       "    </tr>\n",
       "    <tr>\n",
       "      <th>3</th>\n",
       "      <td>1950851752</td>\n",
       "      <td>349658eb-2d99-4d44-bc7f-72ecf1b49d4b</td>\n",
       "      <td>NON_PROPRIETORSHIP</td>\n",
       "      <td>NaN</td>\n",
       "      <td>NaN</td>\n",
       "      <td>Grey LoB without license</td>\n",
       "      <td>shopFrontPhoto</td>\n",
       "      <td>NaN</td>\n",
       "      <td>2025-05-10 14:48:25</td>\n",
       "      <td>NaN</td>\n",
       "      <td>10100155</td>\n",
       "      <td>NaN</td>\n",
       "    </tr>\n",
       "    <tr>\n",
       "      <th>4</th>\n",
       "      <td>1304710673</td>\n",
       "      <td>d9e158a0-3a7c-44ad-98a7-22f8755edcce</td>\n",
       "      <td>PROPRIETORSHIP</td>\n",
       "      <td>NON_EDC</td>\n",
       "      <td>NON_EDC</td>\n",
       "      <td>Document expired, please upload another document</td>\n",
       "      <td>fssaiFoodLicense</td>\n",
       "      <td>{\"QC_REJECTED\":1}</td>\n",
       "      <td>2025-05-02 10:48:27</td>\n",
       "      <td>NaN</td>\n",
       "      <td>54025</td>\n",
       "      <td>NaN</td>\n",
       "    </tr>\n",
       "  </tbody>\n",
       "</table>\n",
       "</div>"
      ],
      "text/plain": [
       "      cust_id                               lead_id         entity_type  \\\n",
       "0  1950723051  c71f0bfd-8acc-47ca-9cf2-87d5c5cbc2bb          INDIVIDUAL   \n",
       "1  1950723051  c71f0bfd-8acc-47ca-9cf2-87d5c5cbc2bb          INDIVIDUAL   \n",
       "2  1950851752  349658eb-2d99-4d44-bc7f-72ecf1b49d4b  NON_PROPRIETORSHIP   \n",
       "3  1950851752  349658eb-2d99-4d44-bc7f-72ecf1b49d4b  NON_PROPRIETORSHIP   \n",
       "4  1304710673  d9e158a0-3a7c-44ad-98a7-22f8755edcce      PROPRIETORSHIP   \n",
       "\n",
       "  entuty_type_1 Product_Context_x  \\\n",
       "0    INDIVIDUAL           NON_EDC   \n",
       "1    INDIVIDUAL           NON_EDC   \n",
       "2           NaN               NaN   \n",
       "3           NaN               NaN   \n",
       "4       NON_EDC           NON_EDC   \n",
       "\n",
       "                               rejected_field_reason     rejected_field_name  \\\n",
       "0  Savings account  - Bank Account name does not ...  bankVerificationStatus   \n",
       "1                           Grey LoB without license          shopFrontPhoto   \n",
       "2      Government/Notary seal and signatures missing               TrustDeed   \n",
       "3                           Grey LoB without license          shopFrontPhoto   \n",
       "4   Document expired, please upload another document        fssaiFoodLicense   \n",
       "\n",
       "  Stage movement count_x          updated_at solution_type_level_3_x  \\\n",
       "0      {\"QC_REJECTED\":2} 2025-05-07 12:31:38                     NaN   \n",
       "1      {\"QC_REJECTED\":2} 2025-05-07 12:31:38                     NaN   \n",
       "2                    NaN 2025-05-10 14:48:25                     NaN   \n",
       "3                    NaN 2025-05-10 14:48:25                     NaN   \n",
       "4      {\"QC_REJECTED\":1} 2025-05-02 10:48:27                     NaN   \n",
       "\n",
       "  FSE_Ecode solution_type_level_3_y  \n",
       "0  10165748                     NaN  \n",
       "1  10165748                     NaN  \n",
       "2  10100155                     NaN  \n",
       "3  10100155                     NaN  \n",
       "4     54025                     NaN  "
      ]
     },
     "execution_count": 34,
     "metadata": {},
     "output_type": "execute_result"
    }
   ],
   "source": [
    "mco_rejection.head(5)"
   ]
  },
  {
   "cell_type": "code",
   "execution_count": 35,
   "metadata": {},
   "outputs": [
    {
     "data": {
      "text/html": [
       "<div>\n",
       "<style scoped>\n",
       "    .dataframe tbody tr th:only-of-type {\n",
       "        vertical-align: middle;\n",
       "    }\n",
       "\n",
       "    .dataframe tbody tr th {\n",
       "        vertical-align: top;\n",
       "    }\n",
       "\n",
       "    .dataframe thead th {\n",
       "        text-align: right;\n",
       "    }\n",
       "</style>\n",
       "<table border=\"1\" class=\"dataframe\">\n",
       "  <thead>\n",
       "    <tr style=\"text-align: right;\">\n",
       "      <th></th>\n",
       "      <th>cust_id</th>\n",
       "      <th>lead_id</th>\n",
       "      <th>entity_type</th>\n",
       "      <th>entuty_type_1</th>\n",
       "      <th>rejected_field_reason</th>\n",
       "      <th>rejected_field_name</th>\n",
       "      <th>updated_at</th>\n",
       "      <th>solution_type</th>\n",
       "      <th>solution_type_level_3_x</th>\n",
       "      <th>Product_Context</th>\n",
       "      <th>Stage movement count</th>\n",
       "      <th>solution_type_level_3_y</th>\n",
       "    </tr>\n",
       "  </thead>\n",
       "  <tbody>\n",
       "    <tr>\n",
       "      <th>0</th>\n",
       "      <td>1422005573</td>\n",
       "      <td>33dbb814-fccb-488a-ad56-6594d239348c</td>\n",
       "      <td>PROPRIETORSHIP</td>\n",
       "      <td>NON_EDC</td>\n",
       "      <td>Not a fixed shop</td>\n",
       "      <td>shopFrontPhoto</td>\n",
       "      <td>2025-05-13 11:04:03</td>\n",
       "      <td>merchant_common_onboard</td>\n",
       "      <td>ACCOUNT_UPGRADE</td>\n",
       "      <td>NON_EDC</td>\n",
       "      <td>{\"QC_REJECTED\":2}</td>\n",
       "      <td>ACCOUNT_UPGRADE</td>\n",
       "    </tr>\n",
       "    <tr>\n",
       "      <th>1</th>\n",
       "      <td>373132270</td>\n",
       "      <td>1d58d0ef-3f12-4543-9d05-ddc86fb5df81</td>\n",
       "      <td>PROPRIETORSHIP</td>\n",
       "      <td>NON_EDC</td>\n",
       "      <td>Shop front not completely visible</td>\n",
       "      <td>shopFrontPhoto</td>\n",
       "      <td>2025-05-10 18:11:00</td>\n",
       "      <td>merchant_common_onboard</td>\n",
       "      <td>KYC_UPDATE</td>\n",
       "      <td>NON_EDC</td>\n",
       "      <td>{\"QC_REJECTED\":2}</td>\n",
       "      <td>KYC_UPDATE</td>\n",
       "    </tr>\n",
       "    <tr>\n",
       "      <th>2</th>\n",
       "      <td>1782532604</td>\n",
       "      <td>14f64836-a20e-4625-8552-78c402ef5765</td>\n",
       "      <td>INDIVIDUAL</td>\n",
       "      <td>INDIVIDUAL</td>\n",
       "      <td>Shop front not completely visible</td>\n",
       "      <td>shopFrontPhoto</td>\n",
       "      <td>2025-05-02 11:59:06</td>\n",
       "      <td>merchant_common_onboard</td>\n",
       "      <td>KYC_UPDATE</td>\n",
       "      <td>NON_EDC</td>\n",
       "      <td>{\"QC_REJECTED\":1}</td>\n",
       "      <td>KYC_UPDATE</td>\n",
       "    </tr>\n",
       "    <tr>\n",
       "      <th>3</th>\n",
       "      <td>1799300195</td>\n",
       "      <td>f65c159f-f7a6-4e17-a4d1-a6996bfa0986</td>\n",
       "      <td>INDIVIDUAL</td>\n",
       "      <td>INDIVIDUAL</td>\n",
       "      <td>Shop front not completely visible</td>\n",
       "      <td>shopFrontPhoto</td>\n",
       "      <td>2025-05-05 12:13:03</td>\n",
       "      <td>merchant_common_onboard</td>\n",
       "      <td>KYC_UPDATE</td>\n",
       "      <td>NON_EDC</td>\n",
       "      <td>{\"QC_REJECTED\":1}</td>\n",
       "      <td>KYC_UPDATE</td>\n",
       "    </tr>\n",
       "    <tr>\n",
       "      <th>4</th>\n",
       "      <td>323175776</td>\n",
       "      <td>50f96400-5605-4712-a2c3-e5abefd9c7a6</td>\n",
       "      <td>PROPRIETORSHIP</td>\n",
       "      <td>NON_EDC</td>\n",
       "      <td>Proprietor name is missing</td>\n",
       "      <td>udyam_udhyog_aadhaar</td>\n",
       "      <td>2025-05-08 12:26:22</td>\n",
       "      <td>merchant_common_onboard</td>\n",
       "      <td>ACCOUNT_UPGRADE</td>\n",
       "      <td>NON_EDC</td>\n",
       "      <td>{\"QC_REJECTED\":1}</td>\n",
       "      <td>ACCOUNT_UPGRADE</td>\n",
       "    </tr>\n",
       "  </tbody>\n",
       "</table>\n",
       "</div>"
      ],
      "text/plain": [
       "      cust_id                               lead_id     entity_type  \\\n",
       "0  1422005573  33dbb814-fccb-488a-ad56-6594d239348c  PROPRIETORSHIP   \n",
       "1   373132270  1d58d0ef-3f12-4543-9d05-ddc86fb5df81  PROPRIETORSHIP   \n",
       "2  1782532604  14f64836-a20e-4625-8552-78c402ef5765      INDIVIDUAL   \n",
       "3  1799300195  f65c159f-f7a6-4e17-a4d1-a6996bfa0986      INDIVIDUAL   \n",
       "4   323175776  50f96400-5605-4712-a2c3-e5abefd9c7a6  PROPRIETORSHIP   \n",
       "\n",
       "  entuty_type_1              rejected_field_reason   rejected_field_name  \\\n",
       "0       NON_EDC                   Not a fixed shop        shopFrontPhoto   \n",
       "1       NON_EDC  Shop front not completely visible        shopFrontPhoto   \n",
       "2    INDIVIDUAL  Shop front not completely visible        shopFrontPhoto   \n",
       "3    INDIVIDUAL  Shop front not completely visible        shopFrontPhoto   \n",
       "4       NON_EDC         Proprietor name is missing  udyam_udhyog_aadhaar   \n",
       "\n",
       "           updated_at            solution_type solution_type_level_3_x  \\\n",
       "0 2025-05-13 11:04:03  merchant_common_onboard         ACCOUNT_UPGRADE   \n",
       "1 2025-05-10 18:11:00  merchant_common_onboard              KYC_UPDATE   \n",
       "2 2025-05-02 11:59:06  merchant_common_onboard              KYC_UPDATE   \n",
       "3 2025-05-05 12:13:03  merchant_common_onboard              KYC_UPDATE   \n",
       "4 2025-05-08 12:26:22  merchant_common_onboard         ACCOUNT_UPGRADE   \n",
       "\n",
       "  Product_Context Stage movement count solution_type_level_3_y  \n",
       "0         NON_EDC    {\"QC_REJECTED\":2}         ACCOUNT_UPGRADE  \n",
       "1         NON_EDC    {\"QC_REJECTED\":2}              KYC_UPDATE  \n",
       "2         NON_EDC    {\"QC_REJECTED\":1}              KYC_UPDATE  \n",
       "3         NON_EDC    {\"QC_REJECTED\":1}              KYC_UPDATE  \n",
       "4         NON_EDC    {\"QC_REJECTED\":1}         ACCOUNT_UPGRADE  "
      ]
     },
     "execution_count": 35,
     "metadata": {},
     "output_type": "execute_result"
    }
   ],
   "source": [
    "kyc_acc_rejection.head(5)"
   ]
  },
  {
   "cell_type": "code",
   "execution_count": 36,
   "metadata": {},
   "outputs": [],
   "source": [
    "#mco_rejection=mco_rejection.drop(columns=['solution_type_level_3_y'])\n",
    "kyc_acc_rejection=kyc_acc_rejection.drop(columns=['Product_Context', 'Stage movement count', 'solution_type_level_3_y'])"
   ]
  },
  {
   "cell_type": "code",
   "execution_count": 37,
   "metadata": {},
   "outputs": [
    {
     "data": {
      "text/plain": [
       "Index(['cust_id', 'lead_id', 'entity_type', 'entuty_type_1',\n",
       "       'rejected_field_reason', 'rejected_field_name', 'updated_at',\n",
       "       'solution_type', 'solution_type_level_3_x'],\n",
       "      dtype='object')"
      ]
     },
     "execution_count": 37,
     "metadata": {},
     "output_type": "execute_result"
    }
   ],
   "source": [
    "kyc_acc_rejection.columns"
   ]
  },
  {
   "cell_type": "code",
   "execution_count": 38,
   "metadata": {},
   "outputs": [],
   "source": [
    "mco_rejection=mco_rejection.drop(columns=['solution_type_level_3_x', 'solution_type_level_3_y'])"
   ]
  },
  {
   "cell_type": "code",
   "execution_count": 39,
   "metadata": {},
   "outputs": [
    {
     "data": {
      "text/plain": [
       "Index(['cust_id', 'lead_id', 'entity_type', 'entuty_type_1',\n",
       "       'Product_Context_x', 'rejected_field_reason', 'rejected_field_name',\n",
       "       'Stage movement count_x', 'updated_at', 'FSE_Ecode'],\n",
       "      dtype='object')"
      ]
     },
     "execution_count": 39,
     "metadata": {},
     "output_type": "execute_result"
    }
   ],
   "source": [
    "mco_rejection.columns"
   ]
  },
  {
   "cell_type": "code",
   "execution_count": 40,
   "metadata": {},
   "outputs": [
    {
     "data": {
      "text/plain": [
       "21150"
      ]
     },
     "execution_count": 40,
     "metadata": {},
     "output_type": "execute_result"
    }
   ],
   "source": [
    "len(mco_rejection)"
   ]
  },
  {
   "cell_type": "code",
   "execution_count": 41,
   "metadata": {},
   "outputs": [
    {
     "data": {
      "text/plain": [
       "2840"
      ]
     },
     "execution_count": 41,
     "metadata": {},
     "output_type": "execute_result"
    }
   ],
   "source": [
    "mco_rejection['Product_Context_x'].isna().sum()"
   ]
  },
  {
   "cell_type": "code",
   "execution_count": 42,
   "metadata": {},
   "outputs": [
    {
     "data": {
      "text/plain": [
       "18310"
      ]
     },
     "execution_count": 42,
     "metadata": {},
     "output_type": "execute_result"
    }
   ],
   "source": [
    "mco_rejection = mco_rejection.dropna(subset=['Product_Context_x'])\n",
    "len(mco_rejection)"
   ]
  },
  {
   "cell_type": "code",
   "execution_count": 43,
   "metadata": {},
   "outputs": [],
   "source": [
    "kyc_acc_rejection.to_csv(kyc_acc_output_file, index=False)\n",
    "mco_rejection.to_csv(mco_output_file, index=False)"
   ]
  },
  {
   "cell_type": "code",
   "execution_count": null,
   "metadata": {},
   "outputs": [],
   "source": []
  },
  {
   "cell_type": "code",
   "execution_count": null,
   "metadata": {},
   "outputs": [],
   "source": []
  }
 ],
 "metadata": {
  "kernelspec": {
   "display_name": "base",
   "language": "python",
   "name": "python3"
  },
  "language_info": {
   "codemirror_mode": {
    "name": "ipython",
    "version": 3
   },
   "file_extension": ".py",
   "mimetype": "text/x-python",
   "name": "python",
   "nbconvert_exporter": "python",
   "pygments_lexer": "ipython3",
   "version": "3.12.7"
  }
 },
 "nbformat": 4,
 "nbformat_minor": 2
}
