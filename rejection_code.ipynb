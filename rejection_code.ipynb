{
 "cells": [
  {
   "cell_type": "code",
   "execution_count": null,
   "metadata": {},
   "outputs": [],
   "source": [
    "import pandas as pd\n",
    "import numpy as np\n",
    "from datetime import datetime, timedelta\n",
    "from datetime import time\n",
    "import os\n"
   ]
  },
  {
   "cell_type": "code",
   "execution_count": 2,
   "metadata": {},
   "outputs": [],
   "source": [
    "data=\"all_flow_data_25th April'25.csv\"\n",
    "input_file=\"rejection_reason_26-April'25.csv\"\n",
    "mco_output_file=\"MCO_Rejection_25th April'25.csv\"\n",
    "kyc_acc_output_file=\"KYC_ACC_Rejection_25th April'25.csv\"\n"
   ]
  },
  {
   "cell_type": "code",
   "execution_count": 3,
   "metadata": {},
   "outputs": [],
   "source": [
    "#data=\"all_flow_data_31st Mar'25.csv\"\n",
    "#input_file=\"mco_all_rejection_01st April.csv\"\n",
    "#mco_output_file=\"MCO_all_Rejection_31st Mar'25.csv\"\n",
    "#kyc_acc_output_file=\"KYC_all_ACC_Rejection_31st Mar'25.csv\"\n"
   ]
  },
  {
   "cell_type": "code",
   "execution_count": 4,
   "metadata": {},
   "outputs": [
    {
     "data": {
      "text/plain": [
       "44092"
      ]
     },
     "execution_count": 4,
     "metadata": {},
     "output_type": "execute_result"
    }
   ],
   "source": [
    "rejection_data=pd.read_csv(input_file,memory_map=True)\n",
    "data=pd.read_csv(data,memory_map=True)\n",
    "len(rejection_data)"
   ]
  },
  {
   "cell_type": "code",
   "execution_count": 5,
   "metadata": {},
   "outputs": [
    {
     "data": {
      "text/html": [
       "<div>\n",
       "<style scoped>\n",
       "    .dataframe tbody tr th:only-of-type {\n",
       "        vertical-align: middle;\n",
       "    }\n",
       "\n",
       "    .dataframe tbody tr th {\n",
       "        vertical-align: top;\n",
       "    }\n",
       "\n",
       "    .dataframe thead th {\n",
       "        text-align: right;\n",
       "    }\n",
       "</style>\n",
       "<table border=\"1\" class=\"dataframe\">\n",
       "  <thead>\n",
       "    <tr style=\"text-align: right;\">\n",
       "      <th></th>\n",
       "      <th>cust_id</th>\n",
       "      <th>lead_id</th>\n",
       "      <th>entity_type</th>\n",
       "      <th>rejected_field_reason</th>\n",
       "      <th>rejected_field_name</th>\n",
       "      <th>updated_at</th>\n",
       "      <th>solution_type</th>\n",
       "      <th>solution_type_level_2</th>\n",
       "      <th>solution_type_level_3</th>\n",
       "      <th>FSE_Ecode</th>\n",
       "    </tr>\n",
       "  </thead>\n",
       "  <tbody>\n",
       "    <tr>\n",
       "      <th>0</th>\n",
       "      <td>1441416634</td>\n",
       "      <td>2093a170-6be5-4809-b1f1-1b8ce6cbe1bc</td>\n",
       "      <td>INDIVIDUAL</td>\n",
       "      <td>Screenshot of Aadhar is not allowed</td>\n",
       "      <td>aadhaar</td>\n",
       "      <td>2025-04-02 14:59:10.000</td>\n",
       "      <td>merchant_common_onboard</td>\n",
       "      <td>NaN</td>\n",
       "      <td>NaN</td>\n",
       "      <td>10221771</td>\n",
       "    </tr>\n",
       "    <tr>\n",
       "      <th>1</th>\n",
       "      <td>1949975962</td>\n",
       "      <td>69828061-0e5c-44cf-9d38-fbcae300c890</td>\n",
       "      <td>INDIVIDUAL</td>\n",
       "      <td>Bank account holder mismatch with business/pro...</td>\n",
       "      <td>bankVerificationStatus</td>\n",
       "      <td>2025-04-24 15:28:32.000</td>\n",
       "      <td>merchant_common_onboard</td>\n",
       "      <td>NaN</td>\n",
       "      <td>NaN</td>\n",
       "      <td>39922</td>\n",
       "    </tr>\n",
       "    <tr>\n",
       "      <th>2</th>\n",
       "      <td>1949975962</td>\n",
       "      <td>69828061-0e5c-44cf-9d38-fbcae300c890</td>\n",
       "      <td>INDIVIDUAL</td>\n",
       "      <td>Name on PassBook mismatch with business/KYC name</td>\n",
       "      <td>bankPassbook</td>\n",
       "      <td>2025-04-24 15:28:32.000</td>\n",
       "      <td>merchant_common_onboard</td>\n",
       "      <td>NaN</td>\n",
       "      <td>NaN</td>\n",
       "      <td>39922</td>\n",
       "    </tr>\n",
       "    <tr>\n",
       "      <th>3</th>\n",
       "      <td>1816644683</td>\n",
       "      <td>4f8eb1e5-6b46-4f17-bcf4-7108941fddc8</td>\n",
       "      <td>INDIVIDUAL</td>\n",
       "      <td>Business Owner Photo is not matching with Aadhaar</td>\n",
       "      <td>businessOwnerPhoto</td>\n",
       "      <td>2025-04-23 11:55:21.000</td>\n",
       "      <td>merchant_common_onboard</td>\n",
       "      <td>NaN</td>\n",
       "      <td>NaN</td>\n",
       "      <td>10231728</td>\n",
       "    </tr>\n",
       "    <tr>\n",
       "      <th>4</th>\n",
       "      <td>1816644683</td>\n",
       "      <td>4f8eb1e5-6b46-4f17-bcf4-7108941fddc8</td>\n",
       "      <td>INDIVIDUAL</td>\n",
       "      <td>The name on PAN does not match with the name a...</td>\n",
       "      <td>pan</td>\n",
       "      <td>2025-04-23 11:55:21.000</td>\n",
       "      <td>merchant_common_onboard</td>\n",
       "      <td>NaN</td>\n",
       "      <td>NaN</td>\n",
       "      <td>10231728</td>\n",
       "    </tr>\n",
       "  </tbody>\n",
       "</table>\n",
       "</div>"
      ],
      "text/plain": [
       "      cust_id                               lead_id entity_type  \\\n",
       "0  1441416634  2093a170-6be5-4809-b1f1-1b8ce6cbe1bc  INDIVIDUAL   \n",
       "1  1949975962  69828061-0e5c-44cf-9d38-fbcae300c890  INDIVIDUAL   \n",
       "2  1949975962  69828061-0e5c-44cf-9d38-fbcae300c890  INDIVIDUAL   \n",
       "3  1816644683  4f8eb1e5-6b46-4f17-bcf4-7108941fddc8  INDIVIDUAL   \n",
       "4  1816644683  4f8eb1e5-6b46-4f17-bcf4-7108941fddc8  INDIVIDUAL   \n",
       "\n",
       "                               rejected_field_reason     rejected_field_name  \\\n",
       "0                Screenshot of Aadhar is not allowed                 aadhaar   \n",
       "1  Bank account holder mismatch with business/pro...  bankVerificationStatus   \n",
       "2   Name on PassBook mismatch with business/KYC name            bankPassbook   \n",
       "3  Business Owner Photo is not matching with Aadhaar      businessOwnerPhoto   \n",
       "4  The name on PAN does not match with the name a...                     pan   \n",
       "\n",
       "                updated_at            solution_type  solution_type_level_2  \\\n",
       "0  2025-04-02 14:59:10.000  merchant_common_onboard                    NaN   \n",
       "1  2025-04-24 15:28:32.000  merchant_common_onboard                    NaN   \n",
       "2  2025-04-24 15:28:32.000  merchant_common_onboard                    NaN   \n",
       "3  2025-04-23 11:55:21.000  merchant_common_onboard                    NaN   \n",
       "4  2025-04-23 11:55:21.000  merchant_common_onboard                    NaN   \n",
       "\n",
       "  solution_type_level_3 FSE_Ecode  \n",
       "0                   NaN  10221771  \n",
       "1                   NaN     39922  \n",
       "2                   NaN     39922  \n",
       "3                   NaN  10231728  \n",
       "4                   NaN  10231728  "
      ]
     },
     "execution_count": 5,
     "metadata": {},
     "output_type": "execute_result"
    }
   ],
   "source": [
    "rejection_data.head(5)"
   ]
  },
  {
   "cell_type": "code",
   "execution_count": 6,
   "metadata": {},
   "outputs": [
    {
     "data": {
      "text/html": [
       "<div>\n",
       "<style scoped>\n",
       "    .dataframe tbody tr th:only-of-type {\n",
       "        vertical-align: middle;\n",
       "    }\n",
       "\n",
       "    .dataframe tbody tr th {\n",
       "        vertical-align: top;\n",
       "    }\n",
       "\n",
       "    .dataframe thead th {\n",
       "        text-align: right;\n",
       "    }\n",
       "</style>\n",
       "<table border=\"1\" class=\"dataframe\">\n",
       "  <thead>\n",
       "    <tr style=\"text-align: right;\">\n",
       "      <th></th>\n",
       "      <th>Lead_ID</th>\n",
       "      <th>Product_Context</th>\n",
       "      <th>Stage movement count</th>\n",
       "      <th>solution_type_level_3</th>\n",
       "    </tr>\n",
       "  </thead>\n",
       "  <tbody>\n",
       "    <tr>\n",
       "      <th>0</th>\n",
       "      <td>01a864d1-f827-49e2-bb94-a7479f025d46</td>\n",
       "      <td>NON_EDC</td>\n",
       "      <td>NaN</td>\n",
       "      <td>NaN</td>\n",
       "    </tr>\n",
       "    <tr>\n",
       "      <th>1</th>\n",
       "      <td>f45b4500-5d21-4d41-b312-a38927a154c0</td>\n",
       "      <td>NON_EDC</td>\n",
       "      <td>NaN</td>\n",
       "      <td>NaN</td>\n",
       "    </tr>\n",
       "    <tr>\n",
       "      <th>2</th>\n",
       "      <td>38d97776-1026-4c53-b084-1d779d4384c9</td>\n",
       "      <td>NON_EDC</td>\n",
       "      <td>{\"PANEL_SUCCESS\":1}</td>\n",
       "      <td>NaN</td>\n",
       "    </tr>\n",
       "    <tr>\n",
       "      <th>3</th>\n",
       "      <td>5ba3895f-c666-4980-9a4d-938df44e3ed4</td>\n",
       "      <td>NON_EDC</td>\n",
       "      <td>NaN</td>\n",
       "      <td>NaN</td>\n",
       "    </tr>\n",
       "    <tr>\n",
       "      <th>4</th>\n",
       "      <td>ffd6f6d8-4e5f-4d3b-84e6-b8c4ea94bbe4</td>\n",
       "      <td>NON_EDC</td>\n",
       "      <td>{\"PANEL_SUCCESS\":1}</td>\n",
       "      <td>NaN</td>\n",
       "    </tr>\n",
       "  </tbody>\n",
       "</table>\n",
       "</div>"
      ],
      "text/plain": [
       "                                Lead_ID Product_Context Stage movement count  \\\n",
       "0  01a864d1-f827-49e2-bb94-a7479f025d46         NON_EDC                  NaN   \n",
       "1  f45b4500-5d21-4d41-b312-a38927a154c0         NON_EDC                  NaN   \n",
       "2  38d97776-1026-4c53-b084-1d779d4384c9         NON_EDC  {\"PANEL_SUCCESS\":1}   \n",
       "3  5ba3895f-c666-4980-9a4d-938df44e3ed4         NON_EDC                  NaN   \n",
       "4  ffd6f6d8-4e5f-4d3b-84e6-b8c4ea94bbe4         NON_EDC  {\"PANEL_SUCCESS\":1}   \n",
       "\n",
       "  solution_type_level_3  \n",
       "0                   NaN  \n",
       "1                   NaN  \n",
       "2                   NaN  \n",
       "3                   NaN  \n",
       "4                   NaN  "
      ]
     },
     "execution_count": 6,
     "metadata": {},
     "output_type": "execute_result"
    }
   ],
   "source": [
    "data=data[['Lead_ID','Product_Context','Stage movement count','solution_type_level_3']]\n",
    "data.head(5)"
   ]
  },
  {
   "cell_type": "code",
   "execution_count": 7,
   "metadata": {},
   "outputs": [
    {
     "data": {
      "text/plain": [
       "KYC_UPDATE         26911\n",
       "ACCOUNT_UPGRADE    11489\n",
       "3P FSE               603\n",
       "DIY                    1\n",
       "Name: solution_type_level_3, dtype: int64"
      ]
     },
     "execution_count": 7,
     "metadata": {},
     "output_type": "execute_result"
    }
   ],
   "source": [
    "data['solution_type_level_3'].value_counts()"
   ]
  },
  {
   "cell_type": "code",
   "execution_count": 8,
   "metadata": {},
   "outputs": [
    {
     "data": {
      "text/html": [
       "<div>\n",
       "<style scoped>\n",
       "    .dataframe tbody tr th:only-of-type {\n",
       "        vertical-align: middle;\n",
       "    }\n",
       "\n",
       "    .dataframe tbody tr th {\n",
       "        vertical-align: top;\n",
       "    }\n",
       "\n",
       "    .dataframe thead th {\n",
       "        text-align: right;\n",
       "    }\n",
       "</style>\n",
       "<table border=\"1\" class=\"dataframe\">\n",
       "  <thead>\n",
       "    <tr style=\"text-align: right;\">\n",
       "      <th></th>\n",
       "      <th>cust_id</th>\n",
       "      <th>lead_id</th>\n",
       "      <th>entity_type</th>\n",
       "      <th>rejected_field_reason</th>\n",
       "      <th>rejected_field_name</th>\n",
       "      <th>updated_at</th>\n",
       "      <th>solution_type</th>\n",
       "      <th>solution_type_level_2</th>\n",
       "      <th>solution_type_level_3</th>\n",
       "      <th>FSE_Ecode</th>\n",
       "    </tr>\n",
       "  </thead>\n",
       "  <tbody>\n",
       "    <tr>\n",
       "      <th>0</th>\n",
       "      <td>1441416634</td>\n",
       "      <td>2093a170-6be5-4809-b1f1-1b8ce6cbe1bc</td>\n",
       "      <td>INDIVIDUAL</td>\n",
       "      <td>Screenshot of Aadhar is not allowed</td>\n",
       "      <td>aadhaar</td>\n",
       "      <td>2025-04-02 14:59:10</td>\n",
       "      <td>merchant_common_onboard</td>\n",
       "      <td>NaN</td>\n",
       "      <td>NaN</td>\n",
       "      <td>10221771</td>\n",
       "    </tr>\n",
       "    <tr>\n",
       "      <th>1</th>\n",
       "      <td>1949975962</td>\n",
       "      <td>69828061-0e5c-44cf-9d38-fbcae300c890</td>\n",
       "      <td>INDIVIDUAL</td>\n",
       "      <td>Bank account holder mismatch with business/pro...</td>\n",
       "      <td>bankVerificationStatus</td>\n",
       "      <td>2025-04-24 15:28:32</td>\n",
       "      <td>merchant_common_onboard</td>\n",
       "      <td>NaN</td>\n",
       "      <td>NaN</td>\n",
       "      <td>39922</td>\n",
       "    </tr>\n",
       "    <tr>\n",
       "      <th>2</th>\n",
       "      <td>1949975962</td>\n",
       "      <td>69828061-0e5c-44cf-9d38-fbcae300c890</td>\n",
       "      <td>INDIVIDUAL</td>\n",
       "      <td>Name on PassBook mismatch with business/KYC name</td>\n",
       "      <td>bankPassbook</td>\n",
       "      <td>2025-04-24 15:28:32</td>\n",
       "      <td>merchant_common_onboard</td>\n",
       "      <td>NaN</td>\n",
       "      <td>NaN</td>\n",
       "      <td>39922</td>\n",
       "    </tr>\n",
       "    <tr>\n",
       "      <th>3</th>\n",
       "      <td>1816644683</td>\n",
       "      <td>4f8eb1e5-6b46-4f17-bcf4-7108941fddc8</td>\n",
       "      <td>INDIVIDUAL</td>\n",
       "      <td>Business Owner Photo is not matching with Aadhaar</td>\n",
       "      <td>businessOwnerPhoto</td>\n",
       "      <td>2025-04-23 11:55:21</td>\n",
       "      <td>merchant_common_onboard</td>\n",
       "      <td>NaN</td>\n",
       "      <td>NaN</td>\n",
       "      <td>10231728</td>\n",
       "    </tr>\n",
       "    <tr>\n",
       "      <th>4</th>\n",
       "      <td>1816644683</td>\n",
       "      <td>4f8eb1e5-6b46-4f17-bcf4-7108941fddc8</td>\n",
       "      <td>INDIVIDUAL</td>\n",
       "      <td>The name on PAN does not match with the name a...</td>\n",
       "      <td>pan</td>\n",
       "      <td>2025-04-23 11:55:21</td>\n",
       "      <td>merchant_common_onboard</td>\n",
       "      <td>NaN</td>\n",
       "      <td>NaN</td>\n",
       "      <td>10231728</td>\n",
       "    </tr>\n",
       "  </tbody>\n",
       "</table>\n",
       "</div>"
      ],
      "text/plain": [
       "      cust_id                               lead_id entity_type  \\\n",
       "0  1441416634  2093a170-6be5-4809-b1f1-1b8ce6cbe1bc  INDIVIDUAL   \n",
       "1  1949975962  69828061-0e5c-44cf-9d38-fbcae300c890  INDIVIDUAL   \n",
       "2  1949975962  69828061-0e5c-44cf-9d38-fbcae300c890  INDIVIDUAL   \n",
       "3  1816644683  4f8eb1e5-6b46-4f17-bcf4-7108941fddc8  INDIVIDUAL   \n",
       "4  1816644683  4f8eb1e5-6b46-4f17-bcf4-7108941fddc8  INDIVIDUAL   \n",
       "\n",
       "                               rejected_field_reason     rejected_field_name  \\\n",
       "0                Screenshot of Aadhar is not allowed                 aadhaar   \n",
       "1  Bank account holder mismatch with business/pro...  bankVerificationStatus   \n",
       "2   Name on PassBook mismatch with business/KYC name            bankPassbook   \n",
       "3  Business Owner Photo is not matching with Aadhaar      businessOwnerPhoto   \n",
       "4  The name on PAN does not match with the name a...                     pan   \n",
       "\n",
       "           updated_at            solution_type  solution_type_level_2  \\\n",
       "0 2025-04-02 14:59:10  merchant_common_onboard                    NaN   \n",
       "1 2025-04-24 15:28:32  merchant_common_onboard                    NaN   \n",
       "2 2025-04-24 15:28:32  merchant_common_onboard                    NaN   \n",
       "3 2025-04-23 11:55:21  merchant_common_onboard                    NaN   \n",
       "4 2025-04-23 11:55:21  merchant_common_onboard                    NaN   \n",
       "\n",
       "  solution_type_level_3 FSE_Ecode  \n",
       "0                   NaN  10221771  \n",
       "1                   NaN     39922  \n",
       "2                   NaN     39922  \n",
       "3                   NaN  10231728  \n",
       "4                   NaN  10231728  "
      ]
     },
     "execution_count": 8,
     "metadata": {},
     "output_type": "execute_result"
    }
   ],
   "source": [
    "rejection_data['updated_at']=pd.to_datetime(rejection_data['updated_at'],errors='coerce')\n",
    "rejection_data.head(5)"
   ]
  },
  {
   "cell_type": "code",
   "execution_count": 9,
   "metadata": {},
   "outputs": [
    {
     "data": {
      "text/plain": [
       "Timestamp('2025-04-26 00:00:00')"
      ]
     },
     "execution_count": 9,
     "metadata": {},
     "output_type": "execute_result"
    }
   ],
   "source": [
    "current_date = pd.Timestamp(datetime.now().date())\n",
    "current_date\n"
   ]
  },
  {
   "cell_type": "code",
   "execution_count": 10,
   "metadata": {},
   "outputs": [
    {
     "name": "stderr",
     "output_type": "stream",
     "text": [
      "c:\\ProgramData\\Anaconda3\\lib\\site-packages\\pandas\\core\\ops\\array_ops.py:73: FutureWarning: Comparison of Timestamp with datetime.date is deprecated in order to match the standard library behavior. In a future version these will be considered non-comparable. Use 'ts == pd.Timestamp(date)' or 'ts.date() == date' instead.\n",
      "  result = libops.scalar_compare(x.ravel(), y, op)\n"
     ]
    },
    {
     "data": {
      "text/plain": [
       "43776"
      ]
     },
     "execution_count": 10,
     "metadata": {},
     "output_type": "execute_result"
    }
   ],
   "source": [
    "rejection_data=rejection_data[rejection_data['updated_at'].dt.date != current_date]\n",
    "len(rejection_data)"
   ]
  },
  {
   "cell_type": "code",
   "execution_count": 11,
   "metadata": {},
   "outputs": [
    {
     "data": {
      "text/plain": [
       "array([nan, 'KYC_UPDATE', 'ACCOUNT_UPGRADE_LENDING', 'ACCOUNT_UPGRADE',\n",
       "       'PROFILE_UPDATE', 'DIY'], dtype=object)"
      ]
     },
     "execution_count": 11,
     "metadata": {},
     "output_type": "execute_result"
    }
   ],
   "source": [
    "rejection_data['solution_type_level_3'].unique()"
   ]
  },
  {
   "cell_type": "code",
   "execution_count": 12,
   "metadata": {},
   "outputs": [
    {
     "data": {
      "text/plain": [
       "array([nan, 'KYC_UPDATE', 'ACCOUNT_UPGRADE_LENDING', 'ACCOUNT_UPGRADE',\n",
       "       'PROFILE_UPDATE', 'DIY'], dtype=object)"
      ]
     },
     "execution_count": 12,
     "metadata": {},
     "output_type": "execute_result"
    }
   ],
   "source": [
    "rejection_data=rejection_data[rejection_data['solution_type_level_3']!='YBL_LIMIT_ENHANCEMENT']\n",
    "\n",
    "rejection_data['solution_type_level_3'].unique()"
   ]
  },
  {
   "cell_type": "code",
   "execution_count": 13,
   "metadata": {},
   "outputs": [
    {
     "data": {
      "text/plain": [
       "array([nan, 'KYC_UPDATE', 'ACCOUNT_UPGRADE', 'DIY'], dtype=object)"
      ]
     },
     "execution_count": 13,
     "metadata": {},
     "output_type": "execute_result"
    }
   ],
   "source": [
    "rejection_data['solution_type_level_3']=rejection_data['solution_type_level_3'].replace(['ACCOUNT_UPGRADE_LENDING','PROFILE_UPDATE'],'ACCOUNT_UPGRADE')\n",
    "\n",
    "rejection_data['solution_type_level_3'].unique()"
   ]
  },
  {
   "cell_type": "code",
   "execution_count": 14,
   "metadata": {},
   "outputs": [
    {
     "data": {
      "text/plain": [
       "ACCOUNT_UPGRADE    3780\n",
       "KYC_UPDATE         3222\n",
       "DIY                  11\n",
       "Name: solution_type_level_3, dtype: int64"
      ]
     },
     "execution_count": 14,
     "metadata": {},
     "output_type": "execute_result"
    }
   ],
   "source": [
    "rejection_data['solution_type_level_3'].value_counts()"
   ]
  },
  {
   "cell_type": "code",
   "execution_count": 15,
   "metadata": {},
   "outputs": [
    {
     "data": {
      "text/plain": [
       "INDIVIDUAL            29382\n",
       "PROPRIETORSHIP        12961\n",
       "NON_PROPRIETORSHIP     1433\n",
       "Name: entity_type, dtype: int64"
      ]
     },
     "execution_count": 15,
     "metadata": {},
     "output_type": "execute_result"
    }
   ],
   "source": [
    "rejection_data.loc[~rejection_data['entity_type'].isin(['INDIVIDUAL','PROPRIETORSHIP']),'entity_type']='NON_PROPRIETORSHIP'\n",
    "rejection_data['entity_type'].value_counts()"
   ]
  },
  {
   "cell_type": "code",
   "execution_count": 16,
   "metadata": {},
   "outputs": [
    {
     "data": {
      "text/plain": [
       "ACCOUNT_UPGRADE    3780\n",
       "KYC_UPDATE         3222\n",
       "Name: solution_type_level_3, dtype: int64"
      ]
     },
     "execution_count": 16,
     "metadata": {},
     "output_type": "execute_result"
    }
   ],
   "source": [
    "kyc_acc_rejection=rejection_data[rejection_data[\"solution_type_level_3\"].isin([\"ACCOUNT_UPGRADE\",\"KYC_UPDATE\"])]\n",
    "kyc_acc_rejection['solution_type_level_3'].value_counts()\n"
   ]
  },
  {
   "cell_type": "code",
   "execution_count": 17,
   "metadata": {},
   "outputs": [
    {
     "data": {
      "text/plain": [
       "36774"
      ]
     },
     "execution_count": 17,
     "metadata": {},
     "output_type": "execute_result"
    }
   ],
   "source": [
    "mco_rejection=rejection_data[~rejection_data[\"solution_type_level_3\"].isin([\"ACCOUNT_UPGRADE\",\"KYC_UPDATE\"])]\n",
    "len(mco_rejection)"
   ]
  },
  {
   "cell_type": "code",
   "execution_count": 18,
   "metadata": {},
   "outputs": [
    {
     "data": {
      "text/plain": [
       "Index(['cust_id', 'lead_id', 'entity_type', 'entuty_type_1',\n",
       "       'rejected_field_reason', 'rejected_field_name', 'updated_at',\n",
       "       'solution_type', 'solution_type_level_2', 'solution_type_level_3',\n",
       "       'FSE_Ecode'],\n",
       "      dtype='object')"
      ]
     },
     "execution_count": 18,
     "metadata": {},
     "output_type": "execute_result"
    }
   ],
   "source": [
    "kyc_acc_rejection.insert(kyc_acc_rejection.columns.get_loc('entity_type')+1,'entuty_type_1',np.nan)\n",
    "kyc_acc_rejection.columns"
   ]
  },
  {
   "cell_type": "code",
   "execution_count": 19,
   "metadata": {},
   "outputs": [
    {
     "name": "stderr",
     "output_type": "stream",
     "text": [
      "C:\\Users\\avnish1.yadav\\AppData\\Local\\Temp\\ipykernel_16988\\272290521.py:1: SettingWithCopyWarning: \n",
      "A value is trying to be set on a copy of a slice from a DataFrame.\n",
      "Try using .loc[row_indexer,col_indexer] = value instead\n",
      "\n",
      "See the caveats in the documentation: https://pandas.pydata.org/pandas-docs/stable/user_guide/indexing.html#returning-a-view-versus-a-copy\n",
      "  kyc_acc_rejection.loc[:, 'entuty_type_1'] = kyc_acc_rejection['entity_type']\n"
     ]
    },
    {
     "data": {
      "text/plain": [
       "PROPRIETORSHIP        5332\n",
       "INDIVIDUAL            1576\n",
       "NON_PROPRIETORSHIP      94\n",
       "Name: entuty_type_1, dtype: int64"
      ]
     },
     "execution_count": 19,
     "metadata": {},
     "output_type": "execute_result"
    }
   ],
   "source": [
    "kyc_acc_rejection.loc[:, 'entuty_type_1'] = kyc_acc_rejection['entity_type']\n",
    "kyc_acc_rejection['entuty_type_1'].value_counts()"
   ]
  },
  {
   "cell_type": "code",
   "execution_count": 20,
   "metadata": {},
   "outputs": [
    {
     "name": "stderr",
     "output_type": "stream",
     "text": [
      "C:\\Users\\avnish1.yadav\\AppData\\Local\\Temp\\ipykernel_16988\\2156595060.py:1: SettingWithCopyWarning: \n",
      "A value is trying to be set on a copy of a slice from a DataFrame.\n",
      "Try using .loc[row_indexer,col_indexer] = value instead\n",
      "\n",
      "See the caveats in the documentation: https://pandas.pydata.org/pandas-docs/stable/user_guide/indexing.html#returning-a-view-versus-a-copy\n",
      "  kyc_acc_rejection['entuty_type_1']=kyc_acc_rejection['entuty_type_1'].replace(['PROPRIETORSHIP','NON_PROPRIETORSHIP'],'NON_EDC')\n"
     ]
    },
    {
     "data": {
      "text/plain": [
       "NON_EDC       5426\n",
       "INDIVIDUAL    1576\n",
       "Name: entuty_type_1, dtype: int64"
      ]
     },
     "execution_count": 20,
     "metadata": {},
     "output_type": "execute_result"
    }
   ],
   "source": [
    "kyc_acc_rejection['entuty_type_1']=kyc_acc_rejection['entuty_type_1'].replace(['PROPRIETORSHIP','NON_PROPRIETORSHIP'],'NON_EDC')\n",
    "kyc_acc_rejection['entuty_type_1'].value_counts()"
   ]
  },
  {
   "cell_type": "code",
   "execution_count": 21,
   "metadata": {},
   "outputs": [
    {
     "data": {
      "text/plain": [
       "Index(['cust_id', 'lead_id', 'entity_type', 'entuty_type_1',\n",
       "       'rejected_field_reason', 'rejected_field_name', 'updated_at',\n",
       "       'solution_type', 'solution_type_level_3', 'FSE_Ecode'],\n",
       "      dtype='object')"
      ]
     },
     "execution_count": 21,
     "metadata": {},
     "output_type": "execute_result"
    }
   ],
   "source": [
    "kyc_acc_rejection=kyc_acc_rejection.drop(columns=['solution_type_level_2'])\n",
    "kyc_acc_rejection.columns"
   ]
  },
  {
   "cell_type": "code",
   "execution_count": 22,
   "metadata": {},
   "outputs": [],
   "source": [
    "kyc_acc_rejection=pd.merge(kyc_acc_rejection,data,left_on='lead_id',right_on='Lead_ID',how='left')\n",
    "kyc_acc_rejection=kyc_acc_rejection.drop(columns=['Lead_ID'])"
   ]
  },
  {
   "cell_type": "code",
   "execution_count": 23,
   "metadata": {},
   "outputs": [
    {
     "data": {
      "text/plain": [
       "Index(['cust_id', 'lead_id', 'entity_type', 'entuty_type_1',\n",
       "       'rejected_field_reason', 'rejected_field_name', 'updated_at',\n",
       "       'solution_type', 'solution_type_level_3_x', 'FSE_Ecode',\n",
       "       'Product_Context', 'Stage movement count', 'solution_type_level_3_y'],\n",
       "      dtype='object')"
      ]
     },
     "execution_count": 23,
     "metadata": {},
     "output_type": "execute_result"
    }
   ],
   "source": [
    "kyc_acc_rejection.columns"
   ]
  },
  {
   "cell_type": "code",
   "execution_count": 24,
   "metadata": {},
   "outputs": [],
   "source": [
    "kyc_acc_rejection.loc[kyc_acc_rejection['solution_type_level_3_y']=='3P FSE','solution_type_level_3_x']='3P FSE'"
   ]
  },
  {
   "cell_type": "code",
   "execution_count": 25,
   "metadata": {},
   "outputs": [
    {
     "data": {
      "text/plain": [
       "ACCOUNT_UPGRADE    3780\n",
       "KYC_UPDATE         3077\n",
       "3P FSE              145\n",
       "Name: solution_type_level_3_x, dtype: int64"
      ]
     },
     "execution_count": 25,
     "metadata": {},
     "output_type": "execute_result"
    }
   ],
   "source": [
    "kyc_acc_rejection['solution_type_level_3_x'].value_counts()"
   ]
  },
  {
   "cell_type": "code",
   "execution_count": 26,
   "metadata": {},
   "outputs": [
    {
     "data": {
      "text/plain": [
       "Index(['cust_id', 'lead_id', 'entity_type', 'entuty_type_1',\n",
       "       'rejected_field_reason', 'rejected_field_name', 'updated_at',\n",
       "       'solution_type', 'solution_type_level_3_x', 'FSE_Ecode',\n",
       "       'Product_Context', 'Stage movement count', 'solution_type_level_3_y'],\n",
       "      dtype='object')"
      ]
     },
     "execution_count": 26,
     "metadata": {},
     "output_type": "execute_result"
    }
   ],
   "source": [
    "kyc_acc_rejection.columns"
   ]
  },
  {
   "cell_type": "code",
   "execution_count": 27,
   "metadata": {},
   "outputs": [
    {
     "data": {
      "text/plain": [
       "Index(['cust_id', 'lead_id', 'entity_type', 'entuty_type_1',\n",
       "       'rejected_field_reason', 'rejected_field_name', 'updated_at',\n",
       "       'solution_type', 'solution_type_level_3_x', 'Product_Context',\n",
       "       'Stage movement count', 'solution_type_level_3_y'],\n",
       "      dtype='object')"
      ]
     },
     "execution_count": 27,
     "metadata": {},
     "output_type": "execute_result"
    }
   ],
   "source": [
    "kyc_acc_rejection = kyc_acc_rejection.drop(columns=['FSE_Ecode'])\n",
    "kyc_acc_rejection.columns\n"
   ]
  },
  {
   "cell_type": "code",
   "execution_count": 28,
   "metadata": {},
   "outputs": [
    {
     "data": {
      "text/plain": [
       "Index(['cust_id', 'lead_id', 'entity_type', 'rejected_field_reason',\n",
       "       'rejected_field_name', 'updated_at', 'solution_type_level_3',\n",
       "       'FSE_Ecode'],\n",
       "      dtype='object')"
      ]
     },
     "execution_count": 28,
     "metadata": {},
     "output_type": "execute_result"
    }
   ],
   "source": [
    "mco_rejection=mco_rejection.drop(columns=['solution_type_level_2','solution_type'])\n",
    "mco_rejection.columns"
   ]
  },
  {
   "cell_type": "code",
   "execution_count": 29,
   "metadata": {},
   "outputs": [],
   "source": [
    "mco_rejection.insert(mco_rejection.columns.get_loc('entity_type')+1,'entuty_type_1',np.nan)\n",
    "mco_rejection.insert(mco_rejection.columns.get_loc('entuty_type_1')+1,'Product_Context',np.nan)\n",
    "mco_rejection.insert(mco_rejection.columns.get_loc('rejected_field_name')+1,'Stage movement count',np.nan)"
   ]
  },
  {
   "cell_type": "code",
   "execution_count": 30,
   "metadata": {},
   "outputs": [],
   "source": [
    "mco_rejection=pd.merge(mco_rejection,data,left_on='lead_id',right_on='Lead_ID',how='left')\n",
    "mco_rejection=mco_rejection.drop(columns=['Lead_ID'])"
   ]
  },
  {
   "cell_type": "code",
   "execution_count": 31,
   "metadata": {},
   "outputs": [
    {
     "data": {
      "text/plain": [
       "Index(['cust_id', 'lead_id', 'entity_type', 'entuty_type_1',\n",
       "       'Product_Context_x', 'rejected_field_reason', 'rejected_field_name',\n",
       "       'Stage movement count_x', 'updated_at', 'solution_type_level_3_x',\n",
       "       'FSE_Ecode', 'Product_Context_y', 'Stage movement count_y',\n",
       "       'solution_type_level_3_y'],\n",
       "      dtype='object')"
      ]
     },
     "execution_count": 31,
     "metadata": {},
     "output_type": "execute_result"
    }
   ],
   "source": [
    "mco_rejection.columns"
   ]
  },
  {
   "cell_type": "code",
   "execution_count": 32,
   "metadata": {},
   "outputs": [],
   "source": [
    "mco_rejection['Product_Context_x']=mco_rejection['Product_Context_y']\n",
    "mco_rejection['Stage movement count_x']=mco_rejection['Stage movement count_y']\n",
    "mco_rejection['entuty_type_1']=mco_rejection['entity_type']\n",
    "mco_rejection=mco_rejection.drop(columns=['Product_Context_y','Stage movement count_y'])"
   ]
  },
  {
   "cell_type": "code",
   "execution_count": 33,
   "metadata": {},
   "outputs": [],
   "source": [
    "mco_rejection.loc[mco_rejection['entuty_type_1'].isin(['PROPRIETORSHIP','NON_PROPRIETORSHIP']),'entuty_type_1']=mco_rejection['Product_Context_x']\n"
   ]
  },
  {
   "cell_type": "code",
   "execution_count": 34,
   "metadata": {},
   "outputs": [
    {
     "data": {
      "text/html": [
       "<div>\n",
       "<style scoped>\n",
       "    .dataframe tbody tr th:only-of-type {\n",
       "        vertical-align: middle;\n",
       "    }\n",
       "\n",
       "    .dataframe tbody tr th {\n",
       "        vertical-align: top;\n",
       "    }\n",
       "\n",
       "    .dataframe thead th {\n",
       "        text-align: right;\n",
       "    }\n",
       "</style>\n",
       "<table border=\"1\" class=\"dataframe\">\n",
       "  <thead>\n",
       "    <tr style=\"text-align: right;\">\n",
       "      <th></th>\n",
       "      <th>cust_id</th>\n",
       "      <th>lead_id</th>\n",
       "      <th>entity_type</th>\n",
       "      <th>entuty_type_1</th>\n",
       "      <th>Product_Context_x</th>\n",
       "      <th>rejected_field_reason</th>\n",
       "      <th>rejected_field_name</th>\n",
       "      <th>Stage movement count_x</th>\n",
       "      <th>updated_at</th>\n",
       "      <th>solution_type_level_3_x</th>\n",
       "      <th>FSE_Ecode</th>\n",
       "      <th>solution_type_level_3_y</th>\n",
       "    </tr>\n",
       "  </thead>\n",
       "  <tbody>\n",
       "    <tr>\n",
       "      <th>0</th>\n",
       "      <td>1441416634</td>\n",
       "      <td>2093a170-6be5-4809-b1f1-1b8ce6cbe1bc</td>\n",
       "      <td>INDIVIDUAL</td>\n",
       "      <td>INDIVIDUAL</td>\n",
       "      <td>NON_EDC</td>\n",
       "      <td>Screenshot of Aadhar is not allowed</td>\n",
       "      <td>aadhaar</td>\n",
       "      <td>{\"QC_REJECTED\":1}</td>\n",
       "      <td>2025-04-02 14:59:10</td>\n",
       "      <td>NaN</td>\n",
       "      <td>10221771</td>\n",
       "      <td>NaN</td>\n",
       "    </tr>\n",
       "    <tr>\n",
       "      <th>1</th>\n",
       "      <td>1949975962</td>\n",
       "      <td>69828061-0e5c-44cf-9d38-fbcae300c890</td>\n",
       "      <td>INDIVIDUAL</td>\n",
       "      <td>INDIVIDUAL</td>\n",
       "      <td>NON_EDC</td>\n",
       "      <td>Bank account holder mismatch with business/pro...</td>\n",
       "      <td>bankVerificationStatus</td>\n",
       "      <td>{\"QC_REJECTED\":2}</td>\n",
       "      <td>2025-04-24 15:28:32</td>\n",
       "      <td>NaN</td>\n",
       "      <td>39922</td>\n",
       "      <td>NaN</td>\n",
       "    </tr>\n",
       "    <tr>\n",
       "      <th>2</th>\n",
       "      <td>1949975962</td>\n",
       "      <td>69828061-0e5c-44cf-9d38-fbcae300c890</td>\n",
       "      <td>INDIVIDUAL</td>\n",
       "      <td>INDIVIDUAL</td>\n",
       "      <td>NON_EDC</td>\n",
       "      <td>Name on PassBook mismatch with business/KYC name</td>\n",
       "      <td>bankPassbook</td>\n",
       "      <td>{\"QC_REJECTED\":2}</td>\n",
       "      <td>2025-04-24 15:28:32</td>\n",
       "      <td>NaN</td>\n",
       "      <td>39922</td>\n",
       "      <td>NaN</td>\n",
       "    </tr>\n",
       "    <tr>\n",
       "      <th>3</th>\n",
       "      <td>1816644683</td>\n",
       "      <td>4f8eb1e5-6b46-4f17-bcf4-7108941fddc8</td>\n",
       "      <td>INDIVIDUAL</td>\n",
       "      <td>INDIVIDUAL</td>\n",
       "      <td>NON_EDC</td>\n",
       "      <td>Business Owner Photo is not matching with Aadhaar</td>\n",
       "      <td>businessOwnerPhoto</td>\n",
       "      <td>{\"QC_REJECTED\":1}</td>\n",
       "      <td>2025-04-23 11:55:21</td>\n",
       "      <td>NaN</td>\n",
       "      <td>10231728</td>\n",
       "      <td>NaN</td>\n",
       "    </tr>\n",
       "    <tr>\n",
       "      <th>4</th>\n",
       "      <td>1816644683</td>\n",
       "      <td>4f8eb1e5-6b46-4f17-bcf4-7108941fddc8</td>\n",
       "      <td>INDIVIDUAL</td>\n",
       "      <td>INDIVIDUAL</td>\n",
       "      <td>NON_EDC</td>\n",
       "      <td>The name on PAN does not match with the name a...</td>\n",
       "      <td>pan</td>\n",
       "      <td>{\"QC_REJECTED\":1}</td>\n",
       "      <td>2025-04-23 11:55:21</td>\n",
       "      <td>NaN</td>\n",
       "      <td>10231728</td>\n",
       "      <td>NaN</td>\n",
       "    </tr>\n",
       "  </tbody>\n",
       "</table>\n",
       "</div>"
      ],
      "text/plain": [
       "      cust_id                               lead_id entity_type entuty_type_1  \\\n",
       "0  1441416634  2093a170-6be5-4809-b1f1-1b8ce6cbe1bc  INDIVIDUAL    INDIVIDUAL   \n",
       "1  1949975962  69828061-0e5c-44cf-9d38-fbcae300c890  INDIVIDUAL    INDIVIDUAL   \n",
       "2  1949975962  69828061-0e5c-44cf-9d38-fbcae300c890  INDIVIDUAL    INDIVIDUAL   \n",
       "3  1816644683  4f8eb1e5-6b46-4f17-bcf4-7108941fddc8  INDIVIDUAL    INDIVIDUAL   \n",
       "4  1816644683  4f8eb1e5-6b46-4f17-bcf4-7108941fddc8  INDIVIDUAL    INDIVIDUAL   \n",
       "\n",
       "  Product_Context_x                              rejected_field_reason  \\\n",
       "0           NON_EDC                Screenshot of Aadhar is not allowed   \n",
       "1           NON_EDC  Bank account holder mismatch with business/pro...   \n",
       "2           NON_EDC   Name on PassBook mismatch with business/KYC name   \n",
       "3           NON_EDC  Business Owner Photo is not matching with Aadhaar   \n",
       "4           NON_EDC  The name on PAN does not match with the name a...   \n",
       "\n",
       "      rejected_field_name Stage movement count_x          updated_at  \\\n",
       "0                 aadhaar      {\"QC_REJECTED\":1} 2025-04-02 14:59:10   \n",
       "1  bankVerificationStatus      {\"QC_REJECTED\":2} 2025-04-24 15:28:32   \n",
       "2            bankPassbook      {\"QC_REJECTED\":2} 2025-04-24 15:28:32   \n",
       "3      businessOwnerPhoto      {\"QC_REJECTED\":1} 2025-04-23 11:55:21   \n",
       "4                     pan      {\"QC_REJECTED\":1} 2025-04-23 11:55:21   \n",
       "\n",
       "  solution_type_level_3_x FSE_Ecode solution_type_level_3_y  \n",
       "0                     NaN  10221771                     NaN  \n",
       "1                     NaN     39922                     NaN  \n",
       "2                     NaN     39922                     NaN  \n",
       "3                     NaN  10231728                     NaN  \n",
       "4                     NaN  10231728                     NaN  "
      ]
     },
     "execution_count": 34,
     "metadata": {},
     "output_type": "execute_result"
    }
   ],
   "source": [
    "mco_rejection.head(5)"
   ]
  },
  {
   "cell_type": "code",
   "execution_count": 35,
   "metadata": {},
   "outputs": [
    {
     "data": {
      "text/html": [
       "<div>\n",
       "<style scoped>\n",
       "    .dataframe tbody tr th:only-of-type {\n",
       "        vertical-align: middle;\n",
       "    }\n",
       "\n",
       "    .dataframe tbody tr th {\n",
       "        vertical-align: top;\n",
       "    }\n",
       "\n",
       "    .dataframe thead th {\n",
       "        text-align: right;\n",
       "    }\n",
       "</style>\n",
       "<table border=\"1\" class=\"dataframe\">\n",
       "  <thead>\n",
       "    <tr style=\"text-align: right;\">\n",
       "      <th></th>\n",
       "      <th>cust_id</th>\n",
       "      <th>lead_id</th>\n",
       "      <th>entity_type</th>\n",
       "      <th>entuty_type_1</th>\n",
       "      <th>rejected_field_reason</th>\n",
       "      <th>rejected_field_name</th>\n",
       "      <th>updated_at</th>\n",
       "      <th>solution_type</th>\n",
       "      <th>solution_type_level_3_x</th>\n",
       "      <th>Product_Context</th>\n",
       "      <th>Stage movement count</th>\n",
       "      <th>solution_type_level_3_y</th>\n",
       "    </tr>\n",
       "  </thead>\n",
       "  <tbody>\n",
       "    <tr>\n",
       "      <th>0</th>\n",
       "      <td>1453336800</td>\n",
       "      <td>9c0e3b82-1c8f-495d-a8da-2916acf3e291</td>\n",
       "      <td>INDIVIDUAL</td>\n",
       "      <td>INDIVIDUAL</td>\n",
       "      <td>Business Owner Photo is not matching with Aadhaar</td>\n",
       "      <td>businessOwnerPhoto</td>\n",
       "      <td>2025-04-03 17:58:10</td>\n",
       "      <td>merchant_common_onboard</td>\n",
       "      <td>KYC_UPDATE</td>\n",
       "      <td>NON_EDC</td>\n",
       "      <td>{\"QC_REJECTED\":2}</td>\n",
       "      <td>KYC_UPDATE</td>\n",
       "    </tr>\n",
       "    <tr>\n",
       "      <th>1</th>\n",
       "      <td>1014079372</td>\n",
       "      <td>8e279e0e-1c91-4802-80b4-e561550fc060</td>\n",
       "      <td>PROPRIETORSHIP</td>\n",
       "      <td>NON_EDC</td>\n",
       "      <td>Name on Aadhar mismatch with name as per Pan/KYC</td>\n",
       "      <td>aadharVerificationStatus</td>\n",
       "      <td>2025-04-15 13:49:20</td>\n",
       "      <td>merchant_common_onboard</td>\n",
       "      <td>ACCOUNT_UPGRADE</td>\n",
       "      <td>NON_EDC</td>\n",
       "      <td>{\"QC_REJECTED\":1}</td>\n",
       "      <td>ACCOUNT_UPGRADE</td>\n",
       "    </tr>\n",
       "    <tr>\n",
       "      <th>2</th>\n",
       "      <td>1014079372</td>\n",
       "      <td>8e279e0e-1c91-4802-80b4-e561550fc060</td>\n",
       "      <td>PROPRIETORSHIP</td>\n",
       "      <td>NON_EDC</td>\n",
       "      <td>Random photo</td>\n",
       "      <td>businessOwnerPhoto</td>\n",
       "      <td>2025-04-15 13:49:20</td>\n",
       "      <td>merchant_common_onboard</td>\n",
       "      <td>ACCOUNT_UPGRADE</td>\n",
       "      <td>NON_EDC</td>\n",
       "      <td>{\"QC_REJECTED\":1}</td>\n",
       "      <td>ACCOUNT_UPGRADE</td>\n",
       "    </tr>\n",
       "    <tr>\n",
       "      <th>3</th>\n",
       "      <td>1026172190</td>\n",
       "      <td>1c6695d5-33d3-4726-87c8-d89f1bb3002b</td>\n",
       "      <td>PROPRIETORSHIP</td>\n",
       "      <td>NON_EDC</td>\n",
       "      <td>Not a fixed shop</td>\n",
       "      <td>shopFrontPhoto</td>\n",
       "      <td>2025-04-08 19:42:34</td>\n",
       "      <td>merchant_common_onboard</td>\n",
       "      <td>ACCOUNT_UPGRADE</td>\n",
       "      <td>NON_EDC</td>\n",
       "      <td>{\"QC_REJECTED\":1}</td>\n",
       "      <td>ACCOUNT_UPGRADE</td>\n",
       "    </tr>\n",
       "    <tr>\n",
       "      <th>4</th>\n",
       "      <td>1185418856</td>\n",
       "      <td>82902672-64bd-46c2-8c6b-2898ebcfdf10</td>\n",
       "      <td>PROPRIETORSHIP</td>\n",
       "      <td>NON_EDC</td>\n",
       "      <td>Proprietor name mismatch with NSDL name</td>\n",
       "      <td>foodLicense</td>\n",
       "      <td>2025-04-22 14:05:40</td>\n",
       "      <td>merchant_common_onboard</td>\n",
       "      <td>ACCOUNT_UPGRADE</td>\n",
       "      <td>NON_EDC</td>\n",
       "      <td>{\"QC_REJECTED\":1}</td>\n",
       "      <td>ACCOUNT_UPGRADE</td>\n",
       "    </tr>\n",
       "  </tbody>\n",
       "</table>\n",
       "</div>"
      ],
      "text/plain": [
       "      cust_id                               lead_id     entity_type  \\\n",
       "0  1453336800  9c0e3b82-1c8f-495d-a8da-2916acf3e291      INDIVIDUAL   \n",
       "1  1014079372  8e279e0e-1c91-4802-80b4-e561550fc060  PROPRIETORSHIP   \n",
       "2  1014079372  8e279e0e-1c91-4802-80b4-e561550fc060  PROPRIETORSHIP   \n",
       "3  1026172190  1c6695d5-33d3-4726-87c8-d89f1bb3002b  PROPRIETORSHIP   \n",
       "4  1185418856  82902672-64bd-46c2-8c6b-2898ebcfdf10  PROPRIETORSHIP   \n",
       "\n",
       "  entuty_type_1                              rejected_field_reason  \\\n",
       "0    INDIVIDUAL  Business Owner Photo is not matching with Aadhaar   \n",
       "1       NON_EDC   Name on Aadhar mismatch with name as per Pan/KYC   \n",
       "2       NON_EDC                                       Random photo   \n",
       "3       NON_EDC                                   Not a fixed shop   \n",
       "4       NON_EDC            Proprietor name mismatch with NSDL name   \n",
       "\n",
       "        rejected_field_name          updated_at            solution_type  \\\n",
       "0        businessOwnerPhoto 2025-04-03 17:58:10  merchant_common_onboard   \n",
       "1  aadharVerificationStatus 2025-04-15 13:49:20  merchant_common_onboard   \n",
       "2        businessOwnerPhoto 2025-04-15 13:49:20  merchant_common_onboard   \n",
       "3            shopFrontPhoto 2025-04-08 19:42:34  merchant_common_onboard   \n",
       "4               foodLicense 2025-04-22 14:05:40  merchant_common_onboard   \n",
       "\n",
       "  solution_type_level_3_x Product_Context Stage movement count  \\\n",
       "0              KYC_UPDATE         NON_EDC    {\"QC_REJECTED\":2}   \n",
       "1         ACCOUNT_UPGRADE         NON_EDC    {\"QC_REJECTED\":1}   \n",
       "2         ACCOUNT_UPGRADE         NON_EDC    {\"QC_REJECTED\":1}   \n",
       "3         ACCOUNT_UPGRADE         NON_EDC    {\"QC_REJECTED\":1}   \n",
       "4         ACCOUNT_UPGRADE         NON_EDC    {\"QC_REJECTED\":1}   \n",
       "\n",
       "  solution_type_level_3_y  \n",
       "0              KYC_UPDATE  \n",
       "1         ACCOUNT_UPGRADE  \n",
       "2         ACCOUNT_UPGRADE  \n",
       "3         ACCOUNT_UPGRADE  \n",
       "4         ACCOUNT_UPGRADE  "
      ]
     },
     "execution_count": 35,
     "metadata": {},
     "output_type": "execute_result"
    }
   ],
   "source": [
    "kyc_acc_rejection.head(5)"
   ]
  },
  {
   "cell_type": "code",
   "execution_count": 36,
   "metadata": {},
   "outputs": [],
   "source": [
    "#mco_rejection=mco_rejection.drop(columns=['solution_type_level_3_y'])\n",
    "kyc_acc_rejection=kyc_acc_rejection.drop(columns=['Product_Context', 'Stage movement count', 'solution_type_level_3_y'])"
   ]
  },
  {
   "cell_type": "code",
   "execution_count": 37,
   "metadata": {},
   "outputs": [
    {
     "data": {
      "text/plain": [
       "Index(['cust_id', 'lead_id', 'entity_type', 'entuty_type_1',\n",
       "       'rejected_field_reason', 'rejected_field_name', 'updated_at',\n",
       "       'solution_type', 'solution_type_level_3_x'],\n",
       "      dtype='object')"
      ]
     },
     "execution_count": 37,
     "metadata": {},
     "output_type": "execute_result"
    }
   ],
   "source": [
    "kyc_acc_rejection.columns"
   ]
  },
  {
   "cell_type": "code",
   "execution_count": 38,
   "metadata": {},
   "outputs": [],
   "source": [
    "mco_rejection=mco_rejection.drop(columns=['solution_type_level_3_x', 'solution_type_level_3_y'])"
   ]
  },
  {
   "cell_type": "code",
   "execution_count": 39,
   "metadata": {},
   "outputs": [
    {
     "data": {
      "text/plain": [
       "Index(['cust_id', 'lead_id', 'entity_type', 'entuty_type_1',\n",
       "       'Product_Context_x', 'rejected_field_reason', 'rejected_field_name',\n",
       "       'Stage movement count_x', 'updated_at', 'FSE_Ecode'],\n",
       "      dtype='object')"
      ]
     },
     "execution_count": 39,
     "metadata": {},
     "output_type": "execute_result"
    }
   ],
   "source": [
    "mco_rejection.columns"
   ]
  },
  {
   "cell_type": "code",
   "execution_count": 40,
   "metadata": {},
   "outputs": [
    {
     "data": {
      "text/plain": [
       "36774"
      ]
     },
     "execution_count": 40,
     "metadata": {},
     "output_type": "execute_result"
    }
   ],
   "source": [
    "len(mco_rejection)"
   ]
  },
  {
   "cell_type": "code",
   "execution_count": 41,
   "metadata": {},
   "outputs": [
    {
     "data": {
      "text/plain": [
       "5164"
      ]
     },
     "execution_count": 41,
     "metadata": {},
     "output_type": "execute_result"
    }
   ],
   "source": [
    "mco_rejection['Product_Context_x'].isna().sum()"
   ]
  },
  {
   "cell_type": "code",
   "execution_count": 42,
   "metadata": {},
   "outputs": [
    {
     "data": {
      "text/plain": [
       "31610"
      ]
     },
     "execution_count": 42,
     "metadata": {},
     "output_type": "execute_result"
    }
   ],
   "source": [
    "mco_rejection = mco_rejection.dropna(subset=['Product_Context_x'])\n",
    "len(mco_rejection)"
   ]
  },
  {
   "cell_type": "code",
   "execution_count": 43,
   "metadata": {},
   "outputs": [],
   "source": [
    "kyc_acc_rejection.to_csv(kyc_acc_output_file, index=False)\n",
    "mco_rejection.to_csv(mco_output_file, index=False)"
   ]
  },
  {
   "cell_type": "code",
   "execution_count": null,
   "metadata": {},
   "outputs": [],
   "source": []
  },
  {
   "cell_type": "code",
   "execution_count": null,
   "metadata": {},
   "outputs": [],
   "source": []
  }
 ],
 "metadata": {
  "kernelspec": {
   "display_name": "base",
   "language": "python",
   "name": "python3"
  },
  "language_info": {
   "codemirror_mode": {
    "name": "ipython",
    "version": 3
   },
   "file_extension": ".py",
   "mimetype": "text/x-python",
   "name": "python",
   "nbconvert_exporter": "python",
   "pygments_lexer": "ipython3",
   "version": "3.9.12"
  }
 },
 "nbformat": 4,
 "nbformat_minor": 2
}
