{
 "cells": [
  {
   "cell_type": "code",
   "execution_count": 44,
   "metadata": {},
   "outputs": [],
   "source": [
    "import pandas as pd\n",
    "import numpy as np\n",
    "from datetime import datetime, timedelta\n",
    "from datetime import time\n",
    "import os\n",
    "\n"
   ]
  },
  {
   "cell_type": "code",
   "execution_count": null,
   "metadata": {},
   "outputs": [],
   "source": [
    "data=\"all_flow_data_25th April'25.csv\"\n",
    "input_file=\"rejection_reason_26-April'25.csv\"\n",
    "mco_output_file=\"MCO_Rejection_25th April'25.csv\"\n",
    "kyc_acc_output_file=\"KYC_ACC_Rejection_25th April'25.csv\"\n"
   ]
  },
  {
   "cell_type": "code",
   "execution_count": 46,
   "metadata": {},
   "outputs": [],
   "source": [
    "#data=\"all_flow_data_31st Mar'25.csv\"\n",
    "#input_file=\"mco_all_rejection_01st April.csv\"\n",
    "#mco_output_file=\"MCO_all_Rejection_31st Mar'25.csv\"\n",
    "#kyc_acc_output_file=\"KYC_all_ACC_Rejection_31st Mar'25.csv\"\n"
   ]
  },
  {
   "cell_type": "code",
   "execution_count": 47,
   "metadata": {},
   "outputs": [
    {
     "data": {
      "text/plain": [
       "42585"
      ]
     },
     "execution_count": 47,
     "metadata": {},
     "output_type": "execute_result"
    }
   ],
   "source": [
    "rejection_data=pd.read_csv(input_file,memory_map=True)\n",
    "data=pd.read_csv(data,memory_map=True)\n",
    "len(rejection_data)"
   ]
  },
  {
   "cell_type": "code",
   "execution_count": 48,
   "metadata": {},
   "outputs": [
    {
     "data": {
      "text/html": [
       "<div>\n",
       "<style scoped>\n",
       "    .dataframe tbody tr th:only-of-type {\n",
       "        vertical-align: middle;\n",
       "    }\n",
       "\n",
       "    .dataframe tbody tr th {\n",
       "        vertical-align: top;\n",
       "    }\n",
       "\n",
       "    .dataframe thead th {\n",
       "        text-align: right;\n",
       "    }\n",
       "</style>\n",
       "<table border=\"1\" class=\"dataframe\">\n",
       "  <thead>\n",
       "    <tr style=\"text-align: right;\">\n",
       "      <th></th>\n",
       "      <th>cust_id</th>\n",
       "      <th>lead_id</th>\n",
       "      <th>entity_type</th>\n",
       "      <th>rejected_field_reason</th>\n",
       "      <th>rejected_field_name</th>\n",
       "      <th>updated_at</th>\n",
       "      <th>solution_type</th>\n",
       "      <th>solution_type_level_2</th>\n",
       "      <th>solution_type_level_3</th>\n",
       "      <th>FSE_Ecode</th>\n",
       "    </tr>\n",
       "  </thead>\n",
       "  <tbody>\n",
       "    <tr>\n",
       "      <th>0</th>\n",
       "      <td>1441416634</td>\n",
       "      <td>2093a170-6be5-4809-b1f1-1b8ce6cbe1bc</td>\n",
       "      <td>INDIVIDUAL</td>\n",
       "      <td>Screenshot of Aadhar is not allowed</td>\n",
       "      <td>aadhaar</td>\n",
       "      <td>2025-04-02 14:59:10.000</td>\n",
       "      <td>merchant_common_onboard</td>\n",
       "      <td>NaN</td>\n",
       "      <td>NaN</td>\n",
       "      <td>10221771</td>\n",
       "    </tr>\n",
       "    <tr>\n",
       "      <th>1</th>\n",
       "      <td>1461585898</td>\n",
       "      <td>f5edf9a4-a773-4c43-9ce5-13ee970dd71e</td>\n",
       "      <td>PROPRIETORSHIP</td>\n",
       "      <td>Closed/Non-Operational Shop</td>\n",
       "      <td>shopFrontPhoto</td>\n",
       "      <td>2025-04-04 17:46:02.000</td>\n",
       "      <td>merchant_common_onboard</td>\n",
       "      <td>NaN</td>\n",
       "      <td>NaN</td>\n",
       "      <td>10085005</td>\n",
       "    </tr>\n",
       "    <tr>\n",
       "      <th>2</th>\n",
       "      <td>1345313240</td>\n",
       "      <td>8275b43a-3d52-41f1-9bb7-fcf2dce6ef72</td>\n",
       "      <td>INDIVIDUAL</td>\n",
       "      <td>Grey LoB without license</td>\n",
       "      <td>shopFrontPhoto</td>\n",
       "      <td>2025-04-15 13:11:30.000</td>\n",
       "      <td>merchant_common_onboard</td>\n",
       "      <td>NaN</td>\n",
       "      <td>NaN</td>\n",
       "      <td>10229775</td>\n",
       "    </tr>\n",
       "    <tr>\n",
       "      <th>3</th>\n",
       "      <td>1949813261</td>\n",
       "      <td>a6b758fb-3de5-4779-979b-42e79adaa8f5</td>\n",
       "      <td>INDIVIDUAL</td>\n",
       "      <td>Bank account holder mismatch with business/pro...</td>\n",
       "      <td>bankVerificationStatus</td>\n",
       "      <td>2025-04-21 19:10:46.000</td>\n",
       "      <td>merchant_common_onboard</td>\n",
       "      <td>NaN</td>\n",
       "      <td>NaN</td>\n",
       "      <td>10133026</td>\n",
       "    </tr>\n",
       "    <tr>\n",
       "      <th>4</th>\n",
       "      <td>1949813261</td>\n",
       "      <td>a6b758fb-3de5-4779-979b-42e79adaa8f5</td>\n",
       "      <td>INDIVIDUAL</td>\n",
       "      <td>Grey LoB without license</td>\n",
       "      <td>shopFrontPhoto</td>\n",
       "      <td>2025-04-21 19:10:46.000</td>\n",
       "      <td>merchant_common_onboard</td>\n",
       "      <td>NaN</td>\n",
       "      <td>NaN</td>\n",
       "      <td>10133026</td>\n",
       "    </tr>\n",
       "  </tbody>\n",
       "</table>\n",
       "</div>"
      ],
      "text/plain": [
       "      cust_id                               lead_id     entity_type  \\\n",
       "0  1441416634  2093a170-6be5-4809-b1f1-1b8ce6cbe1bc      INDIVIDUAL   \n",
       "1  1461585898  f5edf9a4-a773-4c43-9ce5-13ee970dd71e  PROPRIETORSHIP   \n",
       "2  1345313240  8275b43a-3d52-41f1-9bb7-fcf2dce6ef72      INDIVIDUAL   \n",
       "3  1949813261  a6b758fb-3de5-4779-979b-42e79adaa8f5      INDIVIDUAL   \n",
       "4  1949813261  a6b758fb-3de5-4779-979b-42e79adaa8f5      INDIVIDUAL   \n",
       "\n",
       "                               rejected_field_reason     rejected_field_name  \\\n",
       "0                Screenshot of Aadhar is not allowed                 aadhaar   \n",
       "1                        Closed/Non-Operational Shop          shopFrontPhoto   \n",
       "2                           Grey LoB without license          shopFrontPhoto   \n",
       "3  Bank account holder mismatch with business/pro...  bankVerificationStatus   \n",
       "4                           Grey LoB without license          shopFrontPhoto   \n",
       "\n",
       "                updated_at            solution_type  solution_type_level_2  \\\n",
       "0  2025-04-02 14:59:10.000  merchant_common_onboard                    NaN   \n",
       "1  2025-04-04 17:46:02.000  merchant_common_onboard                    NaN   \n",
       "2  2025-04-15 13:11:30.000  merchant_common_onboard                    NaN   \n",
       "3  2025-04-21 19:10:46.000  merchant_common_onboard                    NaN   \n",
       "4  2025-04-21 19:10:46.000  merchant_common_onboard                    NaN   \n",
       "\n",
       "  solution_type_level_3 FSE_Ecode  \n",
       "0                   NaN  10221771  \n",
       "1                   NaN  10085005  \n",
       "2                   NaN  10229775  \n",
       "3                   NaN  10133026  \n",
       "4                   NaN  10133026  "
      ]
     },
     "execution_count": 48,
     "metadata": {},
     "output_type": "execute_result"
    }
   ],
   "source": [
    "rejection_data.head(5)"
   ]
  },
  {
   "cell_type": "code",
   "execution_count": 49,
   "metadata": {},
   "outputs": [
    {
     "data": {
      "text/html": [
       "<div>\n",
       "<style scoped>\n",
       "    .dataframe tbody tr th:only-of-type {\n",
       "        vertical-align: middle;\n",
       "    }\n",
       "\n",
       "    .dataframe tbody tr th {\n",
       "        vertical-align: top;\n",
       "    }\n",
       "\n",
       "    .dataframe thead th {\n",
       "        text-align: right;\n",
       "    }\n",
       "</style>\n",
       "<table border=\"1\" class=\"dataframe\">\n",
       "  <thead>\n",
       "    <tr style=\"text-align: right;\">\n",
       "      <th></th>\n",
       "      <th>Lead_ID</th>\n",
       "      <th>Product_Context</th>\n",
       "      <th>Stage movement count</th>\n",
       "      <th>solution_type_level_3</th>\n",
       "    </tr>\n",
       "  </thead>\n",
       "  <tbody>\n",
       "    <tr>\n",
       "      <th>0</th>\n",
       "      <td>5e755088-313e-443e-941e-a68c0aa4ce5b</td>\n",
       "      <td>NON_EDC</td>\n",
       "      <td>NaN</td>\n",
       "      <td>NaN</td>\n",
       "    </tr>\n",
       "    <tr>\n",
       "      <th>1</th>\n",
       "      <td>9b00bd2d-1e60-4288-bdd7-a59e4c13dc6d</td>\n",
       "      <td>NON_EDC</td>\n",
       "      <td>NaN</td>\n",
       "      <td>NaN</td>\n",
       "    </tr>\n",
       "    <tr>\n",
       "      <th>2</th>\n",
       "      <td>42bec3ca-2c02-4173-a9eb-7799d8f77318</td>\n",
       "      <td>EDC</td>\n",
       "      <td>NaN</td>\n",
       "      <td>NaN</td>\n",
       "    </tr>\n",
       "    <tr>\n",
       "      <th>3</th>\n",
       "      <td>cec40074-e941-4dfe-86f2-b94dd83ce7e4</td>\n",
       "      <td>EDC</td>\n",
       "      <td>NaN</td>\n",
       "      <td>NaN</td>\n",
       "    </tr>\n",
       "    <tr>\n",
       "      <th>4</th>\n",
       "      <td>b756a6c2-0784-4ae0-92cf-9a2642fdf438</td>\n",
       "      <td>NON_EDC</td>\n",
       "      <td>{\"PANEL_SUCCESS\":1}</td>\n",
       "      <td>NaN</td>\n",
       "    </tr>\n",
       "  </tbody>\n",
       "</table>\n",
       "</div>"
      ],
      "text/plain": [
       "                                Lead_ID Product_Context Stage movement count  \\\n",
       "0  5e755088-313e-443e-941e-a68c0aa4ce5b         NON_EDC                  NaN   \n",
       "1  9b00bd2d-1e60-4288-bdd7-a59e4c13dc6d         NON_EDC                  NaN   \n",
       "2  42bec3ca-2c02-4173-a9eb-7799d8f77318             EDC                  NaN   \n",
       "3  cec40074-e941-4dfe-86f2-b94dd83ce7e4             EDC                  NaN   \n",
       "4  b756a6c2-0784-4ae0-92cf-9a2642fdf438         NON_EDC  {\"PANEL_SUCCESS\":1}   \n",
       "\n",
       "  solution_type_level_3  \n",
       "0                   NaN  \n",
       "1                   NaN  \n",
       "2                   NaN  \n",
       "3                   NaN  \n",
       "4                   NaN  "
      ]
     },
     "execution_count": 49,
     "metadata": {},
     "output_type": "execute_result"
    }
   ],
   "source": [
    "data=data[['Lead_ID','Product_Context','Stage movement count','solution_type_level_3']]\n",
    "data.head(5)"
   ]
  },
  {
   "cell_type": "code",
   "execution_count": 50,
   "metadata": {},
   "outputs": [
    {
     "data": {
      "text/plain": [
       "KYC_UPDATE         25980\n",
       "ACCOUNT_UPGRADE    10954\n",
       "3P FSE               571\n",
       "DIY                    1\n",
       "Name: solution_type_level_3, dtype: int64"
      ]
     },
     "execution_count": 50,
     "metadata": {},
     "output_type": "execute_result"
    }
   ],
   "source": [
    "data['solution_type_level_3'].value_counts()"
   ]
  },
  {
   "cell_type": "code",
   "execution_count": 51,
   "metadata": {},
   "outputs": [
    {
     "data": {
      "text/html": [
       "<div>\n",
       "<style scoped>\n",
       "    .dataframe tbody tr th:only-of-type {\n",
       "        vertical-align: middle;\n",
       "    }\n",
       "\n",
       "    .dataframe tbody tr th {\n",
       "        vertical-align: top;\n",
       "    }\n",
       "\n",
       "    .dataframe thead th {\n",
       "        text-align: right;\n",
       "    }\n",
       "</style>\n",
       "<table border=\"1\" class=\"dataframe\">\n",
       "  <thead>\n",
       "    <tr style=\"text-align: right;\">\n",
       "      <th></th>\n",
       "      <th>cust_id</th>\n",
       "      <th>lead_id</th>\n",
       "      <th>entity_type</th>\n",
       "      <th>rejected_field_reason</th>\n",
       "      <th>rejected_field_name</th>\n",
       "      <th>updated_at</th>\n",
       "      <th>solution_type</th>\n",
       "      <th>solution_type_level_2</th>\n",
       "      <th>solution_type_level_3</th>\n",
       "      <th>FSE_Ecode</th>\n",
       "    </tr>\n",
       "  </thead>\n",
       "  <tbody>\n",
       "    <tr>\n",
       "      <th>0</th>\n",
       "      <td>1441416634</td>\n",
       "      <td>2093a170-6be5-4809-b1f1-1b8ce6cbe1bc</td>\n",
       "      <td>INDIVIDUAL</td>\n",
       "      <td>Screenshot of Aadhar is not allowed</td>\n",
       "      <td>aadhaar</td>\n",
       "      <td>2025-04-02 14:59:10</td>\n",
       "      <td>merchant_common_onboard</td>\n",
       "      <td>NaN</td>\n",
       "      <td>NaN</td>\n",
       "      <td>10221771</td>\n",
       "    </tr>\n",
       "    <tr>\n",
       "      <th>1</th>\n",
       "      <td>1461585898</td>\n",
       "      <td>f5edf9a4-a773-4c43-9ce5-13ee970dd71e</td>\n",
       "      <td>PROPRIETORSHIP</td>\n",
       "      <td>Closed/Non-Operational Shop</td>\n",
       "      <td>shopFrontPhoto</td>\n",
       "      <td>2025-04-04 17:46:02</td>\n",
       "      <td>merchant_common_onboard</td>\n",
       "      <td>NaN</td>\n",
       "      <td>NaN</td>\n",
       "      <td>10085005</td>\n",
       "    </tr>\n",
       "    <tr>\n",
       "      <th>2</th>\n",
       "      <td>1345313240</td>\n",
       "      <td>8275b43a-3d52-41f1-9bb7-fcf2dce6ef72</td>\n",
       "      <td>INDIVIDUAL</td>\n",
       "      <td>Grey LoB without license</td>\n",
       "      <td>shopFrontPhoto</td>\n",
       "      <td>2025-04-15 13:11:30</td>\n",
       "      <td>merchant_common_onboard</td>\n",
       "      <td>NaN</td>\n",
       "      <td>NaN</td>\n",
       "      <td>10229775</td>\n",
       "    </tr>\n",
       "    <tr>\n",
       "      <th>3</th>\n",
       "      <td>1949813261</td>\n",
       "      <td>a6b758fb-3de5-4779-979b-42e79adaa8f5</td>\n",
       "      <td>INDIVIDUAL</td>\n",
       "      <td>Bank account holder mismatch with business/pro...</td>\n",
       "      <td>bankVerificationStatus</td>\n",
       "      <td>2025-04-21 19:10:46</td>\n",
       "      <td>merchant_common_onboard</td>\n",
       "      <td>NaN</td>\n",
       "      <td>NaN</td>\n",
       "      <td>10133026</td>\n",
       "    </tr>\n",
       "    <tr>\n",
       "      <th>4</th>\n",
       "      <td>1949813261</td>\n",
       "      <td>a6b758fb-3de5-4779-979b-42e79adaa8f5</td>\n",
       "      <td>INDIVIDUAL</td>\n",
       "      <td>Grey LoB without license</td>\n",
       "      <td>shopFrontPhoto</td>\n",
       "      <td>2025-04-21 19:10:46</td>\n",
       "      <td>merchant_common_onboard</td>\n",
       "      <td>NaN</td>\n",
       "      <td>NaN</td>\n",
       "      <td>10133026</td>\n",
       "    </tr>\n",
       "  </tbody>\n",
       "</table>\n",
       "</div>"
      ],
      "text/plain": [
       "      cust_id                               lead_id     entity_type  \\\n",
       "0  1441416634  2093a170-6be5-4809-b1f1-1b8ce6cbe1bc      INDIVIDUAL   \n",
       "1  1461585898  f5edf9a4-a773-4c43-9ce5-13ee970dd71e  PROPRIETORSHIP   \n",
       "2  1345313240  8275b43a-3d52-41f1-9bb7-fcf2dce6ef72      INDIVIDUAL   \n",
       "3  1949813261  a6b758fb-3de5-4779-979b-42e79adaa8f5      INDIVIDUAL   \n",
       "4  1949813261  a6b758fb-3de5-4779-979b-42e79adaa8f5      INDIVIDUAL   \n",
       "\n",
       "                               rejected_field_reason     rejected_field_name  \\\n",
       "0                Screenshot of Aadhar is not allowed                 aadhaar   \n",
       "1                        Closed/Non-Operational Shop          shopFrontPhoto   \n",
       "2                           Grey LoB without license          shopFrontPhoto   \n",
       "3  Bank account holder mismatch with business/pro...  bankVerificationStatus   \n",
       "4                           Grey LoB without license          shopFrontPhoto   \n",
       "\n",
       "           updated_at            solution_type  solution_type_level_2  \\\n",
       "0 2025-04-02 14:59:10  merchant_common_onboard                    NaN   \n",
       "1 2025-04-04 17:46:02  merchant_common_onboard                    NaN   \n",
       "2 2025-04-15 13:11:30  merchant_common_onboard                    NaN   \n",
       "3 2025-04-21 19:10:46  merchant_common_onboard                    NaN   \n",
       "4 2025-04-21 19:10:46  merchant_common_onboard                    NaN   \n",
       "\n",
       "  solution_type_level_3 FSE_Ecode  \n",
       "0                   NaN  10221771  \n",
       "1                   NaN  10085005  \n",
       "2                   NaN  10229775  \n",
       "3                   NaN  10133026  \n",
       "4                   NaN  10133026  "
      ]
     },
     "execution_count": 51,
     "metadata": {},
     "output_type": "execute_result"
    }
   ],
   "source": [
    "rejection_data['updated_at']=pd.to_datetime(rejection_data['updated_at'],errors='coerce')\n",
    "rejection_data.head(5)"
   ]
  },
  {
   "cell_type": "code",
   "execution_count": 52,
   "metadata": {},
   "outputs": [
    {
     "data": {
      "text/plain": [
       "Timestamp('2025-04-25 00:00:00')"
      ]
     },
     "execution_count": 52,
     "metadata": {},
     "output_type": "execute_result"
    }
   ],
   "source": [
    "current_date = pd.Timestamp(datetime.now().date())\n",
    "current_date\n"
   ]
  },
  {
   "cell_type": "code",
   "execution_count": 53,
   "metadata": {},
   "outputs": [
    {
     "name": "stderr",
     "output_type": "stream",
     "text": [
      "c:\\ProgramData\\Anaconda3\\lib\\site-packages\\pandas\\core\\ops\\array_ops.py:73: FutureWarning: Comparison of Timestamp with datetime.date is deprecated in order to match the standard library behavior. In a future version these will be considered non-comparable. Use 'ts == pd.Timestamp(date)' or 'ts.date() == date' instead.\n",
      "  result = libops.scalar_compare(x.ravel(), y, op)\n"
     ]
    },
    {
     "data": {
      "text/plain": [
       "41465"
      ]
     },
     "execution_count": 53,
     "metadata": {},
     "output_type": "execute_result"
    }
   ],
   "source": [
    "rejection_data=rejection_data[rejection_data['updated_at'].dt.date != current_date]\n",
    "len(rejection_data)"
   ]
  },
  {
   "cell_type": "code",
   "execution_count": 54,
   "metadata": {},
   "outputs": [
    {
     "data": {
      "text/plain": [
       "array([nan, 'KYC_UPDATE', 'ACCOUNT_UPGRADE_LENDING', 'ACCOUNT_UPGRADE',\n",
       "       'PROFILE_UPDATE', 'DIY'], dtype=object)"
      ]
     },
     "execution_count": 54,
     "metadata": {},
     "output_type": "execute_result"
    }
   ],
   "source": [
    "rejection_data['solution_type_level_3'].unique()"
   ]
  },
  {
   "cell_type": "code",
   "execution_count": 55,
   "metadata": {},
   "outputs": [
    {
     "data": {
      "text/plain": [
       "array([nan, 'KYC_UPDATE', 'ACCOUNT_UPGRADE_LENDING', 'ACCOUNT_UPGRADE',\n",
       "       'PROFILE_UPDATE', 'DIY'], dtype=object)"
      ]
     },
     "execution_count": 55,
     "metadata": {},
     "output_type": "execute_result"
    }
   ],
   "source": [
    "rejection_data=rejection_data[rejection_data['solution_type_level_3']!='YBL_LIMIT_ENHANCEMENT']\n",
    "\n",
    "rejection_data['solution_type_level_3'].unique()"
   ]
  },
  {
   "cell_type": "code",
   "execution_count": 56,
   "metadata": {},
   "outputs": [
    {
     "data": {
      "text/plain": [
       "array([nan, 'KYC_UPDATE', 'ACCOUNT_UPGRADE', 'DIY'], dtype=object)"
      ]
     },
     "execution_count": 56,
     "metadata": {},
     "output_type": "execute_result"
    }
   ],
   "source": [
    "rejection_data['solution_type_level_3']=rejection_data['solution_type_level_3'].replace(['ACCOUNT_UPGRADE_LENDING','PROFILE_UPDATE'],'ACCOUNT_UPGRADE')\n",
    "\n",
    "rejection_data['solution_type_level_3'].unique()"
   ]
  },
  {
   "cell_type": "code",
   "execution_count": 57,
   "metadata": {},
   "outputs": [
    {
     "data": {
      "text/plain": [
       "ACCOUNT_UPGRADE    3599\n",
       "KYC_UPDATE         3155\n",
       "DIY                  12\n",
       "Name: solution_type_level_3, dtype: int64"
      ]
     },
     "execution_count": 57,
     "metadata": {},
     "output_type": "execute_result"
    }
   ],
   "source": [
    "rejection_data['solution_type_level_3'].value_counts()"
   ]
  },
  {
   "cell_type": "code",
   "execution_count": 58,
   "metadata": {},
   "outputs": [
    {
     "data": {
      "text/plain": [
       "INDIVIDUAL            27663\n",
       "PROPRIETORSHIP        12423\n",
       "NON_PROPRIETORSHIP     1379\n",
       "Name: entity_type, dtype: int64"
      ]
     },
     "execution_count": 58,
     "metadata": {},
     "output_type": "execute_result"
    }
   ],
   "source": [
    "rejection_data.loc[~rejection_data['entity_type'].isin(['INDIVIDUAL','PROPRIETORSHIP']),'entity_type']='NON_PROPRIETORSHIP'\n",
    "rejection_data['entity_type'].value_counts()"
   ]
  },
  {
   "cell_type": "code",
   "execution_count": 59,
   "metadata": {},
   "outputs": [
    {
     "data": {
      "text/plain": [
       "ACCOUNT_UPGRADE    3599\n",
       "KYC_UPDATE         3155\n",
       "Name: solution_type_level_3, dtype: int64"
      ]
     },
     "execution_count": 59,
     "metadata": {},
     "output_type": "execute_result"
    }
   ],
   "source": [
    "kyc_acc_rejection=rejection_data[rejection_data[\"solution_type_level_3\"].isin([\"ACCOUNT_UPGRADE\",\"KYC_UPDATE\"])]\n",
    "kyc_acc_rejection['solution_type_level_3'].value_counts()\n"
   ]
  },
  {
   "cell_type": "code",
   "execution_count": 60,
   "metadata": {},
   "outputs": [
    {
     "data": {
      "text/plain": [
       "34711"
      ]
     },
     "execution_count": 60,
     "metadata": {},
     "output_type": "execute_result"
    }
   ],
   "source": [
    "mco_rejection=rejection_data[~rejection_data[\"solution_type_level_3\"].isin([\"ACCOUNT_UPGRADE\",\"KYC_UPDATE\"])]\n",
    "len(mco_rejection)"
   ]
  },
  {
   "cell_type": "code",
   "execution_count": 61,
   "metadata": {},
   "outputs": [
    {
     "data": {
      "text/plain": [
       "Index(['cust_id', 'lead_id', 'entity_type', 'entuty_type_1',\n",
       "       'rejected_field_reason', 'rejected_field_name', 'updated_at',\n",
       "       'solution_type', 'solution_type_level_2', 'solution_type_level_3',\n",
       "       'FSE_Ecode'],\n",
       "      dtype='object')"
      ]
     },
     "execution_count": 61,
     "metadata": {},
     "output_type": "execute_result"
    }
   ],
   "source": [
    "kyc_acc_rejection.insert(kyc_acc_rejection.columns.get_loc('entity_type')+1,'entuty_type_1',np.nan)\n",
    "kyc_acc_rejection.columns"
   ]
  },
  {
   "cell_type": "code",
   "execution_count": 62,
   "metadata": {},
   "outputs": [
    {
     "name": "stderr",
     "output_type": "stream",
     "text": [
      "C:\\Users\\avnish1.yadav\\AppData\\Local\\Temp\\ipykernel_23320\\272290521.py:1: SettingWithCopyWarning: \n",
      "A value is trying to be set on a copy of a slice from a DataFrame.\n",
      "Try using .loc[row_indexer,col_indexer] = value instead\n",
      "\n",
      "See the caveats in the documentation: https://pandas.pydata.org/pandas-docs/stable/user_guide/indexing.html#returning-a-view-versus-a-copy\n",
      "  kyc_acc_rejection.loc[:, 'entuty_type_1'] = kyc_acc_rejection['entity_type']\n"
     ]
    },
    {
     "data": {
      "text/plain": [
       "PROPRIETORSHIP        5122\n",
       "INDIVIDUAL            1539\n",
       "NON_PROPRIETORSHIP      93\n",
       "Name: entuty_type_1, dtype: int64"
      ]
     },
     "execution_count": 62,
     "metadata": {},
     "output_type": "execute_result"
    }
   ],
   "source": [
    "kyc_acc_rejection.loc[:, 'entuty_type_1'] = kyc_acc_rejection['entity_type']\n",
    "kyc_acc_rejection['entuty_type_1'].value_counts()"
   ]
  },
  {
   "cell_type": "code",
   "execution_count": 63,
   "metadata": {},
   "outputs": [
    {
     "name": "stderr",
     "output_type": "stream",
     "text": [
      "C:\\Users\\avnish1.yadav\\AppData\\Local\\Temp\\ipykernel_23320\\2156595060.py:1: SettingWithCopyWarning: \n",
      "A value is trying to be set on a copy of a slice from a DataFrame.\n",
      "Try using .loc[row_indexer,col_indexer] = value instead\n",
      "\n",
      "See the caveats in the documentation: https://pandas.pydata.org/pandas-docs/stable/user_guide/indexing.html#returning-a-view-versus-a-copy\n",
      "  kyc_acc_rejection['entuty_type_1']=kyc_acc_rejection['entuty_type_1'].replace(['PROPRIETORSHIP','NON_PROPRIETORSHIP'],'NON_EDC')\n"
     ]
    },
    {
     "data": {
      "text/plain": [
       "NON_EDC       5215\n",
       "INDIVIDUAL    1539\n",
       "Name: entuty_type_1, dtype: int64"
      ]
     },
     "execution_count": 63,
     "metadata": {},
     "output_type": "execute_result"
    }
   ],
   "source": [
    "kyc_acc_rejection['entuty_type_1']=kyc_acc_rejection['entuty_type_1'].replace(['PROPRIETORSHIP','NON_PROPRIETORSHIP'],'NON_EDC')\n",
    "kyc_acc_rejection['entuty_type_1'].value_counts()"
   ]
  },
  {
   "cell_type": "code",
   "execution_count": 64,
   "metadata": {},
   "outputs": [
    {
     "data": {
      "text/plain": [
       "Index(['cust_id', 'lead_id', 'entity_type', 'entuty_type_1',\n",
       "       'rejected_field_reason', 'rejected_field_name', 'updated_at',\n",
       "       'solution_type', 'solution_type_level_3', 'FSE_Ecode'],\n",
       "      dtype='object')"
      ]
     },
     "execution_count": 64,
     "metadata": {},
     "output_type": "execute_result"
    }
   ],
   "source": [
    "kyc_acc_rejection=kyc_acc_rejection.drop(columns=['solution_type_level_2'])\n",
    "kyc_acc_rejection.columns"
   ]
  },
  {
   "cell_type": "code",
   "execution_count": 65,
   "metadata": {},
   "outputs": [],
   "source": [
    "kyc_acc_rejection=pd.merge(kyc_acc_rejection,data,left_on='lead_id',right_on='Lead_ID',how='left')\n",
    "kyc_acc_rejection=kyc_acc_rejection.drop(columns=['Lead_ID'])"
   ]
  },
  {
   "cell_type": "code",
   "execution_count": 66,
   "metadata": {},
   "outputs": [
    {
     "data": {
      "text/plain": [
       "Index(['cust_id', 'lead_id', 'entity_type', 'entuty_type_1',\n",
       "       'rejected_field_reason', 'rejected_field_name', 'updated_at',\n",
       "       'solution_type', 'solution_type_level_3_x', 'FSE_Ecode',\n",
       "       'Product_Context', 'Stage movement count', 'solution_type_level_3_y'],\n",
       "      dtype='object')"
      ]
     },
     "execution_count": 66,
     "metadata": {},
     "output_type": "execute_result"
    }
   ],
   "source": [
    "kyc_acc_rejection.columns"
   ]
  },
  {
   "cell_type": "code",
   "execution_count": 67,
   "metadata": {},
   "outputs": [],
   "source": [
    "kyc_acc_rejection.loc[kyc_acc_rejection['solution_type_level_3_y']=='3P FSE','solution_type_level_3_x']='3P FSE'"
   ]
  },
  {
   "cell_type": "code",
   "execution_count": 68,
   "metadata": {},
   "outputs": [
    {
     "data": {
      "text/plain": [
       "ACCOUNT_UPGRADE    3599\n",
       "KYC_UPDATE         3017\n",
       "3P FSE              138\n",
       "Name: solution_type_level_3_x, dtype: int64"
      ]
     },
     "execution_count": 68,
     "metadata": {},
     "output_type": "execute_result"
    }
   ],
   "source": [
    "kyc_acc_rejection['solution_type_level_3_x'].value_counts()"
   ]
  },
  {
   "cell_type": "code",
   "execution_count": 69,
   "metadata": {},
   "outputs": [
    {
     "data": {
      "text/plain": [
       "Index(['cust_id', 'lead_id', 'entity_type', 'entuty_type_1',\n",
       "       'rejected_field_reason', 'rejected_field_name', 'updated_at',\n",
       "       'solution_type', 'solution_type_level_3_x', 'FSE_Ecode',\n",
       "       'Product_Context', 'Stage movement count', 'solution_type_level_3_y'],\n",
       "      dtype='object')"
      ]
     },
     "execution_count": 69,
     "metadata": {},
     "output_type": "execute_result"
    }
   ],
   "source": [
    "kyc_acc_rejection.columns"
   ]
  },
  {
   "cell_type": "code",
   "execution_count": 70,
   "metadata": {},
   "outputs": [
    {
     "data": {
      "text/plain": [
       "Index(['cust_id', 'lead_id', 'entity_type', 'entuty_type_1',\n",
       "       'rejected_field_reason', 'rejected_field_name', 'updated_at',\n",
       "       'solution_type', 'solution_type_level_3_x', 'Product_Context',\n",
       "       'Stage movement count', 'solution_type_level_3_y'],\n",
       "      dtype='object')"
      ]
     },
     "execution_count": 70,
     "metadata": {},
     "output_type": "execute_result"
    }
   ],
   "source": [
    "kyc_acc_rejection = kyc_acc_rejection.drop(columns=['FSE_Ecode'])\n",
    "kyc_acc_rejection.columns\n"
   ]
  },
  {
   "cell_type": "code",
   "execution_count": 71,
   "metadata": {},
   "outputs": [
    {
     "data": {
      "text/plain": [
       "Index(['cust_id', 'lead_id', 'entity_type', 'rejected_field_reason',\n",
       "       'rejected_field_name', 'updated_at', 'solution_type_level_3',\n",
       "       'FSE_Ecode'],\n",
       "      dtype='object')"
      ]
     },
     "execution_count": 71,
     "metadata": {},
     "output_type": "execute_result"
    }
   ],
   "source": [
    "mco_rejection=mco_rejection.drop(columns=['solution_type_level_2','solution_type'])\n",
    "mco_rejection.columns"
   ]
  },
  {
   "cell_type": "code",
   "execution_count": 72,
   "metadata": {},
   "outputs": [],
   "source": [
    "mco_rejection.insert(mco_rejection.columns.get_loc('entity_type')+1,'entuty_type_1',np.nan)\n",
    "mco_rejection.insert(mco_rejection.columns.get_loc('entuty_type_1')+1,'Product_Context',np.nan)\n",
    "mco_rejection.insert(mco_rejection.columns.get_loc('rejected_field_name')+1,'Stage movement count',np.nan)"
   ]
  },
  {
   "cell_type": "code",
   "execution_count": 73,
   "metadata": {},
   "outputs": [],
   "source": [
    "mco_rejection=pd.merge(mco_rejection,data,left_on='lead_id',right_on='Lead_ID',how='left')\n",
    "mco_rejection=mco_rejection.drop(columns=['Lead_ID'])"
   ]
  },
  {
   "cell_type": "code",
   "execution_count": 74,
   "metadata": {},
   "outputs": [
    {
     "data": {
      "text/plain": [
       "Index(['cust_id', 'lead_id', 'entity_type', 'entuty_type_1',\n",
       "       'Product_Context_x', 'rejected_field_reason', 'rejected_field_name',\n",
       "       'Stage movement count_x', 'updated_at', 'solution_type_level_3_x',\n",
       "       'FSE_Ecode', 'Product_Context_y', 'Stage movement count_y',\n",
       "       'solution_type_level_3_y'],\n",
       "      dtype='object')"
      ]
     },
     "execution_count": 74,
     "metadata": {},
     "output_type": "execute_result"
    }
   ],
   "source": [
    "mco_rejection.columns"
   ]
  },
  {
   "cell_type": "code",
   "execution_count": 75,
   "metadata": {},
   "outputs": [],
   "source": [
    "mco_rejection['Product_Context_x']=mco_rejection['Product_Context_y']\n",
    "mco_rejection['Stage movement count_x']=mco_rejection['Stage movement count_y']\n",
    "mco_rejection['entuty_type_1']=mco_rejection['entity_type']\n",
    "mco_rejection=mco_rejection.drop(columns=['Product_Context_y','Stage movement count_y'])"
   ]
  },
  {
   "cell_type": "code",
   "execution_count": 76,
   "metadata": {},
   "outputs": [],
   "source": [
    "mco_rejection.loc[mco_rejection['entuty_type_1'].isin(['PROPRIETORSHIP','NON_PROPRIETORSHIP']),'entuty_type_1']=mco_rejection['Product_Context_x']\n"
   ]
  },
  {
   "cell_type": "code",
   "execution_count": 77,
   "metadata": {},
   "outputs": [
    {
     "data": {
      "text/html": [
       "<div>\n",
       "<style scoped>\n",
       "    .dataframe tbody tr th:only-of-type {\n",
       "        vertical-align: middle;\n",
       "    }\n",
       "\n",
       "    .dataframe tbody tr th {\n",
       "        vertical-align: top;\n",
       "    }\n",
       "\n",
       "    .dataframe thead th {\n",
       "        text-align: right;\n",
       "    }\n",
       "</style>\n",
       "<table border=\"1\" class=\"dataframe\">\n",
       "  <thead>\n",
       "    <tr style=\"text-align: right;\">\n",
       "      <th></th>\n",
       "      <th>cust_id</th>\n",
       "      <th>lead_id</th>\n",
       "      <th>entity_type</th>\n",
       "      <th>entuty_type_1</th>\n",
       "      <th>Product_Context_x</th>\n",
       "      <th>rejected_field_reason</th>\n",
       "      <th>rejected_field_name</th>\n",
       "      <th>Stage movement count_x</th>\n",
       "      <th>updated_at</th>\n",
       "      <th>solution_type_level_3_x</th>\n",
       "      <th>FSE_Ecode</th>\n",
       "      <th>solution_type_level_3_y</th>\n",
       "    </tr>\n",
       "  </thead>\n",
       "  <tbody>\n",
       "    <tr>\n",
       "      <th>0</th>\n",
       "      <td>1441416634</td>\n",
       "      <td>2093a170-6be5-4809-b1f1-1b8ce6cbe1bc</td>\n",
       "      <td>INDIVIDUAL</td>\n",
       "      <td>INDIVIDUAL</td>\n",
       "      <td>NON_EDC</td>\n",
       "      <td>Screenshot of Aadhar is not allowed</td>\n",
       "      <td>aadhaar</td>\n",
       "      <td>{\"QC_REJECTED\":1}</td>\n",
       "      <td>2025-04-02 14:59:10</td>\n",
       "      <td>NaN</td>\n",
       "      <td>10221771</td>\n",
       "      <td>NaN</td>\n",
       "    </tr>\n",
       "    <tr>\n",
       "      <th>1</th>\n",
       "      <td>1461585898</td>\n",
       "      <td>f5edf9a4-a773-4c43-9ce5-13ee970dd71e</td>\n",
       "      <td>PROPRIETORSHIP</td>\n",
       "      <td>NON_EDC</td>\n",
       "      <td>NON_EDC</td>\n",
       "      <td>Closed/Non-Operational Shop</td>\n",
       "      <td>shopFrontPhoto</td>\n",
       "      <td>{\"QC_REJECTED\":5}</td>\n",
       "      <td>2025-04-04 17:46:02</td>\n",
       "      <td>NaN</td>\n",
       "      <td>10085005</td>\n",
       "      <td>NaN</td>\n",
       "    </tr>\n",
       "    <tr>\n",
       "      <th>2</th>\n",
       "      <td>1345313240</td>\n",
       "      <td>8275b43a-3d52-41f1-9bb7-fcf2dce6ef72</td>\n",
       "      <td>INDIVIDUAL</td>\n",
       "      <td>INDIVIDUAL</td>\n",
       "      <td>NON_EDC</td>\n",
       "      <td>Grey LoB without license</td>\n",
       "      <td>shopFrontPhoto</td>\n",
       "      <td>{\"QC_REJECTED\":4}</td>\n",
       "      <td>2025-04-15 13:11:30</td>\n",
       "      <td>NaN</td>\n",
       "      <td>10229775</td>\n",
       "      <td>NaN</td>\n",
       "    </tr>\n",
       "    <tr>\n",
       "      <th>3</th>\n",
       "      <td>1949813261</td>\n",
       "      <td>a6b758fb-3de5-4779-979b-42e79adaa8f5</td>\n",
       "      <td>INDIVIDUAL</td>\n",
       "      <td>INDIVIDUAL</td>\n",
       "      <td>NON_EDC</td>\n",
       "      <td>Bank account holder mismatch with business/pro...</td>\n",
       "      <td>bankVerificationStatus</td>\n",
       "      <td>{\"QC_REJECTED\":2}</td>\n",
       "      <td>2025-04-21 19:10:46</td>\n",
       "      <td>NaN</td>\n",
       "      <td>10133026</td>\n",
       "      <td>NaN</td>\n",
       "    </tr>\n",
       "    <tr>\n",
       "      <th>4</th>\n",
       "      <td>1949813261</td>\n",
       "      <td>a6b758fb-3de5-4779-979b-42e79adaa8f5</td>\n",
       "      <td>INDIVIDUAL</td>\n",
       "      <td>INDIVIDUAL</td>\n",
       "      <td>NON_EDC</td>\n",
       "      <td>Grey LoB without license</td>\n",
       "      <td>shopFrontPhoto</td>\n",
       "      <td>{\"QC_REJECTED\":2}</td>\n",
       "      <td>2025-04-21 19:10:46</td>\n",
       "      <td>NaN</td>\n",
       "      <td>10133026</td>\n",
       "      <td>NaN</td>\n",
       "    </tr>\n",
       "  </tbody>\n",
       "</table>\n",
       "</div>"
      ],
      "text/plain": [
       "      cust_id                               lead_id     entity_type  \\\n",
       "0  1441416634  2093a170-6be5-4809-b1f1-1b8ce6cbe1bc      INDIVIDUAL   \n",
       "1  1461585898  f5edf9a4-a773-4c43-9ce5-13ee970dd71e  PROPRIETORSHIP   \n",
       "2  1345313240  8275b43a-3d52-41f1-9bb7-fcf2dce6ef72      INDIVIDUAL   \n",
       "3  1949813261  a6b758fb-3de5-4779-979b-42e79adaa8f5      INDIVIDUAL   \n",
       "4  1949813261  a6b758fb-3de5-4779-979b-42e79adaa8f5      INDIVIDUAL   \n",
       "\n",
       "  entuty_type_1 Product_Context_x  \\\n",
       "0    INDIVIDUAL           NON_EDC   \n",
       "1       NON_EDC           NON_EDC   \n",
       "2    INDIVIDUAL           NON_EDC   \n",
       "3    INDIVIDUAL           NON_EDC   \n",
       "4    INDIVIDUAL           NON_EDC   \n",
       "\n",
       "                               rejected_field_reason     rejected_field_name  \\\n",
       "0                Screenshot of Aadhar is not allowed                 aadhaar   \n",
       "1                        Closed/Non-Operational Shop          shopFrontPhoto   \n",
       "2                           Grey LoB without license          shopFrontPhoto   \n",
       "3  Bank account holder mismatch with business/pro...  bankVerificationStatus   \n",
       "4                           Grey LoB without license          shopFrontPhoto   \n",
       "\n",
       "  Stage movement count_x          updated_at solution_type_level_3_x  \\\n",
       "0      {\"QC_REJECTED\":1} 2025-04-02 14:59:10                     NaN   \n",
       "1      {\"QC_REJECTED\":5} 2025-04-04 17:46:02                     NaN   \n",
       "2      {\"QC_REJECTED\":4} 2025-04-15 13:11:30                     NaN   \n",
       "3      {\"QC_REJECTED\":2} 2025-04-21 19:10:46                     NaN   \n",
       "4      {\"QC_REJECTED\":2} 2025-04-21 19:10:46                     NaN   \n",
       "\n",
       "  FSE_Ecode solution_type_level_3_y  \n",
       "0  10221771                     NaN  \n",
       "1  10085005                     NaN  \n",
       "2  10229775                     NaN  \n",
       "3  10133026                     NaN  \n",
       "4  10133026                     NaN  "
      ]
     },
     "execution_count": 77,
     "metadata": {},
     "output_type": "execute_result"
    }
   ],
   "source": [
    "mco_rejection.head(5)"
   ]
  },
  {
   "cell_type": "code",
   "execution_count": 78,
   "metadata": {},
   "outputs": [
    {
     "data": {
      "text/html": [
       "<div>\n",
       "<style scoped>\n",
       "    .dataframe tbody tr th:only-of-type {\n",
       "        vertical-align: middle;\n",
       "    }\n",
       "\n",
       "    .dataframe tbody tr th {\n",
       "        vertical-align: top;\n",
       "    }\n",
       "\n",
       "    .dataframe thead th {\n",
       "        text-align: right;\n",
       "    }\n",
       "</style>\n",
       "<table border=\"1\" class=\"dataframe\">\n",
       "  <thead>\n",
       "    <tr style=\"text-align: right;\">\n",
       "      <th></th>\n",
       "      <th>cust_id</th>\n",
       "      <th>lead_id</th>\n",
       "      <th>entity_type</th>\n",
       "      <th>entuty_type_1</th>\n",
       "      <th>rejected_field_reason</th>\n",
       "      <th>rejected_field_name</th>\n",
       "      <th>updated_at</th>\n",
       "      <th>solution_type</th>\n",
       "      <th>solution_type_level_3_x</th>\n",
       "      <th>Product_Context</th>\n",
       "      <th>Stage movement count</th>\n",
       "      <th>solution_type_level_3_y</th>\n",
       "    </tr>\n",
       "  </thead>\n",
       "  <tbody>\n",
       "    <tr>\n",
       "      <th>0</th>\n",
       "      <td>1914978686</td>\n",
       "      <td>a0a39992-55a7-46b3-a776-936f42b8916f</td>\n",
       "      <td>PROPRIETORSHIP</td>\n",
       "      <td>NON_EDC</td>\n",
       "      <td>Line of business not visible</td>\n",
       "      <td>shopFrontPhoto</td>\n",
       "      <td>2025-04-17 15:28:33</td>\n",
       "      <td>merchant_common_onboard</td>\n",
       "      <td>KYC_UPDATE</td>\n",
       "      <td>NON_EDC</td>\n",
       "      <td>{\"QC_REJECTED\":3}</td>\n",
       "      <td>KYC_UPDATE</td>\n",
       "    </tr>\n",
       "    <tr>\n",
       "      <th>1</th>\n",
       "      <td>1914978686</td>\n",
       "      <td>a0a39992-55a7-46b3-a776-936f42b8916f</td>\n",
       "      <td>PROPRIETORSHIP</td>\n",
       "      <td>NON_EDC</td>\n",
       "      <td>Random photo</td>\n",
       "      <td>udyam_udhyog_aadhaar</td>\n",
       "      <td>2025-04-17 15:28:33</td>\n",
       "      <td>merchant_common_onboard</td>\n",
       "      <td>KYC_UPDATE</td>\n",
       "      <td>NON_EDC</td>\n",
       "      <td>{\"QC_REJECTED\":3}</td>\n",
       "      <td>KYC_UPDATE</td>\n",
       "    </tr>\n",
       "    <tr>\n",
       "      <th>2</th>\n",
       "      <td>1148824034</td>\n",
       "      <td>e89ba280-c69d-46cf-a776-f37e75cb6180</td>\n",
       "      <td>INDIVIDUAL</td>\n",
       "      <td>INDIVIDUAL</td>\n",
       "      <td>Random/wrong photo</td>\n",
       "      <td>shopFrontPhoto</td>\n",
       "      <td>2025-04-02 17:29:58</td>\n",
       "      <td>merchant_common_onboard</td>\n",
       "      <td>KYC_UPDATE</td>\n",
       "      <td>NON_EDC</td>\n",
       "      <td>{\"QC_REJECTED\":1}</td>\n",
       "      <td>KYC_UPDATE</td>\n",
       "    </tr>\n",
       "    <tr>\n",
       "      <th>3</th>\n",
       "      <td>1732086812</td>\n",
       "      <td>c95da596-1c69-413e-81a8-b4678a38237b</td>\n",
       "      <td>PROPRIETORSHIP</td>\n",
       "      <td>NON_EDC</td>\n",
       "      <td>Random photo</td>\n",
       "      <td>udyam_udhyog_aadhaar</td>\n",
       "      <td>2025-04-19 14:25:05</td>\n",
       "      <td>merchant_common_onboard</td>\n",
       "      <td>ACCOUNT_UPGRADE</td>\n",
       "      <td>NON_EDC</td>\n",
       "      <td>{\"QC_REJECTED\":1}</td>\n",
       "      <td>ACCOUNT_UPGRADE</td>\n",
       "    </tr>\n",
       "    <tr>\n",
       "      <th>4</th>\n",
       "      <td>1732086812</td>\n",
       "      <td>c95da596-1c69-413e-81a8-b4678a38237b</td>\n",
       "      <td>PROPRIETORSHIP</td>\n",
       "      <td>NON_EDC</td>\n",
       "      <td>Not a fixed shop</td>\n",
       "      <td>shopFrontPhoto</td>\n",
       "      <td>2025-04-19 14:25:05</td>\n",
       "      <td>merchant_common_onboard</td>\n",
       "      <td>ACCOUNT_UPGRADE</td>\n",
       "      <td>NON_EDC</td>\n",
       "      <td>{\"QC_REJECTED\":1}</td>\n",
       "      <td>ACCOUNT_UPGRADE</td>\n",
       "    </tr>\n",
       "  </tbody>\n",
       "</table>\n",
       "</div>"
      ],
      "text/plain": [
       "      cust_id                               lead_id     entity_type  \\\n",
       "0  1914978686  a0a39992-55a7-46b3-a776-936f42b8916f  PROPRIETORSHIP   \n",
       "1  1914978686  a0a39992-55a7-46b3-a776-936f42b8916f  PROPRIETORSHIP   \n",
       "2  1148824034  e89ba280-c69d-46cf-a776-f37e75cb6180      INDIVIDUAL   \n",
       "3  1732086812  c95da596-1c69-413e-81a8-b4678a38237b  PROPRIETORSHIP   \n",
       "4  1732086812  c95da596-1c69-413e-81a8-b4678a38237b  PROPRIETORSHIP   \n",
       "\n",
       "  entuty_type_1          rejected_field_reason   rejected_field_name  \\\n",
       "0       NON_EDC  Line of business not visible         shopFrontPhoto   \n",
       "1       NON_EDC                   Random photo  udyam_udhyog_aadhaar   \n",
       "2    INDIVIDUAL             Random/wrong photo        shopFrontPhoto   \n",
       "3       NON_EDC                   Random photo  udyam_udhyog_aadhaar   \n",
       "4       NON_EDC               Not a fixed shop        shopFrontPhoto   \n",
       "\n",
       "           updated_at            solution_type solution_type_level_3_x  \\\n",
       "0 2025-04-17 15:28:33  merchant_common_onboard              KYC_UPDATE   \n",
       "1 2025-04-17 15:28:33  merchant_common_onboard              KYC_UPDATE   \n",
       "2 2025-04-02 17:29:58  merchant_common_onboard              KYC_UPDATE   \n",
       "3 2025-04-19 14:25:05  merchant_common_onboard         ACCOUNT_UPGRADE   \n",
       "4 2025-04-19 14:25:05  merchant_common_onboard         ACCOUNT_UPGRADE   \n",
       "\n",
       "  Product_Context Stage movement count solution_type_level_3_y  \n",
       "0         NON_EDC    {\"QC_REJECTED\":3}              KYC_UPDATE  \n",
       "1         NON_EDC    {\"QC_REJECTED\":3}              KYC_UPDATE  \n",
       "2         NON_EDC    {\"QC_REJECTED\":1}              KYC_UPDATE  \n",
       "3         NON_EDC    {\"QC_REJECTED\":1}         ACCOUNT_UPGRADE  \n",
       "4         NON_EDC    {\"QC_REJECTED\":1}         ACCOUNT_UPGRADE  "
      ]
     },
     "execution_count": 78,
     "metadata": {},
     "output_type": "execute_result"
    }
   ],
   "source": [
    "kyc_acc_rejection.head(5)"
   ]
  },
  {
   "cell_type": "code",
   "execution_count": 79,
   "metadata": {},
   "outputs": [],
   "source": [
    "#mco_rejection=mco_rejection.drop(columns=['solution_type_level_3_y'])\n",
    "kyc_acc_rejection=kyc_acc_rejection.drop(columns=['Product_Context', 'Stage movement count', 'solution_type_level_3_y'])"
   ]
  },
  {
   "cell_type": "code",
   "execution_count": 80,
   "metadata": {},
   "outputs": [
    {
     "data": {
      "text/plain": [
       "Index(['cust_id', 'lead_id', 'entity_type', 'entuty_type_1',\n",
       "       'rejected_field_reason', 'rejected_field_name', 'updated_at',\n",
       "       'solution_type', 'solution_type_level_3_x'],\n",
       "      dtype='object')"
      ]
     },
     "execution_count": 80,
     "metadata": {},
     "output_type": "execute_result"
    }
   ],
   "source": [
    "kyc_acc_rejection.columns"
   ]
  },
  {
   "cell_type": "code",
   "execution_count": 81,
   "metadata": {},
   "outputs": [],
   "source": [
    "mco_rejection=mco_rejection.drop(columns=['solution_type_level_3_x', 'solution_type_level_3_y'])"
   ]
  },
  {
   "cell_type": "code",
   "execution_count": 82,
   "metadata": {},
   "outputs": [
    {
     "data": {
      "text/plain": [
       "Index(['cust_id', 'lead_id', 'entity_type', 'entuty_type_1',\n",
       "       'Product_Context_x', 'rejected_field_reason', 'rejected_field_name',\n",
       "       'Stage movement count_x', 'updated_at', 'FSE_Ecode'],\n",
       "      dtype='object')"
      ]
     },
     "execution_count": 82,
     "metadata": {},
     "output_type": "execute_result"
    }
   ],
   "source": [
    "mco_rejection.columns"
   ]
  },
  {
   "cell_type": "code",
   "execution_count": 83,
   "metadata": {},
   "outputs": [
    {
     "data": {
      "text/plain": [
       "34711"
      ]
     },
     "execution_count": 83,
     "metadata": {},
     "output_type": "execute_result"
    }
   ],
   "source": [
    "len(mco_rejection)"
   ]
  },
  {
   "cell_type": "code",
   "execution_count": 84,
   "metadata": {},
   "outputs": [
    {
     "data": {
      "text/plain": [
       "4922"
      ]
     },
     "execution_count": 84,
     "metadata": {},
     "output_type": "execute_result"
    }
   ],
   "source": [
    "mco_rejection['Product_Context_x'].isna().sum()"
   ]
  },
  {
   "cell_type": "code",
   "execution_count": 85,
   "metadata": {},
   "outputs": [
    {
     "data": {
      "text/plain": [
       "29789"
      ]
     },
     "execution_count": 85,
     "metadata": {},
     "output_type": "execute_result"
    }
   ],
   "source": [
    "mco_rejection = mco_rejection.dropna(subset=['Product_Context_x'])\n",
    "len(mco_rejection)"
   ]
  },
  {
   "cell_type": "code",
   "execution_count": 86,
   "metadata": {},
   "outputs": [],
   "source": [
    "kyc_acc_rejection.to_csv(kyc_acc_output_file, index=False)\n",
    "mco_rejection.to_csv(mco_output_file, index=False)"
   ]
  },
  {
   "cell_type": "code",
   "execution_count": null,
   "metadata": {},
   "outputs": [],
   "source": []
  },
  {
   "cell_type": "code",
   "execution_count": null,
   "metadata": {},
   "outputs": [],
   "source": []
  }
 ],
 "metadata": {
  "kernelspec": {
   "display_name": "base",
   "language": "python",
   "name": "python3"
  },
  "language_info": {
   "codemirror_mode": {
    "name": "ipython",
    "version": 3
   },
   "file_extension": ".py",
   "mimetype": "text/x-python",
   "name": "python",
   "nbconvert_exporter": "python",
   "pygments_lexer": "ipython3",
   "version": "3.9.12"
  }
 },
 "nbformat": 4,
 "nbformat_minor": 2
}
