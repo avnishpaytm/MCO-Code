{
 "cells": [
  {
   "cell_type": "code",
   "execution_count": 1,
   "metadata": {},
   "outputs": [],
   "source": [
    "import pandas as pd\n",
    "import numpy as np\n",
    "from datetime import datetime, timedelta\n",
    "from datetime import time\n",
    "import os\n"
   ]
  },
  {
   "cell_type": "code",
   "execution_count": null,
   "metadata": {},
   "outputs": [],
   "source": [
    "data=\"all_flow_data_05th May'25.csv\"\n",
    "input_file=\"rejection_reason_06-MAy'25.csv\"\n",
    "mco_output_file=\"MCO_Rejection_05th May'25.csv\"\n",
    "kyc_acc_output_file=\"KYC_ACC_Rejection_05th May'25.csv\"\n"
   ]
  },
  {
   "cell_type": "code",
   "execution_count": 3,
   "metadata": {},
   "outputs": [],
   "source": [
    "#data=\"all_flow_data_31st Mar'25.csv\"\n",
    "#input_file=\"mco_all_rejection_01st April.csv\"\n",
    "#mco_output_file=\"MCO_all_Rejection_31st Mar'25.csv\"\n",
    "#kyc_acc_output_file=\"KYC_all_ACC_Rejection_31st Mar'25.csv\"\n"
   ]
  },
  {
   "cell_type": "code",
   "execution_count": 4,
   "metadata": {},
   "outputs": [
    {
     "data": {
      "text/plain": [
       "9663"
      ]
     },
     "execution_count": 4,
     "metadata": {},
     "output_type": "execute_result"
    }
   ],
   "source": [
    "rejection_data=pd.read_csv(input_file,memory_map=True)\n",
    "data=pd.read_csv(data,memory_map=True)\n",
    "len(rejection_data)"
   ]
  },
  {
   "cell_type": "code",
   "execution_count": 5,
   "metadata": {},
   "outputs": [
    {
     "data": {
      "text/html": [
       "<div>\n",
       "<style scoped>\n",
       "    .dataframe tbody tr th:only-of-type {\n",
       "        vertical-align: middle;\n",
       "    }\n",
       "\n",
       "    .dataframe tbody tr th {\n",
       "        vertical-align: top;\n",
       "    }\n",
       "\n",
       "    .dataframe thead th {\n",
       "        text-align: right;\n",
       "    }\n",
       "</style>\n",
       "<table border=\"1\" class=\"dataframe\">\n",
       "  <thead>\n",
       "    <tr style=\"text-align: right;\">\n",
       "      <th></th>\n",
       "      <th>cust_id</th>\n",
       "      <th>lead_id</th>\n",
       "      <th>entity_type</th>\n",
       "      <th>rejected_field_reason</th>\n",
       "      <th>rejected_field_name</th>\n",
       "      <th>updated_at</th>\n",
       "      <th>solution_type</th>\n",
       "      <th>solution_type_level_2</th>\n",
       "      <th>solution_type_level_3</th>\n",
       "      <th>FSE_Ecode</th>\n",
       "    </tr>\n",
       "  </thead>\n",
       "  <tbody>\n",
       "    <tr>\n",
       "      <th>0</th>\n",
       "      <td>1334510247</td>\n",
       "      <td>aa5bc4ab-43e1-47db-88e3-583a762bcb4b</td>\n",
       "      <td>INDIVIDUAL</td>\n",
       "      <td>Screenshot of Aadhar is not allowed</td>\n",
       "      <td>aadhaar</td>\n",
       "      <td>2025-05-04 12:13:59.000</td>\n",
       "      <td>merchant_common_onboard</td>\n",
       "      <td>NaN</td>\n",
       "      <td>NaN</td>\n",
       "      <td>10197242</td>\n",
       "    </tr>\n",
       "    <tr>\n",
       "      <th>1</th>\n",
       "      <td>1932707042</td>\n",
       "      <td>5461b207-57b1-4dce-9ca4-f58eb0521c10</td>\n",
       "      <td>INDIVIDUAL</td>\n",
       "      <td>Photo mismatch with Aadhar photo</td>\n",
       "      <td>businessOwnerPhoto</td>\n",
       "      <td>2025-05-03 21:33:24.000</td>\n",
       "      <td>merchant_common_onboard</td>\n",
       "      <td>NaN</td>\n",
       "      <td>NaN</td>\n",
       "      <td>10222163</td>\n",
       "    </tr>\n",
       "    <tr>\n",
       "      <th>2</th>\n",
       "      <td>1950426918</td>\n",
       "      <td>634cfad6-403e-4a5a-ae7c-67d55e245d98</td>\n",
       "      <td>INDIVIDUAL</td>\n",
       "      <td>Photo taken is not of a person.</td>\n",
       "      <td>businessOwnerPhoto</td>\n",
       "      <td>2025-05-02 17:55:26.000</td>\n",
       "      <td>merchant_common_onboard</td>\n",
       "      <td>NaN</td>\n",
       "      <td>NaN</td>\n",
       "      <td>10227843</td>\n",
       "    </tr>\n",
       "    <tr>\n",
       "      <th>3</th>\n",
       "      <td>1950506053</td>\n",
       "      <td>90a3d4bf-554c-48c2-911f-e6694492d5a1</td>\n",
       "      <td>INDIVIDUAL</td>\n",
       "      <td>Photo mismatch with Aadhar photo</td>\n",
       "      <td>businessOwnerPhoto</td>\n",
       "      <td>2025-05-03 19:06:46.000</td>\n",
       "      <td>merchant_common_onboard</td>\n",
       "      <td>NaN</td>\n",
       "      <td>NaN</td>\n",
       "      <td>10127165</td>\n",
       "    </tr>\n",
       "    <tr>\n",
       "      <th>4</th>\n",
       "      <td>1950490835</td>\n",
       "      <td>be866cbb-beeb-4142-ac37-e6496ec029de</td>\n",
       "      <td>INDIVIDUAL</td>\n",
       "      <td>Screenshot of Aadhar is not allowed</td>\n",
       "      <td>aadhaar</td>\n",
       "      <td>2025-05-03 13:50:36.000</td>\n",
       "      <td>merchant_common_onboard</td>\n",
       "      <td>NaN</td>\n",
       "      <td>NaN</td>\n",
       "      <td>10229472</td>\n",
       "    </tr>\n",
       "  </tbody>\n",
       "</table>\n",
       "</div>"
      ],
      "text/plain": [
       "      cust_id                               lead_id entity_type  \\\n",
       "0  1334510247  aa5bc4ab-43e1-47db-88e3-583a762bcb4b  INDIVIDUAL   \n",
       "1  1932707042  5461b207-57b1-4dce-9ca4-f58eb0521c10  INDIVIDUAL   \n",
       "2  1950426918  634cfad6-403e-4a5a-ae7c-67d55e245d98  INDIVIDUAL   \n",
       "3  1950506053  90a3d4bf-554c-48c2-911f-e6694492d5a1  INDIVIDUAL   \n",
       "4  1950490835  be866cbb-beeb-4142-ac37-e6496ec029de  INDIVIDUAL   \n",
       "\n",
       "                 rejected_field_reason rejected_field_name  \\\n",
       "0  Screenshot of Aadhar is not allowed             aadhaar   \n",
       "1     Photo mismatch with Aadhar photo  businessOwnerPhoto   \n",
       "2      Photo taken is not of a person.  businessOwnerPhoto   \n",
       "3     Photo mismatch with Aadhar photo  businessOwnerPhoto   \n",
       "4  Screenshot of Aadhar is not allowed             aadhaar   \n",
       "\n",
       "                updated_at            solution_type  solution_type_level_2  \\\n",
       "0  2025-05-04 12:13:59.000  merchant_common_onboard                    NaN   \n",
       "1  2025-05-03 21:33:24.000  merchant_common_onboard                    NaN   \n",
       "2  2025-05-02 17:55:26.000  merchant_common_onboard                    NaN   \n",
       "3  2025-05-03 19:06:46.000  merchant_common_onboard                    NaN   \n",
       "4  2025-05-03 13:50:36.000  merchant_common_onboard                    NaN   \n",
       "\n",
       "  solution_type_level_3 FSE_Ecode  \n",
       "0                   NaN  10197242  \n",
       "1                   NaN  10222163  \n",
       "2                   NaN  10227843  \n",
       "3                   NaN  10127165  \n",
       "4                   NaN  10229472  "
      ]
     },
     "execution_count": 5,
     "metadata": {},
     "output_type": "execute_result"
    }
   ],
   "source": [
    "rejection_data.head(5)"
   ]
  },
  {
   "cell_type": "code",
   "execution_count": 6,
   "metadata": {},
   "outputs": [
    {
     "data": {
      "text/html": [
       "<div>\n",
       "<style scoped>\n",
       "    .dataframe tbody tr th:only-of-type {\n",
       "        vertical-align: middle;\n",
       "    }\n",
       "\n",
       "    .dataframe tbody tr th {\n",
       "        vertical-align: top;\n",
       "    }\n",
       "\n",
       "    .dataframe thead th {\n",
       "        text-align: right;\n",
       "    }\n",
       "</style>\n",
       "<table border=\"1\" class=\"dataframe\">\n",
       "  <thead>\n",
       "    <tr style=\"text-align: right;\">\n",
       "      <th></th>\n",
       "      <th>Lead_ID</th>\n",
       "      <th>Product_Context</th>\n",
       "      <th>Stage movement count</th>\n",
       "      <th>solution_type_level_3</th>\n",
       "    </tr>\n",
       "  </thead>\n",
       "  <tbody>\n",
       "    <tr>\n",
       "      <th>0</th>\n",
       "      <td>158de65a-8378-427d-8cd4-12984d8b8658</td>\n",
       "      <td>NON_EDC</td>\n",
       "      <td>NaN</td>\n",
       "      <td>NaN</td>\n",
       "    </tr>\n",
       "    <tr>\n",
       "      <th>1</th>\n",
       "      <td>40515a5e-f1e0-4507-968c-d4cf36b4537f</td>\n",
       "      <td>NON_EDC</td>\n",
       "      <td>{\"PANEL_SUCCESS\":1}</td>\n",
       "      <td>NaN</td>\n",
       "    </tr>\n",
       "    <tr>\n",
       "      <th>2</th>\n",
       "      <td>d643a08f-f30c-4fc9-a5cd-02fb795f2041</td>\n",
       "      <td>NON_EDC</td>\n",
       "      <td>{\"QC_REJECTED\":2,\"PANEL_SUCCESS\":1}</td>\n",
       "      <td>NaN</td>\n",
       "    </tr>\n",
       "    <tr>\n",
       "      <th>3</th>\n",
       "      <td>ce7233ac-ce2c-4999-a803-4bb102a67270</td>\n",
       "      <td>NON_EDC</td>\n",
       "      <td>{\"PANEL_SUCCESS\":1}</td>\n",
       "      <td>NaN</td>\n",
       "    </tr>\n",
       "    <tr>\n",
       "      <th>4</th>\n",
       "      <td>aa76091b-9d79-4a90-814a-69cc8503f6ce</td>\n",
       "      <td>NON_EDC</td>\n",
       "      <td>{\"PANEL_SUCCESS\":1}</td>\n",
       "      <td>NaN</td>\n",
       "    </tr>\n",
       "  </tbody>\n",
       "</table>\n",
       "</div>"
      ],
      "text/plain": [
       "                                Lead_ID Product_Context  \\\n",
       "0  158de65a-8378-427d-8cd4-12984d8b8658         NON_EDC   \n",
       "1  40515a5e-f1e0-4507-968c-d4cf36b4537f         NON_EDC   \n",
       "2  d643a08f-f30c-4fc9-a5cd-02fb795f2041         NON_EDC   \n",
       "3  ce7233ac-ce2c-4999-a803-4bb102a67270         NON_EDC   \n",
       "4  aa76091b-9d79-4a90-814a-69cc8503f6ce         NON_EDC   \n",
       "\n",
       "                  Stage movement count solution_type_level_3  \n",
       "0                                  NaN                   NaN  \n",
       "1                  {\"PANEL_SUCCESS\":1}                   NaN  \n",
       "2  {\"QC_REJECTED\":2,\"PANEL_SUCCESS\":1}                   NaN  \n",
       "3                  {\"PANEL_SUCCESS\":1}                   NaN  \n",
       "4                  {\"PANEL_SUCCESS\":1}                   NaN  "
      ]
     },
     "execution_count": 6,
     "metadata": {},
     "output_type": "execute_result"
    }
   ],
   "source": [
    "data=data[['Lead_ID','Product_Context','Stage movement count','solution_type_level_3']]\n",
    "data.head(5)"
   ]
  },
  {
   "cell_type": "code",
   "execution_count": 7,
   "metadata": {},
   "outputs": [
    {
     "data": {
      "text/plain": [
       "solution_type_level_3\n",
       "KYC_UPDATE         2191\n",
       "ACCOUNT_UPGRADE    1275\n",
       "3P FSE              129\n",
       "Name: count, dtype: int64"
      ]
     },
     "execution_count": 7,
     "metadata": {},
     "output_type": "execute_result"
    }
   ],
   "source": [
    "data['solution_type_level_3'].value_counts()"
   ]
  },
  {
   "cell_type": "code",
   "execution_count": 8,
   "metadata": {},
   "outputs": [
    {
     "data": {
      "text/html": [
       "<div>\n",
       "<style scoped>\n",
       "    .dataframe tbody tr th:only-of-type {\n",
       "        vertical-align: middle;\n",
       "    }\n",
       "\n",
       "    .dataframe tbody tr th {\n",
       "        vertical-align: top;\n",
       "    }\n",
       "\n",
       "    .dataframe thead th {\n",
       "        text-align: right;\n",
       "    }\n",
       "</style>\n",
       "<table border=\"1\" class=\"dataframe\">\n",
       "  <thead>\n",
       "    <tr style=\"text-align: right;\">\n",
       "      <th></th>\n",
       "      <th>cust_id</th>\n",
       "      <th>lead_id</th>\n",
       "      <th>entity_type</th>\n",
       "      <th>rejected_field_reason</th>\n",
       "      <th>rejected_field_name</th>\n",
       "      <th>updated_at</th>\n",
       "      <th>solution_type</th>\n",
       "      <th>solution_type_level_2</th>\n",
       "      <th>solution_type_level_3</th>\n",
       "      <th>FSE_Ecode</th>\n",
       "    </tr>\n",
       "  </thead>\n",
       "  <tbody>\n",
       "    <tr>\n",
       "      <th>0</th>\n",
       "      <td>1334510247</td>\n",
       "      <td>aa5bc4ab-43e1-47db-88e3-583a762bcb4b</td>\n",
       "      <td>INDIVIDUAL</td>\n",
       "      <td>Screenshot of Aadhar is not allowed</td>\n",
       "      <td>aadhaar</td>\n",
       "      <td>2025-05-04 12:13:59</td>\n",
       "      <td>merchant_common_onboard</td>\n",
       "      <td>NaN</td>\n",
       "      <td>NaN</td>\n",
       "      <td>10197242</td>\n",
       "    </tr>\n",
       "    <tr>\n",
       "      <th>1</th>\n",
       "      <td>1932707042</td>\n",
       "      <td>5461b207-57b1-4dce-9ca4-f58eb0521c10</td>\n",
       "      <td>INDIVIDUAL</td>\n",
       "      <td>Photo mismatch with Aadhar photo</td>\n",
       "      <td>businessOwnerPhoto</td>\n",
       "      <td>2025-05-03 21:33:24</td>\n",
       "      <td>merchant_common_onboard</td>\n",
       "      <td>NaN</td>\n",
       "      <td>NaN</td>\n",
       "      <td>10222163</td>\n",
       "    </tr>\n",
       "    <tr>\n",
       "      <th>2</th>\n",
       "      <td>1950426918</td>\n",
       "      <td>634cfad6-403e-4a5a-ae7c-67d55e245d98</td>\n",
       "      <td>INDIVIDUAL</td>\n",
       "      <td>Photo taken is not of a person.</td>\n",
       "      <td>businessOwnerPhoto</td>\n",
       "      <td>2025-05-02 17:55:26</td>\n",
       "      <td>merchant_common_onboard</td>\n",
       "      <td>NaN</td>\n",
       "      <td>NaN</td>\n",
       "      <td>10227843</td>\n",
       "    </tr>\n",
       "    <tr>\n",
       "      <th>3</th>\n",
       "      <td>1950506053</td>\n",
       "      <td>90a3d4bf-554c-48c2-911f-e6694492d5a1</td>\n",
       "      <td>INDIVIDUAL</td>\n",
       "      <td>Photo mismatch with Aadhar photo</td>\n",
       "      <td>businessOwnerPhoto</td>\n",
       "      <td>2025-05-03 19:06:46</td>\n",
       "      <td>merchant_common_onboard</td>\n",
       "      <td>NaN</td>\n",
       "      <td>NaN</td>\n",
       "      <td>10127165</td>\n",
       "    </tr>\n",
       "    <tr>\n",
       "      <th>4</th>\n",
       "      <td>1950490835</td>\n",
       "      <td>be866cbb-beeb-4142-ac37-e6496ec029de</td>\n",
       "      <td>INDIVIDUAL</td>\n",
       "      <td>Screenshot of Aadhar is not allowed</td>\n",
       "      <td>aadhaar</td>\n",
       "      <td>2025-05-03 13:50:36</td>\n",
       "      <td>merchant_common_onboard</td>\n",
       "      <td>NaN</td>\n",
       "      <td>NaN</td>\n",
       "      <td>10229472</td>\n",
       "    </tr>\n",
       "  </tbody>\n",
       "</table>\n",
       "</div>"
      ],
      "text/plain": [
       "      cust_id                               lead_id entity_type  \\\n",
       "0  1334510247  aa5bc4ab-43e1-47db-88e3-583a762bcb4b  INDIVIDUAL   \n",
       "1  1932707042  5461b207-57b1-4dce-9ca4-f58eb0521c10  INDIVIDUAL   \n",
       "2  1950426918  634cfad6-403e-4a5a-ae7c-67d55e245d98  INDIVIDUAL   \n",
       "3  1950506053  90a3d4bf-554c-48c2-911f-e6694492d5a1  INDIVIDUAL   \n",
       "4  1950490835  be866cbb-beeb-4142-ac37-e6496ec029de  INDIVIDUAL   \n",
       "\n",
       "                 rejected_field_reason rejected_field_name  \\\n",
       "0  Screenshot of Aadhar is not allowed             aadhaar   \n",
       "1     Photo mismatch with Aadhar photo  businessOwnerPhoto   \n",
       "2      Photo taken is not of a person.  businessOwnerPhoto   \n",
       "3     Photo mismatch with Aadhar photo  businessOwnerPhoto   \n",
       "4  Screenshot of Aadhar is not allowed             aadhaar   \n",
       "\n",
       "           updated_at            solution_type  solution_type_level_2  \\\n",
       "0 2025-05-04 12:13:59  merchant_common_onboard                    NaN   \n",
       "1 2025-05-03 21:33:24  merchant_common_onboard                    NaN   \n",
       "2 2025-05-02 17:55:26  merchant_common_onboard                    NaN   \n",
       "3 2025-05-03 19:06:46  merchant_common_onboard                    NaN   \n",
       "4 2025-05-03 13:50:36  merchant_common_onboard                    NaN   \n",
       "\n",
       "  solution_type_level_3 FSE_Ecode  \n",
       "0                   NaN  10197242  \n",
       "1                   NaN  10222163  \n",
       "2                   NaN  10227843  \n",
       "3                   NaN  10127165  \n",
       "4                   NaN  10229472  "
      ]
     },
     "execution_count": 8,
     "metadata": {},
     "output_type": "execute_result"
    }
   ],
   "source": [
    "rejection_data['updated_at']=pd.to_datetime(rejection_data['updated_at'],errors='coerce')\n",
    "rejection_data.head(5)"
   ]
  },
  {
   "cell_type": "code",
   "execution_count": 9,
   "metadata": {},
   "outputs": [
    {
     "data": {
      "text/plain": [
       "Timestamp('2025-05-05 00:00:00')"
      ]
     },
     "execution_count": 9,
     "metadata": {},
     "output_type": "execute_result"
    }
   ],
   "source": [
    "current_date = pd.Timestamp(datetime.now().date())\n",
    "current_date\n"
   ]
  },
  {
   "cell_type": "code",
   "execution_count": 10,
   "metadata": {},
   "outputs": [
    {
     "data": {
      "text/plain": [
       "9663"
      ]
     },
     "execution_count": 10,
     "metadata": {},
     "output_type": "execute_result"
    }
   ],
   "source": [
    "rejection_data=rejection_data[rejection_data['updated_at'].dt.date != current_date]\n",
    "len(rejection_data)"
   ]
  },
  {
   "cell_type": "code",
   "execution_count": 11,
   "metadata": {},
   "outputs": [
    {
     "data": {
      "text/plain": [
       "array([nan, 'KYC_UPDATE', 'ACCOUNT_UPGRADE_LENDING', 'ACCOUNT_UPGRADE',\n",
       "       'PROFILE_UPDATE'], dtype=object)"
      ]
     },
     "execution_count": 11,
     "metadata": {},
     "output_type": "execute_result"
    }
   ],
   "source": [
    "rejection_data['solution_type_level_3'].unique()"
   ]
  },
  {
   "cell_type": "code",
   "execution_count": 12,
   "metadata": {},
   "outputs": [
    {
     "data": {
      "text/plain": [
       "array([nan, 'KYC_UPDATE', 'ACCOUNT_UPGRADE_LENDING', 'ACCOUNT_UPGRADE',\n",
       "       'PROFILE_UPDATE'], dtype=object)"
      ]
     },
     "execution_count": 12,
     "metadata": {},
     "output_type": "execute_result"
    }
   ],
   "source": [
    "rejection_data=rejection_data[rejection_data['solution_type_level_3']!='YBL_LIMIT_ENHANCEMENT']\n",
    "\n",
    "rejection_data['solution_type_level_3'].unique()"
   ]
  },
  {
   "cell_type": "code",
   "execution_count": 13,
   "metadata": {},
   "outputs": [
    {
     "data": {
      "text/plain": [
       "array([nan, 'KYC_UPDATE', 'ACCOUNT_UPGRADE'], dtype=object)"
      ]
     },
     "execution_count": 13,
     "metadata": {},
     "output_type": "execute_result"
    }
   ],
   "source": [
    "rejection_data['solution_type_level_3']=rejection_data['solution_type_level_3'].replace(['ACCOUNT_UPGRADE_LENDING','PROFILE_UPDATE'],'ACCOUNT_UPGRADE')\n",
    "\n",
    "rejection_data['solution_type_level_3'].unique()"
   ]
  },
  {
   "cell_type": "code",
   "execution_count": 14,
   "metadata": {},
   "outputs": [
    {
     "data": {
      "text/plain": [
       "solution_type_level_3\n",
       "ACCOUNT_UPGRADE    522\n",
       "KYC_UPDATE         340\n",
       "Name: count, dtype: int64"
      ]
     },
     "execution_count": 14,
     "metadata": {},
     "output_type": "execute_result"
    }
   ],
   "source": [
    "rejection_data['solution_type_level_3'].value_counts()"
   ]
  },
  {
   "cell_type": "code",
   "execution_count": 15,
   "metadata": {},
   "outputs": [
    {
     "data": {
      "text/plain": [
       "entity_type\n",
       "INDIVIDUAL            7077\n",
       "PROPRIETORSHIP        2256\n",
       "NON_PROPRIETORSHIP     330\n",
       "Name: count, dtype: int64"
      ]
     },
     "execution_count": 15,
     "metadata": {},
     "output_type": "execute_result"
    }
   ],
   "source": [
    "rejection_data.loc[~rejection_data['entity_type'].isin(['INDIVIDUAL','PROPRIETORSHIP']),'entity_type']='NON_PROPRIETORSHIP'\n",
    "rejection_data['entity_type'].value_counts()"
   ]
  },
  {
   "cell_type": "code",
   "execution_count": 16,
   "metadata": {},
   "outputs": [
    {
     "data": {
      "text/plain": [
       "solution_type_level_3\n",
       "ACCOUNT_UPGRADE    522\n",
       "KYC_UPDATE         340\n",
       "Name: count, dtype: int64"
      ]
     },
     "execution_count": 16,
     "metadata": {},
     "output_type": "execute_result"
    }
   ],
   "source": [
    "kyc_acc_rejection=rejection_data[rejection_data[\"solution_type_level_3\"].isin([\"ACCOUNT_UPGRADE\",\"KYC_UPDATE\"])]\n",
    "kyc_acc_rejection['solution_type_level_3'].value_counts()\n"
   ]
  },
  {
   "cell_type": "code",
   "execution_count": 17,
   "metadata": {},
   "outputs": [
    {
     "data": {
      "text/plain": [
       "8801"
      ]
     },
     "execution_count": 17,
     "metadata": {},
     "output_type": "execute_result"
    }
   ],
   "source": [
    "mco_rejection=rejection_data[~rejection_data[\"solution_type_level_3\"].isin([\"ACCOUNT_UPGRADE\",\"KYC_UPDATE\"])]\n",
    "len(mco_rejection)"
   ]
  },
  {
   "cell_type": "code",
   "execution_count": 18,
   "metadata": {},
   "outputs": [
    {
     "data": {
      "text/plain": [
       "Index(['cust_id', 'lead_id', 'entity_type', 'entuty_type_1',\n",
       "       'rejected_field_reason', 'rejected_field_name', 'updated_at',\n",
       "       'solution_type', 'solution_type_level_2', 'solution_type_level_3',\n",
       "       'FSE_Ecode'],\n",
       "      dtype='object')"
      ]
     },
     "execution_count": 18,
     "metadata": {},
     "output_type": "execute_result"
    }
   ],
   "source": [
    "kyc_acc_rejection.insert(kyc_acc_rejection.columns.get_loc('entity_type')+1,'entuty_type_1',np.nan)\n",
    "kyc_acc_rejection.columns"
   ]
  },
  {
   "cell_type": "code",
   "execution_count": 19,
   "metadata": {},
   "outputs": [
    {
     "name": "stderr",
     "output_type": "stream",
     "text": [
      "C:\\Users\\avnish1.yadav\\AppData\\Local\\Temp\\ipykernel_9368\\272290521.py:1: FutureWarning: Setting an item of incompatible dtype is deprecated and will raise in a future error of pandas. Value '['INDIVIDUAL' 'PROPRIETORSHIP' 'PROPRIETORSHIP' 'PROPRIETORSHIP'\n",
      " 'PROPRIETORSHIP' 'PROPRIETORSHIP' 'PROPRIETORSHIP' 'PROPRIETORSHIP'\n",
      " 'INDIVIDUAL' 'PROPRIETORSHIP' 'INDIVIDUAL' 'PROPRIETORSHIP'\n",
      " 'PROPRIETORSHIP' 'PROPRIETORSHIP' 'PROPRIETORSHIP' 'PROPRIETORSHIP'\n",
      " 'PROPRIETORSHIP' 'PROPRIETORSHIP' 'PROPRIETORSHIP' 'PROPRIETORSHIP'\n",
      " 'PROPRIETORSHIP' 'PROPRIETORSHIP' 'PROPRIETORSHIP' 'PROPRIETORSHIP'\n",
      " 'PROPRIETORSHIP' 'PROPRIETORSHIP' 'PROPRIETORSHIP' 'PROPRIETORSHIP'\n",
      " 'PROPRIETORSHIP' 'PROPRIETORSHIP' 'PROPRIETORSHIP' 'PROPRIETORSHIP'\n",
      " 'PROPRIETORSHIP' 'PROPRIETORSHIP' 'PROPRIETORSHIP' 'PROPRIETORSHIP'\n",
      " 'PROPRIETORSHIP' 'PROPRIETORSHIP' 'PROPRIETORSHIP' 'PROPRIETORSHIP'\n",
      " 'PROPRIETORSHIP' 'PROPRIETORSHIP' 'PROPRIETORSHIP' 'PROPRIETORSHIP'\n",
      " 'PROPRIETORSHIP' 'PROPRIETORSHIP' 'PROPRIETORSHIP' 'PROPRIETORSHIP'\n",
      " 'PROPRIETORSHIP' 'PROPRIETORSHIP' 'PROPRIETORSHIP' 'PROPRIETORSHIP'\n",
      " 'PROPRIETORSHIP' 'PROPRIETORSHIP' 'PROPRIETORSHIP' 'PROPRIETORSHIP'\n",
      " 'PROPRIETORSHIP' 'PROPRIETORSHIP' 'PROPRIETORSHIP' 'PROPRIETORSHIP'\n",
      " 'PROPRIETORSHIP' 'PROPRIETORSHIP' 'PROPRIETORSHIP' 'PROPRIETORSHIP'\n",
      " 'PROPRIETORSHIP' 'PROPRIETORSHIP' 'PROPRIETORSHIP' 'PROPRIETORSHIP'\n",
      " 'PROPRIETORSHIP' 'INDIVIDUAL' 'INDIVIDUAL' 'PROPRIETORSHIP'\n",
      " 'PROPRIETORSHIP' 'PROPRIETORSHIP' 'PROPRIETORSHIP' 'PROPRIETORSHIP'\n",
      " 'PROPRIETORSHIP' 'PROPRIETORSHIP' 'PROPRIETORSHIP' 'PROPRIETORSHIP'\n",
      " 'INDIVIDUAL' 'PROPRIETORSHIP' 'PROPRIETORSHIP' 'PROPRIETORSHIP'\n",
      " 'PROPRIETORSHIP' 'PROPRIETORSHIP' 'PROPRIETORSHIP' 'PROPRIETORSHIP'\n",
      " 'PROPRIETORSHIP' 'PROPRIETORSHIP' 'PROPRIETORSHIP' 'PROPRIETORSHIP'\n",
      " 'PROPRIETORSHIP' 'PROPRIETORSHIP' 'PROPRIETORSHIP' 'PROPRIETORSHIP'\n",
      " 'PROPRIETORSHIP' 'PROPRIETORSHIP' 'PROPRIETORSHIP' 'PROPRIETORSHIP'\n",
      " 'PROPRIETORSHIP' 'PROPRIETORSHIP' 'PROPRIETORSHIP' 'PROPRIETORSHIP'\n",
      " 'PROPRIETORSHIP' 'INDIVIDUAL' 'INDIVIDUAL' 'PROPRIETORSHIP'\n",
      " 'PROPRIETORSHIP' 'PROPRIETORSHIP' 'PROPRIETORSHIP' 'INDIVIDUAL'\n",
      " 'PROPRIETORSHIP' 'PROPRIETORSHIP' 'PROPRIETORSHIP' 'INDIVIDUAL'\n",
      " 'PROPRIETORSHIP' 'PROPRIETORSHIP' 'PROPRIETORSHIP' 'PROPRIETORSHIP'\n",
      " 'PROPRIETORSHIP' 'PROPRIETORSHIP' 'PROPRIETORSHIP' 'PROPRIETORSHIP'\n",
      " 'PROPRIETORSHIP' 'PROPRIETORSHIP' 'PROPRIETORSHIP' 'PROPRIETORSHIP'\n",
      " 'PROPRIETORSHIP' 'PROPRIETORSHIP' 'PROPRIETORSHIP' 'PROPRIETORSHIP'\n",
      " 'PROPRIETORSHIP' 'PROPRIETORSHIP' 'INDIVIDUAL' 'INDIVIDUAL'\n",
      " 'PROPRIETORSHIP' 'PROPRIETORSHIP' 'PROPRIETORSHIP' 'PROPRIETORSHIP'\n",
      " 'PROPRIETORSHIP' 'PROPRIETORSHIP' 'PROPRIETORSHIP' 'INDIVIDUAL'\n",
      " 'PROPRIETORSHIP' 'PROPRIETORSHIP' 'PROPRIETORSHIP' 'PROPRIETORSHIP'\n",
      " 'PROPRIETORSHIP' 'PROPRIETORSHIP' 'PROPRIETORSHIP' 'PROPRIETORSHIP'\n",
      " 'PROPRIETORSHIP' 'PROPRIETORSHIP' 'PROPRIETORSHIP' 'PROPRIETORSHIP'\n",
      " 'PROPRIETORSHIP' 'PROPRIETORSHIP' 'PROPRIETORSHIP' 'INDIVIDUAL'\n",
      " 'PROPRIETORSHIP' 'PROPRIETORSHIP' 'PROPRIETORSHIP' 'PROPRIETORSHIP'\n",
      " 'PROPRIETORSHIP' 'INDIVIDUAL' 'PROPRIETORSHIP' 'PROPRIETORSHIP'\n",
      " 'PROPRIETORSHIP' 'PROPRIETORSHIP' 'PROPRIETORSHIP' 'PROPRIETORSHIP'\n",
      " 'PROPRIETORSHIP' 'PROPRIETORSHIP' 'PROPRIETORSHIP' 'INDIVIDUAL'\n",
      " 'PROPRIETORSHIP' 'PROPRIETORSHIP' 'PROPRIETORSHIP' 'PROPRIETORSHIP'\n",
      " 'PROPRIETORSHIP' 'PROPRIETORSHIP' 'PROPRIETORSHIP' 'PROPRIETORSHIP'\n",
      " 'PROPRIETORSHIP' 'PROPRIETORSHIP' 'PROPRIETORSHIP' 'PROPRIETORSHIP'\n",
      " 'PROPRIETORSHIP' 'PROPRIETORSHIP' 'PROPRIETORSHIP' 'PROPRIETORSHIP'\n",
      " 'PROPRIETORSHIP' 'PROPRIETORSHIP' 'PROPRIETORSHIP' 'PROPRIETORSHIP'\n",
      " 'PROPRIETORSHIP' 'PROPRIETORSHIP' 'PROPRIETORSHIP' 'PROPRIETORSHIP'\n",
      " 'PROPRIETORSHIP' 'PROPRIETORSHIP' 'INDIVIDUAL' 'INDIVIDUAL' 'INDIVIDUAL'\n",
      " 'PROPRIETORSHIP' 'PROPRIETORSHIP' 'PROPRIETORSHIP' 'PROPRIETORSHIP'\n",
      " 'PROPRIETORSHIP' 'PROPRIETORSHIP' 'PROPRIETORSHIP' 'INDIVIDUAL'\n",
      " 'INDIVIDUAL' 'PROPRIETORSHIP' 'PROPRIETORSHIP' 'PROPRIETORSHIP'\n",
      " 'PROPRIETORSHIP' 'PROPRIETORSHIP' 'PROPRIETORSHIP' 'PROPRIETORSHIP'\n",
      " 'PROPRIETORSHIP' 'PROPRIETORSHIP' 'PROPRIETORSHIP' 'PROPRIETORSHIP'\n",
      " 'PROPRIETORSHIP' 'PROPRIETORSHIP' 'PROPRIETORSHIP' 'PROPRIETORSHIP'\n",
      " 'PROPRIETORSHIP' 'PROPRIETORSHIP' 'PROPRIETORSHIP' 'PROPRIETORSHIP'\n",
      " 'PROPRIETORSHIP' 'PROPRIETORSHIP' 'PROPRIETORSHIP' 'PROPRIETORSHIP'\n",
      " 'PROPRIETORSHIP' 'PROPRIETORSHIP' 'PROPRIETORSHIP' 'PROPRIETORSHIP'\n",
      " 'INDIVIDUAL' 'INDIVIDUAL' 'PROPRIETORSHIP' 'PROPRIETORSHIP'\n",
      " 'PROPRIETORSHIP' 'PROPRIETORSHIP' 'PROPRIETORSHIP' 'PROPRIETORSHIP'\n",
      " 'PROPRIETORSHIP' 'PROPRIETORSHIP' 'PROPRIETORSHIP' 'PROPRIETORSHIP'\n",
      " 'PROPRIETORSHIP' 'PROPRIETORSHIP' 'PROPRIETORSHIP' 'PROPRIETORSHIP'\n",
      " 'PROPRIETORSHIP' 'PROPRIETORSHIP' 'PROPRIETORSHIP' 'PROPRIETORSHIP'\n",
      " 'PROPRIETORSHIP' 'PROPRIETORSHIP' 'PROPRIETORSHIP' 'PROPRIETORSHIP'\n",
      " 'PROPRIETORSHIP' 'PROPRIETORSHIP' 'PROPRIETORSHIP' 'PROPRIETORSHIP'\n",
      " 'INDIVIDUAL' 'PROPRIETORSHIP' 'PROPRIETORSHIP' 'PROPRIETORSHIP'\n",
      " 'PROPRIETORSHIP' 'PROPRIETORSHIP' 'PROPRIETORSHIP' 'PROPRIETORSHIP'\n",
      " 'PROPRIETORSHIP' 'PROPRIETORSHIP' 'INDIVIDUAL' 'PROPRIETORSHIP'\n",
      " 'PROPRIETORSHIP' 'PROPRIETORSHIP' 'INDIVIDUAL' 'INDIVIDUAL'\n",
      " 'PROPRIETORSHIP' 'INDIVIDUAL' 'PROPRIETORSHIP' 'PROPRIETORSHIP'\n",
      " 'PROPRIETORSHIP' 'INDIVIDUAL' 'PROPRIETORSHIP' 'PROPRIETORSHIP'\n",
      " 'PROPRIETORSHIP' 'PROPRIETORSHIP' 'INDIVIDUAL' 'PROPRIETORSHIP'\n",
      " 'PROPRIETORSHIP' 'PROPRIETORSHIP' 'PROPRIETORSHIP' 'PROPRIETORSHIP'\n",
      " 'PROPRIETORSHIP' 'PROPRIETORSHIP' 'PROPRIETORSHIP' 'PROPRIETORSHIP'\n",
      " 'PROPRIETORSHIP' 'INDIVIDUAL' 'PROPRIETORSHIP' 'INDIVIDUAL' 'INDIVIDUAL'\n",
      " 'PROPRIETORSHIP' 'PROPRIETORSHIP' 'PROPRIETORSHIP' 'INDIVIDUAL'\n",
      " 'PROPRIETORSHIP' 'PROPRIETORSHIP' 'PROPRIETORSHIP' 'PROPRIETORSHIP'\n",
      " 'INDIVIDUAL' 'PROPRIETORSHIP' 'PROPRIETORSHIP' 'PROPRIETORSHIP'\n",
      " 'PROPRIETORSHIP' 'PROPRIETORSHIP' 'PROPRIETORSHIP' 'PROPRIETORSHIP'\n",
      " 'PROPRIETORSHIP' 'PROPRIETORSHIP' 'PROPRIETORSHIP' 'PROPRIETORSHIP'\n",
      " 'PROPRIETORSHIP' 'INDIVIDUAL' 'INDIVIDUAL' 'INDIVIDUAL' 'PROPRIETORSHIP'\n",
      " 'PROPRIETORSHIP' 'INDIVIDUAL' 'INDIVIDUAL' 'PROPRIETORSHIP'\n",
      " 'PROPRIETORSHIP' 'PROPRIETORSHIP' 'PROPRIETORSHIP' 'PROPRIETORSHIP'\n",
      " 'PROPRIETORSHIP' 'PROPRIETORSHIP' 'INDIVIDUAL' 'INDIVIDUAL' 'INDIVIDUAL'\n",
      " 'INDIVIDUAL' 'INDIVIDUAL' 'PROPRIETORSHIP' 'PROPRIETORSHIP'\n",
      " 'PROPRIETORSHIP' 'PROPRIETORSHIP' 'PROPRIETORSHIP' 'PROPRIETORSHIP'\n",
      " 'PROPRIETORSHIP' 'PROPRIETORSHIP' 'PROPRIETORSHIP' 'PROPRIETORSHIP'\n",
      " 'PROPRIETORSHIP' 'INDIVIDUAL' 'INDIVIDUAL' 'PROPRIETORSHIP'\n",
      " 'PROPRIETORSHIP' 'PROPRIETORSHIP' 'INDIVIDUAL' 'PROPRIETORSHIP'\n",
      " 'PROPRIETORSHIP' 'PROPRIETORSHIP' 'PROPRIETORSHIP' 'PROPRIETORSHIP'\n",
      " 'PROPRIETORSHIP' 'PROPRIETORSHIP' 'INDIVIDUAL' 'PROPRIETORSHIP'\n",
      " 'PROPRIETORSHIP' 'PROPRIETORSHIP' 'PROPRIETORSHIP' 'PROPRIETORSHIP'\n",
      " 'PROPRIETORSHIP' 'PROPRIETORSHIP' 'PROPRIETORSHIP' 'INDIVIDUAL'\n",
      " 'INDIVIDUAL' 'INDIVIDUAL' 'INDIVIDUAL' 'INDIVIDUAL' 'INDIVIDUAL'\n",
      " 'PROPRIETORSHIP' 'PROPRIETORSHIP' 'PROPRIETORSHIP' 'INDIVIDUAL'\n",
      " 'PROPRIETORSHIP' 'PROPRIETORSHIP' 'INDIVIDUAL' 'PROPRIETORSHIP'\n",
      " 'PROPRIETORSHIP' 'PROPRIETORSHIP' 'PROPRIETORSHIP' 'PROPRIETORSHIP'\n",
      " 'PROPRIETORSHIP' 'PROPRIETORSHIP' 'PROPRIETORSHIP' 'PROPRIETORSHIP'\n",
      " 'INDIVIDUAL' 'PROPRIETORSHIP' 'PROPRIETORSHIP' 'INDIVIDUAL'\n",
      " 'PROPRIETORSHIP' 'PROPRIETORSHIP' 'PROPRIETORSHIP' 'PROPRIETORSHIP'\n",
      " 'PROPRIETORSHIP' 'PROPRIETORSHIP' 'PROPRIETORSHIP' 'PROPRIETORSHIP'\n",
      " 'INDIVIDUAL' 'PROPRIETORSHIP' 'PROPRIETORSHIP' 'INDIVIDUAL' 'INDIVIDUAL'\n",
      " 'PROPRIETORSHIP' 'INDIVIDUAL' 'INDIVIDUAL' 'PROPRIETORSHIP'\n",
      " 'PROPRIETORSHIP' 'PROPRIETORSHIP' 'PROPRIETORSHIP' 'PROPRIETORSHIP'\n",
      " 'PROPRIETORSHIP' 'INDIVIDUAL' 'INDIVIDUAL' 'INDIVIDUAL' 'PROPRIETORSHIP'\n",
      " 'PROPRIETORSHIP' 'PROPRIETORSHIP' 'INDIVIDUAL' 'PROPRIETORSHIP'\n",
      " 'INDIVIDUAL' 'PROPRIETORSHIP' 'PROPRIETORSHIP' 'INDIVIDUAL' 'INDIVIDUAL'\n",
      " 'PROPRIETORSHIP' 'PROPRIETORSHIP' 'PROPRIETORSHIP' 'INDIVIDUAL'\n",
      " 'PROPRIETORSHIP' 'PROPRIETORSHIP' 'INDIVIDUAL' 'PROPRIETORSHIP'\n",
      " 'PROPRIETORSHIP' 'PROPRIETORSHIP' 'INDIVIDUAL' 'PROPRIETORSHIP'\n",
      " 'INDIVIDUAL' 'PROPRIETORSHIP' 'PROPRIETORSHIP' 'PROPRIETORSHIP'\n",
      " 'PROPRIETORSHIP' 'PROPRIETORSHIP' 'PROPRIETORSHIP' 'PROPRIETORSHIP'\n",
      " 'INDIVIDUAL' 'INDIVIDUAL' 'PROPRIETORSHIP' 'PROPRIETORSHIP' 'INDIVIDUAL'\n",
      " 'INDIVIDUAL' 'PROPRIETORSHIP' 'INDIVIDUAL' 'PROPRIETORSHIP'\n",
      " 'PROPRIETORSHIP' 'INDIVIDUAL' 'INDIVIDUAL' 'INDIVIDUAL' 'PROPRIETORSHIP'\n",
      " 'PROPRIETORSHIP' 'INDIVIDUAL' 'PROPRIETORSHIP' 'PROPRIETORSHIP'\n",
      " 'PROPRIETORSHIP' 'INDIVIDUAL' 'INDIVIDUAL' 'INDIVIDUAL' 'INDIVIDUAL'\n",
      " 'PROPRIETORSHIP' 'PROPRIETORSHIP' 'PROPRIETORSHIP' 'PROPRIETORSHIP'\n",
      " 'PROPRIETORSHIP' 'PROPRIETORSHIP' 'PROPRIETORSHIP' 'INDIVIDUAL'\n",
      " 'INDIVIDUAL' 'INDIVIDUAL' 'INDIVIDUAL' 'INDIVIDUAL' 'INDIVIDUAL'\n",
      " 'INDIVIDUAL' 'PROPRIETORSHIP' 'PROPRIETORSHIP' 'PROPRIETORSHIP'\n",
      " 'PROPRIETORSHIP' 'PROPRIETORSHIP' 'PROPRIETORSHIP' 'PROPRIETORSHIP'\n",
      " 'PROPRIETORSHIP' 'PROPRIETORSHIP' 'INDIVIDUAL' 'PROPRIETORSHIP'\n",
      " 'PROPRIETORSHIP' 'PROPRIETORSHIP' 'PROPRIETORSHIP' 'PROPRIETORSHIP'\n",
      " 'PROPRIETORSHIP' 'PROPRIETORSHIP' 'PROPRIETORSHIP' 'PROPRIETORSHIP'\n",
      " 'PROPRIETORSHIP' 'PROPRIETORSHIP' 'PROPRIETORSHIP' 'PROPRIETORSHIP'\n",
      " 'PROPRIETORSHIP' 'PROPRIETORSHIP' 'PROPRIETORSHIP' 'PROPRIETORSHIP'\n",
      " 'PROPRIETORSHIP' 'PROPRIETORSHIP' 'PROPRIETORSHIP' 'PROPRIETORSHIP'\n",
      " 'PROPRIETORSHIP' 'PROPRIETORSHIP' 'PROPRIETORSHIP' 'INDIVIDUAL'\n",
      " 'INDIVIDUAL' 'PROPRIETORSHIP' 'PROPRIETORSHIP' 'PROPRIETORSHIP'\n",
      " 'PROPRIETORSHIP' 'PROPRIETORSHIP' 'PROPRIETORSHIP' 'PROPRIETORSHIP'\n",
      " 'PROPRIETORSHIP' 'PROPRIETORSHIP' 'PROPRIETORSHIP' 'PROPRIETORSHIP'\n",
      " 'PROPRIETORSHIP' 'PROPRIETORSHIP' 'PROPRIETORSHIP' 'PROPRIETORSHIP'\n",
      " 'PROPRIETORSHIP' 'PROPRIETORSHIP' 'PROPRIETORSHIP' 'INDIVIDUAL'\n",
      " 'PROPRIETORSHIP' 'INDIVIDUAL' 'PROPRIETORSHIP' 'PROPRIETORSHIP'\n",
      " 'PROPRIETORSHIP' 'INDIVIDUAL' 'INDIVIDUAL' 'INDIVIDUAL' 'INDIVIDUAL'\n",
      " 'PROPRIETORSHIP' 'PROPRIETORSHIP' 'PROPRIETORSHIP' 'PROPRIETORSHIP'\n",
      " 'PROPRIETORSHIP' 'PROPRIETORSHIP' 'PROPRIETORSHIP' 'PROPRIETORSHIP'\n",
      " 'PROPRIETORSHIP' 'PROPRIETORSHIP' 'PROPRIETORSHIP' 'PROPRIETORSHIP'\n",
      " 'INDIVIDUAL' 'PROPRIETORSHIP' 'PROPRIETORSHIP' 'PROPRIETORSHIP'\n",
      " 'PROPRIETORSHIP' 'PROPRIETORSHIP' 'INDIVIDUAL' 'INDIVIDUAL'\n",
      " 'PROPRIETORSHIP' 'PROPRIETORSHIP' 'PROPRIETORSHIP' 'PROPRIETORSHIP'\n",
      " 'PROPRIETORSHIP' 'PROPRIETORSHIP' 'PROPRIETORSHIP' 'INDIVIDUAL'\n",
      " 'INDIVIDUAL' 'PROPRIETORSHIP' 'PROPRIETORSHIP' 'PROPRIETORSHIP'\n",
      " 'INDIVIDUAL' 'INDIVIDUAL' 'INDIVIDUAL' 'INDIVIDUAL' 'PROPRIETORSHIP'\n",
      " 'INDIVIDUAL' 'INDIVIDUAL' 'PROPRIETORSHIP' 'PROPRIETORSHIP'\n",
      " 'PROPRIETORSHIP' 'PROPRIETORSHIP' 'INDIVIDUAL' 'PROPRIETORSHIP'\n",
      " 'PROPRIETORSHIP' 'PROPRIETORSHIP' 'INDIVIDUAL' 'PROPRIETORSHIP'\n",
      " 'PROPRIETORSHIP' 'PROPRIETORSHIP' 'PROPRIETORSHIP' 'PROPRIETORSHIP'\n",
      " 'PROPRIETORSHIP' 'PROPRIETORSHIP' 'PROPRIETORSHIP' 'PROPRIETORSHIP'\n",
      " 'PROPRIETORSHIP' 'PROPRIETORSHIP' 'PROPRIETORSHIP' 'PROPRIETORSHIP'\n",
      " 'PROPRIETORSHIP' 'PROPRIETORSHIP' 'PROPRIETORSHIP' 'PROPRIETORSHIP'\n",
      " 'PROPRIETORSHIP' 'INDIVIDUAL' 'PROPRIETORSHIP' 'PROPRIETORSHIP'\n",
      " 'PROPRIETORSHIP' 'PROPRIETORSHIP' 'PROPRIETORSHIP' 'PROPRIETORSHIP'\n",
      " 'PROPRIETORSHIP' 'PROPRIETORSHIP' 'PROPRIETORSHIP' 'PROPRIETORSHIP'\n",
      " 'INDIVIDUAL' 'PROPRIETORSHIP' 'INDIVIDUAL' 'PROPRIETORSHIP'\n",
      " 'PROPRIETORSHIP' 'PROPRIETORSHIP' 'PROPRIETORSHIP' 'PROPRIETORSHIP'\n",
      " 'PROPRIETORSHIP' 'PROPRIETORSHIP' 'PROPRIETORSHIP' 'PROPRIETORSHIP'\n",
      " 'PROPRIETORSHIP' 'PROPRIETORSHIP' 'INDIVIDUAL' 'PROPRIETORSHIP'\n",
      " 'PROPRIETORSHIP' 'PROPRIETORSHIP' 'PROPRIETORSHIP' 'PROPRIETORSHIP'\n",
      " 'PROPRIETORSHIP' 'PROPRIETORSHIP' 'PROPRIETORSHIP' 'PROPRIETORSHIP'\n",
      " 'PROPRIETORSHIP' 'PROPRIETORSHIP' 'PROPRIETORSHIP' 'PROPRIETORSHIP'\n",
      " 'PROPRIETORSHIP' 'PROPRIETORSHIP' 'PROPRIETORSHIP' 'PROPRIETORSHIP'\n",
      " 'PROPRIETORSHIP' 'PROPRIETORSHIP' 'PROPRIETORSHIP' 'PROPRIETORSHIP'\n",
      " 'PROPRIETORSHIP' 'INDIVIDUAL' 'INDIVIDUAL' 'PROPRIETORSHIP'\n",
      " 'PROPRIETORSHIP' 'PROPRIETORSHIP' 'INDIVIDUAL' 'INDIVIDUAL' 'INDIVIDUAL'\n",
      " 'PROPRIETORSHIP' 'PROPRIETORSHIP' 'PROPRIETORSHIP' 'INDIVIDUAL'\n",
      " 'PROPRIETORSHIP' 'PROPRIETORSHIP' 'PROPRIETORSHIP' 'PROPRIETORSHIP'\n",
      " 'PROPRIETORSHIP' 'PROPRIETORSHIP' 'PROPRIETORSHIP' 'PROPRIETORSHIP'\n",
      " 'PROPRIETORSHIP' 'PROPRIETORSHIP' 'PROPRIETORSHIP' 'PROPRIETORSHIP'\n",
      " 'PROPRIETORSHIP' 'PROPRIETORSHIP' 'PROPRIETORSHIP' 'PROPRIETORSHIP'\n",
      " 'PROPRIETORSHIP' 'INDIVIDUAL' 'PROPRIETORSHIP' 'PROPRIETORSHIP'\n",
      " 'PROPRIETORSHIP' 'PROPRIETORSHIP' 'PROPRIETORSHIP' 'PROPRIETORSHIP'\n",
      " 'PROPRIETORSHIP' 'PROPRIETORSHIP' 'PROPRIETORSHIP' 'PROPRIETORSHIP'\n",
      " 'PROPRIETORSHIP' 'PROPRIETORSHIP' 'PROPRIETORSHIP' 'PROPRIETORSHIP'\n",
      " 'PROPRIETORSHIP' 'PROPRIETORSHIP' 'PROPRIETORSHIP' 'PROPRIETORSHIP'\n",
      " 'PROPRIETORSHIP' 'PROPRIETORSHIP' 'PROPRIETORSHIP' 'PROPRIETORSHIP'\n",
      " 'INDIVIDUAL' 'PROPRIETORSHIP' 'INDIVIDUAL' 'PROPRIETORSHIP'\n",
      " 'PROPRIETORSHIP' 'PROPRIETORSHIP' 'PROPRIETORSHIP' 'PROPRIETORSHIP'\n",
      " 'PROPRIETORSHIP' 'PROPRIETORSHIP' 'PROPRIETORSHIP' 'PROPRIETORSHIP'\n",
      " 'PROPRIETORSHIP' 'INDIVIDUAL' 'INDIVIDUAL' 'INDIVIDUAL' 'INDIVIDUAL'\n",
      " 'PROPRIETORSHIP' 'PROPRIETORSHIP' 'PROPRIETORSHIP' 'PROPRIETORSHIP'\n",
      " 'PROPRIETORSHIP' 'PROPRIETORSHIP' 'PROPRIETORSHIP' 'PROPRIETORSHIP'\n",
      " 'INDIVIDUAL' 'PROPRIETORSHIP' 'PROPRIETORSHIP' 'PROPRIETORSHIP'\n",
      " 'PROPRIETORSHIP' 'PROPRIETORSHIP' 'PROPRIETORSHIP' 'PROPRIETORSHIP'\n",
      " 'PROPRIETORSHIP' 'PROPRIETORSHIP' 'PROPRIETORSHIP' 'PROPRIETORSHIP'\n",
      " 'PROPRIETORSHIP' 'PROPRIETORSHIP' 'PROPRIETORSHIP' 'PROPRIETORSHIP'\n",
      " 'PROPRIETORSHIP' 'PROPRIETORSHIP' 'PROPRIETORSHIP' 'PROPRIETORSHIP'\n",
      " 'PROPRIETORSHIP' 'PROPRIETORSHIP' 'PROPRIETORSHIP' 'PROPRIETORSHIP'\n",
      " 'PROPRIETORSHIP' 'PROPRIETORSHIP' 'PROPRIETORSHIP' 'PROPRIETORSHIP'\n",
      " 'PROPRIETORSHIP' 'INDIVIDUAL' 'PROPRIETORSHIP' 'PROPRIETORSHIP'\n",
      " 'INDIVIDUAL' 'PROPRIETORSHIP' 'PROPRIETORSHIP' 'PROPRIETORSHIP'\n",
      " 'PROPRIETORSHIP' 'PROPRIETORSHIP' 'PROPRIETORSHIP' 'PROPRIETORSHIP'\n",
      " 'PROPRIETORSHIP' 'PROPRIETORSHIP' 'PROPRIETORSHIP' 'PROPRIETORSHIP'\n",
      " 'PROPRIETORSHIP' 'INDIVIDUAL' 'PROPRIETORSHIP' 'INDIVIDUAL' 'INDIVIDUAL'\n",
      " 'PROPRIETORSHIP' 'PROPRIETORSHIP' 'INDIVIDUAL' 'PROPRIETORSHIP'\n",
      " 'PROPRIETORSHIP' 'PROPRIETORSHIP' 'PROPRIETORSHIP' 'PROPRIETORSHIP'\n",
      " 'PROPRIETORSHIP' 'INDIVIDUAL' 'INDIVIDUAL' 'INDIVIDUAL' 'PROPRIETORSHIP'\n",
      " 'PROPRIETORSHIP' 'PROPRIETORSHIP' 'PROPRIETORSHIP' 'PROPRIETORSHIP'\n",
      " 'PROPRIETORSHIP' 'PROPRIETORSHIP' 'PROPRIETORSHIP' 'PROPRIETORSHIP'\n",
      " 'PROPRIETORSHIP' 'PROPRIETORSHIP' 'PROPRIETORSHIP' 'PROPRIETORSHIP'\n",
      " 'PROPRIETORSHIP' 'PROPRIETORSHIP' 'PROPRIETORSHIP' 'PROPRIETORSHIP'\n",
      " 'INDIVIDUAL' 'INDIVIDUAL' 'INDIVIDUAL' 'PROPRIETORSHIP' 'PROPRIETORSHIP'\n",
      " 'PROPRIETORSHIP' 'PROPRIETORSHIP' 'PROPRIETORSHIP' 'PROPRIETORSHIP'\n",
      " 'INDIVIDUAL' 'INDIVIDUAL' 'PROPRIETORSHIP' 'PROPRIETORSHIP'\n",
      " 'PROPRIETORSHIP' 'PROPRIETORSHIP' 'PROPRIETORSHIP' 'PROPRIETORSHIP'\n",
      " 'PROPRIETORSHIP' 'PROPRIETORSHIP' 'PROPRIETORSHIP' 'PROPRIETORSHIP'\n",
      " 'PROPRIETORSHIP' 'PROPRIETORSHIP' 'PROPRIETORSHIP' 'PROPRIETORSHIP'\n",
      " 'PROPRIETORSHIP' 'PROPRIETORSHIP' 'INDIVIDUAL']' has dtype incompatible with float64, please explicitly cast to a compatible dtype first.\n",
      "  kyc_acc_rejection.loc[:, 'entuty_type_1'] = kyc_acc_rejection['entity_type']\n"
     ]
    },
    {
     "data": {
      "text/plain": [
       "entuty_type_1\n",
       "PROPRIETORSHIP    712\n",
       "INDIVIDUAL        150\n",
       "Name: count, dtype: int64"
      ]
     },
     "execution_count": 19,
     "metadata": {},
     "output_type": "execute_result"
    }
   ],
   "source": [
    "kyc_acc_rejection.loc[:, 'entuty_type_1'] = kyc_acc_rejection['entity_type']\n",
    "kyc_acc_rejection['entuty_type_1'].value_counts()"
   ]
  },
  {
   "cell_type": "code",
   "execution_count": 20,
   "metadata": {},
   "outputs": [
    {
     "name": "stderr",
     "output_type": "stream",
     "text": [
      "C:\\Users\\avnish1.yadav\\AppData\\Local\\Temp\\ipykernel_9368\\2156595060.py:1: SettingWithCopyWarning: \n",
      "A value is trying to be set on a copy of a slice from a DataFrame.\n",
      "Try using .loc[row_indexer,col_indexer] = value instead\n",
      "\n",
      "See the caveats in the documentation: https://pandas.pydata.org/pandas-docs/stable/user_guide/indexing.html#returning-a-view-versus-a-copy\n",
      "  kyc_acc_rejection['entuty_type_1']=kyc_acc_rejection['entuty_type_1'].replace(['PROPRIETORSHIP','NON_PROPRIETORSHIP'],'NON_EDC')\n"
     ]
    },
    {
     "data": {
      "text/plain": [
       "entuty_type_1\n",
       "NON_EDC       712\n",
       "INDIVIDUAL    150\n",
       "Name: count, dtype: int64"
      ]
     },
     "execution_count": 20,
     "metadata": {},
     "output_type": "execute_result"
    }
   ],
   "source": [
    "kyc_acc_rejection['entuty_type_1']=kyc_acc_rejection['entuty_type_1'].replace(['PROPRIETORSHIP','NON_PROPRIETORSHIP'],'NON_EDC')\n",
    "kyc_acc_rejection['entuty_type_1'].value_counts()"
   ]
  },
  {
   "cell_type": "code",
   "execution_count": 21,
   "metadata": {},
   "outputs": [
    {
     "data": {
      "text/plain": [
       "Index(['cust_id', 'lead_id', 'entity_type', 'entuty_type_1',\n",
       "       'rejected_field_reason', 'rejected_field_name', 'updated_at',\n",
       "       'solution_type', 'solution_type_level_3', 'FSE_Ecode'],\n",
       "      dtype='object')"
      ]
     },
     "execution_count": 21,
     "metadata": {},
     "output_type": "execute_result"
    }
   ],
   "source": [
    "kyc_acc_rejection=kyc_acc_rejection.drop(columns=['solution_type_level_2'])\n",
    "kyc_acc_rejection.columns"
   ]
  },
  {
   "cell_type": "code",
   "execution_count": 22,
   "metadata": {},
   "outputs": [],
   "source": [
    "kyc_acc_rejection=pd.merge(kyc_acc_rejection,data,left_on='lead_id',right_on='Lead_ID',how='left')\n",
    "kyc_acc_rejection=kyc_acc_rejection.drop(columns=['Lead_ID'])"
   ]
  },
  {
   "cell_type": "code",
   "execution_count": 23,
   "metadata": {},
   "outputs": [
    {
     "data": {
      "text/plain": [
       "Index(['cust_id', 'lead_id', 'entity_type', 'entuty_type_1',\n",
       "       'rejected_field_reason', 'rejected_field_name', 'updated_at',\n",
       "       'solution_type', 'solution_type_level_3_x', 'FSE_Ecode',\n",
       "       'Product_Context', 'Stage movement count', 'solution_type_level_3_y'],\n",
       "      dtype='object')"
      ]
     },
     "execution_count": 23,
     "metadata": {},
     "output_type": "execute_result"
    }
   ],
   "source": [
    "kyc_acc_rejection.columns"
   ]
  },
  {
   "cell_type": "code",
   "execution_count": 24,
   "metadata": {},
   "outputs": [],
   "source": [
    "kyc_acc_rejection.loc[kyc_acc_rejection['solution_type_level_3_y']=='3P FSE','solution_type_level_3_x']='3P FSE'"
   ]
  },
  {
   "cell_type": "code",
   "execution_count": 25,
   "metadata": {},
   "outputs": [
    {
     "data": {
      "text/plain": [
       "solution_type_level_3_x\n",
       "ACCOUNT_UPGRADE    522\n",
       "KYC_UPDATE         299\n",
       "3P FSE              41\n",
       "Name: count, dtype: int64"
      ]
     },
     "execution_count": 25,
     "metadata": {},
     "output_type": "execute_result"
    }
   ],
   "source": [
    "kyc_acc_rejection['solution_type_level_3_x'].value_counts()"
   ]
  },
  {
   "cell_type": "code",
   "execution_count": 26,
   "metadata": {},
   "outputs": [
    {
     "data": {
      "text/plain": [
       "Index(['cust_id', 'lead_id', 'entity_type', 'entuty_type_1',\n",
       "       'rejected_field_reason', 'rejected_field_name', 'updated_at',\n",
       "       'solution_type', 'solution_type_level_3_x', 'FSE_Ecode',\n",
       "       'Product_Context', 'Stage movement count', 'solution_type_level_3_y'],\n",
       "      dtype='object')"
      ]
     },
     "execution_count": 26,
     "metadata": {},
     "output_type": "execute_result"
    }
   ],
   "source": [
    "kyc_acc_rejection.columns"
   ]
  },
  {
   "cell_type": "code",
   "execution_count": 27,
   "metadata": {},
   "outputs": [
    {
     "data": {
      "text/plain": [
       "Index(['cust_id', 'lead_id', 'entity_type', 'entuty_type_1',\n",
       "       'rejected_field_reason', 'rejected_field_name', 'updated_at',\n",
       "       'solution_type', 'solution_type_level_3_x', 'Product_Context',\n",
       "       'Stage movement count', 'solution_type_level_3_y'],\n",
       "      dtype='object')"
      ]
     },
     "execution_count": 27,
     "metadata": {},
     "output_type": "execute_result"
    }
   ],
   "source": [
    "kyc_acc_rejection = kyc_acc_rejection.drop(columns=['FSE_Ecode'])\n",
    "kyc_acc_rejection.columns\n"
   ]
  },
  {
   "cell_type": "code",
   "execution_count": 28,
   "metadata": {},
   "outputs": [
    {
     "data": {
      "text/plain": [
       "Index(['cust_id', 'lead_id', 'entity_type', 'rejected_field_reason',\n",
       "       'rejected_field_name', 'updated_at', 'solution_type_level_3',\n",
       "       'FSE_Ecode'],\n",
       "      dtype='object')"
      ]
     },
     "execution_count": 28,
     "metadata": {},
     "output_type": "execute_result"
    }
   ],
   "source": [
    "mco_rejection=mco_rejection.drop(columns=['solution_type_level_2','solution_type'])\n",
    "mco_rejection.columns"
   ]
  },
  {
   "cell_type": "code",
   "execution_count": 29,
   "metadata": {},
   "outputs": [],
   "source": [
    "mco_rejection.insert(mco_rejection.columns.get_loc('entity_type')+1,'entuty_type_1',np.nan)\n",
    "mco_rejection.insert(mco_rejection.columns.get_loc('entuty_type_1')+1,'Product_Context',np.nan)\n",
    "mco_rejection.insert(mco_rejection.columns.get_loc('rejected_field_name')+1,'Stage movement count',np.nan)"
   ]
  },
  {
   "cell_type": "code",
   "execution_count": 30,
   "metadata": {},
   "outputs": [],
   "source": [
    "mco_rejection=pd.merge(mco_rejection,data,left_on='lead_id',right_on='Lead_ID',how='left')\n",
    "mco_rejection=mco_rejection.drop(columns=['Lead_ID'])"
   ]
  },
  {
   "cell_type": "code",
   "execution_count": 31,
   "metadata": {},
   "outputs": [
    {
     "data": {
      "text/plain": [
       "Index(['cust_id', 'lead_id', 'entity_type', 'entuty_type_1',\n",
       "       'Product_Context_x', 'rejected_field_reason', 'rejected_field_name',\n",
       "       'Stage movement count_x', 'updated_at', 'solution_type_level_3_x',\n",
       "       'FSE_Ecode', 'Product_Context_y', 'Stage movement count_y',\n",
       "       'solution_type_level_3_y'],\n",
       "      dtype='object')"
      ]
     },
     "execution_count": 31,
     "metadata": {},
     "output_type": "execute_result"
    }
   ],
   "source": [
    "mco_rejection.columns"
   ]
  },
  {
   "cell_type": "code",
   "execution_count": 32,
   "metadata": {},
   "outputs": [],
   "source": [
    "mco_rejection['Product_Context_x']=mco_rejection['Product_Context_y']\n",
    "mco_rejection['Stage movement count_x']=mco_rejection['Stage movement count_y']\n",
    "mco_rejection['entuty_type_1']=mco_rejection['entity_type']\n",
    "mco_rejection=mco_rejection.drop(columns=['Product_Context_y','Stage movement count_y'])"
   ]
  },
  {
   "cell_type": "code",
   "execution_count": 33,
   "metadata": {},
   "outputs": [],
   "source": [
    "mco_rejection.loc[mco_rejection['entuty_type_1'].isin(['PROPRIETORSHIP','NON_PROPRIETORSHIP']),'entuty_type_1']=mco_rejection['Product_Context_x']\n"
   ]
  },
  {
   "cell_type": "code",
   "execution_count": 34,
   "metadata": {},
   "outputs": [
    {
     "data": {
      "text/html": [
       "<div>\n",
       "<style scoped>\n",
       "    .dataframe tbody tr th:only-of-type {\n",
       "        vertical-align: middle;\n",
       "    }\n",
       "\n",
       "    .dataframe tbody tr th {\n",
       "        vertical-align: top;\n",
       "    }\n",
       "\n",
       "    .dataframe thead th {\n",
       "        text-align: right;\n",
       "    }\n",
       "</style>\n",
       "<table border=\"1\" class=\"dataframe\">\n",
       "  <thead>\n",
       "    <tr style=\"text-align: right;\">\n",
       "      <th></th>\n",
       "      <th>cust_id</th>\n",
       "      <th>lead_id</th>\n",
       "      <th>entity_type</th>\n",
       "      <th>entuty_type_1</th>\n",
       "      <th>Product_Context_x</th>\n",
       "      <th>rejected_field_reason</th>\n",
       "      <th>rejected_field_name</th>\n",
       "      <th>Stage movement count_x</th>\n",
       "      <th>updated_at</th>\n",
       "      <th>solution_type_level_3_x</th>\n",
       "      <th>FSE_Ecode</th>\n",
       "      <th>solution_type_level_3_y</th>\n",
       "    </tr>\n",
       "  </thead>\n",
       "  <tbody>\n",
       "    <tr>\n",
       "      <th>0</th>\n",
       "      <td>1334510247</td>\n",
       "      <td>aa5bc4ab-43e1-47db-88e3-583a762bcb4b</td>\n",
       "      <td>INDIVIDUAL</td>\n",
       "      <td>INDIVIDUAL</td>\n",
       "      <td>NON_EDC</td>\n",
       "      <td>Screenshot of Aadhar is not allowed</td>\n",
       "      <td>aadhaar</td>\n",
       "      <td>{\"QC_REJECTED\":1}</td>\n",
       "      <td>2025-05-04 12:13:59</td>\n",
       "      <td>NaN</td>\n",
       "      <td>10197242</td>\n",
       "      <td>NaN</td>\n",
       "    </tr>\n",
       "    <tr>\n",
       "      <th>1</th>\n",
       "      <td>1932707042</td>\n",
       "      <td>5461b207-57b1-4dce-9ca4-f58eb0521c10</td>\n",
       "      <td>INDIVIDUAL</td>\n",
       "      <td>INDIVIDUAL</td>\n",
       "      <td>NON_EDC</td>\n",
       "      <td>Photo mismatch with Aadhar photo</td>\n",
       "      <td>businessOwnerPhoto</td>\n",
       "      <td>{\"QC_REJECTED\":2}</td>\n",
       "      <td>2025-05-03 21:33:24</td>\n",
       "      <td>NaN</td>\n",
       "      <td>10222163</td>\n",
       "      <td>NaN</td>\n",
       "    </tr>\n",
       "    <tr>\n",
       "      <th>2</th>\n",
       "      <td>1950426918</td>\n",
       "      <td>634cfad6-403e-4a5a-ae7c-67d55e245d98</td>\n",
       "      <td>INDIVIDUAL</td>\n",
       "      <td>INDIVIDUAL</td>\n",
       "      <td>NON_EDC</td>\n",
       "      <td>Photo taken is not of a person.</td>\n",
       "      <td>businessOwnerPhoto</td>\n",
       "      <td>{\"QC_REJECTED\":3}</td>\n",
       "      <td>2025-05-02 17:55:26</td>\n",
       "      <td>NaN</td>\n",
       "      <td>10227843</td>\n",
       "      <td>NaN</td>\n",
       "    </tr>\n",
       "    <tr>\n",
       "      <th>3</th>\n",
       "      <td>1950506053</td>\n",
       "      <td>90a3d4bf-554c-48c2-911f-e6694492d5a1</td>\n",
       "      <td>INDIVIDUAL</td>\n",
       "      <td>INDIVIDUAL</td>\n",
       "      <td>NON_EDC</td>\n",
       "      <td>Photo mismatch with Aadhar photo</td>\n",
       "      <td>businessOwnerPhoto</td>\n",
       "      <td>{\"QC_REJECTED\":5}</td>\n",
       "      <td>2025-05-03 19:06:46</td>\n",
       "      <td>NaN</td>\n",
       "      <td>10127165</td>\n",
       "      <td>NaN</td>\n",
       "    </tr>\n",
       "    <tr>\n",
       "      <th>4</th>\n",
       "      <td>1950490835</td>\n",
       "      <td>be866cbb-beeb-4142-ac37-e6496ec029de</td>\n",
       "      <td>INDIVIDUAL</td>\n",
       "      <td>INDIVIDUAL</td>\n",
       "      <td>NON_EDC</td>\n",
       "      <td>Screenshot of Aadhar is not allowed</td>\n",
       "      <td>aadhaar</td>\n",
       "      <td>{\"QC_REJECTED\":1}</td>\n",
       "      <td>2025-05-03 13:50:36</td>\n",
       "      <td>NaN</td>\n",
       "      <td>10229472</td>\n",
       "      <td>NaN</td>\n",
       "    </tr>\n",
       "  </tbody>\n",
       "</table>\n",
       "</div>"
      ],
      "text/plain": [
       "      cust_id                               lead_id entity_type entuty_type_1  \\\n",
       "0  1334510247  aa5bc4ab-43e1-47db-88e3-583a762bcb4b  INDIVIDUAL    INDIVIDUAL   \n",
       "1  1932707042  5461b207-57b1-4dce-9ca4-f58eb0521c10  INDIVIDUAL    INDIVIDUAL   \n",
       "2  1950426918  634cfad6-403e-4a5a-ae7c-67d55e245d98  INDIVIDUAL    INDIVIDUAL   \n",
       "3  1950506053  90a3d4bf-554c-48c2-911f-e6694492d5a1  INDIVIDUAL    INDIVIDUAL   \n",
       "4  1950490835  be866cbb-beeb-4142-ac37-e6496ec029de  INDIVIDUAL    INDIVIDUAL   \n",
       "\n",
       "  Product_Context_x                rejected_field_reason rejected_field_name  \\\n",
       "0           NON_EDC  Screenshot of Aadhar is not allowed             aadhaar   \n",
       "1           NON_EDC     Photo mismatch with Aadhar photo  businessOwnerPhoto   \n",
       "2           NON_EDC      Photo taken is not of a person.  businessOwnerPhoto   \n",
       "3           NON_EDC     Photo mismatch with Aadhar photo  businessOwnerPhoto   \n",
       "4           NON_EDC  Screenshot of Aadhar is not allowed             aadhaar   \n",
       "\n",
       "  Stage movement count_x          updated_at solution_type_level_3_x  \\\n",
       "0      {\"QC_REJECTED\":1} 2025-05-04 12:13:59                     NaN   \n",
       "1      {\"QC_REJECTED\":2} 2025-05-03 21:33:24                     NaN   \n",
       "2      {\"QC_REJECTED\":3} 2025-05-02 17:55:26                     NaN   \n",
       "3      {\"QC_REJECTED\":5} 2025-05-03 19:06:46                     NaN   \n",
       "4      {\"QC_REJECTED\":1} 2025-05-03 13:50:36                     NaN   \n",
       "\n",
       "  FSE_Ecode solution_type_level_3_y  \n",
       "0  10197242                     NaN  \n",
       "1  10222163                     NaN  \n",
       "2  10227843                     NaN  \n",
       "3  10127165                     NaN  \n",
       "4  10229472                     NaN  "
      ]
     },
     "execution_count": 34,
     "metadata": {},
     "output_type": "execute_result"
    }
   ],
   "source": [
    "mco_rejection.head(5)"
   ]
  },
  {
   "cell_type": "code",
   "execution_count": 35,
   "metadata": {},
   "outputs": [
    {
     "data": {
      "text/html": [
       "<div>\n",
       "<style scoped>\n",
       "    .dataframe tbody tr th:only-of-type {\n",
       "        vertical-align: middle;\n",
       "    }\n",
       "\n",
       "    .dataframe tbody tr th {\n",
       "        vertical-align: top;\n",
       "    }\n",
       "\n",
       "    .dataframe thead th {\n",
       "        text-align: right;\n",
       "    }\n",
       "</style>\n",
       "<table border=\"1\" class=\"dataframe\">\n",
       "  <thead>\n",
       "    <tr style=\"text-align: right;\">\n",
       "      <th></th>\n",
       "      <th>cust_id</th>\n",
       "      <th>lead_id</th>\n",
       "      <th>entity_type</th>\n",
       "      <th>entuty_type_1</th>\n",
       "      <th>rejected_field_reason</th>\n",
       "      <th>rejected_field_name</th>\n",
       "      <th>updated_at</th>\n",
       "      <th>solution_type</th>\n",
       "      <th>solution_type_level_3_x</th>\n",
       "      <th>Product_Context</th>\n",
       "      <th>Stage movement count</th>\n",
       "      <th>solution_type_level_3_y</th>\n",
       "    </tr>\n",
       "  </thead>\n",
       "  <tbody>\n",
       "    <tr>\n",
       "      <th>0</th>\n",
       "      <td>1146998180</td>\n",
       "      <td>0247a081-9469-441d-b07f-de6fdfcea8e7</td>\n",
       "      <td>INDIVIDUAL</td>\n",
       "      <td>INDIVIDUAL</td>\n",
       "      <td>Name mismatch with bank</td>\n",
       "      <td>aadhaar</td>\n",
       "      <td>2025-05-05 10:45:27</td>\n",
       "      <td>merchant_common_onboard</td>\n",
       "      <td>KYC_UPDATE</td>\n",
       "      <td>NaN</td>\n",
       "      <td>NaN</td>\n",
       "      <td>NaN</td>\n",
       "    </tr>\n",
       "    <tr>\n",
       "      <th>1</th>\n",
       "      <td>1396222741</td>\n",
       "      <td>e15272c2-06b4-4ea5-9734-19e28fa2d120</td>\n",
       "      <td>PROPRIETORSHIP</td>\n",
       "      <td>NON_EDC</td>\n",
       "      <td>Proprietor/Owner name mismatch with PAN name</td>\n",
       "      <td>shopEstablishmentActCertificate2</td>\n",
       "      <td>2025-05-05 12:36:21</td>\n",
       "      <td>merchant_common_onboard</td>\n",
       "      <td>ACCOUNT_UPGRADE</td>\n",
       "      <td>NaN</td>\n",
       "      <td>NaN</td>\n",
       "      <td>NaN</td>\n",
       "    </tr>\n",
       "    <tr>\n",
       "      <th>2</th>\n",
       "      <td>1396222741</td>\n",
       "      <td>e15272c2-06b4-4ea5-9734-19e28fa2d120</td>\n",
       "      <td>PROPRIETORSHIP</td>\n",
       "      <td>NON_EDC</td>\n",
       "      <td>Not a fixed shop</td>\n",
       "      <td>shopFrontPhoto</td>\n",
       "      <td>2025-05-05 12:36:21</td>\n",
       "      <td>merchant_common_onboard</td>\n",
       "      <td>ACCOUNT_UPGRADE</td>\n",
       "      <td>NaN</td>\n",
       "      <td>NaN</td>\n",
       "      <td>NaN</td>\n",
       "    </tr>\n",
       "    <tr>\n",
       "      <th>3</th>\n",
       "      <td>1047918962</td>\n",
       "      <td>3b9eb0cd-b765-4b06-88d2-7327888587ce</td>\n",
       "      <td>PROPRIETORSHIP</td>\n",
       "      <td>NON_EDC</td>\n",
       "      <td>Line of business mismatch with Shop photo</td>\n",
       "      <td>shopEstablishmentActCertificate2</td>\n",
       "      <td>2025-05-03 13:50:31</td>\n",
       "      <td>merchant_common_onboard</td>\n",
       "      <td>KYC_UPDATE</td>\n",
       "      <td>NON_EDC</td>\n",
       "      <td>{\"QC_REJECTED\":2}</td>\n",
       "      <td>KYC_UPDATE</td>\n",
       "    </tr>\n",
       "    <tr>\n",
       "      <th>4</th>\n",
       "      <td>1047918962</td>\n",
       "      <td>3b9eb0cd-b765-4b06-88d2-7327888587ce</td>\n",
       "      <td>PROPRIETORSHIP</td>\n",
       "      <td>NON_EDC</td>\n",
       "      <td>Category mismatch between shop photo and busin...</td>\n",
       "      <td>shopFrontPhoto</td>\n",
       "      <td>2025-05-03 13:50:31</td>\n",
       "      <td>merchant_common_onboard</td>\n",
       "      <td>KYC_UPDATE</td>\n",
       "      <td>NON_EDC</td>\n",
       "      <td>{\"QC_REJECTED\":2}</td>\n",
       "      <td>KYC_UPDATE</td>\n",
       "    </tr>\n",
       "  </tbody>\n",
       "</table>\n",
       "</div>"
      ],
      "text/plain": [
       "      cust_id                               lead_id     entity_type  \\\n",
       "0  1146998180  0247a081-9469-441d-b07f-de6fdfcea8e7      INDIVIDUAL   \n",
       "1  1396222741  e15272c2-06b4-4ea5-9734-19e28fa2d120  PROPRIETORSHIP   \n",
       "2  1396222741  e15272c2-06b4-4ea5-9734-19e28fa2d120  PROPRIETORSHIP   \n",
       "3  1047918962  3b9eb0cd-b765-4b06-88d2-7327888587ce  PROPRIETORSHIP   \n",
       "4  1047918962  3b9eb0cd-b765-4b06-88d2-7327888587ce  PROPRIETORSHIP   \n",
       "\n",
       "  entuty_type_1                              rejected_field_reason  \\\n",
       "0    INDIVIDUAL                            Name mismatch with bank   \n",
       "1       NON_EDC       Proprietor/Owner name mismatch with PAN name   \n",
       "2       NON_EDC                                   Not a fixed shop   \n",
       "3       NON_EDC          Line of business mismatch with Shop photo   \n",
       "4       NON_EDC  Category mismatch between shop photo and busin...   \n",
       "\n",
       "                rejected_field_name          updated_at  \\\n",
       "0                           aadhaar 2025-05-05 10:45:27   \n",
       "1  shopEstablishmentActCertificate2 2025-05-05 12:36:21   \n",
       "2                    shopFrontPhoto 2025-05-05 12:36:21   \n",
       "3  shopEstablishmentActCertificate2 2025-05-03 13:50:31   \n",
       "4                    shopFrontPhoto 2025-05-03 13:50:31   \n",
       "\n",
       "             solution_type solution_type_level_3_x Product_Context  \\\n",
       "0  merchant_common_onboard              KYC_UPDATE             NaN   \n",
       "1  merchant_common_onboard         ACCOUNT_UPGRADE             NaN   \n",
       "2  merchant_common_onboard         ACCOUNT_UPGRADE             NaN   \n",
       "3  merchant_common_onboard              KYC_UPDATE         NON_EDC   \n",
       "4  merchant_common_onboard              KYC_UPDATE         NON_EDC   \n",
       "\n",
       "  Stage movement count solution_type_level_3_y  \n",
       "0                  NaN                     NaN  \n",
       "1                  NaN                     NaN  \n",
       "2                  NaN                     NaN  \n",
       "3    {\"QC_REJECTED\":2}              KYC_UPDATE  \n",
       "4    {\"QC_REJECTED\":2}              KYC_UPDATE  "
      ]
     },
     "execution_count": 35,
     "metadata": {},
     "output_type": "execute_result"
    }
   ],
   "source": [
    "kyc_acc_rejection.head(5)"
   ]
  },
  {
   "cell_type": "code",
   "execution_count": 36,
   "metadata": {},
   "outputs": [],
   "source": [
    "#mco_rejection=mco_rejection.drop(columns=['solution_type_level_3_y'])\n",
    "kyc_acc_rejection=kyc_acc_rejection.drop(columns=['Product_Context', 'Stage movement count', 'solution_type_level_3_y'])"
   ]
  },
  {
   "cell_type": "code",
   "execution_count": 37,
   "metadata": {},
   "outputs": [
    {
     "data": {
      "text/plain": [
       "Index(['cust_id', 'lead_id', 'entity_type', 'entuty_type_1',\n",
       "       'rejected_field_reason', 'rejected_field_name', 'updated_at',\n",
       "       'solution_type', 'solution_type_level_3_x'],\n",
       "      dtype='object')"
      ]
     },
     "execution_count": 37,
     "metadata": {},
     "output_type": "execute_result"
    }
   ],
   "source": [
    "kyc_acc_rejection.columns"
   ]
  },
  {
   "cell_type": "code",
   "execution_count": 38,
   "metadata": {},
   "outputs": [],
   "source": [
    "mco_rejection=mco_rejection.drop(columns=['solution_type_level_3_x', 'solution_type_level_3_y'])"
   ]
  },
  {
   "cell_type": "code",
   "execution_count": 39,
   "metadata": {},
   "outputs": [
    {
     "data": {
      "text/plain": [
       "Index(['cust_id', 'lead_id', 'entity_type', 'entuty_type_1',\n",
       "       'Product_Context_x', 'rejected_field_reason', 'rejected_field_name',\n",
       "       'Stage movement count_x', 'updated_at', 'FSE_Ecode'],\n",
       "      dtype='object')"
      ]
     },
     "execution_count": 39,
     "metadata": {},
     "output_type": "execute_result"
    }
   ],
   "source": [
    "mco_rejection.columns"
   ]
  },
  {
   "cell_type": "code",
   "execution_count": 40,
   "metadata": {},
   "outputs": [
    {
     "data": {
      "text/plain": [
       "8801"
      ]
     },
     "execution_count": 40,
     "metadata": {},
     "output_type": "execute_result"
    }
   ],
   "source": [
    "len(mco_rejection)"
   ]
  },
  {
   "cell_type": "code",
   "execution_count": 41,
   "metadata": {},
   "outputs": [
    {
     "data": {
      "text/plain": [
       "2487"
      ]
     },
     "execution_count": 41,
     "metadata": {},
     "output_type": "execute_result"
    }
   ],
   "source": [
    "mco_rejection['Product_Context_x'].isna().sum()"
   ]
  },
  {
   "cell_type": "code",
   "execution_count": 42,
   "metadata": {},
   "outputs": [
    {
     "data": {
      "text/plain": [
       "6314"
      ]
     },
     "execution_count": 42,
     "metadata": {},
     "output_type": "execute_result"
    }
   ],
   "source": [
    "mco_rejection = mco_rejection.dropna(subset=['Product_Context_x'])\n",
    "len(mco_rejection)"
   ]
  },
  {
   "cell_type": "code",
   "execution_count": 43,
   "metadata": {},
   "outputs": [],
   "source": [
    "kyc_acc_rejection.to_csv(kyc_acc_output_file, index=False)\n",
    "mco_rejection.to_csv(mco_output_file, index=False)"
   ]
  },
  {
   "cell_type": "code",
   "execution_count": null,
   "metadata": {},
   "outputs": [],
   "source": []
  },
  {
   "cell_type": "code",
   "execution_count": null,
   "metadata": {},
   "outputs": [],
   "source": []
  }
 ],
 "metadata": {
  "kernelspec": {
   "display_name": "base",
   "language": "python",
   "name": "python3"
  },
  "language_info": {
   "codemirror_mode": {
    "name": "ipython",
    "version": 3
   },
   "file_extension": ".py",
   "mimetype": "text/x-python",
   "name": "python",
   "nbconvert_exporter": "python",
   "pygments_lexer": "ipython3",
   "version": "3.12.7"
  }
 },
 "nbformat": 4,
 "nbformat_minor": 2
}
