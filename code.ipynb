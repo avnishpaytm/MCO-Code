{
 "cells": [
  {
   "cell_type": "code",
   "execution_count": 1,
   "metadata": {},
   "outputs": [],
   "source": [
    "import pandas as pd\n",
    "import numpy as np\n",
    "from datetime import datetime, timedelta\n",
    "from datetime import time\n",
    "import os\n",
    "\n"
   ]
  },
  {
   "cell_type": "code",
   "execution_count": 2,
   "metadata": {},
   "outputs": [],
   "source": [
    "file=\"raw_data_26-April'25.csv\"\n",
    "raw_data=pd.read_csv(file,low_memory=False,memory_map=True)\n",
    "data=pd.read_csv(\"format.csv\",memory_map=True)\n",
    "table_data=pd.read_csv(\"table_data.csv\",memory_map=True)    \n",
    "\n"
   ]
  },
  {
   "cell_type": "code",
   "execution_count": 3,
   "metadata": {},
   "outputs": [
    {
     "data": {
      "text/html": [
       "<div>\n",
       "<style scoped>\n",
       "    .dataframe tbody tr th:only-of-type {\n",
       "        vertical-align: middle;\n",
       "    }\n",
       "\n",
       "    .dataframe tbody tr th {\n",
       "        vertical-align: top;\n",
       "    }\n",
       "\n",
       "    .dataframe thead th {\n",
       "        text-align: right;\n",
       "    }\n",
       "</style>\n",
       "<table border=\"1\" class=\"dataframe\">\n",
       "  <thead>\n",
       "    <tr style=\"text-align: right;\">\n",
       "      <th></th>\n",
       "      <th>cust_id</th>\n",
       "      <th>lead_id</th>\n",
       "      <th>fse_cust_id</th>\n",
       "      <th>workflow_node_id</th>\n",
       "      <th>sub_stage</th>\n",
       "      <th>created_at</th>\n",
       "      <th>updated_at</th>\n",
       "      <th>solution_type_level_2</th>\n",
       "      <th>solution_type_level_3</th>\n",
       "      <th>entity_type</th>\n",
       "      <th>products_context</th>\n",
       "      <th>sbstage_count</th>\n",
       "      <th>name_match_status</th>\n",
       "      <th>mid</th>\n",
       "      <th>mid_creation_date</th>\n",
       "      <th>agent_team</th>\n",
       "      <th>qc_pending_max_created</th>\n",
       "      <th>panelqc_max_created</th>\n",
       "      <th>final_timestamp</th>\n",
       "      <th>sub_stage1</th>\n",
       "    </tr>\n",
       "  </thead>\n",
       "  <tbody>\n",
       "    <tr>\n",
       "      <th>0</th>\n",
       "      <td>1.299383e+09</td>\n",
       "      <td>01a864d1-f827-49e2-bb94-a7479f025d46</td>\n",
       "      <td>1299383246</td>\n",
       "      <td>112</td>\n",
       "      <td>LEAD_CREATED</td>\n",
       "      <td>2025-04-10 13:29:03.000</td>\n",
       "      <td>2025-04-10 13:29:03.000</td>\n",
       "      <td>NaN</td>\n",
       "      <td>NaN</td>\n",
       "      <td>INDIVIDUAL</td>\n",
       "      <td>NaN</td>\n",
       "      <td>NaN</td>\n",
       "      <td>NaN</td>\n",
       "      <td>NaN</td>\n",
       "      <td>NaN</td>\n",
       "      <td>General Trade QR_SB_EDC</td>\n",
       "      <td>NaN</td>\n",
       "      <td>NaN</td>\n",
       "      <td>2025-04-10 13:29:03.000</td>\n",
       "      <td>NaN</td>\n",
       "    </tr>\n",
       "    <tr>\n",
       "      <th>1</th>\n",
       "      <td>1.460420e+09</td>\n",
       "      <td>f45b4500-5d21-4d41-b312-a38927a154c0</td>\n",
       "      <td>1366146851</td>\n",
       "      <td>112</td>\n",
       "      <td>LEAD_CREATED</td>\n",
       "      <td>2025-04-07 14:11:43.000</td>\n",
       "      <td>2025-04-07 14:11:43.000</td>\n",
       "      <td>NaN</td>\n",
       "      <td>NaN</td>\n",
       "      <td>INDIVIDUAL</td>\n",
       "      <td>NaN</td>\n",
       "      <td>NaN</td>\n",
       "      <td>False</td>\n",
       "      <td>NaN</td>\n",
       "      <td>NaN</td>\n",
       "      <td>General Trade QR_SB_EDC</td>\n",
       "      <td>NaN</td>\n",
       "      <td>NaN</td>\n",
       "      <td>2025-04-07 14:11:43.000</td>\n",
       "      <td>NaN</td>\n",
       "    </tr>\n",
       "    <tr>\n",
       "      <th>2</th>\n",
       "      <td>4.798752e+08</td>\n",
       "      <td>38d97776-1026-4c53-b084-1d779d4384c9</td>\n",
       "      <td>1331675460</td>\n",
       "      <td>156</td>\n",
       "      <td>LEAD_SUCCESSFULLY_CLOSED</td>\n",
       "      <td>2025-04-22 15:50:33.000</td>\n",
       "      <td>2025-04-22 16:00:27.000</td>\n",
       "      <td>NaN</td>\n",
       "      <td>NaN</td>\n",
       "      <td>INDIVIDUAL</td>\n",
       "      <td>NaN</td>\n",
       "      <td>{\"PANEL_SUCCESS\":1}</td>\n",
       "      <td>True</td>\n",
       "      <td>gBuhBZ25624453603133</td>\n",
       "      <td>2019-04-22 10:49:49.000</td>\n",
       "      <td>General Trade QR_SB_EDC</td>\n",
       "      <td>2025-04-22 15:56:12.000</td>\n",
       "      <td>2025-04-22 15:59:33.000</td>\n",
       "      <td>2025-04-22 15:59:33.000</td>\n",
       "      <td>NaN</td>\n",
       "    </tr>\n",
       "  </tbody>\n",
       "</table>\n",
       "</div>"
      ],
      "text/plain": [
       "        cust_id                               lead_id  fse_cust_id  \\\n",
       "0  1.299383e+09  01a864d1-f827-49e2-bb94-a7479f025d46   1299383246   \n",
       "1  1.460420e+09  f45b4500-5d21-4d41-b312-a38927a154c0   1366146851   \n",
       "2  4.798752e+08  38d97776-1026-4c53-b084-1d779d4384c9   1331675460   \n",
       "\n",
       "   workflow_node_id                 sub_stage               created_at  \\\n",
       "0               112              LEAD_CREATED  2025-04-10 13:29:03.000   \n",
       "1               112              LEAD_CREATED  2025-04-07 14:11:43.000   \n",
       "2               156  LEAD_SUCCESSFULLY_CLOSED  2025-04-22 15:50:33.000   \n",
       "\n",
       "                updated_at  solution_type_level_2 solution_type_level_3  \\\n",
       "0  2025-04-10 13:29:03.000                    NaN                   NaN   \n",
       "1  2025-04-07 14:11:43.000                    NaN                   NaN   \n",
       "2  2025-04-22 16:00:27.000                    NaN                   NaN   \n",
       "\n",
       "  entity_type products_context        sbstage_count name_match_status  \\\n",
       "0  INDIVIDUAL              NaN                  NaN               NaN   \n",
       "1  INDIVIDUAL              NaN                  NaN             False   \n",
       "2  INDIVIDUAL              NaN  {\"PANEL_SUCCESS\":1}              True   \n",
       "\n",
       "                    mid        mid_creation_date               agent_team  \\\n",
       "0                   NaN                      NaN  General Trade QR_SB_EDC   \n",
       "1                   NaN                      NaN  General Trade QR_SB_EDC   \n",
       "2  gBuhBZ25624453603133  2019-04-22 10:49:49.000  General Trade QR_SB_EDC   \n",
       "\n",
       "    qc_pending_max_created      panelqc_max_created          final_timestamp  \\\n",
       "0                      NaN                      NaN  2025-04-10 13:29:03.000   \n",
       "1                      NaN                      NaN  2025-04-07 14:11:43.000   \n",
       "2  2025-04-22 15:56:12.000  2025-04-22 15:59:33.000  2025-04-22 15:59:33.000   \n",
       "\n",
       "  sub_stage1  \n",
       "0        NaN  \n",
       "1        NaN  \n",
       "2        NaN  "
      ]
     },
     "execution_count": 3,
     "metadata": {},
     "output_type": "execute_result"
    }
   ],
   "source": [
    "raw_data.head(3)"
   ]
  },
  {
   "cell_type": "code",
   "execution_count": 4,
   "metadata": {},
   "outputs": [
    {
     "data": {
      "text/plain": [
       "507166"
      ]
     },
     "execution_count": 4,
     "metadata": {},
     "output_type": "execute_result"
    }
   ],
   "source": [
    "\n",
    "raw_data.insert(5,'q',0)\n",
    "len(raw_data)"
   ]
  },
  {
   "cell_type": "code",
   "execution_count": 5,
   "metadata": {},
   "outputs": [],
   "source": [
    "table_map = table_data.set_index('NODE ID')['Lead Status'].to_dict()\n",
    "raw_data['q'] = raw_data['workflow_node_id'].map(table_map)\n",
    "\n"
   ]
  },
  {
   "cell_type": "code",
   "execution_count": 6,
   "metadata": {},
   "outputs": [],
   "source": [
    "raw_data.loc[raw_data['sub_stage1']=='QC_AUTO_APPROVED','q']='Leads QC Auto Approved'"
   ]
  },
  {
   "cell_type": "code",
   "execution_count": 7,
   "metadata": {},
   "outputs": [
    {
     "data": {
      "text/plain": [
       "Merchant Live                                                       294798\n",
       "Lead Created/Posted (Pending at Sales team for  Document Upload)    161666\n",
       "Documents Rejected (Pending at Sales Team)                           27245\n",
       "Lead stuck in Intermediate Stages (Dedupe/Risk/PG rejections)         2484\n",
       "Leads QC Auto Approved                                                  20\n",
       "Leads Rejected in Risk Review                                           15\n",
       "Name: q, dtype: int64"
      ]
     },
     "execution_count": 7,
     "metadata": {},
     "output_type": "execute_result"
    }
   ],
   "source": [
    "raw_data['q'].value_counts()"
   ]
  },
  {
   "cell_type": "code",
   "execution_count": 8,
   "metadata": {},
   "outputs": [
    {
     "data": {
      "text/plain": [
       "Merchant Live                                                       294798\n",
       "Lead Created/Posted (Pending at Sales team for  Document Upload)    161666\n",
       "Documents Rejected (Pending at Sales Team)                           27245\n",
       "Lead stuck in Intermediate Stages (Dedupe/Risk/PG rejections)         2484\n",
       "Leads QC Auto Approved                                                  20\n",
       "Leads Rejected in Risk Review                                           15\n",
       "Name: q, dtype: int64"
      ]
     },
     "execution_count": 8,
     "metadata": {},
     "output_type": "execute_result"
    }
   ],
   "source": [
    "raw_data=raw_data.dropna(subset=['q'])\n",
    "\n",
    "raw_data['q'].value_counts()"
   ]
  },
  {
   "cell_type": "code",
   "execution_count": 9,
   "metadata": {},
   "outputs": [
    {
     "data": {
      "text/plain": [
       "486228"
      ]
     },
     "execution_count": 9,
     "metadata": {},
     "output_type": "execute_result"
    }
   ],
   "source": [
    "raw_data['remove_date']=raw_data['updated_at'].copy()\n",
    "\n",
    "raw_data['remove_date'] = pd.to_datetime(raw_data['remove_date'])\n",
    "\n",
    "raw_data['remove_date'] = raw_data['remove_date'].dt.strftime('%Y-%m-%d')\n",
    "\n",
    "raw_data['remove_date'] = pd.to_datetime(raw_data['remove_date'])\n",
    "len(raw_data)\n"
   ]
  },
  {
   "cell_type": "code",
   "execution_count": 10,
   "metadata": {},
   "outputs": [],
   "source": [
    "#print(pd.Timestamp.now().normalize()-timedelta(days=1))"
   ]
  },
  {
   "cell_type": "code",
   "execution_count": 11,
   "metadata": {},
   "outputs": [],
   "source": [
    "\n",
    "current_timestamp = pd.Timestamp.now().normalize()\n",
    "\n",
    "raw_data=raw_data[raw_data['remove_date']!=current_timestamp]"
   ]
  },
  {
   "cell_type": "code",
   "execution_count": 12,
   "metadata": {},
   "outputs": [],
   "source": [
    "raw_data=raw_data.drop(columns=['remove_date'])\n",
    "\n"
   ]
  },
  {
   "cell_type": "code",
   "execution_count": 13,
   "metadata": {},
   "outputs": [
    {
     "data": {
      "text/plain": [
       "array([nan, 'ACCOUNT_UPGRADE_LENDING', 'KYC_UPDATE', 'ACCOUNT_UPGRADE',\n",
       "       'PROFILE_UPDATE', 'DIY', 'YBL_LIMIT_ENHANCEMENT'], dtype=object)"
      ]
     },
     "execution_count": 13,
     "metadata": {},
     "output_type": "execute_result"
    }
   ],
   "source": [
    "raw_data['solution_type_level_3'].unique()"
   ]
  },
  {
   "cell_type": "code",
   "execution_count": 14,
   "metadata": {},
   "outputs": [
    {
     "data": {
      "text/plain": [
       "KYC_UPDATE                 27282\n",
       "ACCOUNT_UPGRADE_LENDING     9751\n",
       "ACCOUNT_UPGRADE             1579\n",
       "PROFILE_UPDATE               159\n",
       "DIY                           33\n",
       "YBL_LIMIT_ENHANCEMENT          1\n",
       "Name: solution_type_level_3, dtype: int64"
      ]
     },
     "execution_count": 14,
     "metadata": {},
     "output_type": "execute_result"
    }
   ],
   "source": [
    "raw_data['solution_type_level_3'].value_counts()"
   ]
  },
  {
   "cell_type": "code",
   "execution_count": 15,
   "metadata": {},
   "outputs": [
    {
     "data": {
      "text/plain": [
       "array([nan, 'ACCOUNT_UPGRADE_LENDING', 'KYC_UPDATE', 'ACCOUNT_UPGRADE',\n",
       "       'PROFILE_UPDATE', 'DIY'], dtype=object)"
      ]
     },
     "execution_count": 15,
     "metadata": {},
     "output_type": "execute_result"
    }
   ],
   "source": [
    "raw_data=raw_data[raw_data['solution_type_level_3']!='YBL_LIMIT_ENHANCEMENT']\n",
    "\n",
    "raw_data['solution_type_level_3'].unique()"
   ]
  },
  {
   "cell_type": "code",
   "execution_count": 16,
   "metadata": {},
   "outputs": [
    {
     "data": {
      "text/plain": [
       "array([nan, 'ACCOUNT_UPGRADE', 'KYC_UPDATE', 'DIY'], dtype=object)"
      ]
     },
     "execution_count": 16,
     "metadata": {},
     "output_type": "execute_result"
    }
   ],
   "source": [
    "raw_data['solution_type_level_3']=raw_data['solution_type_level_3'].replace(['ACCOUNT_UPGRADE_LENDING','PROFILE_UPDATE'],'ACCOUNT_UPGRADE')\n",
    "\n",
    "raw_data['solution_type_level_3'].unique()"
   ]
  },
  {
   "cell_type": "code",
   "execution_count": 17,
   "metadata": {},
   "outputs": [],
   "source": [
    "raw_data.loc[raw_data['agent_team']=='3P FSE','solution_type_level_3']='3P FSE'"
   ]
  },
  {
   "cell_type": "code",
   "execution_count": 18,
   "metadata": {},
   "outputs": [
    {
     "data": {
      "text/plain": [
       "KYC_UPDATE         26911\n",
       "ACCOUNT_UPGRADE    11489\n",
       "3P FSE               603\n",
       "DIY                   33\n",
       "Name: solution_type_level_3, dtype: int64"
      ]
     },
     "execution_count": 18,
     "metadata": {},
     "output_type": "execute_result"
    }
   ],
   "source": [
    "raw_data['solution_type_level_3'].value_counts()"
   ]
  },
  {
   "cell_type": "code",
   "execution_count": 19,
   "metadata": {},
   "outputs": [
    {
     "name": "stdout",
     "output_type": "stream",
     "text": [
      "484175\n"
     ]
    },
    {
     "data": {
      "text/html": [
       "<div>\n",
       "<style scoped>\n",
       "    .dataframe tbody tr th:only-of-type {\n",
       "        vertical-align: middle;\n",
       "    }\n",
       "\n",
       "    .dataframe tbody tr th {\n",
       "        vertical-align: top;\n",
       "    }\n",
       "\n",
       "    .dataframe thead th {\n",
       "        text-align: right;\n",
       "    }\n",
       "</style>\n",
       "<table border=\"1\" class=\"dataframe\">\n",
       "  <thead>\n",
       "    <tr style=\"text-align: right;\">\n",
       "      <th></th>\n",
       "      <th>cust_id</th>\n",
       "      <th>lead_id</th>\n",
       "      <th>fse_cust_id</th>\n",
       "      <th>workflow_node_id</th>\n",
       "      <th>sub_stage</th>\n",
       "      <th>q</th>\n",
       "      <th>created_at</th>\n",
       "      <th>updated_at</th>\n",
       "      <th>solution_type_level_2</th>\n",
       "      <th>solution_type_level_3</th>\n",
       "      <th>...</th>\n",
       "      <th>products_context</th>\n",
       "      <th>sbstage_count</th>\n",
       "      <th>name_match_status</th>\n",
       "      <th>mid</th>\n",
       "      <th>mid_creation_date</th>\n",
       "      <th>agent_team</th>\n",
       "      <th>qc_pending_max_created</th>\n",
       "      <th>panelqc_max_created</th>\n",
       "      <th>final_timestamp</th>\n",
       "      <th>sub_stage1</th>\n",
       "    </tr>\n",
       "  </thead>\n",
       "  <tbody>\n",
       "    <tr>\n",
       "      <th>0</th>\n",
       "      <td>1.299383e+09</td>\n",
       "      <td>01a864d1-f827-49e2-bb94-a7479f025d46</td>\n",
       "      <td>1299383246</td>\n",
       "      <td>112</td>\n",
       "      <td>LEAD_CREATED</td>\n",
       "      <td>Lead Created/Posted (Pending at Sales team for...</td>\n",
       "      <td>2025-04-10 13:29:03.000</td>\n",
       "      <td>2025-04-10 13:29:03.000</td>\n",
       "      <td>NaN</td>\n",
       "      <td>NaN</td>\n",
       "      <td>...</td>\n",
       "      <td>NaN</td>\n",
       "      <td>NaN</td>\n",
       "      <td>NaN</td>\n",
       "      <td>NaN</td>\n",
       "      <td>NaN</td>\n",
       "      <td>General Trade QR_SB_EDC</td>\n",
       "      <td>NaN</td>\n",
       "      <td>NaN</td>\n",
       "      <td>2025-04-10 13:29:03.000</td>\n",
       "      <td>NaN</td>\n",
       "    </tr>\n",
       "    <tr>\n",
       "      <th>1</th>\n",
       "      <td>1.460420e+09</td>\n",
       "      <td>f45b4500-5d21-4d41-b312-a38927a154c0</td>\n",
       "      <td>1366146851</td>\n",
       "      <td>112</td>\n",
       "      <td>LEAD_CREATED</td>\n",
       "      <td>Lead Created/Posted (Pending at Sales team for...</td>\n",
       "      <td>2025-04-07 14:11:43.000</td>\n",
       "      <td>2025-04-07 14:11:43.000</td>\n",
       "      <td>NaN</td>\n",
       "      <td>NaN</td>\n",
       "      <td>...</td>\n",
       "      <td>NaN</td>\n",
       "      <td>NaN</td>\n",
       "      <td>False</td>\n",
       "      <td>NaN</td>\n",
       "      <td>NaN</td>\n",
       "      <td>General Trade QR_SB_EDC</td>\n",
       "      <td>NaN</td>\n",
       "      <td>NaN</td>\n",
       "      <td>2025-04-07 14:11:43.000</td>\n",
       "      <td>NaN</td>\n",
       "    </tr>\n",
       "    <tr>\n",
       "      <th>2</th>\n",
       "      <td>4.798752e+08</td>\n",
       "      <td>38d97776-1026-4c53-b084-1d779d4384c9</td>\n",
       "      <td>1331675460</td>\n",
       "      <td>156</td>\n",
       "      <td>LEAD_SUCCESSFULLY_CLOSED</td>\n",
       "      <td>Merchant Live</td>\n",
       "      <td>2025-04-22 15:50:33.000</td>\n",
       "      <td>2025-04-22 16:00:27.000</td>\n",
       "      <td>NaN</td>\n",
       "      <td>NaN</td>\n",
       "      <td>...</td>\n",
       "      <td>NaN</td>\n",
       "      <td>{\"PANEL_SUCCESS\":1}</td>\n",
       "      <td>True</td>\n",
       "      <td>gBuhBZ25624453603133</td>\n",
       "      <td>2019-04-22 10:49:49.000</td>\n",
       "      <td>General Trade QR_SB_EDC</td>\n",
       "      <td>2025-04-22 15:56:12.000</td>\n",
       "      <td>2025-04-22 15:59:33.000</td>\n",
       "      <td>2025-04-22 15:59:33.000</td>\n",
       "      <td>NaN</td>\n",
       "    </tr>\n",
       "  </tbody>\n",
       "</table>\n",
       "<p>3 rows × 21 columns</p>\n",
       "</div>"
      ],
      "text/plain": [
       "        cust_id                               lead_id  fse_cust_id  \\\n",
       "0  1.299383e+09  01a864d1-f827-49e2-bb94-a7479f025d46   1299383246   \n",
       "1  1.460420e+09  f45b4500-5d21-4d41-b312-a38927a154c0   1366146851   \n",
       "2  4.798752e+08  38d97776-1026-4c53-b084-1d779d4384c9   1331675460   \n",
       "\n",
       "   workflow_node_id                 sub_stage  \\\n",
       "0               112              LEAD_CREATED   \n",
       "1               112              LEAD_CREATED   \n",
       "2               156  LEAD_SUCCESSFULLY_CLOSED   \n",
       "\n",
       "                                                   q               created_at  \\\n",
       "0  Lead Created/Posted (Pending at Sales team for...  2025-04-10 13:29:03.000   \n",
       "1  Lead Created/Posted (Pending at Sales team for...  2025-04-07 14:11:43.000   \n",
       "2                                      Merchant Live  2025-04-22 15:50:33.000   \n",
       "\n",
       "                updated_at  solution_type_level_2 solution_type_level_3  ...  \\\n",
       "0  2025-04-10 13:29:03.000                    NaN                   NaN  ...   \n",
       "1  2025-04-07 14:11:43.000                    NaN                   NaN  ...   \n",
       "2  2025-04-22 16:00:27.000                    NaN                   NaN  ...   \n",
       "\n",
       "  products_context        sbstage_count name_match_status  \\\n",
       "0              NaN                  NaN               NaN   \n",
       "1              NaN                  NaN             False   \n",
       "2              NaN  {\"PANEL_SUCCESS\":1}              True   \n",
       "\n",
       "                    mid        mid_creation_date               agent_team  \\\n",
       "0                   NaN                      NaN  General Trade QR_SB_EDC   \n",
       "1                   NaN                      NaN  General Trade QR_SB_EDC   \n",
       "2  gBuhBZ25624453603133  2019-04-22 10:49:49.000  General Trade QR_SB_EDC   \n",
       "\n",
       "    qc_pending_max_created      panelqc_max_created          final_timestamp  \\\n",
       "0                      NaN                      NaN  2025-04-10 13:29:03.000   \n",
       "1                      NaN                      NaN  2025-04-07 14:11:43.000   \n",
       "2  2025-04-22 15:56:12.000  2025-04-22 15:59:33.000  2025-04-22 15:59:33.000   \n",
       "\n",
       "  sub_stage1  \n",
       "0        NaN  \n",
       "1        NaN  \n",
       "2        NaN  \n",
       "\n",
       "[3 rows x 21 columns]"
      ]
     },
     "execution_count": 19,
     "metadata": {},
     "output_type": "execute_result"
    }
   ],
   "source": [
    "print(len(raw_data))\n",
    "raw_data.head(3)"
   ]
  },
  {
   "cell_type": "code",
   "execution_count": 20,
   "metadata": {},
   "outputs": [
    {
     "data": {
      "text/plain": [
       "484175"
      ]
     },
     "execution_count": 20,
     "metadata": {},
     "output_type": "execute_result"
    }
   ],
   "source": [
    "data[['Merchant Cust ID', 'Lead_ID', 'Entity_Type', 'Node id', 'Lead_Stage',\n",
    "       'Lead Status', 'Created Timestamp', 'Updated Timestamp',\n",
    "       'Product_Context', 'Name_Match_Status',\n",
    "       'Final TimeStamp', 'QC Panel Successful TimeStamp',\n",
    "       'Last QC Pending Timestamp',\n",
    "       'Stage movement count', 'cust_id', 'agent_team',\n",
    "       'mid', 'mid_created_date', 'solution_type_level_3']]=raw_data[['cust_id', 'lead_id','entity_type','workflow_node_id', 'sub_stage',\n",
    "       'q', 'created_at', 'updated_at','products_context','name_match_status','final_timestamp','panelqc_max_created','qc_pending_max_created','sbstage_count','fse_cust_id','agent_team','mid','mid_creation_date','solution_type_level_3']]\n",
    "       \n",
    "len(data)"
   ]
  },
  {
   "cell_type": "code",
   "execution_count": 21,
   "metadata": {},
   "outputs": [
    {
     "data": {
      "text/html": [
       "<div>\n",
       "<style scoped>\n",
       "    .dataframe tbody tr th:only-of-type {\n",
       "        vertical-align: middle;\n",
       "    }\n",
       "\n",
       "    .dataframe tbody tr th {\n",
       "        vertical-align: top;\n",
       "    }\n",
       "\n",
       "    .dataframe thead th {\n",
       "        text-align: right;\n",
       "    }\n",
       "</style>\n",
       "<table border=\"1\" class=\"dataframe\">\n",
       "  <thead>\n",
       "    <tr style=\"text-align: right;\">\n",
       "      <th></th>\n",
       "      <th>Merchant Cust ID</th>\n",
       "      <th>Lead_ID</th>\n",
       "      <th>Entity_Type</th>\n",
       "      <th>Node id</th>\n",
       "      <th>Lead_Stage</th>\n",
       "      <th>Lead Status</th>\n",
       "      <th>Created Timestamp</th>\n",
       "      <th>Updated Timestamp</th>\n",
       "      <th>Ageing</th>\n",
       "      <th>Product_Context</th>\n",
       "      <th>...</th>\n",
       "      <th>Working TimeSlab</th>\n",
       "      <th>New Off Time</th>\n",
       "      <th>New Last QC Pending Time</th>\n",
       "      <th>Stage movement count</th>\n",
       "      <th>Rejection Ageing</th>\n",
       "      <th>cust_id</th>\n",
       "      <th>agent_team</th>\n",
       "      <th>mid</th>\n",
       "      <th>mid_created_date</th>\n",
       "      <th>solution_type_level_3</th>\n",
       "    </tr>\n",
       "  </thead>\n",
       "  <tbody>\n",
       "    <tr>\n",
       "      <th>0</th>\n",
       "      <td>1.299383e+09</td>\n",
       "      <td>01a864d1-f827-49e2-bb94-a7479f025d46</td>\n",
       "      <td>INDIVIDUAL</td>\n",
       "      <td>112</td>\n",
       "      <td>LEAD_CREATED</td>\n",
       "      <td>Lead Created/Posted (Pending at Sales team for...</td>\n",
       "      <td>2025-04-10 13:29:03.000</td>\n",
       "      <td>2025-04-10 13:29:03.000</td>\n",
       "      <td>NaN</td>\n",
       "      <td>NaN</td>\n",
       "      <td>...</td>\n",
       "      <td>NaN</td>\n",
       "      <td>NaN</td>\n",
       "      <td>NaN</td>\n",
       "      <td>NaN</td>\n",
       "      <td>NaN</td>\n",
       "      <td>1299383246</td>\n",
       "      <td>General Trade QR_SB_EDC</td>\n",
       "      <td>NaN</td>\n",
       "      <td>NaN</td>\n",
       "      <td>NaN</td>\n",
       "    </tr>\n",
       "    <tr>\n",
       "      <th>1</th>\n",
       "      <td>1.460420e+09</td>\n",
       "      <td>f45b4500-5d21-4d41-b312-a38927a154c0</td>\n",
       "      <td>INDIVIDUAL</td>\n",
       "      <td>112</td>\n",
       "      <td>LEAD_CREATED</td>\n",
       "      <td>Lead Created/Posted (Pending at Sales team for...</td>\n",
       "      <td>2025-04-07 14:11:43.000</td>\n",
       "      <td>2025-04-07 14:11:43.000</td>\n",
       "      <td>NaN</td>\n",
       "      <td>NaN</td>\n",
       "      <td>...</td>\n",
       "      <td>NaN</td>\n",
       "      <td>NaN</td>\n",
       "      <td>NaN</td>\n",
       "      <td>NaN</td>\n",
       "      <td>NaN</td>\n",
       "      <td>1366146851</td>\n",
       "      <td>General Trade QR_SB_EDC</td>\n",
       "      <td>NaN</td>\n",
       "      <td>NaN</td>\n",
       "      <td>NaN</td>\n",
       "    </tr>\n",
       "    <tr>\n",
       "      <th>2</th>\n",
       "      <td>4.798752e+08</td>\n",
       "      <td>38d97776-1026-4c53-b084-1d779d4384c9</td>\n",
       "      <td>INDIVIDUAL</td>\n",
       "      <td>156</td>\n",
       "      <td>LEAD_SUCCESSFULLY_CLOSED</td>\n",
       "      <td>Merchant Live</td>\n",
       "      <td>2025-04-22 15:50:33.000</td>\n",
       "      <td>2025-04-22 16:00:27.000</td>\n",
       "      <td>NaN</td>\n",
       "      <td>NaN</td>\n",
       "      <td>...</td>\n",
       "      <td>NaN</td>\n",
       "      <td>NaN</td>\n",
       "      <td>NaN</td>\n",
       "      <td>{\"PANEL_SUCCESS\":1}</td>\n",
       "      <td>NaN</td>\n",
       "      <td>1331675460</td>\n",
       "      <td>General Trade QR_SB_EDC</td>\n",
       "      <td>gBuhBZ25624453603133</td>\n",
       "      <td>2019-04-22 10:49:49.000</td>\n",
       "      <td>NaN</td>\n",
       "    </tr>\n",
       "  </tbody>\n",
       "</table>\n",
       "<p>3 rows × 27 columns</p>\n",
       "</div>"
      ],
      "text/plain": [
       "   Merchant Cust ID                               Lead_ID Entity_Type  \\\n",
       "0      1.299383e+09  01a864d1-f827-49e2-bb94-a7479f025d46  INDIVIDUAL   \n",
       "1      1.460420e+09  f45b4500-5d21-4d41-b312-a38927a154c0  INDIVIDUAL   \n",
       "2      4.798752e+08  38d97776-1026-4c53-b084-1d779d4384c9  INDIVIDUAL   \n",
       "\n",
       "   Node id                Lead_Stage  \\\n",
       "0      112              LEAD_CREATED   \n",
       "1      112              LEAD_CREATED   \n",
       "2      156  LEAD_SUCCESSFULLY_CLOSED   \n",
       "\n",
       "                                         Lead Status        Created Timestamp  \\\n",
       "0  Lead Created/Posted (Pending at Sales team for...  2025-04-10 13:29:03.000   \n",
       "1  Lead Created/Posted (Pending at Sales team for...  2025-04-07 14:11:43.000   \n",
       "2                                      Merchant Live  2025-04-22 15:50:33.000   \n",
       "\n",
       "         Updated Timestamp Ageing Product_Context  ... Working TimeSlab  \\\n",
       "0  2025-04-10 13:29:03.000    NaN             NaN  ...              NaN   \n",
       "1  2025-04-07 14:11:43.000    NaN             NaN  ...              NaN   \n",
       "2  2025-04-22 16:00:27.000    NaN             NaN  ...              NaN   \n",
       "\n",
       "  New Off Time New Last QC Pending Time Stage movement count Rejection Ageing  \\\n",
       "0          NaN                      NaN                  NaN              NaN   \n",
       "1          NaN                      NaN                  NaN              NaN   \n",
       "2          NaN                      NaN  {\"PANEL_SUCCESS\":1}              NaN   \n",
       "\n",
       "      cust_id               agent_team                   mid  \\\n",
       "0  1299383246  General Trade QR_SB_EDC                   NaN   \n",
       "1  1366146851  General Trade QR_SB_EDC                   NaN   \n",
       "2  1331675460  General Trade QR_SB_EDC  gBuhBZ25624453603133   \n",
       "\n",
       "          mid_created_date solution_type_level_3  \n",
       "0                      NaN                   NaN  \n",
       "1                      NaN                   NaN  \n",
       "2  2019-04-22 10:49:49.000                   NaN  \n",
       "\n",
       "[3 rows x 27 columns]"
      ]
     },
     "execution_count": 21,
     "metadata": {},
     "output_type": "execute_result"
    }
   ],
   "source": [
    "data.head(3)\n"
   ]
  },
  {
   "cell_type": "code",
   "execution_count": 22,
   "metadata": {},
   "outputs": [],
   "source": [
    "data['Updated Timestamp']=pd.to_datetime(data['Updated Timestamp'])\n",
    "data['Created Timestamp']=pd.to_datetime(data['Created Timestamp'])\n",
    "data['QC Panel Successful TimeStamp']=pd.to_datetime(data['QC Panel Successful TimeStamp'])\n"
   ]
  },
  {
   "cell_type": "code",
   "execution_count": 23,
   "metadata": {},
   "outputs": [],
   "source": [
    "#current_date = datetime.now() - timedelta(days=2)\n",
    "\n",
    "#current_timestamp = pd.Timestamp.now().normalize()-timedelta(days=1)\n",
    "\n",
    "\n",
    "#print(current_timestamp)\n",
    "\n",
    "#print(current_date)"
   ]
  },
  {
   "cell_type": "code",
   "execution_count": 24,
   "metadata": {},
   "outputs": [
    {
     "name": "stdout",
     "output_type": "stream",
     "text": [
      "2024-10-15 00:00:00\n",
      "<class 'datetime.datetime'>\n",
      "15\n",
      "10\n",
      "2024\n"
     ]
    }
   ],
   "source": [
    "user_date = '2024-10-15'  # Example: YYYY-MM-DD format\n",
    "\n",
    "# Convert the combined string into a datetime object\n",
    "custom_timestamp = datetime.strptime(user_date, '%Y-%m-%d')\n",
    "\n",
    "print(custom_timestamp)\n",
    "print(type(custom_timestamp))\n",
    "\n",
    "current_day = custom_timestamp.day\n",
    "current_month = custom_timestamp.month\n",
    "current_year = custom_timestamp.year\n",
    "\n",
    "print(current_day)\n",
    "print(current_month)\n",
    "print(current_year)\n"
   ]
  },
  {
   "cell_type": "code",
   "execution_count": 25,
   "metadata": {},
   "outputs": [
    {
     "name": "stdout",
     "output_type": "stream",
     "text": [
      "2025-04-19 11:40:46.182004\n"
     ]
    }
   ],
   "source": [
    "current_date = datetime.now() - timedelta(days=7)\n",
    "current_day = current_date.day\n",
    "current_month = current_date.month\n",
    "current_year = current_date.year\n",
    "print(current_date)\n",
    "\n",
    "data.loc[(data['Updated Timestamp'].dt.day>=current_day) &\n",
    "         (data['Updated Timestamp'].dt.month==current_month) &\n",
    "         (data['Updated Timestamp'].dt.year==current_year), 'Ageing']='Last 7 days'"
   ]
  },
  {
   "cell_type": "code",
   "execution_count": 26,
   "metadata": {},
   "outputs": [],
   "source": [
    "current_date = datetime.now() - timedelta(days=1)\n",
    "current_day = current_date.day\n",
    "current_month = current_date.month\n",
    "current_year = current_date.year\n",
    "current_date\n",
    "\n",
    "data.loc[(data['Updated Timestamp'].dt.day==current_day) &\n",
    "         (data['Updated Timestamp'].dt.month==current_month) &\n",
    "         (data['Updated Timestamp'].dt.year==current_year), 'Ageing']='Yesterday'"
   ]
  },
  {
   "cell_type": "code",
   "execution_count": 27,
   "metadata": {},
   "outputs": [],
   "source": [
    "data['Ageing']=data['Ageing'].fillna('')"
   ]
  },
  {
   "cell_type": "code",
   "execution_count": 28,
   "metadata": {},
   "outputs": [
    {
     "data": {
      "text/plain": [
       "               317620\n",
       "Last 7 days    139959\n",
       "Yesterday       26596\n",
       "Name: Ageing, dtype: int64"
      ]
     },
     "execution_count": 28,
     "metadata": {},
     "output_type": "execute_result"
    }
   ],
   "source": [
    "data['Ageing'].value_counts()"
   ]
  },
  {
   "cell_type": "code",
   "execution_count": 29,
   "metadata": {},
   "outputs": [],
   "source": [
    "\n",
    "\n",
    "data.loc[data['Name_Match_Status']==True, ['Name_Match_Status', '10K/1rs MID Status']]=['Name Matched','10k MID created']\n",
    "\n",
    "data.loc[data['Name_Match_Status']==False, ['Name_Match_Status', '10K/1rs MID Status']]=['Name Not Matched','1Rs MID created']"
   ]
  },
  {
   "cell_type": "code",
   "execution_count": 30,
   "metadata": {},
   "outputs": [],
   "source": [
    "data['Name_Match_Status']=data['Name_Match_Status'].fillna('')"
   ]
  },
  {
   "cell_type": "code",
   "execution_count": 31,
   "metadata": {},
   "outputs": [
    {
     "data": {
      "text/plain": [
       "Name Matched        299496\n",
       "                    108145\n",
       "Name Not Matched     76534\n",
       "Name: Name_Match_Status, dtype: int64"
      ]
     },
     "execution_count": 31,
     "metadata": {},
     "output_type": "execute_result"
    }
   ],
   "source": [
    "data['Name_Match_Status'].value_counts()"
   ]
  },
  {
   "cell_type": "code",
   "execution_count": 32,
   "metadata": {},
   "outputs": [
    {
     "data": {
      "text/plain": [
       "[\"Paytm QR\"]     271275\n",
       "[\"EDC\"]           33217\n",
       "[\"TAP_N_PAY\"]      1135\n",
       "[]                   17\n",
       "Name: Product_Context, dtype: int64"
      ]
     },
     "execution_count": 32,
     "metadata": {},
     "output_type": "execute_result"
    }
   ],
   "source": [
    "data['Product_Context'].value_counts()"
   ]
  },
  {
   "cell_type": "code",
   "execution_count": 33,
   "metadata": {},
   "outputs": [
    {
     "data": {
      "text/plain": [
       "[\"Paytm QR\"]    271275\n",
       "EDC              34369\n",
       "Name: Product_Context, dtype: int64"
      ]
     },
     "execution_count": 33,
     "metadata": {},
     "output_type": "execute_result"
    }
   ],
   "source": [
    "data.loc[data['Product_Context'].isin(['[]','[\"EDC\"]','[\"TAP_N_PAY\"]']),'Product_Context']='EDC'\n",
    "data['Product_Context'].value_counts()"
   ]
  },
  {
   "cell_type": "code",
   "execution_count": 34,
   "metadata": {},
   "outputs": [
    {
     "data": {
      "text/plain": [
       "NON_EDC    449806\n",
       "EDC         34369\n",
       "Name: Product_Context, dtype: int64"
      ]
     },
     "execution_count": 34,
     "metadata": {},
     "output_type": "execute_result"
    }
   ],
   "source": [
    "data.loc[~data['Product_Context'].isin(['EDC']),'Product_Context']='NON_EDC'\n",
    "data['Product_Context'].value_counts()"
   ]
  },
  {
   "cell_type": "code",
   "execution_count": 35,
   "metadata": {},
   "outputs": [],
   "source": [
    "data['mid_created_date']=pd.to_datetime(data['mid_created_date'],errors='coerce')"
   ]
  },
  {
   "cell_type": "code",
   "execution_count": 36,
   "metadata": {},
   "outputs": [
    {
     "data": {
      "text/plain": [
       "0                    NaT\n",
       "1                    NaT\n",
       "2    2019-04-22 10:49:49\n",
       "3    2023-01-30 11:11:58\n",
       "5    2025-04-24 13:27:24\n",
       "6    2025-04-19 11:58:05\n",
       "7    2024-11-07 12:25:07\n",
       "8    2025-04-09 17:58:08\n",
       "9    2025-04-24 12:04:26\n",
       "11   2025-04-17 12:21:23\n",
       "Name: mid_created_date, dtype: datetime64[ns]"
      ]
     },
     "execution_count": 36,
     "metadata": {},
     "output_type": "execute_result"
    }
   ],
   "source": [
    "data['mid_created_date'].head(10)"
   ]
  },
  {
   "cell_type": "code",
   "execution_count": 37,
   "metadata": {},
   "outputs": [
    {
     "data": {
      "text/plain": [
       "Index(['Merchant Cust ID', 'Lead_ID', 'Entity_Type', 'Node id', 'Lead_Stage',\n",
       "       'Lead Status', 'Created Timestamp', 'Updated Timestamp', 'Ageing',\n",
       "       'Product_Context', 'Name_Match_Status', '10K/1rs MID Status',\n",
       "       'Final TimeStamp', 'QC Panel Successful TimeStamp',\n",
       "       'Last QC Pending Timestamp', 'TAT', 'Merchant QC TAT slab',\n",
       "       'Working TimeSlab', 'New Off Time', 'New Last QC Pending Time',\n",
       "       'Stage movement count', 'Rejection Ageing', 'cust_id', 'agent_team',\n",
       "       'mid', 'mid_created_date', 'solution_type_level_3'],\n",
       "      dtype='object')"
      ]
     },
     "execution_count": 37,
     "metadata": {},
     "output_type": "execute_result"
    }
   ],
   "source": [
    "data.columns"
   ]
  },
  {
   "cell_type": "code",
   "execution_count": 38,
   "metadata": {},
   "outputs": [
    {
     "name": "stdout",
     "output_type": "stream",
     "text": [
      "2025-04-19 11:40:47.271412\n"
     ]
    }
   ],
   "source": [
    "current_date = datetime.now() - timedelta(days=7)\n",
    "current_day = current_date.day\n",
    "current_month = current_date.month\n",
    "current_year = current_date.year\n",
    "print(current_date)\n",
    "\n",
    "data.loc[ (data['Lead Status']== 'Documents Rejected (Pending at Sales Team)') & ((data['Updated Timestamp'].dt.day<current_day) &\n",
    "         (data['Updated Timestamp'].dt.month==current_month) &\n",
    "         (data['Updated Timestamp'].dt.year==current_year)), 'Rejection Ageing']='More Than 7 Days'"
   ]
  },
  {
   "cell_type": "code",
   "execution_count": 39,
   "metadata": {},
   "outputs": [],
   "source": [
    "current_date = datetime.now() - timedelta(days=7)\n",
    "current_day = current_date.day\n",
    "current_month = current_date.month\n",
    "current_year = current_date.year\n",
    "current_date\n",
    "\n",
    "data.loc[ (data['Lead Status']== 'Documents Rejected (Pending at Sales Team)') & ((data['Updated Timestamp'].dt.day>=current_day) &\n",
    "         (data['Updated Timestamp'].dt.month==current_month) &\n",
    "         (data['Updated Timestamp'].dt.year==current_year)), 'Rejection Ageing']='6-7 Days'"
   ]
  },
  {
   "cell_type": "code",
   "execution_count": 40,
   "metadata": {},
   "outputs": [],
   "source": [
    "current_date = datetime.now() - timedelta(days=5)\n",
    "current_day = current_date.day\n",
    "current_month = current_date.month\n",
    "current_year = current_date.year\n",
    "current_date\n",
    "\n",
    "data.loc[ (data['Lead Status']== 'Documents Rejected (Pending at Sales Team)') & ((data['Updated Timestamp'].dt.day>=current_day) &\n",
    "         (data['Updated Timestamp'].dt.month==current_month) &\n",
    "         (data['Updated Timestamp'].dt.year==current_year)), 'Rejection Ageing']='4-5 Days'"
   ]
  },
  {
   "cell_type": "code",
   "execution_count": 41,
   "metadata": {},
   "outputs": [],
   "source": [
    "\n",
    "current_date = datetime.now() - timedelta(days=3)\n",
    "current_day = current_date.day\n",
    "current_month = current_date.month\n",
    "current_year = current_date.year\n",
    "current_date\n",
    "\n",
    "data.loc[ (data['Lead Status']== 'Documents Rejected (Pending at Sales Team)') & ((data['Updated Timestamp'].dt.day>=current_day) &\n",
    "         (data['Updated Timestamp'].dt.month==current_month) &\n",
    "         (data['Updated Timestamp'].dt.year==current_year)), 'Rejection Ageing']='2-3 Days'"
   ]
  },
  {
   "cell_type": "code",
   "execution_count": 42,
   "metadata": {},
   "outputs": [],
   "source": [
    "current_date = datetime.now() - timedelta(days=1)\n",
    "current_day = current_date.day\n",
    "current_month = current_date.month\n",
    "current_year = current_date.year\n",
    "current_date\n",
    "\n",
    "data.loc[ (data['Lead Status']== 'Documents Rejected (Pending at Sales Team)') & ((data['Updated Timestamp'].dt.day==current_day) &\n",
    "         (data['Updated Timestamp'].dt.month==current_month) &\n",
    "         (data['Updated Timestamp'].dt.year==current_year)), 'Rejection Ageing']='Less Than 1 Day'"
   ]
  },
  {
   "cell_type": "code",
   "execution_count": 43,
   "metadata": {},
   "outputs": [
    {
     "data": {
      "text/plain": [
       "More Than 7 Days    17632\n",
       "2-3 Days             3378\n",
       "4-5 Days             2734\n",
       "Less Than 1 Day      1854\n",
       "6-7 Days             1525\n",
       "Name: Rejection Ageing, dtype: int64"
      ]
     },
     "execution_count": 43,
     "metadata": {},
     "output_type": "execute_result"
    }
   ],
   "source": [
    "data['Rejection Ageing'].value_counts()"
   ]
  },
  {
   "cell_type": "code",
   "execution_count": 44,
   "metadata": {},
   "outputs": [
    {
     "data": {
      "text/plain": [
       "More Than 7 Days    17632\n",
       "2-3 Days             3378\n",
       "4-5 Days             2734\n",
       "Less Than 1 Day      1854\n",
       "6-7 Days             1525\n",
       "Name: Rejection Ageing, dtype: int64"
      ]
     },
     "execution_count": 44,
     "metadata": {},
     "output_type": "execute_result"
    }
   ],
   "source": [
    "data['Rejection Ageing'].value_counts()"
   ]
  },
  {
   "cell_type": "code",
   "execution_count": 45,
   "metadata": {},
   "outputs": [],
   "source": [
    "data.loc[~data['Entity_Type'].isin(['INDIVIDUAL','PROPRIETORSHIP']),'Entity_Type']='NON_PROPRIETORSHIP'"
   ]
  },
  {
   "cell_type": "code",
   "execution_count": 46,
   "metadata": {},
   "outputs": [
    {
     "data": {
      "text/plain": [
       "INDIVIDUAL            438371\n",
       "PROPRIETORSHIP         42180\n",
       "NON_PROPRIETORSHIP      3624\n",
       "Name: Entity_Type, dtype: int64"
      ]
     },
     "execution_count": 46,
     "metadata": {},
     "output_type": "execute_result"
    }
   ],
   "source": [
    "data['Entity_Type'].value_counts()"
   ]
  },
  {
   "cell_type": "code",
   "execution_count": 47,
   "metadata": {},
   "outputs": [
    {
     "data": {
      "text/plain": [
       "Index(['Merchant Cust ID', 'Lead_ID', 'Entity_Type', 'Node id', 'Lead_Stage',\n",
       "       'Lead Status', 'Created Timestamp', 'Updated Timestamp', 'Ageing',\n",
       "       'Product_Context', 'Name_Match_Status', '10K/1rs MID Status',\n",
       "       'Final TimeStamp', 'QC Panel Successful TimeStamp',\n",
       "       'Last QC Pending Timestamp', 'TAT', 'Merchant QC TAT slab',\n",
       "       'Working TimeSlab', 'New Off Time', 'New Last QC Pending Time',\n",
       "       'Stage movement count', 'Rejection Ageing', 'cust_id', 'agent_team',\n",
       "       'mid', 'mid_created_date', 'solution_type_level_3'],\n",
       "      dtype='object')"
      ]
     },
     "execution_count": 47,
     "metadata": {},
     "output_type": "execute_result"
    }
   ],
   "source": [
    "data.columns"
   ]
  },
  {
   "cell_type": "code",
   "execution_count": 48,
   "metadata": {},
   "outputs": [
    {
     "data": {
      "text/plain": [
       "Merchant Live                                                       293841\n",
       "Lead Created/Posted (Pending at Sales team for  Document Upload)    160755\n",
       "Documents Rejected (Pending at Sales Team)                           27123\n",
       "Lead stuck in Intermediate Stages (Dedupe/Risk/PG rejections)         2422\n",
       "Leads QC Auto Approved                                                  20\n",
       "Leads Rejected in Risk Review                                           14\n",
       "Name: Lead Status, dtype: int64"
      ]
     },
     "execution_count": 48,
     "metadata": {},
     "output_type": "execute_result"
    }
   ],
   "source": [
    "data['Lead Status'].value_counts()"
   ]
  },
  {
   "cell_type": "code",
   "execution_count": 49,
   "metadata": {},
   "outputs": [
    {
     "name": "stdout",
     "output_type": "stream",
     "text": [
      "0\n"
     ]
    }
   ],
   "source": [
    "null_rejected_timeStamp=data[(data['Lead Status']=='Documents Rejected (Pending at Sales Team)')&(data['Last QC Pending Timestamp'].isnull())]\n",
    "\n",
    "\n",
    "null_rejected_timeStamp=null_rejected_timeStamp[['Lead_ID']]\n",
    "\n",
    "print(len(null_rejected_timeStamp))\n",
    "\n",
    "null_rejected_timeStamp['id']=\"'\" + null_rejected_timeStamp['Lead_ID'] + \"'\" + \",\"\n",
    "\n",
    "null_rejected_timeStamp.head(3)\n",
    "\n",
    "null_rejected_timeStamp.to_csv(\"rejected_null.csv\", index=False)\n"
   ]
  },
  {
   "cell_type": "code",
   "execution_count": 50,
   "metadata": {},
   "outputs": [],
   "source": [
    "#dghdsg"
   ]
  },
  {
   "cell_type": "code",
   "execution_count": 51,
   "metadata": {},
   "outputs": [
    {
     "name": "stdout",
     "output_type": "stream",
     "text": [
      "484175\n"
     ]
    }
   ],
   "source": [
    "# raise Exception(\"Stop execution here\")\n",
    "\n",
    "print(len(data))"
   ]
  },
  {
   "cell_type": "code",
   "execution_count": 52,
   "metadata": {},
   "outputs": [
    {
     "name": "stdout",
     "output_type": "stream",
     "text": [
      "Index(['lead_id', 'q'], dtype='object')\n"
     ]
    }
   ],
   "source": [
    "rejected_null_value=pd.read_csv('rejected_null_value.csv')\n",
    "\n",
    "rejected_null_value['q']=pd.to_datetime(rejected_null_value['q'],format='%d-%m-%Y %H:%M:%S')\n",
    "\n",
    "print(rejected_null_value.columns)"
   ]
  },
  {
   "cell_type": "code",
   "execution_count": 53,
   "metadata": {},
   "outputs": [
    {
     "name": "stdout",
     "output_type": "stream",
     "text": [
      "Empty DataFrame\n",
      "Columns: [lead_id, q]\n",
      "Index: []\n",
      "484175\n"
     ]
    }
   ],
   "source": [
    "print(rejected_null_value.head(3))\n",
    "print(len(data))"
   ]
  },
  {
   "cell_type": "code",
   "execution_count": 54,
   "metadata": {},
   "outputs": [],
   "source": [
    "\n",
    "# Aggregate the right DataFrame by taking the first occurrence per lead_id\n",
    "#rejected_agg = rejected_null_value.groupby('lead_id').first().reset_index()\n",
    "\n",
    "# Merge the DataFrames on the single column\n",
    "#data = data.merge(rejected_agg[['lead_id', 'Status']], left_on='Lead_ID', right_on='lead_id', how='left')\n",
    "\n",
    "# Fill in values based on conditions\n",
    "#data.loc[(data['Lead Status'] == 'Documents Rejected (Pending at Sales Team)') & (data['Last QC Pending Timestamp'].isnull()), 'Last QC Pending Timestamp'] = data['q']\n"
   ]
  },
  {
   "cell_type": "code",
   "execution_count": 55,
   "metadata": {},
   "outputs": [
    {
     "name": "stdout",
     "output_type": "stream",
     "text": [
      "Index(['Merchant Cust ID', 'Lead_ID', 'Entity_Type', 'Node id', 'Lead_Stage',\n",
      "       'Lead Status', 'Created Timestamp', 'Updated Timestamp', 'Ageing',\n",
      "       'Product_Context', 'Name_Match_Status', '10K/1rs MID Status',\n",
      "       'Final TimeStamp', 'QC Panel Successful TimeStamp',\n",
      "       'Last QC Pending Timestamp', 'TAT', 'Merchant QC TAT slab',\n",
      "       'Working TimeSlab', 'New Off Time', 'New Last QC Pending Time',\n",
      "       'Stage movement count', 'Rejection Ageing', 'cust_id', 'agent_team',\n",
      "       'mid', 'mid_created_date', 'solution_type_level_3'],\n",
      "      dtype='object')\n",
      "0\n",
      "484175\n"
     ]
    }
   ],
   "source": [
    "data=data.merge(rejected_null_value,left_on='Lead_ID',right_on='lead_id',how='left')\n",
    "\n",
    "data.loc[(data['Lead Status']=='Documents Rejected (Pending at Sales Team)') & (data['Last QC Pending Timestamp'].isnull()) ,'Last QC Pending Timestamp']=data['q']\n",
    "\n",
    "data=data.drop(columns=['lead_id','q'])\n",
    "\n",
    "print(data.columns)\n",
    "print(len(data[(data['Lead Status']=='Documents Rejected (Pending at Sales Team)')&(data['Last QC Pending Timestamp'].isnull())]))\n",
    "print(len(data))"
   ]
  },
  {
   "cell_type": "code",
   "execution_count": 56,
   "metadata": {},
   "outputs": [],
   "source": [
    "data['Final TimeStamp']=pd.to_datetime(data['Final TimeStamp'])\n",
    "data['Last QC Pending Timestamp']=pd.to_datetime(data['Last QC Pending Timestamp'])"
   ]
  },
  {
   "cell_type": "code",
   "execution_count": 57,
   "metadata": {},
   "outputs": [
    {
     "name": "stdout",
     "output_type": "stream",
     "text": [
      "<class 'pandas._libs.tslibs.nattype.NaTType'>\n",
      "484175\n"
     ]
    }
   ],
   "source": [
    "# type(data['Final TimeStamp'][0])\n",
    "\n",
    "print(type(data['Last QC Pending Timestamp'][0]))\n",
    "print(len(data))"
   ]
  },
  {
   "cell_type": "code",
   "execution_count": 58,
   "metadata": {},
   "outputs": [
    {
     "data": {
      "text/plain": [
       "Index(['Merchant Cust ID', 'Lead_ID', 'Entity_Type', 'Node id', 'Lead_Stage',\n",
       "       'Lead Status', 'Created Timestamp', 'Updated Timestamp', 'Ageing',\n",
       "       'Product_Context', 'Name_Match_Status', '10K/1rs MID Status',\n",
       "       'Final TimeStamp', 'QC Panel Successful TimeStamp',\n",
       "       'Last QC Pending Timestamp', 'TAT', 'Merchant QC TAT slab',\n",
       "       'Working TimeSlab', 'New Off Time', 'New Last QC Pending Time',\n",
       "       'Stage movement count', 'Rejection Ageing', 'cust_id', 'agent_team',\n",
       "       'mid', 'mid_created_date', 'solution_type_level_3'],\n",
       "      dtype='object')"
      ]
     },
     "execution_count": 58,
     "metadata": {},
     "output_type": "execute_result"
    }
   ],
   "source": [
    "data.columns"
   ]
  },
  {
   "cell_type": "code",
   "execution_count": 59,
   "metadata": {},
   "outputs": [
    {
     "data": {
      "text/plain": [
       "0                   NaT\n",
       "1                   NaT\n",
       "2   2025-04-22 15:56:12\n",
       "3                   NaT\n",
       "4   2025-04-24 13:24:03\n",
       "5   2025-04-19 11:39:54\n",
       "6                   NaT\n",
       "7   2025-04-09 17:56:23\n",
       "8   2025-04-24 11:54:25\n",
       "9   2025-04-17 12:20:20\n",
       "Name: Last QC Pending Timestamp, dtype: datetime64[ns]"
      ]
     },
     "execution_count": 59,
     "metadata": {},
     "output_type": "execute_result"
    }
   ],
   "source": [
    "data['Last QC Pending Timestamp'].head(10)"
   ]
  },
  {
   "cell_type": "code",
   "execution_count": 60,
   "metadata": {},
   "outputs": [
    {
     "data": {
      "text/plain": [
       "0    Offtime\n",
       "1    Offtime\n",
       "2     Intime\n",
       "3    Offtime\n",
       "4     Intime\n",
       "5     Intime\n",
       "6    Offtime\n",
       "7     Intime\n",
       "8     Intime\n",
       "9     Intime\n",
       "Name: Working TimeSlab, dtype: object"
      ]
     },
     "execution_count": 60,
     "metadata": {},
     "output_type": "execute_result"
    }
   ],
   "source": [
    "\n",
    "\n",
    "data['Last QC Pending Timestamp']=pd.to_datetime(data['Last QC Pending Timestamp'], errors='coerce')\n",
    "\n",
    "# Define the start and end times\n",
    "start_time = time(8, 30, 0)\n",
    "end_time = time(21, 30, 0)\n",
    "\n",
    "\n",
    "\n",
    "# Apply the condition to classify as 'Intime' or 'Offtime' based on the time component of 'N'\n",
    "data['Working TimeSlab'] = data['Last QC Pending Timestamp'].apply(lambda x: 'Offtime' if pd.isna(x) else ('Intime' if start_time <= x.time() <= end_time else 'Offtime'))\n",
    "\n",
    "\n",
    "data['Working TimeSlab'].head(10)"
   ]
  },
  {
   "cell_type": "code",
   "execution_count": 61,
   "metadata": {},
   "outputs": [
    {
     "data": {
      "text/plain": [
       "Intime     318420\n",
       "Offtime    165755\n",
       "Name: Working TimeSlab, dtype: int64"
      ]
     },
     "execution_count": 61,
     "metadata": {},
     "output_type": "execute_result"
    }
   ],
   "source": [
    "data['Working TimeSlab'].value_counts()"
   ]
  },
  {
   "cell_type": "code",
   "execution_count": 62,
   "metadata": {},
   "outputs": [
    {
     "data": {
      "text/plain": [
       "Index(['Merchant Cust ID', 'Lead_ID', 'Entity_Type', 'Node id', 'Lead_Stage',\n",
       "       'Lead Status', 'Created Timestamp', 'Updated Timestamp', 'Ageing',\n",
       "       'Product_Context', 'Name_Match_Status', '10K/1rs MID Status',\n",
       "       'Final TimeStamp', 'QC Panel Successful TimeStamp',\n",
       "       'Last QC Pending Timestamp', 'TAT', 'Merchant QC TAT slab',\n",
       "       'Working TimeSlab', 'New Off Time', 'New Last QC Pending Time',\n",
       "       'Stage movement count', 'Rejection Ageing', 'cust_id', 'agent_team',\n",
       "       'mid', 'mid_created_date', 'solution_type_level_3'],\n",
       "      dtype='object')"
      ]
     },
     "execution_count": 62,
     "metadata": {},
     "output_type": "execute_result"
    }
   ],
   "source": [
    "data.columns"
   ]
  },
  {
   "cell_type": "code",
   "execution_count": 63,
   "metadata": {},
   "outputs": [],
   "source": [
    "out_time_start = pd.to_datetime(\"21:30\").time()\n",
    "out_time_end = pd.to_datetime(\"23:59:59\").time()\n",
    "morning_time_end = pd.to_datetime(\"08:30\").time()\n",
    "\n",
    "data['Last QC Pending Timestamp'] = pd.to_datetime(data['Last QC Pending Timestamp'], errors='coerce')\n",
    "\n",
    "\n",
    "# Apply conditions to create column R\n",
    "def process_timestamp(row):\n",
    "    timestamp = row['Last QC Pending Timestamp']\n",
    "    \n",
    "    # Check if timestamp is NaT\n",
    "    if pd.isna(timestamp):\n",
    "        return np.nan\n",
    "    \n",
    "    time = timestamp.time()\n",
    "    \n",
    "    if row['Working TimeSlab'] == 'Offtime':\n",
    "        if out_time_start <= time <= out_time_end:\n",
    "            # Condition 1: Increment date by 1\n",
    "            return timestamp + pd.DateOffset(days=1)\n",
    "        elif time < morning_time_end:\n",
    "            # Condition 2: Return the same timestamp\n",
    "            return timestamp\n",
    "    # Condition 3: Return blank for 'intime'\n",
    "    return np.nan\n",
    "\n",
    "\n",
    "data['New Off Time'] = data.apply(process_timestamp, axis=1)"
   ]
  },
  {
   "cell_type": "code",
   "execution_count": 64,
   "metadata": {},
   "outputs": [],
   "source": [
    "# Function to create S column based on R\n",
    "def generate_s(row):\n",
    "    if pd.notna(row['New Off Time']):  # If R is not NaT or blank\n",
    "        # Set time to 08:30 on the same date as R\n",
    "        return row['New Off Time'].replace(hour=8, minute=30, second=0)\n",
    "    else:\n",
    "        # If R is NaT or blank, copy the value from Q\n",
    "        return row['Last QC Pending Timestamp']\n",
    "    \n",
    "\n",
    "data['New Last QC Pending Time'] = data.apply(generate_s, axis=1)"
   ]
  },
  {
   "cell_type": "code",
   "execution_count": 65,
   "metadata": {},
   "outputs": [
    {
     "data": {
      "text/plain": [
       "Index(['Merchant Cust ID', 'Lead_ID', 'Entity_Type', 'Node id', 'Lead_Stage',\n",
       "       'Lead Status', 'Created Timestamp', 'Updated Timestamp', 'Ageing',\n",
       "       'Product_Context', 'Name_Match_Status', '10K/1rs MID Status',\n",
       "       'Final TimeStamp', 'QC Panel Successful TimeStamp',\n",
       "       'Last QC Pending Timestamp', 'TAT', 'Merchant QC TAT slab',\n",
       "       'Working TimeSlab', 'New Off Time', 'New Last QC Pending Time',\n",
       "       'Stage movement count', 'Rejection Ageing', 'cust_id', 'agent_team',\n",
       "       'mid', 'mid_created_date', 'solution_type_level_3'],\n",
       "      dtype='object')"
      ]
     },
     "execution_count": 65,
     "metadata": {},
     "output_type": "execute_result"
    }
   ],
   "source": [
    "data.columns"
   ]
  },
  {
   "cell_type": "code",
   "execution_count": 66,
   "metadata": {},
   "outputs": [],
   "source": [
    "# Calculate the difference between L and S and format it as HH:mm:ss\n",
    "def calculate_difference(row):\n",
    "    if isinstance(row['New Last QC Pending Time'], pd.Timestamp) and isinstance(row['Final TimeStamp'], pd.Timestamp):\n",
    "        diff = row['Final TimeStamp'] - row['New Last QC Pending Time']\n",
    "        return diff  # Extract HH:mm:ss from Timedelta\n",
    "    return np.nan  # Return NaN if either L or S is not a timestamp\n",
    "\n",
    "# Apply function to create Difference column\n",
    "data['TAT'] = data.apply(calculate_difference, axis=1)"
   ]
  },
  {
   "cell_type": "code",
   "execution_count": 67,
   "metadata": {},
   "outputs": [
    {
     "data": {
      "text/plain": [
       "0               NaT\n",
       "1               NaT\n",
       "2   0 days 00:03:21\n",
       "3               NaT\n",
       "4   0 days 00:01:33\n",
       "5   0 days 00:17:34\n",
       "6               NaT\n",
       "7   0 days 00:01:27\n",
       "8   0 days 00:09:44\n",
       "9   0 days 00:00:46\n",
       "Name: TAT, dtype: timedelta64[ns]"
      ]
     },
     "execution_count": 67,
     "metadata": {},
     "output_type": "execute_result"
    }
   ],
   "source": [
    "data['TAT'].head(10)"
   ]
  },
  {
   "cell_type": "code",
   "execution_count": 68,
   "metadata": {},
   "outputs": [],
   "source": [
    "# Update TAT where it is negative to be the difference between L and N\n",
    "def adjust_negative_tat(row):\n",
    "    if pd.notna(row['TAT']) and row['TAT'] < pd.Timedelta(0):  # Check if TAT is negative\n",
    "        if isinstance(row['Final TimeStamp'], pd.Timestamp) and isinstance(row['Last QC Pending Timestamp'], pd.Timestamp):\n",
    "            return row['Final TimeStamp'] - row['Last QC Pending Timestamp']  # Calculate L - N if TAT is negative\n",
    "    return row['TAT']  # Keep original TAT if not negative\n",
    "\n",
    "# Apply function to adjust negative TAT values\n",
    "data['TAT'] = data.apply(adjust_negative_tat, axis=1)"
   ]
  },
  {
   "cell_type": "code",
   "execution_count": 69,
   "metadata": {},
   "outputs": [
    {
     "name": "stdout",
     "output_type": "stream",
     "text": [
      "      Final TimeStamp Last QC Pending Timestamp             TAT\n",
      "0 2025-04-10 13:29:03                       NaT             NaT\n",
      "1 2025-04-07 14:11:43                       NaT             NaT\n",
      "2 2025-04-22 15:59:33       2025-04-22 15:56:12 0 days 00:03:21\n",
      "3 2025-04-24 17:06:58                       NaT             NaT\n",
      "4 2025-04-24 13:25:36       2025-04-24 13:24:03 0 days 00:01:33\n",
      "5 2025-04-19 11:57:28       2025-04-19 11:39:54 0 days 00:17:34\n",
      "6 2025-04-14 11:54:02                       NaT             NaT\n",
      "7 2025-04-09 17:57:50       2025-04-09 17:56:23 0 days 00:01:27\n",
      "8 2025-04-24 12:04:09       2025-04-24 11:54:25 0 days 00:09:44\n",
      "9 2025-04-17 12:21:06       2025-04-17 12:20:20 0 days 00:00:46\n",
      "484175\n"
     ]
    }
   ],
   "source": [
    "print(data[['Final TimeStamp','Last QC Pending Timestamp','TAT']].head(10))\n",
    "print(len(data))"
   ]
  },
  {
   "cell_type": "code",
   "execution_count": 70,
   "metadata": {},
   "outputs": [
    {
     "data": {
      "text/plain": [
       "0"
      ]
     },
     "execution_count": 70,
     "metadata": {},
     "output_type": "execute_result"
    }
   ],
   "source": [
    "len(data[((data['Lead Status']=='Merchant Live') | (data['Lead Status']=='Documents Rejected (Pending at Sales Team)'))&(data['TAT'].isnull())])"
   ]
  },
  {
   "cell_type": "code",
   "execution_count": 71,
   "metadata": {},
   "outputs": [],
   "source": [
    "def categorize_time(td):\n",
    "    total_minutes = td.total_seconds() / 60  # Convert timedelta to total minutes\n",
    "    if total_minutes < 2:\n",
    "        return 'Leads QCed in less than 02 min'\n",
    "    elif 2 <= total_minutes < 5:\n",
    "        return 'Leads QCed in between 02 - 05 min'\n",
    "    elif 5 <= total_minutes < 10:\n",
    "        return 'Leads QCed in between 05 - 10 min'\n",
    "    elif 10 <= total_minutes < 15:\n",
    "        return 'Leads QCed in between 10 - 15 min'\n",
    "    elif 15 <= total_minutes < 30:\n",
    "        return 'Leads QCed in between 15 - 30 min'\n",
    "    elif 30 <= total_minutes < 60:\n",
    "        return 'Leads QCed in between 30 min - 01 hr'\n",
    "    else:\n",
    "        return 'leads QCed in more than 01 hr'\n",
    "\n",
    "\n",
    "\n",
    "data.loc[(data['Lead Status']=='Merchant Live') | (data['Lead Status']=='Documents Rejected (Pending at Sales Team)'),'Merchant QC TAT slab']=data['TAT'].apply(categorize_time)\n",
    "\n"
   ]
  },
  {
   "cell_type": "code",
   "execution_count": 72,
   "metadata": {},
   "outputs": [
    {
     "data": {
      "text/plain": [
       "Leads QCed in between 02 - 05 min       138282\n",
       "Leads QCed in less than 02 min          111814\n",
       "Leads QCed in between 05 - 10 min        43625\n",
       "Leads QCed in between 15 - 30 min        14493\n",
       "Leads QCed in between 10 - 15 min         9436\n",
       "Leads QCed in between 30 min - 01 hr      2498\n",
       "leads QCed in more than 01 hr              816\n",
       "Name: Merchant QC TAT slab, dtype: int64"
      ]
     },
     "execution_count": 72,
     "metadata": {},
     "output_type": "execute_result"
    }
   ],
   "source": [
    "data['Merchant QC TAT slab'].value_counts()"
   ]
  },
  {
   "cell_type": "code",
   "execution_count": 73,
   "metadata": {},
   "outputs": [
    {
     "data": {
      "text/plain": [
       "484175"
      ]
     },
     "execution_count": 73,
     "metadata": {},
     "output_type": "execute_result"
    }
   ],
   "source": [
    "len(data)"
   ]
  },
  {
   "cell_type": "code",
   "execution_count": 74,
   "metadata": {},
   "outputs": [
    {
     "data": {
      "text/plain": [
       "603"
      ]
     },
     "execution_count": 74,
     "metadata": {},
     "output_type": "execute_result"
    }
   ],
   "source": [
    "len(data[data['solution_type_level_3']=='3P FSE'])"
   ]
  },
  {
   "cell_type": "code",
   "execution_count": 75,
   "metadata": {},
   "outputs": [
    {
     "data": {
      "text/plain": [
       "KYC_UPDATE         26911\n",
       "ACCOUNT_UPGRADE    11489\n",
       "3P FSE               603\n",
       "DIY                   33\n",
       "Name: solution_type_level_3, dtype: int64"
      ]
     },
     "execution_count": 75,
     "metadata": {},
     "output_type": "execute_result"
    }
   ],
   "source": [
    "data['solution_type_level_3'].value_counts()"
   ]
  },
  {
   "cell_type": "code",
   "execution_count": 76,
   "metadata": {},
   "outputs": [
    {
     "data": {
      "text/plain": [
       "458204"
      ]
     },
     "execution_count": 76,
     "metadata": {},
     "output_type": "execute_result"
    }
   ],
   "source": [
    "data = data[~((data['Entity_Type'].isin(['PROPRIETORSHIP', 'NON_PROPRIETORSHIP'])) & (data['Product_Context'] == 'EDC'))]\n",
    "len(data)"
   ]
  },
  {
   "cell_type": "code",
   "execution_count": 77,
   "metadata": {},
   "outputs": [
    {
     "data": {
      "text/plain": [
       "KYC_UPDATE         26911\n",
       "ACCOUNT_UPGRADE    11489\n",
       "3P FSE               603\n",
       "DIY                    1\n",
       "Name: solution_type_level_3, dtype: int64"
      ]
     },
     "execution_count": 77,
     "metadata": {},
     "output_type": "execute_result"
    }
   ],
   "source": [
    "data['solution_type_level_3'].value_counts()"
   ]
  },
  {
   "cell_type": "code",
   "execution_count": 78,
   "metadata": {},
   "outputs": [],
   "source": [
    "data.to_csv(\"all_flow_data_25th April'25.csv\", index=False)"
   ]
  },
  {
   "cell_type": "code",
   "execution_count": null,
   "metadata": {},
   "outputs": [],
   "source": []
  },
  {
   "cell_type": "code",
   "execution_count": null,
   "metadata": {},
   "outputs": [],
   "source": []
  },
  {
   "cell_type": "code",
   "execution_count": 79,
   "metadata": {},
   "outputs": [
    {
     "ename": "NameError",
     "evalue": "name 'sas' is not defined",
     "output_type": "error",
     "traceback": [
      "\u001b[1;31m---------------------------------------------------------------------------\u001b[0m",
      "\u001b[1;31mNameError\u001b[0m                                 Traceback (most recent call last)",
      "Input \u001b[1;32mIn [79]\u001b[0m, in \u001b[0;36m<cell line: 1>\u001b[1;34m()\u001b[0m\n\u001b[1;32m----> 1\u001b[0m \u001b[43msas\u001b[49m\n",
      "\u001b[1;31mNameError\u001b[0m: name 'sas' is not defined"
     ]
    }
   ],
   "source": [
    "sas"
   ]
  },
  {
   "cell_type": "code",
   "execution_count": null,
   "metadata": {},
   "outputs": [],
   "source": []
  },
  {
   "cell_type": "code",
   "execution_count": null,
   "metadata": {},
   "outputs": [],
   "source": []
  },
  {
   "cell_type": "code",
   "execution_count": null,
   "metadata": {},
   "outputs": [],
   "source": []
  },
  {
   "cell_type": "code",
   "execution_count": null,
   "metadata": {},
   "outputs": [],
   "source": []
  },
  {
   "cell_type": "code",
   "execution_count": null,
   "metadata": {},
   "outputs": [],
   "source": []
  },
  {
   "cell_type": "code",
   "execution_count": null,
   "metadata": {},
   "outputs": [],
   "source": []
  },
  {
   "cell_type": "code",
   "execution_count": null,
   "metadata": {},
   "outputs": [],
   "source": [
    "\n",
    "\n",
    "# Convert to datetime\n",
    "data['Last QC Pending Timestamp'] = pd.to_datetime(data['Last QC Pending Timestamp'])\n",
    "data['Final TimeStamp'] = pd.to_datetime(data['Final TimeStamp'])\n",
    "\n",
    "# Define active hours (08:30 AM - 09:30 PM)\n",
    "active_start_time = pd.to_timedelta('08:30:00')\n",
    "active_end_time = pd.to_timedelta('21:30:00')\n",
    "\n",
    "# Function to calculate active duration for each row\n",
    "def calculate_active_duration(row):\n",
    "    start = row['Last QC Pending Timestamp']\n",
    "    end = row['Final TimeStamp']\n",
    "    \n",
    "    # Check if either start or end is NaT\n",
    "    if pd.isna(start) or pd.isna(end):\n",
    "        return \"00:00:00\"  # Return 0 hours if either is NaT\n",
    "    \n",
    "    # Initialize total active duration\n",
    "    total_active_duration = pd.Timedelta(0)\n",
    "    \n",
    "    # Iterate over each date from start to end\n",
    "    for single_date in pd.date_range(start=start.date(), end=end.date()):\n",
    "        active_start = pd.Timestamp(single_date) + active_start_time\n",
    "        active_end = pd.Timestamp(single_date) + active_end_time\n",
    "        \n",
    "        # Determine the effective active period for this day\n",
    "        effective_start = max(start, active_start)\n",
    "        effective_end = min(end, active_end)\n",
    "\n",
    "        # If there's a valid active period, add its duration\n",
    "        if effective_start < effective_end:\n",
    "            total_active_duration += effective_end - effective_start\n",
    "\n",
    "    # Convert total active duration to hours\n",
    "    total_hours = total_active_duration.total_seconds() / 3600\n",
    "    \n",
    "    # Format the hours to HH:MM:SS\n",
    "    hours = int(total_hours)\n",
    "    minutes = int((total_hours - hours) * 60)\n",
    "    seconds = int(((total_hours - hours) * 60 - minutes) * 60)\n",
    "    \n",
    "    return f\"{hours:02}:{minutes:02}:{seconds:02}\"\n",
    "\n",
    "# Apply the function to each row\n",
    "data['TAT'] = data.apply(calculate_active_duration, axis=1)\n",
    "\n",
    "# Display the result\n",
    "print(data[['Last QC Pending Timestamp', 'Final TimeStamp', 'TAT']])\n",
    "print(len(data))\n"
   ]
  },
  {
   "cell_type": "code",
   "execution_count": null,
   "metadata": {},
   "outputs": [],
   "source": [
    "# data['TAT']=data['Final TimeStamp']-data['Last QC Pending Timestamp']\n",
    "# data['TAT']=data['TAT'].apply(lambda x: str(x).split()[-1] if pd.notna(x) else 'NaT')\n",
    "print(data.columns)\n",
    "print(len(data))"
   ]
  },
  {
   "cell_type": "code",
   "execution_count": null,
   "metadata": {},
   "outputs": [],
   "source": [
    "print(data[['Final TimeStamp','Last QC Pending Timestamp','TAT']].head(10))\n",
    "print(len(data))"
   ]
  },
  {
   "cell_type": "code",
   "execution_count": null,
   "metadata": {},
   "outputs": [],
   "source": [
    "len(data[((data['Lead Status']=='Merchant Live') | (data['Lead Status']=='Documents Rejected (Pending at Sales Team)'))&(data['TAT'].isnull())])"
   ]
  },
  {
   "cell_type": "code",
   "execution_count": null,
   "metadata": {},
   "outputs": [],
   "source": [
    "data[\"TAT\"]=pd.to_timedelta(data['TAT'])\n",
    "\n",
    "\n",
    "\n",
    "print(data[['Final TimeStamp','Last QC Pending Timestamp','TAT']].head(10))"
   ]
  },
  {
   "cell_type": "code",
   "execution_count": null,
   "metadata": {},
   "outputs": [],
   "source": [
    "type(data['TAT'][0])"
   ]
  },
  {
   "cell_type": "code",
   "execution_count": null,
   "metadata": {},
   "outputs": [],
   "source": [
    "def categorize_time(td):\n",
    "    total_minutes = td.total_seconds() / 60  # Convert timedelta to total minutes\n",
    "    if total_minutes < 16:\n",
    "        return 'Leads QCed in less than 15 min'\n",
    "    elif 16 <= total_minutes < 36:\n",
    "        return 'Leads QCed in between 15-30 min'\n",
    "    elif 36 <= total_minutes < 66:\n",
    "        return 'Leads QCed in between 30 min -1 hr'\n",
    "    elif 66 <= total_minutes < 126:\n",
    "        return 'Leads QCed in between 1 - 2 hr'\n",
    "    elif 126 <= total_minutes < 186:\n",
    "        return 'Leads QCed in between 2-3 hr'\n",
    "    elif 186 <= total_minutes < 246:\n",
    "        return 'Leads QCed in between 3-4 hr'\n",
    "    else:\n",
    "        return 'leads QCed in more than 4 hrs'\n",
    "\n",
    "\n",
    "\n",
    "data.loc[(data['Lead Status']=='Merchant Live') | (data['Lead Status']=='Documents Rejected (Pending at Sales Team)'),'Merchant QC TAT slab']=data['TAT'].apply(categorize_time)\n",
    "\n",
    "\n",
    "    \n",
    "\n"
   ]
  },
  {
   "cell_type": "code",
   "execution_count": null,
   "metadata": {},
   "outputs": [],
   "source": [
    "print(data['Merchant QC TAT slab'].value_counts())\n",
    "print(len(data))"
   ]
  },
  {
   "cell_type": "code",
   "execution_count": null,
   "metadata": {},
   "outputs": [],
   "source": [
    "data['TAT'].head(10)"
   ]
  },
  {
   "cell_type": "code",
   "execution_count": null,
   "metadata": {},
   "outputs": [],
   "source": [
    "\n",
    "# Function to convert timedelta to HH:MM:SS format with cumulative hours\n",
    "def format_timedelta(td):\n",
    "    total_seconds = int(td.total_seconds())\n",
    "    hours, remainder = divmod(total_seconds, 3600)  # Convert total seconds to hours\n",
    "    minutes, seconds = divmod(remainder, 60)\n",
    "    return f'{hours:02}:{minutes:02}:{seconds:02}'  # Format as HH:MM:SS\n",
    "\n",
    "# Apply the function to convert timedelta to HH:MM:SS\n",
    "data['TAT'] = data['TAT'].apply(format_timedelta)"
   ]
  },
  {
   "cell_type": "code",
   "execution_count": null,
   "metadata": {},
   "outputs": [],
   "source": [
    "data.loc[(data['Lead Status']!='Merchant Live') & (data['Lead Status']!='Documents Rejected (Pending at Sales Team)'),'TAT']=''\n",
    "\n",
    "data['TAT'].head(10)"
   ]
  },
  {
   "cell_type": "code",
   "execution_count": null,
   "metadata": {},
   "outputs": [],
   "source": [
    "data.columns"
   ]
  },
  {
   "cell_type": "code",
   "execution_count": null,
   "metadata": {},
   "outputs": [],
   "source": [
    "data=data.drop(columns=['Working TimeSlab','New Off Time','New Last QC Pending Time','Node id'])\n",
    "data.columns"
   ]
  },
  {
   "cell_type": "code",
   "execution_count": null,
   "metadata": {},
   "outputs": [],
   "source": [
    "col=data.pop('TAT')\n",
    "\n",
    "t=data.columns.get_loc('Merchant QC TAT slab')\n",
    "\n",
    "data.insert(t+1,'TAT',col)\n",
    "\n",
    "data.columns"
   ]
  },
  {
   "cell_type": "code",
   "execution_count": null,
   "metadata": {},
   "outputs": [],
   "source": [
    "data['solution_type_level_3'].unique()\n",
    "len(data)"
   ]
  },
  {
   "cell_type": "code",
   "execution_count": null,
   "metadata": {},
   "outputs": [],
   "source": [
    "data_acup_kyc=data[data['solution_type_level_3'].isin(['ACCOUNT_UPGRADE', 'KYC_UPDATE'])]\n",
    "data_mco=data[~data['solution_type_level_3'].isin(['ACCOUNT_UPGRADE', 'KYC_UPDATE'])]"
   ]
  },
  {
   "cell_type": "code",
   "execution_count": null,
   "metadata": {},
   "outputs": [],
   "source": [
    "#raise Exception(\"Stop execution here\")"
   ]
  },
  {
   "cell_type": "code",
   "execution_count": null,
   "metadata": {},
   "outputs": [],
   "source": [
    "with pd.ExcelWriter(\"all_flow_data_21st Oct'24.xlsx\") as writer:\n",
    "    # Write the original dataframe to the first sheet\n",
    "    data.to_excel(writer, sheet_name='All Data', index=False)\n",
    "    \n",
    "    # Write data filtered by Category 'A' and 'C' to the second sheet\n",
    "    data_acup_kyc.to_excel(writer, sheet_name=' KYC & ACC UPGD', index=False)\n",
    "    \n",
    "    # Write data filtered by Category 'B' and 'D' to the third sheet\n",
    "    data_mco.to_excel(writer, sheet_name='MCO', index=False)"
   ]
  },
  {
   "cell_type": "code",
   "execution_count": null,
   "metadata": {},
   "outputs": [],
   "source": [
    "data.to_csv(\"all_flow_data_19th Oct'24.csv\", index=False)\n"
   ]
  }
 ],
 "metadata": {
  "kernelspec": {
   "display_name": "base",
   "language": "python",
   "name": "python3"
  },
  "language_info": {
   "codemirror_mode": {
    "name": "ipython",
    "version": 3
   },
   "file_extension": ".py",
   "mimetype": "text/x-python",
   "name": "python",
   "nbconvert_exporter": "python",
   "pygments_lexer": "ipython3",
   "version": "3.9.12"
  }
 },
 "nbformat": 4,
 "nbformat_minor": 2
}
