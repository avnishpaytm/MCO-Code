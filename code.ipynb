{
 "cells": [
  {
   "cell_type": "code",
   "execution_count": 87,
   "metadata": {},
   "outputs": [],
   "source": [
    "import pandas as pd\n",
    "import numpy as np\n",
    "from datetime import datetime, timedelta\n",
    "from datetime import time\n",
    "import os\n",
    "\n"
   ]
  },
  {
   "cell_type": "code",
   "execution_count": 88,
   "metadata": {},
   "outputs": [],
   "source": [
    "pd.set_option('display.max_columns', None)\n",
    "pd.set_option('display.width', 0)"
   ]
  },
  {
   "cell_type": "code",
   "execution_count": 89,
   "metadata": {},
   "outputs": [],
   "source": [
    "in_file=\"raw_data_14-May'25.csv\"\n",
    "out_file=\"all_flow_data_13th May'25.csv\""
   ]
  },
  {
   "cell_type": "code",
   "execution_count": 90,
   "metadata": {},
   "outputs": [],
   "source": [
    "\n",
    "raw_data=pd.read_csv(in_file,low_memory=False,memory_map=True)\n",
    "data=pd.read_csv(\"format.csv\",memory_map=True)\n",
    "table_data=pd.read_csv(\"table_data.csv\",memory_map=True)    \n",
    "\n"
   ]
  },
  {
   "cell_type": "code",
   "execution_count": 91,
   "metadata": {},
   "outputs": [
    {
     "data": {
      "text/html": [
       "<div>\n",
       "<style scoped>\n",
       "    .dataframe tbody tr th:only-of-type {\n",
       "        vertical-align: middle;\n",
       "    }\n",
       "\n",
       "    .dataframe tbody tr th {\n",
       "        vertical-align: top;\n",
       "    }\n",
       "\n",
       "    .dataframe thead th {\n",
       "        text-align: right;\n",
       "    }\n",
       "</style>\n",
       "<table border=\"1\" class=\"dataframe\">\n",
       "  <thead>\n",
       "    <tr style=\"text-align: right;\">\n",
       "      <th></th>\n",
       "      <th>cust_id</th>\n",
       "      <th>lead_id</th>\n",
       "      <th>fse_cust_id</th>\n",
       "      <th>workflow_node_id</th>\n",
       "      <th>sub_stage</th>\n",
       "      <th>created_at</th>\n",
       "      <th>updated_at</th>\n",
       "      <th>solution_type_level_2</th>\n",
       "      <th>solution_type_level_3</th>\n",
       "      <th>entity_type</th>\n",
       "      <th>products_context</th>\n",
       "      <th>sbstage_count</th>\n",
       "      <th>name_match_status</th>\n",
       "      <th>mid</th>\n",
       "      <th>mid_creation_date</th>\n",
       "      <th>agent_team</th>\n",
       "      <th>qc_pending_max_created</th>\n",
       "      <th>panelqc_max_created</th>\n",
       "      <th>final_timestamp</th>\n",
       "      <th>first_qc_pending_min_created</th>\n",
       "      <th>sub_stage1</th>\n",
       "      <th>category</th>\n",
       "      <th>sub_category</th>\n",
       "    </tr>\n",
       "  </thead>\n",
       "  <tbody>\n",
       "    <tr>\n",
       "      <th>0</th>\n",
       "      <td>1.129348e+07</td>\n",
       "      <td>09301547-f722-4109-aeae-4aacd808b0a2</td>\n",
       "      <td>1108896768</td>\n",
       "      <td>156</td>\n",
       "      <td>LEAD_SUCCESSFULLY_CLOSED</td>\n",
       "      <td>2025-05-08 16:08:23.000</td>\n",
       "      <td>2025-05-08 16:29:49.000</td>\n",
       "      <td>NaN</td>\n",
       "      <td>NaN</td>\n",
       "      <td>INDIVIDUAL</td>\n",
       "      <td>NaN</td>\n",
       "      <td>{\"PANEL_SUCCESS\":1}</td>\n",
       "      <td>True</td>\n",
       "      <td>bsBWjk33412643658929</td>\n",
       "      <td>2019-07-27 10:59:22.000</td>\n",
       "      <td>General Trade QR_SB_EDC</td>\n",
       "      <td>2025-05-08 16:27:19.000</td>\n",
       "      <td>2025-05-08 16:29:04.000</td>\n",
       "      <td>2025-05-08 16:29:04.000</td>\n",
       "      <td>2025-05-08 16:27:19.000</td>\n",
       "      <td>NaN</td>\n",
       "      <td>Personal Services</td>\n",
       "      <td>Cyber Cafe</td>\n",
       "    </tr>\n",
       "    <tr>\n",
       "      <th>1</th>\n",
       "      <td>1.441923e+09</td>\n",
       "      <td>396e0e0b-75eb-4838-a00b-eb5e4fa96923</td>\n",
       "      <td>1421212705</td>\n",
       "      <td>156</td>\n",
       "      <td>LEAD_SUCCESSFULLY_CLOSED</td>\n",
       "      <td>2025-05-08 12:20:52.000</td>\n",
       "      <td>2025-05-08 12:38:48.000</td>\n",
       "      <td>NaN</td>\n",
       "      <td>NaN</td>\n",
       "      <td>INDIVIDUAL</td>\n",
       "      <td>[\"Paytm QR\"]</td>\n",
       "      <td>{\"PANEL_SUCCESS\":1}</td>\n",
       "      <td>True</td>\n",
       "      <td>cOFEEd39854350439714</td>\n",
       "      <td>2025-05-08 12:38:17.000</td>\n",
       "      <td>General Trade QR_SB_EDC</td>\n",
       "      <td>2025-05-08 12:36:13.000</td>\n",
       "      <td>2025-05-08 12:38:02.000</td>\n",
       "      <td>2025-05-08 12:38:02.000</td>\n",
       "      <td>2025-05-08 12:36:13.000</td>\n",
       "      <td>NaN</td>\n",
       "      <td>Retail and Shopping</td>\n",
       "      <td>Kirana</td>\n",
       "    </tr>\n",
       "    <tr>\n",
       "      <th>2</th>\n",
       "      <td>1.942887e+09</td>\n",
       "      <td>f4e42f6c-2083-4602-9520-f3a45cd8763a</td>\n",
       "      <td>1809440960</td>\n",
       "      <td>156</td>\n",
       "      <td>LEAD_SUCCESSFULLY_CLOSED</td>\n",
       "      <td>2025-01-18 13:08:19.000</td>\n",
       "      <td>2025-05-07 12:01:07.000</td>\n",
       "      <td>NaN</td>\n",
       "      <td>NaN</td>\n",
       "      <td>INDIVIDUAL</td>\n",
       "      <td>NaN</td>\n",
       "      <td>{\"PANEL_SUCCESS\":1}</td>\n",
       "      <td>True</td>\n",
       "      <td>xQePrv25469891187743</td>\n",
       "      <td>2025-05-07 12:00:23.000</td>\n",
       "      <td>General Trade QR_SB_EDC</td>\n",
       "      <td>2025-05-07 11:56:22.000</td>\n",
       "      <td>2025-05-07 12:00:05.000</td>\n",
       "      <td>2025-05-07 12:00:05.000</td>\n",
       "      <td>2025-05-07 11:56:22.000</td>\n",
       "      <td>NaN</td>\n",
       "      <td>Retail and Shopping</td>\n",
       "      <td>Meat Shop</td>\n",
       "    </tr>\n",
       "  </tbody>\n",
       "</table>\n",
       "</div>"
      ],
      "text/plain": [
       "        cust_id                               lead_id  fse_cust_id  \\\n",
       "0  1.129348e+07  09301547-f722-4109-aeae-4aacd808b0a2   1108896768   \n",
       "1  1.441923e+09  396e0e0b-75eb-4838-a00b-eb5e4fa96923   1421212705   \n",
       "2  1.942887e+09  f4e42f6c-2083-4602-9520-f3a45cd8763a   1809440960   \n",
       "\n",
       "   workflow_node_id                 sub_stage               created_at  \\\n",
       "0               156  LEAD_SUCCESSFULLY_CLOSED  2025-05-08 16:08:23.000   \n",
       "1               156  LEAD_SUCCESSFULLY_CLOSED  2025-05-08 12:20:52.000   \n",
       "2               156  LEAD_SUCCESSFULLY_CLOSED  2025-01-18 13:08:19.000   \n",
       "\n",
       "                updated_at  solution_type_level_2 solution_type_level_3  \\\n",
       "0  2025-05-08 16:29:49.000                    NaN                   NaN   \n",
       "1  2025-05-08 12:38:48.000                    NaN                   NaN   \n",
       "2  2025-05-07 12:01:07.000                    NaN                   NaN   \n",
       "\n",
       "  entity_type products_context        sbstage_count name_match_status  \\\n",
       "0  INDIVIDUAL              NaN  {\"PANEL_SUCCESS\":1}              True   \n",
       "1  INDIVIDUAL     [\"Paytm QR\"]  {\"PANEL_SUCCESS\":1}              True   \n",
       "2  INDIVIDUAL              NaN  {\"PANEL_SUCCESS\":1}              True   \n",
       "\n",
       "                    mid        mid_creation_date               agent_team  \\\n",
       "0  bsBWjk33412643658929  2019-07-27 10:59:22.000  General Trade QR_SB_EDC   \n",
       "1  cOFEEd39854350439714  2025-05-08 12:38:17.000  General Trade QR_SB_EDC   \n",
       "2  xQePrv25469891187743  2025-05-07 12:00:23.000  General Trade QR_SB_EDC   \n",
       "\n",
       "    qc_pending_max_created      panelqc_max_created          final_timestamp  \\\n",
       "0  2025-05-08 16:27:19.000  2025-05-08 16:29:04.000  2025-05-08 16:29:04.000   \n",
       "1  2025-05-08 12:36:13.000  2025-05-08 12:38:02.000  2025-05-08 12:38:02.000   \n",
       "2  2025-05-07 11:56:22.000  2025-05-07 12:00:05.000  2025-05-07 12:00:05.000   \n",
       "\n",
       "  first_qc_pending_min_created sub_stage1             category sub_category  \n",
       "0      2025-05-08 16:27:19.000        NaN    Personal Services   Cyber Cafe  \n",
       "1      2025-05-08 12:36:13.000        NaN  Retail and Shopping       Kirana  \n",
       "2      2025-05-07 11:56:22.000        NaN  Retail and Shopping    Meat Shop  "
      ]
     },
     "execution_count": 91,
     "metadata": {},
     "output_type": "execute_result"
    }
   ],
   "source": [
    "raw_data.head(3)"
   ]
  },
  {
   "cell_type": "code",
   "execution_count": 92,
   "metadata": {},
   "outputs": [
    {
     "data": {
      "text/plain": [
       "267917"
      ]
     },
     "execution_count": 92,
     "metadata": {},
     "output_type": "execute_result"
    }
   ],
   "source": [
    "\n",
    "raw_data.insert(5,'q',0)\n",
    "len(raw_data)"
   ]
  },
  {
   "cell_type": "code",
   "execution_count": 93,
   "metadata": {},
   "outputs": [],
   "source": [
    "table_map = table_data.set_index('NODE ID')['Lead Status'].to_dict()\n",
    "raw_data['q'] = raw_data['workflow_node_id'].map(table_map)\n",
    "\n"
   ]
  },
  {
   "cell_type": "code",
   "execution_count": 94,
   "metadata": {},
   "outputs": [],
   "source": [
    "raw_data.loc[raw_data['sub_stage1']=='QC_AUTO_APPROVED','q']='Leads QC Auto Approved'"
   ]
  },
  {
   "cell_type": "code",
   "execution_count": 95,
   "metadata": {},
   "outputs": [
    {
     "data": {
      "text/plain": [
       "q\n",
       "Merchant Live                                                       154362\n",
       "Lead Created/Posted (Pending at Sales team for  Document Upload)     87673\n",
       "Documents Rejected (Pending at Sales Team)                           14705\n",
       "Lead stuck in Intermediate Stages (Dedupe/Risk/PG rejections)         1708\n",
       "Leads QC Auto Approved                                                   7\n",
       "Leads Rejected in Risk Review                                            4\n",
       "Name: count, dtype: int64"
      ]
     },
     "execution_count": 95,
     "metadata": {},
     "output_type": "execute_result"
    }
   ],
   "source": [
    "raw_data['q'].value_counts()"
   ]
  },
  {
   "cell_type": "code",
   "execution_count": 96,
   "metadata": {},
   "outputs": [
    {
     "data": {
      "text/plain": [
       "q\n",
       "Merchant Live                                                       154362\n",
       "Lead Created/Posted (Pending at Sales team for  Document Upload)     87673\n",
       "Documents Rejected (Pending at Sales Team)                           14705\n",
       "Lead stuck in Intermediate Stages (Dedupe/Risk/PG rejections)         1708\n",
       "Leads QC Auto Approved                                                   7\n",
       "Leads Rejected in Risk Review                                            4\n",
       "Name: count, dtype: int64"
      ]
     },
     "execution_count": 96,
     "metadata": {},
     "output_type": "execute_result"
    }
   ],
   "source": [
    "raw_data=raw_data.dropna(subset=['q'])\n",
    "\n",
    "raw_data['q'].value_counts()"
   ]
  },
  {
   "cell_type": "code",
   "execution_count": 97,
   "metadata": {},
   "outputs": [
    {
     "data": {
      "text/plain": [
       "258459"
      ]
     },
     "execution_count": 97,
     "metadata": {},
     "output_type": "execute_result"
    }
   ],
   "source": [
    "raw_data['remove_date']=raw_data['updated_at'].copy()\n",
    "\n",
    "raw_data['remove_date'] = pd.to_datetime(raw_data['remove_date'])\n",
    "\n",
    "raw_data['remove_date'] = raw_data['remove_date'].dt.strftime('%Y-%m-%d')\n",
    "\n",
    "raw_data['remove_date'] = pd.to_datetime(raw_data['remove_date'])\n",
    "len(raw_data)\n"
   ]
  },
  {
   "cell_type": "code",
   "execution_count": 98,
   "metadata": {},
   "outputs": [],
   "source": [
    "#print(pd.Timestamp.now().normalize()-timedelta(days=1))"
   ]
  },
  {
   "cell_type": "code",
   "execution_count": 99,
   "metadata": {},
   "outputs": [],
   "source": [
    "\n",
    "current_timestamp = pd.Timestamp.now().normalize()\n",
    "\n",
    "raw_data=raw_data[raw_data['remove_date']!=current_timestamp]"
   ]
  },
  {
   "cell_type": "code",
   "execution_count": 100,
   "metadata": {},
   "outputs": [],
   "source": [
    "raw_data=raw_data.drop(columns=['remove_date'])\n",
    "\n"
   ]
  },
  {
   "cell_type": "code",
   "execution_count": 101,
   "metadata": {},
   "outputs": [
    {
     "data": {
      "text/plain": [
       "array([nan, 'KYC_UPDATE', 'ACCOUNT_UPGRADE_LENDING', 'PROFILE_UPDATE',\n",
       "       'ACCOUNT_UPGRADE', 'DIY'], dtype=object)"
      ]
     },
     "execution_count": 101,
     "metadata": {},
     "output_type": "execute_result"
    }
   ],
   "source": [
    "raw_data['solution_type_level_3'].unique()"
   ]
  },
  {
   "cell_type": "code",
   "execution_count": 102,
   "metadata": {},
   "outputs": [
    {
     "data": {
      "text/plain": [
       "solution_type_level_3\n",
       "KYC_UPDATE                 9599\n",
       "ACCOUNT_UPGRADE_LENDING    4652\n",
       "PROFILE_UPDATE               90\n",
       "ACCOUNT_UPGRADE              44\n",
       "DIY                           5\n",
       "Name: count, dtype: int64"
      ]
     },
     "execution_count": 102,
     "metadata": {},
     "output_type": "execute_result"
    }
   ],
   "source": [
    "raw_data['solution_type_level_3'].value_counts()"
   ]
  },
  {
   "cell_type": "code",
   "execution_count": 103,
   "metadata": {},
   "outputs": [
    {
     "data": {
      "text/plain": [
       "array([nan, 'KYC_UPDATE', 'ACCOUNT_UPGRADE_LENDING', 'PROFILE_UPDATE',\n",
       "       'ACCOUNT_UPGRADE', 'DIY'], dtype=object)"
      ]
     },
     "execution_count": 103,
     "metadata": {},
     "output_type": "execute_result"
    }
   ],
   "source": [
    "raw_data=raw_data[raw_data['solution_type_level_3']!='YBL_LIMIT_ENHANCEMENT']\n",
    "\n",
    "raw_data['solution_type_level_3'].unique()"
   ]
  },
  {
   "cell_type": "code",
   "execution_count": 104,
   "metadata": {},
   "outputs": [
    {
     "data": {
      "text/plain": [
       "array([nan, 'KYC_UPDATE', 'ACCOUNT_UPGRADE', 'DIY'], dtype=object)"
      ]
     },
     "execution_count": 104,
     "metadata": {},
     "output_type": "execute_result"
    }
   ],
   "source": [
    "raw_data['solution_type_level_3']=raw_data['solution_type_level_3'].replace(['ACCOUNT_UPGRADE_LENDING','PROFILE_UPDATE'],'ACCOUNT_UPGRADE')\n",
    "\n",
    "raw_data['solution_type_level_3'].unique()"
   ]
  },
  {
   "cell_type": "code",
   "execution_count": 105,
   "metadata": {},
   "outputs": [],
   "source": [
    "raw_data.loc[raw_data['agent_team']=='3P FSE','solution_type_level_3']='3P FSE'"
   ]
  },
  {
   "cell_type": "code",
   "execution_count": 106,
   "metadata": {},
   "outputs": [
    {
     "data": {
      "text/plain": [
       "solution_type_level_3\n",
       "KYC_UPDATE         9287\n",
       "ACCOUNT_UPGRADE    4786\n",
       "3P FSE              338\n",
       "DIY                   5\n",
       "Name: count, dtype: int64"
      ]
     },
     "execution_count": 106,
     "metadata": {},
     "output_type": "execute_result"
    }
   ],
   "source": [
    "raw_data['solution_type_level_3'].value_counts()"
   ]
  },
  {
   "cell_type": "code",
   "execution_count": 107,
   "metadata": {},
   "outputs": [
    {
     "name": "stdout",
     "output_type": "stream",
     "text": [
      "253730\n"
     ]
    },
    {
     "data": {
      "text/html": [
       "<div>\n",
       "<style scoped>\n",
       "    .dataframe tbody tr th:only-of-type {\n",
       "        vertical-align: middle;\n",
       "    }\n",
       "\n",
       "    .dataframe tbody tr th {\n",
       "        vertical-align: top;\n",
       "    }\n",
       "\n",
       "    .dataframe thead th {\n",
       "        text-align: right;\n",
       "    }\n",
       "</style>\n",
       "<table border=\"1\" class=\"dataframe\">\n",
       "  <thead>\n",
       "    <tr style=\"text-align: right;\">\n",
       "      <th></th>\n",
       "      <th>cust_id</th>\n",
       "      <th>lead_id</th>\n",
       "      <th>fse_cust_id</th>\n",
       "      <th>workflow_node_id</th>\n",
       "      <th>sub_stage</th>\n",
       "      <th>q</th>\n",
       "      <th>created_at</th>\n",
       "      <th>updated_at</th>\n",
       "      <th>solution_type_level_2</th>\n",
       "      <th>solution_type_level_3</th>\n",
       "      <th>entity_type</th>\n",
       "      <th>products_context</th>\n",
       "      <th>sbstage_count</th>\n",
       "      <th>name_match_status</th>\n",
       "      <th>mid</th>\n",
       "      <th>mid_creation_date</th>\n",
       "      <th>agent_team</th>\n",
       "      <th>qc_pending_max_created</th>\n",
       "      <th>panelqc_max_created</th>\n",
       "      <th>final_timestamp</th>\n",
       "      <th>first_qc_pending_min_created</th>\n",
       "      <th>sub_stage1</th>\n",
       "      <th>category</th>\n",
       "      <th>sub_category</th>\n",
       "    </tr>\n",
       "  </thead>\n",
       "  <tbody>\n",
       "    <tr>\n",
       "      <th>0</th>\n",
       "      <td>1.129348e+07</td>\n",
       "      <td>09301547-f722-4109-aeae-4aacd808b0a2</td>\n",
       "      <td>1108896768</td>\n",
       "      <td>156</td>\n",
       "      <td>LEAD_SUCCESSFULLY_CLOSED</td>\n",
       "      <td>Merchant Live</td>\n",
       "      <td>2025-05-08 16:08:23.000</td>\n",
       "      <td>2025-05-08 16:29:49.000</td>\n",
       "      <td>NaN</td>\n",
       "      <td>NaN</td>\n",
       "      <td>INDIVIDUAL</td>\n",
       "      <td>NaN</td>\n",
       "      <td>{\"PANEL_SUCCESS\":1}</td>\n",
       "      <td>True</td>\n",
       "      <td>bsBWjk33412643658929</td>\n",
       "      <td>2019-07-27 10:59:22.000</td>\n",
       "      <td>General Trade QR_SB_EDC</td>\n",
       "      <td>2025-05-08 16:27:19.000</td>\n",
       "      <td>2025-05-08 16:29:04.000</td>\n",
       "      <td>2025-05-08 16:29:04.000</td>\n",
       "      <td>2025-05-08 16:27:19.000</td>\n",
       "      <td>NaN</td>\n",
       "      <td>Personal Services</td>\n",
       "      <td>Cyber Cafe</td>\n",
       "    </tr>\n",
       "    <tr>\n",
       "      <th>1</th>\n",
       "      <td>1.441923e+09</td>\n",
       "      <td>396e0e0b-75eb-4838-a00b-eb5e4fa96923</td>\n",
       "      <td>1421212705</td>\n",
       "      <td>156</td>\n",
       "      <td>LEAD_SUCCESSFULLY_CLOSED</td>\n",
       "      <td>Merchant Live</td>\n",
       "      <td>2025-05-08 12:20:52.000</td>\n",
       "      <td>2025-05-08 12:38:48.000</td>\n",
       "      <td>NaN</td>\n",
       "      <td>NaN</td>\n",
       "      <td>INDIVIDUAL</td>\n",
       "      <td>[\"Paytm QR\"]</td>\n",
       "      <td>{\"PANEL_SUCCESS\":1}</td>\n",
       "      <td>True</td>\n",
       "      <td>cOFEEd39854350439714</td>\n",
       "      <td>2025-05-08 12:38:17.000</td>\n",
       "      <td>General Trade QR_SB_EDC</td>\n",
       "      <td>2025-05-08 12:36:13.000</td>\n",
       "      <td>2025-05-08 12:38:02.000</td>\n",
       "      <td>2025-05-08 12:38:02.000</td>\n",
       "      <td>2025-05-08 12:36:13.000</td>\n",
       "      <td>NaN</td>\n",
       "      <td>Retail and Shopping</td>\n",
       "      <td>Kirana</td>\n",
       "    </tr>\n",
       "    <tr>\n",
       "      <th>2</th>\n",
       "      <td>1.942887e+09</td>\n",
       "      <td>f4e42f6c-2083-4602-9520-f3a45cd8763a</td>\n",
       "      <td>1809440960</td>\n",
       "      <td>156</td>\n",
       "      <td>LEAD_SUCCESSFULLY_CLOSED</td>\n",
       "      <td>Merchant Live</td>\n",
       "      <td>2025-01-18 13:08:19.000</td>\n",
       "      <td>2025-05-07 12:01:07.000</td>\n",
       "      <td>NaN</td>\n",
       "      <td>NaN</td>\n",
       "      <td>INDIVIDUAL</td>\n",
       "      <td>NaN</td>\n",
       "      <td>{\"PANEL_SUCCESS\":1}</td>\n",
       "      <td>True</td>\n",
       "      <td>xQePrv25469891187743</td>\n",
       "      <td>2025-05-07 12:00:23.000</td>\n",
       "      <td>General Trade QR_SB_EDC</td>\n",
       "      <td>2025-05-07 11:56:22.000</td>\n",
       "      <td>2025-05-07 12:00:05.000</td>\n",
       "      <td>2025-05-07 12:00:05.000</td>\n",
       "      <td>2025-05-07 11:56:22.000</td>\n",
       "      <td>NaN</td>\n",
       "      <td>Retail and Shopping</td>\n",
       "      <td>Meat Shop</td>\n",
       "    </tr>\n",
       "  </tbody>\n",
       "</table>\n",
       "</div>"
      ],
      "text/plain": [
       "        cust_id                               lead_id  fse_cust_id  \\\n",
       "0  1.129348e+07  09301547-f722-4109-aeae-4aacd808b0a2   1108896768   \n",
       "1  1.441923e+09  396e0e0b-75eb-4838-a00b-eb5e4fa96923   1421212705   \n",
       "2  1.942887e+09  f4e42f6c-2083-4602-9520-f3a45cd8763a   1809440960   \n",
       "\n",
       "   workflow_node_id                 sub_stage              q  \\\n",
       "0               156  LEAD_SUCCESSFULLY_CLOSED  Merchant Live   \n",
       "1               156  LEAD_SUCCESSFULLY_CLOSED  Merchant Live   \n",
       "2               156  LEAD_SUCCESSFULLY_CLOSED  Merchant Live   \n",
       "\n",
       "                created_at               updated_at  solution_type_level_2  \\\n",
       "0  2025-05-08 16:08:23.000  2025-05-08 16:29:49.000                    NaN   \n",
       "1  2025-05-08 12:20:52.000  2025-05-08 12:38:48.000                    NaN   \n",
       "2  2025-01-18 13:08:19.000  2025-05-07 12:01:07.000                    NaN   \n",
       "\n",
       "  solution_type_level_3 entity_type products_context        sbstage_count  \\\n",
       "0                   NaN  INDIVIDUAL              NaN  {\"PANEL_SUCCESS\":1}   \n",
       "1                   NaN  INDIVIDUAL     [\"Paytm QR\"]  {\"PANEL_SUCCESS\":1}   \n",
       "2                   NaN  INDIVIDUAL              NaN  {\"PANEL_SUCCESS\":1}   \n",
       "\n",
       "  name_match_status                   mid        mid_creation_date  \\\n",
       "0              True  bsBWjk33412643658929  2019-07-27 10:59:22.000   \n",
       "1              True  cOFEEd39854350439714  2025-05-08 12:38:17.000   \n",
       "2              True  xQePrv25469891187743  2025-05-07 12:00:23.000   \n",
       "\n",
       "                agent_team   qc_pending_max_created      panelqc_max_created  \\\n",
       "0  General Trade QR_SB_EDC  2025-05-08 16:27:19.000  2025-05-08 16:29:04.000   \n",
       "1  General Trade QR_SB_EDC  2025-05-08 12:36:13.000  2025-05-08 12:38:02.000   \n",
       "2  General Trade QR_SB_EDC  2025-05-07 11:56:22.000  2025-05-07 12:00:05.000   \n",
       "\n",
       "           final_timestamp first_qc_pending_min_created sub_stage1  \\\n",
       "0  2025-05-08 16:29:04.000      2025-05-08 16:27:19.000        NaN   \n",
       "1  2025-05-08 12:38:02.000      2025-05-08 12:36:13.000        NaN   \n",
       "2  2025-05-07 12:00:05.000      2025-05-07 11:56:22.000        NaN   \n",
       "\n",
       "              category sub_category  \n",
       "0    Personal Services   Cyber Cafe  \n",
       "1  Retail and Shopping       Kirana  \n",
       "2  Retail and Shopping    Meat Shop  "
      ]
     },
     "execution_count": 107,
     "metadata": {},
     "output_type": "execute_result"
    }
   ],
   "source": [
    "print(len(raw_data))\n",
    "raw_data.head(3)"
   ]
  },
  {
   "cell_type": "code",
   "execution_count": 108,
   "metadata": {},
   "outputs": [
    {
     "data": {
      "text/plain": [
       "253730"
      ]
     },
     "execution_count": 108,
     "metadata": {},
     "output_type": "execute_result"
    }
   ],
   "source": [
    "data[['Merchant Cust ID', 'Lead_ID', 'Entity_Type', 'Node id', 'Lead_Stage',\n",
    "       'Lead Status', 'Created Timestamp', 'Updated Timestamp',\n",
    "       'Product_Context', 'Name_Match_Status',\n",
    "       'Final TimeStamp', 'QC Panel Successful TimeStamp',\n",
    "       'Last QC Pending Timestamp',\n",
    "       'Stage movement count', 'cust_id', 'agent_team',\n",
    "       'mid', 'mid_created_date', 'solution_type_level_3', 'category', 'sub_category','first_qc_pending_min_created']] = raw_data[['cust_id', 'lead_id', 'entity_type', 'workflow_node_id', 'sub_stage',\n",
    "                                                                                                    'q', 'created_at', 'updated_at', 'products_context', 'name_match_status', 'final_timestamp', 'panelqc_max_created', 'qc_pending_max_created', 'sbstage_count', 'fse_cust_id', 'agent_team', 'mid', 'mid_creation_date', 'solution_type_level_3', 'category', 'sub_category','first_qc_pending_min_created']]\n",
    "       \n",
    "len(data)"
   ]
  },
  {
   "cell_type": "code",
   "execution_count": 109,
   "metadata": {},
   "outputs": [
    {
     "data": {
      "text/html": [
       "<div>\n",
       "<style scoped>\n",
       "    .dataframe tbody tr th:only-of-type {\n",
       "        vertical-align: middle;\n",
       "    }\n",
       "\n",
       "    .dataframe tbody tr th {\n",
       "        vertical-align: top;\n",
       "    }\n",
       "\n",
       "    .dataframe thead th {\n",
       "        text-align: right;\n",
       "    }\n",
       "</style>\n",
       "<table border=\"1\" class=\"dataframe\">\n",
       "  <thead>\n",
       "    <tr style=\"text-align: right;\">\n",
       "      <th></th>\n",
       "      <th>Merchant Cust ID</th>\n",
       "      <th>Lead_ID</th>\n",
       "      <th>Entity_Type</th>\n",
       "      <th>Node id</th>\n",
       "      <th>Lead_Stage</th>\n",
       "      <th>Lead Status</th>\n",
       "      <th>Created Timestamp</th>\n",
       "      <th>Updated Timestamp</th>\n",
       "      <th>Ageing</th>\n",
       "      <th>Product_Context</th>\n",
       "      <th>Name_Match_Status</th>\n",
       "      <th>10K/1rs MID Status</th>\n",
       "      <th>Final TimeStamp</th>\n",
       "      <th>QC Panel Successful TimeStamp</th>\n",
       "      <th>Last QC Pending Timestamp</th>\n",
       "      <th>TAT</th>\n",
       "      <th>Merchant QC TAT slab</th>\n",
       "      <th>Working TimeSlab</th>\n",
       "      <th>New Off Time</th>\n",
       "      <th>New Last QC Pending Time</th>\n",
       "      <th>Stage movement count</th>\n",
       "      <th>Rejection Ageing</th>\n",
       "      <th>cust_id</th>\n",
       "      <th>agent_team</th>\n",
       "      <th>mid</th>\n",
       "      <th>mid_created_date</th>\n",
       "      <th>solution_type_level_3</th>\n",
       "      <th>category</th>\n",
       "      <th>sub_category</th>\n",
       "      <th>first_qc_pending_min_created</th>\n",
       "    </tr>\n",
       "  </thead>\n",
       "  <tbody>\n",
       "    <tr>\n",
       "      <th>0</th>\n",
       "      <td>1.129348e+07</td>\n",
       "      <td>09301547-f722-4109-aeae-4aacd808b0a2</td>\n",
       "      <td>INDIVIDUAL</td>\n",
       "      <td>156</td>\n",
       "      <td>LEAD_SUCCESSFULLY_CLOSED</td>\n",
       "      <td>Merchant Live</td>\n",
       "      <td>2025-05-08 16:08:23.000</td>\n",
       "      <td>2025-05-08 16:29:49.000</td>\n",
       "      <td>NaN</td>\n",
       "      <td>NaN</td>\n",
       "      <td>True</td>\n",
       "      <td>NaN</td>\n",
       "      <td>2025-05-08 16:29:04.000</td>\n",
       "      <td>2025-05-08 16:29:04.000</td>\n",
       "      <td>2025-05-08 16:27:19.000</td>\n",
       "      <td>NaN</td>\n",
       "      <td>NaN</td>\n",
       "      <td>NaN</td>\n",
       "      <td>NaN</td>\n",
       "      <td>NaN</td>\n",
       "      <td>{\"PANEL_SUCCESS\":1}</td>\n",
       "      <td>NaN</td>\n",
       "      <td>1108896768</td>\n",
       "      <td>General Trade QR_SB_EDC</td>\n",
       "      <td>bsBWjk33412643658929</td>\n",
       "      <td>2019-07-27 10:59:22.000</td>\n",
       "      <td>NaN</td>\n",
       "      <td>Personal Services</td>\n",
       "      <td>Cyber Cafe</td>\n",
       "      <td>2025-05-08 16:27:19.000</td>\n",
       "    </tr>\n",
       "    <tr>\n",
       "      <th>1</th>\n",
       "      <td>1.441923e+09</td>\n",
       "      <td>396e0e0b-75eb-4838-a00b-eb5e4fa96923</td>\n",
       "      <td>INDIVIDUAL</td>\n",
       "      <td>156</td>\n",
       "      <td>LEAD_SUCCESSFULLY_CLOSED</td>\n",
       "      <td>Merchant Live</td>\n",
       "      <td>2025-05-08 12:20:52.000</td>\n",
       "      <td>2025-05-08 12:38:48.000</td>\n",
       "      <td>NaN</td>\n",
       "      <td>[\"Paytm QR\"]</td>\n",
       "      <td>True</td>\n",
       "      <td>NaN</td>\n",
       "      <td>2025-05-08 12:38:02.000</td>\n",
       "      <td>2025-05-08 12:38:02.000</td>\n",
       "      <td>2025-05-08 12:36:13.000</td>\n",
       "      <td>NaN</td>\n",
       "      <td>NaN</td>\n",
       "      <td>NaN</td>\n",
       "      <td>NaN</td>\n",
       "      <td>NaN</td>\n",
       "      <td>{\"PANEL_SUCCESS\":1}</td>\n",
       "      <td>NaN</td>\n",
       "      <td>1421212705</td>\n",
       "      <td>General Trade QR_SB_EDC</td>\n",
       "      <td>cOFEEd39854350439714</td>\n",
       "      <td>2025-05-08 12:38:17.000</td>\n",
       "      <td>NaN</td>\n",
       "      <td>Retail and Shopping</td>\n",
       "      <td>Kirana</td>\n",
       "      <td>2025-05-08 12:36:13.000</td>\n",
       "    </tr>\n",
       "    <tr>\n",
       "      <th>2</th>\n",
       "      <td>1.942887e+09</td>\n",
       "      <td>f4e42f6c-2083-4602-9520-f3a45cd8763a</td>\n",
       "      <td>INDIVIDUAL</td>\n",
       "      <td>156</td>\n",
       "      <td>LEAD_SUCCESSFULLY_CLOSED</td>\n",
       "      <td>Merchant Live</td>\n",
       "      <td>2025-01-18 13:08:19.000</td>\n",
       "      <td>2025-05-07 12:01:07.000</td>\n",
       "      <td>NaN</td>\n",
       "      <td>NaN</td>\n",
       "      <td>True</td>\n",
       "      <td>NaN</td>\n",
       "      <td>2025-05-07 12:00:05.000</td>\n",
       "      <td>2025-05-07 12:00:05.000</td>\n",
       "      <td>2025-05-07 11:56:22.000</td>\n",
       "      <td>NaN</td>\n",
       "      <td>NaN</td>\n",
       "      <td>NaN</td>\n",
       "      <td>NaN</td>\n",
       "      <td>NaN</td>\n",
       "      <td>{\"PANEL_SUCCESS\":1}</td>\n",
       "      <td>NaN</td>\n",
       "      <td>1809440960</td>\n",
       "      <td>General Trade QR_SB_EDC</td>\n",
       "      <td>xQePrv25469891187743</td>\n",
       "      <td>2025-05-07 12:00:23.000</td>\n",
       "      <td>NaN</td>\n",
       "      <td>Retail and Shopping</td>\n",
       "      <td>Meat Shop</td>\n",
       "      <td>2025-05-07 11:56:22.000</td>\n",
       "    </tr>\n",
       "  </tbody>\n",
       "</table>\n",
       "</div>"
      ],
      "text/plain": [
       "   Merchant Cust ID                               Lead_ID Entity_Type  \\\n",
       "0      1.129348e+07  09301547-f722-4109-aeae-4aacd808b0a2  INDIVIDUAL   \n",
       "1      1.441923e+09  396e0e0b-75eb-4838-a00b-eb5e4fa96923  INDIVIDUAL   \n",
       "2      1.942887e+09  f4e42f6c-2083-4602-9520-f3a45cd8763a  INDIVIDUAL   \n",
       "\n",
       "   Node id                Lead_Stage    Lead Status        Created Timestamp  \\\n",
       "0      156  LEAD_SUCCESSFULLY_CLOSED  Merchant Live  2025-05-08 16:08:23.000   \n",
       "1      156  LEAD_SUCCESSFULLY_CLOSED  Merchant Live  2025-05-08 12:20:52.000   \n",
       "2      156  LEAD_SUCCESSFULLY_CLOSED  Merchant Live  2025-01-18 13:08:19.000   \n",
       "\n",
       "         Updated Timestamp Ageing Product_Context Name_Match_Status  \\\n",
       "0  2025-05-08 16:29:49.000    NaN             NaN              True   \n",
       "1  2025-05-08 12:38:48.000    NaN    [\"Paytm QR\"]              True   \n",
       "2  2025-05-07 12:01:07.000    NaN             NaN              True   \n",
       "\n",
       "  10K/1rs MID Status          Final TimeStamp QC Panel Successful TimeStamp  \\\n",
       "0                NaN  2025-05-08 16:29:04.000       2025-05-08 16:29:04.000   \n",
       "1                NaN  2025-05-08 12:38:02.000       2025-05-08 12:38:02.000   \n",
       "2                NaN  2025-05-07 12:00:05.000       2025-05-07 12:00:05.000   \n",
       "\n",
       "  Last QC Pending Timestamp  TAT Merchant QC TAT slab Working TimeSlab  \\\n",
       "0   2025-05-08 16:27:19.000  NaN                  NaN              NaN   \n",
       "1   2025-05-08 12:36:13.000  NaN                  NaN              NaN   \n",
       "2   2025-05-07 11:56:22.000  NaN                  NaN              NaN   \n",
       "\n",
       "  New Off Time New Last QC Pending Time Stage movement count Rejection Ageing  \\\n",
       "0          NaN                      NaN  {\"PANEL_SUCCESS\":1}              NaN   \n",
       "1          NaN                      NaN  {\"PANEL_SUCCESS\":1}              NaN   \n",
       "2          NaN                      NaN  {\"PANEL_SUCCESS\":1}              NaN   \n",
       "\n",
       "      cust_id               agent_team                   mid  \\\n",
       "0  1108896768  General Trade QR_SB_EDC  bsBWjk33412643658929   \n",
       "1  1421212705  General Trade QR_SB_EDC  cOFEEd39854350439714   \n",
       "2  1809440960  General Trade QR_SB_EDC  xQePrv25469891187743   \n",
       "\n",
       "          mid_created_date solution_type_level_3             category  \\\n",
       "0  2019-07-27 10:59:22.000                   NaN    Personal Services   \n",
       "1  2025-05-08 12:38:17.000                   NaN  Retail and Shopping   \n",
       "2  2025-05-07 12:00:23.000                   NaN  Retail and Shopping   \n",
       "\n",
       "  sub_category first_qc_pending_min_created  \n",
       "0   Cyber Cafe      2025-05-08 16:27:19.000  \n",
       "1       Kirana      2025-05-08 12:36:13.000  \n",
       "2    Meat Shop      2025-05-07 11:56:22.000  "
      ]
     },
     "execution_count": 109,
     "metadata": {},
     "output_type": "execute_result"
    }
   ],
   "source": [
    "data.head(3)\n"
   ]
  },
  {
   "cell_type": "code",
   "execution_count": 110,
   "metadata": {},
   "outputs": [],
   "source": [
    "data['Updated Timestamp']=pd.to_datetime(data['Updated Timestamp'])\n",
    "data['Created Timestamp']=pd.to_datetime(data['Created Timestamp'])\n",
    "data['QC Panel Successful TimeStamp']=pd.to_datetime(data['QC Panel Successful TimeStamp'])\n",
    "data['first_qc_pending_min_created']=pd.to_datetime(data['first_qc_pending_min_created'])\n"
   ]
  },
  {
   "cell_type": "code",
   "execution_count": 111,
   "metadata": {},
   "outputs": [],
   "source": [
    "#current_date = datetime.now() - timedelta(days=2)\n",
    "\n",
    "#current_timestamp = pd.Timestamp.now().normalize()-timedelta(days=1)\n",
    "\n",
    "\n",
    "#print(current_timestamp)\n",
    "\n",
    "#print(current_date)"
   ]
  },
  {
   "cell_type": "code",
   "execution_count": 112,
   "metadata": {},
   "outputs": [
    {
     "name": "stdout",
     "output_type": "stream",
     "text": [
      "2024-10-15 00:00:00\n",
      "<class 'datetime.datetime'>\n",
      "15\n",
      "10\n",
      "2024\n"
     ]
    }
   ],
   "source": [
    "user_date = '2024-10-15'  # Example: YYYY-MM-DD format\n",
    "\n",
    "# Convert the combined string into a datetime object\n",
    "custom_timestamp = datetime.strptime(user_date, '%Y-%m-%d')\n",
    "\n",
    "print(custom_timestamp)\n",
    "print(type(custom_timestamp))\n",
    "\n",
    "current_day = custom_timestamp.day\n",
    "current_month = custom_timestamp.month\n",
    "current_year = custom_timestamp.year\n",
    "\n",
    "print(current_day)\n",
    "print(current_month)\n",
    "print(current_year)\n"
   ]
  },
  {
   "cell_type": "code",
   "execution_count": 113,
   "metadata": {},
   "outputs": [
    {
     "name": "stdout",
     "output_type": "stream",
     "text": [
      "2025-05-07 18:11:26.618976\n"
     ]
    }
   ],
   "source": [
    "current_date = datetime.now() - timedelta(days=7)\n",
    "current_day = current_date.day\n",
    "current_month = current_date.month\n",
    "current_year = current_date.year\n",
    "print(current_date)\n",
    "\n",
    "data.loc[(data['Updated Timestamp'].dt.day>=current_day) &\n",
    "         (data['Updated Timestamp'].dt.month==current_month) &\n",
    "         (data['Updated Timestamp'].dt.year==current_year), 'Ageing']='Last 7 days'"
   ]
  },
  {
   "cell_type": "code",
   "execution_count": 114,
   "metadata": {},
   "outputs": [],
   "source": [
    "current_date = datetime.now() - timedelta(days=1)\n",
    "current_day = current_date.day\n",
    "current_month = current_date.month\n",
    "current_year = current_date.year\n",
    "current_date\n",
    "\n",
    "data.loc[(data['Updated Timestamp'].dt.day==current_day) &\n",
    "         (data['Updated Timestamp'].dt.month==current_month) &\n",
    "         (data['Updated Timestamp'].dt.year==current_year), 'Ageing']='Yesterday'"
   ]
  },
  {
   "cell_type": "code",
   "execution_count": 115,
   "metadata": {},
   "outputs": [],
   "source": [
    "data['Ageing']=data['Ageing'].fillna('')"
   ]
  },
  {
   "cell_type": "code",
   "execution_count": 116,
   "metadata": {},
   "outputs": [
    {
     "data": {
      "text/plain": [
       "Ageing\n",
       "Last 7 days    117396\n",
       "               115071\n",
       "Yesterday       21263\n",
       "Name: count, dtype: int64"
      ]
     },
     "execution_count": 116,
     "metadata": {},
     "output_type": "execute_result"
    }
   ],
   "source": [
    "data['Ageing'].value_counts()"
   ]
  },
  {
   "cell_type": "code",
   "execution_count": 117,
   "metadata": {},
   "outputs": [],
   "source": [
    "\n",
    "\n",
    "data.loc[data['Name_Match_Status']==True, ['Name_Match_Status', '10K/1rs MID Status']]=['Name Matched','10k MID created']\n",
    "\n",
    "data.loc[data['Name_Match_Status']==False, ['Name_Match_Status', '10K/1rs MID Status']]=['Name Not Matched','1Rs MID created']"
   ]
  },
  {
   "cell_type": "code",
   "execution_count": 118,
   "metadata": {},
   "outputs": [],
   "source": [
    "data['Name_Match_Status']=data['Name_Match_Status'].fillna('')"
   ]
  },
  {
   "cell_type": "code",
   "execution_count": 119,
   "metadata": {},
   "outputs": [
    {
     "data": {
      "text/plain": [
       "Name_Match_Status\n",
       "Name Matched        157011\n",
       "                     55469\n",
       "Name Not Matched     41250\n",
       "Name: count, dtype: int64"
      ]
     },
     "execution_count": 119,
     "metadata": {},
     "output_type": "execute_result"
    }
   ],
   "source": [
    "data['Name_Match_Status'].value_counts()"
   ]
  },
  {
   "cell_type": "code",
   "execution_count": 120,
   "metadata": {},
   "outputs": [
    {
     "data": {
      "text/plain": [
       "Product_Context\n",
       "[\"Paytm QR\"]     133864\n",
       "[\"EDC\"]           14253\n",
       "[\"TAP_N_PAY\"]       412\n",
       "[]                    2\n",
       "Name: count, dtype: int64"
      ]
     },
     "execution_count": 120,
     "metadata": {},
     "output_type": "execute_result"
    }
   ],
   "source": [
    "data['Product_Context'].value_counts()"
   ]
  },
  {
   "cell_type": "code",
   "execution_count": 121,
   "metadata": {},
   "outputs": [
    {
     "data": {
      "text/plain": [
       "Product_Context\n",
       "[\"Paytm QR\"]    133864\n",
       "EDC              14667\n",
       "Name: count, dtype: int64"
      ]
     },
     "execution_count": 121,
     "metadata": {},
     "output_type": "execute_result"
    }
   ],
   "source": [
    "data.loc[data['Product_Context'].isin(['[]','[\"EDC\"]','[\"TAP_N_PAY\"]']),'Product_Context']='EDC'\n",
    "data['Product_Context'].value_counts()"
   ]
  },
  {
   "cell_type": "code",
   "execution_count": 122,
   "metadata": {},
   "outputs": [
    {
     "data": {
      "text/plain": [
       "Product_Context\n",
       "NON_EDC    239063\n",
       "EDC         14667\n",
       "Name: count, dtype: int64"
      ]
     },
     "execution_count": 122,
     "metadata": {},
     "output_type": "execute_result"
    }
   ],
   "source": [
    "data.loc[~data['Product_Context'].isin(['EDC']),'Product_Context']='NON_EDC'\n",
    "data['Product_Context'].value_counts()"
   ]
  },
  {
   "cell_type": "code",
   "execution_count": 123,
   "metadata": {},
   "outputs": [],
   "source": [
    "data['mid_created_date']=pd.to_datetime(data['mid_created_date'],errors='coerce')"
   ]
  },
  {
   "cell_type": "code",
   "execution_count": 124,
   "metadata": {},
   "outputs": [
    {
     "data": {
      "text/plain": [
       "0   2019-07-27 10:59:22\n",
       "1   2025-05-08 12:38:17\n",
       "2   2025-05-07 12:00:23\n",
       "3   2025-05-05 12:11:05\n",
       "4   2025-05-07 13:43:36\n",
       "5   2025-05-07 12:41:41\n",
       "6   2025-05-03 11:17:21\n",
       "7   2022-10-31 10:14:48\n",
       "8   2025-05-02 15:58:23\n",
       "9   2025-05-06 11:15:43\n",
       "Name: mid_created_date, dtype: datetime64[ns]"
      ]
     },
     "execution_count": 124,
     "metadata": {},
     "output_type": "execute_result"
    }
   ],
   "source": [
    "data['mid_created_date'].head(10)"
   ]
  },
  {
   "cell_type": "code",
   "execution_count": 125,
   "metadata": {},
   "outputs": [
    {
     "data": {
      "text/plain": [
       "Index(['Merchant Cust ID', 'Lead_ID', 'Entity_Type', 'Node id', 'Lead_Stage',\n",
       "       'Lead Status', 'Created Timestamp', 'Updated Timestamp', 'Ageing',\n",
       "       'Product_Context', 'Name_Match_Status', '10K/1rs MID Status',\n",
       "       'Final TimeStamp', 'QC Panel Successful TimeStamp',\n",
       "       'Last QC Pending Timestamp', 'TAT', 'Merchant QC TAT slab',\n",
       "       'Working TimeSlab', 'New Off Time', 'New Last QC Pending Time',\n",
       "       'Stage movement count', 'Rejection Ageing', 'cust_id', 'agent_team',\n",
       "       'mid', 'mid_created_date', 'solution_type_level_3', 'category',\n",
       "       'sub_category', 'first_qc_pending_min_created'],\n",
       "      dtype='object')"
      ]
     },
     "execution_count": 125,
     "metadata": {},
     "output_type": "execute_result"
    }
   ],
   "source": [
    "data.columns"
   ]
  },
  {
   "cell_type": "code",
   "execution_count": 126,
   "metadata": {},
   "outputs": [
    {
     "name": "stdout",
     "output_type": "stream",
     "text": [
      "2025-05-07 18:11:27.134680\n"
     ]
    }
   ],
   "source": [
    "current_date = datetime.now() - timedelta(days=7)\n",
    "current_day = current_date.day\n",
    "current_month = current_date.month\n",
    "current_year = current_date.year\n",
    "print(current_date)\n",
    "\n",
    "data.loc[ (data['Lead Status']== 'Documents Rejected (Pending at Sales Team)') & ((data['Updated Timestamp'].dt.day<current_day) &\n",
    "         (data['Updated Timestamp'].dt.month==current_month) &\n",
    "         (data['Updated Timestamp'].dt.year==current_year)), 'Rejection Ageing']='More Than 7 Days'"
   ]
  },
  {
   "cell_type": "code",
   "execution_count": 127,
   "metadata": {},
   "outputs": [],
   "source": [
    "current_date = datetime.now() - timedelta(days=7)\n",
    "current_day = current_date.day\n",
    "current_month = current_date.month\n",
    "current_year = current_date.year\n",
    "current_date\n",
    "\n",
    "data.loc[ (data['Lead Status']== 'Documents Rejected (Pending at Sales Team)') & ((data['Updated Timestamp'].dt.day>=current_day) &\n",
    "         (data['Updated Timestamp'].dt.month==current_month) &\n",
    "         (data['Updated Timestamp'].dt.year==current_year)), 'Rejection Ageing']='6-7 Days'"
   ]
  },
  {
   "cell_type": "code",
   "execution_count": 128,
   "metadata": {},
   "outputs": [],
   "source": [
    "current_date = datetime.now() - timedelta(days=5)\n",
    "current_day = current_date.day\n",
    "current_month = current_date.month\n",
    "current_year = current_date.year\n",
    "current_date\n",
    "\n",
    "data.loc[ (data['Lead Status']== 'Documents Rejected (Pending at Sales Team)') & ((data['Updated Timestamp'].dt.day>=current_day) &\n",
    "         (data['Updated Timestamp'].dt.month==current_month) &\n",
    "         (data['Updated Timestamp'].dt.year==current_year)), 'Rejection Ageing']='4-5 Days'"
   ]
  },
  {
   "cell_type": "code",
   "execution_count": 129,
   "metadata": {},
   "outputs": [],
   "source": [
    "\n",
    "current_date = datetime.now() - timedelta(days=3)\n",
    "current_day = current_date.day\n",
    "current_month = current_date.month\n",
    "current_year = current_date.year\n",
    "current_date\n",
    "\n",
    "data.loc[ (data['Lead Status']== 'Documents Rejected (Pending at Sales Team)') & ((data['Updated Timestamp'].dt.day>=current_day) &\n",
    "         (data['Updated Timestamp'].dt.month==current_month) &\n",
    "         (data['Updated Timestamp'].dt.year==current_year)), 'Rejection Ageing']='2-3 Days'"
   ]
  },
  {
   "cell_type": "code",
   "execution_count": 130,
   "metadata": {},
   "outputs": [],
   "source": [
    "current_date = datetime.now() - timedelta(days=1)\n",
    "current_day = current_date.day\n",
    "current_month = current_date.month\n",
    "current_year = current_date.year\n",
    "current_date\n",
    "\n",
    "data.loc[ (data['Lead Status']== 'Documents Rejected (Pending at Sales Team)') & ((data['Updated Timestamp'].dt.day==current_day) &\n",
    "         (data['Updated Timestamp'].dt.month==current_month) &\n",
    "         (data['Updated Timestamp'].dt.year==current_year)), 'Rejection Ageing']='Less Than 1 Day'"
   ]
  },
  {
   "cell_type": "code",
   "execution_count": 131,
   "metadata": {},
   "outputs": [
    {
     "data": {
      "text/plain": [
       "Rejection Ageing\n",
       "More Than 7 Days    6609\n",
       "6-7 Days            2538\n",
       "4-5 Days            2408\n",
       "Less Than 1 Day     1455\n",
       "2-3 Days            1402\n",
       "Name: count, dtype: int64"
      ]
     },
     "execution_count": 131,
     "metadata": {},
     "output_type": "execute_result"
    }
   ],
   "source": [
    "data['Rejection Ageing'].value_counts()"
   ]
  },
  {
   "cell_type": "code",
   "execution_count": 132,
   "metadata": {},
   "outputs": [
    {
     "data": {
      "text/plain": [
       "Rejection Ageing\n",
       "More Than 7 Days    6609\n",
       "6-7 Days            2538\n",
       "4-5 Days            2408\n",
       "Less Than 1 Day     1455\n",
       "2-3 Days            1402\n",
       "Name: count, dtype: int64"
      ]
     },
     "execution_count": 132,
     "metadata": {},
     "output_type": "execute_result"
    }
   ],
   "source": [
    "data['Rejection Ageing'].value_counts()"
   ]
  },
  {
   "cell_type": "code",
   "execution_count": 133,
   "metadata": {},
   "outputs": [],
   "source": [
    "data.loc[~data['Entity_Type'].isin(['INDIVIDUAL','PROPRIETORSHIP']),'Entity_Type']='NON_PROPRIETORSHIP'"
   ]
  },
  {
   "cell_type": "code",
   "execution_count": 134,
   "metadata": {},
   "outputs": [
    {
     "data": {
      "text/plain": [
       "Entity_Type\n",
       "INDIVIDUAL            233090\n",
       "PROPRIETORSHIP         19162\n",
       "NON_PROPRIETORSHIP      1478\n",
       "Name: count, dtype: int64"
      ]
     },
     "execution_count": 134,
     "metadata": {},
     "output_type": "execute_result"
    }
   ],
   "source": [
    "data['Entity_Type'].value_counts()"
   ]
  },
  {
   "cell_type": "code",
   "execution_count": 135,
   "metadata": {},
   "outputs": [
    {
     "data": {
      "text/plain": [
       "Index(['Merchant Cust ID', 'Lead_ID', 'Entity_Type', 'Node id', 'Lead_Stage',\n",
       "       'Lead Status', 'Created Timestamp', 'Updated Timestamp', 'Ageing',\n",
       "       'Product_Context', 'Name_Match_Status', '10K/1rs MID Status',\n",
       "       'Final TimeStamp', 'QC Panel Successful TimeStamp',\n",
       "       'Last QC Pending Timestamp', 'TAT', 'Merchant QC TAT slab',\n",
       "       'Working TimeSlab', 'New Off Time', 'New Last QC Pending Time',\n",
       "       'Stage movement count', 'Rejection Ageing', 'cust_id', 'agent_team',\n",
       "       'mid', 'mid_created_date', 'solution_type_level_3', 'category',\n",
       "       'sub_category', 'first_qc_pending_min_created'],\n",
       "      dtype='object')"
      ]
     },
     "execution_count": 135,
     "metadata": {},
     "output_type": "execute_result"
    }
   ],
   "source": [
    "data.columns"
   ]
  },
  {
   "cell_type": "code",
   "execution_count": 136,
   "metadata": {},
   "outputs": [
    {
     "data": {
      "text/plain": [
       "Lead Status\n",
       "Merchant Live                                                       152378\n",
       "Lead Created/Posted (Pending at Sales team for  Document Upload)     85575\n",
       "Documents Rejected (Pending at Sales Team)                           14412\n",
       "Lead stuck in Intermediate Stages (Dedupe/Risk/PG rejections)         1354\n",
       "Leads QC Auto Approved                                                   7\n",
       "Leads Rejected in Risk Review                                            4\n",
       "Name: count, dtype: int64"
      ]
     },
     "execution_count": 136,
     "metadata": {},
     "output_type": "execute_result"
    }
   ],
   "source": [
    "data['Lead Status'].value_counts()"
   ]
  },
  {
   "cell_type": "code",
   "execution_count": 137,
   "metadata": {},
   "outputs": [
    {
     "name": "stdout",
     "output_type": "stream",
     "text": [
      "2\n"
     ]
    }
   ],
   "source": [
    "null_rejected_timeStamp=data[(data['Lead Status']=='Documents Rejected (Pending at Sales Team)')&(data['Last QC Pending Timestamp'].isnull())]\n",
    "\n",
    "\n",
    "null_rejected_timeStamp=null_rejected_timeStamp[['Lead_ID']]\n",
    "\n",
    "print(len(null_rejected_timeStamp))\n",
    "\n",
    "null_rejected_timeStamp['id']=\"'\" + null_rejected_timeStamp['Lead_ID'] + \"'\" + \",\"\n",
    "\n",
    "null_rejected_timeStamp.head(3)\n",
    "\n",
    "null_rejected_timeStamp.to_csv(\"rejected_null.csv\", index=False)\n"
   ]
  },
  {
   "cell_type": "code",
   "execution_count": 138,
   "metadata": {},
   "outputs": [],
   "source": [
    "#dghdsg"
   ]
  },
  {
   "cell_type": "code",
   "execution_count": 139,
   "metadata": {},
   "outputs": [
    {
     "name": "stdout",
     "output_type": "stream",
     "text": [
      "253730\n"
     ]
    }
   ],
   "source": [
    "# raise Exception(\"Stop execution here\")\n",
    "\n",
    "print(len(data))"
   ]
  },
  {
   "cell_type": "code",
   "execution_count": 140,
   "metadata": {},
   "outputs": [
    {
     "name": "stdout",
     "output_type": "stream",
     "text": [
      "Index(['lead_id', 'q'], dtype='object')\n"
     ]
    }
   ],
   "source": [
    "rejected_null_value=pd.read_csv('rejected_null_value.csv')\n",
    "\n",
    "rejected_null_value['q']=pd.to_datetime(rejected_null_value['q'],format='%d-%m-%Y %H:%M:%S')\n",
    "\n",
    "print(rejected_null_value.columns)"
   ]
  },
  {
   "cell_type": "code",
   "execution_count": 141,
   "metadata": {},
   "outputs": [
    {
     "name": "stdout",
     "output_type": "stream",
     "text": [
      "                                lead_id                   q\n",
      "0  5d40175a-32d3-499d-af9e-9c3b16af3f42 2025-04-24 12:56:24\n",
      "1  d6143059-caa9-4353-93ff-cde985e787a5 2025-02-17 16:56:22\n",
      "253730\n"
     ]
    }
   ],
   "source": [
    "print(rejected_null_value.head(3))\n",
    "print(len(data))"
   ]
  },
  {
   "cell_type": "code",
   "execution_count": 142,
   "metadata": {},
   "outputs": [],
   "source": [
    "\n",
    "# Aggregate the right DataFrame by taking the first occurrence per lead_id\n",
    "#rejected_agg = rejected_null_value.groupby('lead_id').first().reset_index()\n",
    "\n",
    "# Merge the DataFrames on the single column\n",
    "#data = data.merge(rejected_agg[['lead_id', 'Status']], left_on='Lead_ID', right_on='lead_id', how='left')\n",
    "\n",
    "# Fill in values based on conditions\n",
    "#data.loc[(data['Lead Status'] == 'Documents Rejected (Pending at Sales Team)') & (data['Last QC Pending Timestamp'].isnull()), 'Last QC Pending Timestamp'] = data['q']\n"
   ]
  },
  {
   "cell_type": "code",
   "execution_count": 143,
   "metadata": {},
   "outputs": [
    {
     "name": "stdout",
     "output_type": "stream",
     "text": [
      "Index(['Merchant Cust ID', 'Lead_ID', 'Entity_Type', 'Node id', 'Lead_Stage',\n",
      "       'Lead Status', 'Created Timestamp', 'Updated Timestamp', 'Ageing',\n",
      "       'Product_Context', 'Name_Match_Status', '10K/1rs MID Status',\n",
      "       'Final TimeStamp', 'QC Panel Successful TimeStamp',\n",
      "       'Last QC Pending Timestamp', 'TAT', 'Merchant QC TAT slab',\n",
      "       'Working TimeSlab', 'New Off Time', 'New Last QC Pending Time',\n",
      "       'Stage movement count', 'Rejection Ageing', 'cust_id', 'agent_team',\n",
      "       'mid', 'mid_created_date', 'solution_type_level_3', 'category',\n",
      "       'sub_category', 'first_qc_pending_min_created'],\n",
      "      dtype='object')\n",
      "0\n",
      "253730\n"
     ]
    }
   ],
   "source": [
    "data=data.merge(rejected_null_value,left_on='Lead_ID',right_on='lead_id',how='left')\n",
    "\n",
    "data.loc[(data['Lead Status']=='Documents Rejected (Pending at Sales Team)') & (data['Last QC Pending Timestamp'].isnull()) ,'Last QC Pending Timestamp']=data['q']\n",
    "\n",
    "data=data.drop(columns=['lead_id','q'])\n",
    "\n",
    "print(data.columns)\n",
    "print(len(data[(data['Lead Status']=='Documents Rejected (Pending at Sales Team)')&(data['Last QC Pending Timestamp'].isnull())]))\n",
    "print(len(data))"
   ]
  },
  {
   "cell_type": "code",
   "execution_count": 144,
   "metadata": {},
   "outputs": [],
   "source": [
    "data['Final TimeStamp']=pd.to_datetime(data['Final TimeStamp'])\n",
    "data['Last QC Pending Timestamp']=pd.to_datetime(data['Last QC Pending Timestamp'])"
   ]
  },
  {
   "cell_type": "code",
   "execution_count": 145,
   "metadata": {},
   "outputs": [
    {
     "name": "stdout",
     "output_type": "stream",
     "text": [
      "<class 'pandas._libs.tslibs.timestamps.Timestamp'>\n",
      "253730\n"
     ]
    }
   ],
   "source": [
    "# type(data['Final TimeStamp'][0])\n",
    "\n",
    "print(type(data['Last QC Pending Timestamp'][0]))\n",
    "print(len(data))"
   ]
  },
  {
   "cell_type": "code",
   "execution_count": 146,
   "metadata": {},
   "outputs": [
    {
     "data": {
      "text/plain": [
       "Index(['Merchant Cust ID', 'Lead_ID', 'Entity_Type', 'Node id', 'Lead_Stage',\n",
       "       'Lead Status', 'Created Timestamp', 'Updated Timestamp', 'Ageing',\n",
       "       'Product_Context', 'Name_Match_Status', '10K/1rs MID Status',\n",
       "       'Final TimeStamp', 'QC Panel Successful TimeStamp',\n",
       "       'Last QC Pending Timestamp', 'TAT', 'Merchant QC TAT slab',\n",
       "       'Working TimeSlab', 'New Off Time', 'New Last QC Pending Time',\n",
       "       'Stage movement count', 'Rejection Ageing', 'cust_id', 'agent_team',\n",
       "       'mid', 'mid_created_date', 'solution_type_level_3', 'category',\n",
       "       'sub_category', 'first_qc_pending_min_created'],\n",
       "      dtype='object')"
      ]
     },
     "execution_count": 146,
     "metadata": {},
     "output_type": "execute_result"
    }
   ],
   "source": [
    "data.columns"
   ]
  },
  {
   "cell_type": "code",
   "execution_count": 147,
   "metadata": {},
   "outputs": [
    {
     "data": {
      "text/plain": [
       "0   2025-05-08 16:27:19\n",
       "1   2025-05-08 12:36:13\n",
       "2   2025-05-07 11:56:22\n",
       "3   2025-05-05 12:08:41\n",
       "4   2025-05-07 13:41:47\n",
       "5   2025-05-07 12:36:46\n",
       "6   2025-05-03 11:07:24\n",
       "7   2025-05-05 18:41:05\n",
       "8                   NaT\n",
       "9   2025-05-06 11:11:02\n",
       "Name: Last QC Pending Timestamp, dtype: datetime64[ns]"
      ]
     },
     "execution_count": 147,
     "metadata": {},
     "output_type": "execute_result"
    }
   ],
   "source": [
    "data['Last QC Pending Timestamp'].head(10)"
   ]
  },
  {
   "cell_type": "code",
   "execution_count": 148,
   "metadata": {},
   "outputs": [
    {
     "data": {
      "text/plain": [
       "0     Intime\n",
       "1     Intime\n",
       "2     Intime\n",
       "3     Intime\n",
       "4     Intime\n",
       "5     Intime\n",
       "6     Intime\n",
       "7     Intime\n",
       "8    Offtime\n",
       "9     Intime\n",
       "Name: Working TimeSlab, dtype: object"
      ]
     },
     "execution_count": 148,
     "metadata": {},
     "output_type": "execute_result"
    }
   ],
   "source": [
    "\n",
    "\n",
    "data['Last QC Pending Timestamp']=pd.to_datetime(data['Last QC Pending Timestamp'], errors='coerce')\n",
    "\n",
    "# Define the start and end times\n",
    "start_time = time(8, 30, 0)\n",
    "end_time = time(21, 30, 0)\n",
    "\n",
    "\n",
    "\n",
    "# Apply the condition to classify as 'Intime' or 'Offtime' based on the time component of 'N'\n",
    "data['Working TimeSlab'] = data['Last QC Pending Timestamp'].apply(lambda x: 'Offtime' if pd.isna(x) else ('Intime' if start_time <= x.time() <= end_time else 'Offtime'))\n",
    "\n",
    "\n",
    "data['Working TimeSlab'].head(10)"
   ]
  },
  {
   "cell_type": "code",
   "execution_count": 149,
   "metadata": {},
   "outputs": [
    {
     "data": {
      "text/plain": [
       "Working TimeSlab\n",
       "Intime     165792\n",
       "Offtime     87938\n",
       "Name: count, dtype: int64"
      ]
     },
     "execution_count": 149,
     "metadata": {},
     "output_type": "execute_result"
    }
   ],
   "source": [
    "data['Working TimeSlab'].value_counts()"
   ]
  },
  {
   "cell_type": "code",
   "execution_count": 150,
   "metadata": {},
   "outputs": [
    {
     "data": {
      "text/plain": [
       "Index(['Merchant Cust ID', 'Lead_ID', 'Entity_Type', 'Node id', 'Lead_Stage',\n",
       "       'Lead Status', 'Created Timestamp', 'Updated Timestamp', 'Ageing',\n",
       "       'Product_Context', 'Name_Match_Status', '10K/1rs MID Status',\n",
       "       'Final TimeStamp', 'QC Panel Successful TimeStamp',\n",
       "       'Last QC Pending Timestamp', 'TAT', 'Merchant QC TAT slab',\n",
       "       'Working TimeSlab', 'New Off Time', 'New Last QC Pending Time',\n",
       "       'Stage movement count', 'Rejection Ageing', 'cust_id', 'agent_team',\n",
       "       'mid', 'mid_created_date', 'solution_type_level_3', 'category',\n",
       "       'sub_category', 'first_qc_pending_min_created'],\n",
       "      dtype='object')"
      ]
     },
     "execution_count": 150,
     "metadata": {},
     "output_type": "execute_result"
    }
   ],
   "source": [
    "data.columns"
   ]
  },
  {
   "cell_type": "code",
   "execution_count": 151,
   "metadata": {},
   "outputs": [],
   "source": [
    "out_time_start = pd.to_datetime(\"21:30\").time()\n",
    "out_time_end = pd.to_datetime(\"23:59:59\").time()\n",
    "morning_time_end = pd.to_datetime(\"08:30\").time()\n",
    "\n",
    "data['Last QC Pending Timestamp'] = pd.to_datetime(data['Last QC Pending Timestamp'], errors='coerce')\n",
    "\n",
    "\n",
    "# Apply conditions to create column R\n",
    "def process_timestamp(row):\n",
    "    timestamp = row['Last QC Pending Timestamp']\n",
    "    \n",
    "    # Check if timestamp is NaT\n",
    "    if pd.isna(timestamp):\n",
    "        return np.nan\n",
    "    \n",
    "    time = timestamp.time()\n",
    "    \n",
    "    if row['Working TimeSlab'] == 'Offtime':\n",
    "        if out_time_start <= time <= out_time_end:\n",
    "            # Condition 1: Increment date by 1\n",
    "            return timestamp + pd.DateOffset(days=1)\n",
    "        elif time < morning_time_end:\n",
    "            # Condition 2: Return the same timestamp\n",
    "            return timestamp\n",
    "    # Condition 3: Return blank for 'intime'\n",
    "    return np.nan\n",
    "\n",
    "\n",
    "data['New Off Time'] = data.apply(process_timestamp, axis=1)"
   ]
  },
  {
   "cell_type": "code",
   "execution_count": 152,
   "metadata": {},
   "outputs": [],
   "source": [
    "# Function to create S column based on R\n",
    "def generate_s(row):\n",
    "    if pd.notna(row['New Off Time']):  # If R is not NaT or blank\n",
    "        # Set time to 08:30 on the same date as R\n",
    "        return row['New Off Time'].replace(hour=8, minute=30, second=0)\n",
    "    else:\n",
    "        # If R is NaT or blank, copy the value from Q\n",
    "        return row['Last QC Pending Timestamp']\n",
    "    \n",
    "\n",
    "data['New Last QC Pending Time'] = data.apply(generate_s, axis=1)"
   ]
  },
  {
   "cell_type": "code",
   "execution_count": 153,
   "metadata": {},
   "outputs": [
    {
     "data": {
      "text/plain": [
       "Index(['Merchant Cust ID', 'Lead_ID', 'Entity_Type', 'Node id', 'Lead_Stage',\n",
       "       'Lead Status', 'Created Timestamp', 'Updated Timestamp', 'Ageing',\n",
       "       'Product_Context', 'Name_Match_Status', '10K/1rs MID Status',\n",
       "       'Final TimeStamp', 'QC Panel Successful TimeStamp',\n",
       "       'Last QC Pending Timestamp', 'TAT', 'Merchant QC TAT slab',\n",
       "       'Working TimeSlab', 'New Off Time', 'New Last QC Pending Time',\n",
       "       'Stage movement count', 'Rejection Ageing', 'cust_id', 'agent_team',\n",
       "       'mid', 'mid_created_date', 'solution_type_level_3', 'category',\n",
       "       'sub_category', 'first_qc_pending_min_created'],\n",
       "      dtype='object')"
      ]
     },
     "execution_count": 153,
     "metadata": {},
     "output_type": "execute_result"
    }
   ],
   "source": [
    "data.columns"
   ]
  },
  {
   "cell_type": "code",
   "execution_count": 154,
   "metadata": {},
   "outputs": [],
   "source": [
    "# Calculate the difference between L and S and format it as HH:mm:ss\n",
    "def calculate_difference(row):\n",
    "    if isinstance(row['New Last QC Pending Time'], pd.Timestamp) and isinstance(row['Final TimeStamp'], pd.Timestamp):\n",
    "        diff = row['Final TimeStamp'] - row['New Last QC Pending Time']\n",
    "        return diff  # Extract HH:mm:ss from Timedelta\n",
    "    return np.nan  # Return NaN if either L or S is not a timestamp\n",
    "\n",
    "# Apply function to create Difference column\n",
    "data['TAT'] = data.apply(calculate_difference, axis=1)"
   ]
  },
  {
   "cell_type": "code",
   "execution_count": 155,
   "metadata": {},
   "outputs": [
    {
     "data": {
      "text/plain": [
       "0   0 days 00:01:45\n",
       "1   0 days 00:01:49\n",
       "2   0 days 00:03:43\n",
       "3   0 days 00:01:57\n",
       "4   0 days 00:01:25\n",
       "5   0 days 00:04:35\n",
       "6   0 days 00:09:42\n",
       "7   0 days 02:05:11\n",
       "8               NaT\n",
       "9   0 days 00:04:13\n",
       "Name: TAT, dtype: timedelta64[ns]"
      ]
     },
     "execution_count": 155,
     "metadata": {},
     "output_type": "execute_result"
    }
   ],
   "source": [
    "data['TAT'].head(10)"
   ]
  },
  {
   "cell_type": "code",
   "execution_count": 156,
   "metadata": {},
   "outputs": [],
   "source": [
    "# Update TAT where it is negative to be the difference between L and N\n",
    "def adjust_negative_tat(row):\n",
    "    if pd.notna(row['TAT']) and row['TAT'] < pd.Timedelta(0):  # Check if TAT is negative\n",
    "        if isinstance(row['Final TimeStamp'], pd.Timestamp) and isinstance(row['Last QC Pending Timestamp'], pd.Timestamp):\n",
    "            return row['Final TimeStamp'] - row['Last QC Pending Timestamp']  # Calculate L - N if TAT is negative\n",
    "    return row['TAT']  # Keep original TAT if not negative\n",
    "\n",
    "# Apply function to adjust negative TAT values\n",
    "data['TAT'] = data.apply(adjust_negative_tat, axis=1)"
   ]
  },
  {
   "cell_type": "code",
   "execution_count": 157,
   "metadata": {},
   "outputs": [
    {
     "name": "stdout",
     "output_type": "stream",
     "text": [
      "      Final TimeStamp Last QC Pending Timestamp             TAT\n",
      "0 2025-05-08 16:29:04       2025-05-08 16:27:19 0 days 00:01:45\n",
      "1 2025-05-08 12:38:02       2025-05-08 12:36:13 0 days 00:01:49\n",
      "2 2025-05-07 12:00:05       2025-05-07 11:56:22 0 days 00:03:43\n",
      "3 2025-05-05 12:10:38       2025-05-05 12:08:41 0 days 00:01:57\n",
      "4 2025-05-07 13:43:12       2025-05-07 13:41:47 0 days 00:01:25\n",
      "5 2025-05-07 12:41:21       2025-05-07 12:36:46 0 days 00:04:35\n",
      "6 2025-05-03 11:17:06       2025-05-03 11:07:24 0 days 00:09:42\n",
      "7 2025-05-05 20:46:16       2025-05-05 18:41:05 0 days 02:05:11\n",
      "8 2025-05-02 15:59:34                       NaT             NaT\n",
      "9 2025-05-06 11:15:15       2025-05-06 11:11:02 0 days 00:04:13\n",
      "253730\n"
     ]
    }
   ],
   "source": [
    "print(data[['Final TimeStamp','Last QC Pending Timestamp','TAT']].head(10))\n",
    "print(len(data))"
   ]
  },
  {
   "cell_type": "code",
   "execution_count": 158,
   "metadata": {},
   "outputs": [
    {
     "data": {
      "text/plain": [
       "0"
      ]
     },
     "execution_count": 158,
     "metadata": {},
     "output_type": "execute_result"
    }
   ],
   "source": [
    "len(data[((data['Lead Status']=='Merchant Live') | (data['Lead Status']=='Documents Rejected (Pending at Sales Team)'))&(data['TAT'].isnull())])"
   ]
  },
  {
   "cell_type": "code",
   "execution_count": 159,
   "metadata": {},
   "outputs": [],
   "source": [
    "def categorize_time(td):\n",
    "    total_minutes = td.total_seconds() / 60  # Convert timedelta to total minutes\n",
    "    if total_minutes < 2:\n",
    "        return 'Leads QCed in less than 02 min'\n",
    "    elif 2 <= total_minutes < 5:\n",
    "        return 'Leads QCed in between 02 - 05 min'\n",
    "    elif 5 <= total_minutes < 10:\n",
    "        return 'Leads QCed in between 05 - 10 min'\n",
    "    elif 10 <= total_minutes < 15:\n",
    "        return 'Leads QCed in between 10 - 15 min'\n",
    "    elif 15 <= total_minutes < 30:\n",
    "        return 'Leads QCed in between 15 - 30 min'\n",
    "    elif 30 <= total_minutes < 60:\n",
    "        return 'Leads QCed in between 30 min - 01 hr'\n",
    "    else:\n",
    "        return 'leads QCed in more than 01 hr'\n",
    "\n",
    "\n",
    "\n",
    "data.loc[(data['Lead Status']=='Merchant Live') | (data['Lead Status']=='Documents Rejected (Pending at Sales Team)'),'Merchant QC TAT slab']=data['TAT'].apply(categorize_time)\n",
    "\n"
   ]
  },
  {
   "cell_type": "code",
   "execution_count": 160,
   "metadata": {},
   "outputs": [
    {
     "data": {
      "text/plain": [
       "Merchant QC TAT slab\n",
       "Leads QCed in between 02 - 05 min       67762\n",
       "Leads QCed in less than 02 min          58843\n",
       "Leads QCed in between 05 - 10 min       22330\n",
       "Leads QCed in between 15 - 30 min        9393\n",
       "Leads QCed in between 10 - 15 min        7431\n",
       "Leads QCed in between 30 min - 01 hr      635\n",
       "leads QCed in more than 01 hr             396\n",
       "Name: count, dtype: int64"
      ]
     },
     "execution_count": 160,
     "metadata": {},
     "output_type": "execute_result"
    }
   ],
   "source": [
    "data['Merchant QC TAT slab'].value_counts()"
   ]
  },
  {
   "cell_type": "code",
   "execution_count": 161,
   "metadata": {},
   "outputs": [
    {
     "data": {
      "text/plain": [
       "253730"
      ]
     },
     "execution_count": 161,
     "metadata": {},
     "output_type": "execute_result"
    }
   ],
   "source": [
    "len(data)"
   ]
  },
  {
   "cell_type": "code",
   "execution_count": 162,
   "metadata": {},
   "outputs": [
    {
     "data": {
      "text/plain": [
       "338"
      ]
     },
     "execution_count": 162,
     "metadata": {},
     "output_type": "execute_result"
    }
   ],
   "source": [
    "len(data[data['solution_type_level_3']=='3P FSE'])"
   ]
  },
  {
   "cell_type": "code",
   "execution_count": 163,
   "metadata": {},
   "outputs": [
    {
     "data": {
      "text/plain": [
       "solution_type_level_3\n",
       "KYC_UPDATE         9287\n",
       "ACCOUNT_UPGRADE    4786\n",
       "3P FSE              338\n",
       "DIY                   5\n",
       "Name: count, dtype: int64"
      ]
     },
     "execution_count": 163,
     "metadata": {},
     "output_type": "execute_result"
    }
   ],
   "source": [
    "data['solution_type_level_3'].value_counts()"
   ]
  },
  {
   "cell_type": "code",
   "execution_count": 164,
   "metadata": {},
   "outputs": [
    {
     "data": {
      "text/plain": [
       "239063"
      ]
     },
     "execution_count": 164,
     "metadata": {},
     "output_type": "execute_result"
    }
   ],
   "source": [
    "data = data[~(data['Product_Context'] == 'EDC')]\n",
    "len(data)"
   ]
  },
  {
   "cell_type": "code",
   "execution_count": 165,
   "metadata": {},
   "outputs": [
    {
     "data": {
      "text/plain": [
       "Product_Context\n",
       "NON_EDC    239063\n",
       "Name: count, dtype: int64"
      ]
     },
     "execution_count": 165,
     "metadata": {},
     "output_type": "execute_result"
    }
   ],
   "source": [
    "data['Product_Context'].value_counts()"
   ]
  },
  {
   "cell_type": "code",
   "execution_count": 166,
   "metadata": {},
   "outputs": [
    {
     "data": {
      "text/plain": [
       "Index(['Merchant Cust ID', 'Lead_ID', 'Entity_Type', 'Node id', 'Lead_Stage',\n",
       "       'Lead Status', 'Created Timestamp', 'Updated Timestamp', 'Ageing',\n",
       "       'Product_Context', 'Name_Match_Status', '10K/1rs MID Status',\n",
       "       'Final TimeStamp', 'QC Panel Successful TimeStamp',\n",
       "       'Last QC Pending Timestamp', 'TAT', 'Merchant QC TAT slab',\n",
       "       'Working TimeSlab', 'New Off Time', 'New Last QC Pending Time',\n",
       "       'Stage movement count', 'Rejection Ageing', 'cust_id', 'agent_team',\n",
       "       'mid', 'mid_created_date', 'solution_type_level_3', 'category',\n",
       "       'sub_category', 'first_qc_pending_min_created'],\n",
       "      dtype='object')"
      ]
     },
     "execution_count": 166,
     "metadata": {},
     "output_type": "execute_result"
    }
   ],
   "source": [
    "#data['solution_type_level_3'].value_counts()\n",
    "data.columns"
   ]
  },
  {
   "cell_type": "code",
   "execution_count": 167,
   "metadata": {},
   "outputs": [],
   "source": [
    "# Convert date columns to datetime\n",
    "data['first_qc_pending_min_created'] = pd.to_datetime(data['first_qc_pending_min_created'], errors='coerce')\n"
   ]
  },
  {
   "cell_type": "code",
   "execution_count": 168,
   "metadata": {},
   "outputs": [],
   "source": [
    "# Calculate the time difference (TAT) and handle NaT cases\n",
    "data['end_to_end_tat'] = data['Final TimeStamp'] - data['first_qc_pending_min_created']\n",
    "data['end_to_end_tat'] = data['TAT'].apply(lambda x: '' if pd.isna(x) else str(x))"
   ]
  },
  {
   "cell_type": "code",
   "execution_count": 169,
   "metadata": {},
   "outputs": [],
   "source": [
    "\n",
    "# Categorize the time difference\n",
    "def categorize_time(tat):\n",
    "    if tat == '':\n",
    "        return ''  # Return blank for missing TAT\n",
    "    # Convert string timedelta back to timedelta object\n",
    "    td = pd.to_timedelta(tat)\n",
    "    total_minutes = td.total_seconds() / 60  # Convert timedelta to minutes\n",
    "    if total_minutes < 2:\n",
    "        return 'Leads QCed in less than 02 min'\n",
    "    elif 2 <= total_minutes < 5:\n",
    "        return 'Leads QCed in between 02 - 05 min'\n",
    "    elif 5 <= total_minutes < 10:\n",
    "        return 'Leads QCed in between 05 - 10 min'\n",
    "    elif 10 <= total_minutes < 15:\n",
    "        return 'Leads QCed in between 10 - 15 min'\n",
    "    elif 15 <= total_minutes < 30:\n",
    "        return 'Leads QCed in between 15 - 30 min'\n",
    "    elif 30 <= total_minutes < 60:\n",
    "        return 'Leads QCed in between 30 min - 01 hr'\n",
    "    else:\n",
    "        return 'Leads QCed in more than 01 hr'\n",
    "\n",
    "# Apply the function to the DataFrame based on the conditions\n",
    "conditions = data['Lead Status'].isin(['Merchant Live', 'Documents Rejected (Pending at Sales Team)'])\n",
    "data.loc[conditions, 'End to End TAT slab'] = data.loc[conditions, 'end_to_end_tat'].apply(categorize_time)"
   ]
  },
  {
   "cell_type": "code",
   "execution_count": 170,
   "metadata": {},
   "outputs": [
    {
     "data": {
      "text/plain": [
       "End to End TAT slab\n",
       "Leads QCed in between 02 - 05 min       67077\n",
       "Leads QCed in less than 02 min          58823\n",
       "Leads QCed in between 05 - 10 min       20401\n",
       "Leads QCed in between 15 - 30 min        5393\n",
       "Leads QCed in between 10 - 15 min        4746\n",
       "Leads QCed in between 30 min - 01 hr      400\n",
       "Leads QCed in more than 01 hr             177\n",
       "Name: count, dtype: int64"
      ]
     },
     "execution_count": 170,
     "metadata": {},
     "output_type": "execute_result"
    }
   ],
   "source": [
    "data['End to End TAT slab'].value_counts()"
   ]
  },
  {
   "cell_type": "code",
   "execution_count": 171,
   "metadata": {},
   "outputs": [
    {
     "data": {
      "text/html": [
       "<div>\n",
       "<style scoped>\n",
       "    .dataframe tbody tr th:only-of-type {\n",
       "        vertical-align: middle;\n",
       "    }\n",
       "\n",
       "    .dataframe tbody tr th {\n",
       "        vertical-align: top;\n",
       "    }\n",
       "\n",
       "    .dataframe thead th {\n",
       "        text-align: right;\n",
       "    }\n",
       "</style>\n",
       "<table border=\"1\" class=\"dataframe\">\n",
       "  <thead>\n",
       "    <tr style=\"text-align: right;\">\n",
       "      <th></th>\n",
       "      <th>Merchant Cust ID</th>\n",
       "      <th>Lead_ID</th>\n",
       "      <th>Entity_Type</th>\n",
       "      <th>Node id</th>\n",
       "      <th>Lead_Stage</th>\n",
       "      <th>Lead Status</th>\n",
       "      <th>Created Timestamp</th>\n",
       "      <th>Updated Timestamp</th>\n",
       "      <th>Ageing</th>\n",
       "      <th>Product_Context</th>\n",
       "      <th>Name_Match_Status</th>\n",
       "      <th>10K/1rs MID Status</th>\n",
       "      <th>Final TimeStamp</th>\n",
       "      <th>QC Panel Successful TimeStamp</th>\n",
       "      <th>Last QC Pending Timestamp</th>\n",
       "      <th>TAT</th>\n",
       "      <th>Merchant QC TAT slab</th>\n",
       "      <th>Working TimeSlab</th>\n",
       "      <th>New Off Time</th>\n",
       "      <th>New Last QC Pending Time</th>\n",
       "      <th>Stage movement count</th>\n",
       "      <th>Rejection Ageing</th>\n",
       "      <th>cust_id</th>\n",
       "      <th>agent_team</th>\n",
       "      <th>mid</th>\n",
       "      <th>mid_created_date</th>\n",
       "      <th>solution_type_level_3</th>\n",
       "      <th>category</th>\n",
       "      <th>sub_category</th>\n",
       "      <th>first_qc_pending_min_created</th>\n",
       "      <th>end_to_end_tat</th>\n",
       "      <th>End to End TAT slab</th>\n",
       "    </tr>\n",
       "  </thead>\n",
       "  <tbody>\n",
       "    <tr>\n",
       "      <th>0</th>\n",
       "      <td>1.129348e+07</td>\n",
       "      <td>09301547-f722-4109-aeae-4aacd808b0a2</td>\n",
       "      <td>INDIVIDUAL</td>\n",
       "      <td>156</td>\n",
       "      <td>LEAD_SUCCESSFULLY_CLOSED</td>\n",
       "      <td>Merchant Live</td>\n",
       "      <td>2025-05-08 16:08:23</td>\n",
       "      <td>2025-05-08 16:29:49</td>\n",
       "      <td>Last 7 days</td>\n",
       "      <td>NON_EDC</td>\n",
       "      <td>Name Matched</td>\n",
       "      <td>10k MID created</td>\n",
       "      <td>2025-05-08 16:29:04</td>\n",
       "      <td>2025-05-08 16:29:04</td>\n",
       "      <td>2025-05-08 16:27:19</td>\n",
       "      <td>0 days 00:01:45</td>\n",
       "      <td>Leads QCed in less than 02 min</td>\n",
       "      <td>Intime</td>\n",
       "      <td>NaT</td>\n",
       "      <td>2025-05-08 16:27:19</td>\n",
       "      <td>{\"PANEL_SUCCESS\":1}</td>\n",
       "      <td>NaN</td>\n",
       "      <td>1108896768</td>\n",
       "      <td>General Trade QR_SB_EDC</td>\n",
       "      <td>bsBWjk33412643658929</td>\n",
       "      <td>2019-07-27 10:59:22</td>\n",
       "      <td>NaN</td>\n",
       "      <td>Personal Services</td>\n",
       "      <td>Cyber Cafe</td>\n",
       "      <td>2025-05-08 16:27:19</td>\n",
       "      <td>0 days 00:01:45</td>\n",
       "      <td>Leads QCed in less than 02 min</td>\n",
       "    </tr>\n",
       "    <tr>\n",
       "      <th>1</th>\n",
       "      <td>1.441923e+09</td>\n",
       "      <td>396e0e0b-75eb-4838-a00b-eb5e4fa96923</td>\n",
       "      <td>INDIVIDUAL</td>\n",
       "      <td>156</td>\n",
       "      <td>LEAD_SUCCESSFULLY_CLOSED</td>\n",
       "      <td>Merchant Live</td>\n",
       "      <td>2025-05-08 12:20:52</td>\n",
       "      <td>2025-05-08 12:38:48</td>\n",
       "      <td>Last 7 days</td>\n",
       "      <td>NON_EDC</td>\n",
       "      <td>Name Matched</td>\n",
       "      <td>10k MID created</td>\n",
       "      <td>2025-05-08 12:38:02</td>\n",
       "      <td>2025-05-08 12:38:02</td>\n",
       "      <td>2025-05-08 12:36:13</td>\n",
       "      <td>0 days 00:01:49</td>\n",
       "      <td>Leads QCed in less than 02 min</td>\n",
       "      <td>Intime</td>\n",
       "      <td>NaT</td>\n",
       "      <td>2025-05-08 12:36:13</td>\n",
       "      <td>{\"PANEL_SUCCESS\":1}</td>\n",
       "      <td>NaN</td>\n",
       "      <td>1421212705</td>\n",
       "      <td>General Trade QR_SB_EDC</td>\n",
       "      <td>cOFEEd39854350439714</td>\n",
       "      <td>2025-05-08 12:38:17</td>\n",
       "      <td>NaN</td>\n",
       "      <td>Retail and Shopping</td>\n",
       "      <td>Kirana</td>\n",
       "      <td>2025-05-08 12:36:13</td>\n",
       "      <td>0 days 00:01:49</td>\n",
       "      <td>Leads QCed in less than 02 min</td>\n",
       "    </tr>\n",
       "    <tr>\n",
       "      <th>2</th>\n",
       "      <td>1.942887e+09</td>\n",
       "      <td>f4e42f6c-2083-4602-9520-f3a45cd8763a</td>\n",
       "      <td>INDIVIDUAL</td>\n",
       "      <td>156</td>\n",
       "      <td>LEAD_SUCCESSFULLY_CLOSED</td>\n",
       "      <td>Merchant Live</td>\n",
       "      <td>2025-01-18 13:08:19</td>\n",
       "      <td>2025-05-07 12:01:07</td>\n",
       "      <td>Last 7 days</td>\n",
       "      <td>NON_EDC</td>\n",
       "      <td>Name Matched</td>\n",
       "      <td>10k MID created</td>\n",
       "      <td>2025-05-07 12:00:05</td>\n",
       "      <td>2025-05-07 12:00:05</td>\n",
       "      <td>2025-05-07 11:56:22</td>\n",
       "      <td>0 days 00:03:43</td>\n",
       "      <td>Leads QCed in between 02 - 05 min</td>\n",
       "      <td>Intime</td>\n",
       "      <td>NaT</td>\n",
       "      <td>2025-05-07 11:56:22</td>\n",
       "      <td>{\"PANEL_SUCCESS\":1}</td>\n",
       "      <td>NaN</td>\n",
       "      <td>1809440960</td>\n",
       "      <td>General Trade QR_SB_EDC</td>\n",
       "      <td>xQePrv25469891187743</td>\n",
       "      <td>2025-05-07 12:00:23</td>\n",
       "      <td>NaN</td>\n",
       "      <td>Retail and Shopping</td>\n",
       "      <td>Meat Shop</td>\n",
       "      <td>2025-05-07 11:56:22</td>\n",
       "      <td>0 days 00:03:43</td>\n",
       "      <td>Leads QCed in between 02 - 05 min</td>\n",
       "    </tr>\n",
       "  </tbody>\n",
       "</table>\n",
       "</div>"
      ],
      "text/plain": [
       "   Merchant Cust ID                               Lead_ID Entity_Type  \\\n",
       "0      1.129348e+07  09301547-f722-4109-aeae-4aacd808b0a2  INDIVIDUAL   \n",
       "1      1.441923e+09  396e0e0b-75eb-4838-a00b-eb5e4fa96923  INDIVIDUAL   \n",
       "2      1.942887e+09  f4e42f6c-2083-4602-9520-f3a45cd8763a  INDIVIDUAL   \n",
       "\n",
       "   Node id                Lead_Stage    Lead Status   Created Timestamp  \\\n",
       "0      156  LEAD_SUCCESSFULLY_CLOSED  Merchant Live 2025-05-08 16:08:23   \n",
       "1      156  LEAD_SUCCESSFULLY_CLOSED  Merchant Live 2025-05-08 12:20:52   \n",
       "2      156  LEAD_SUCCESSFULLY_CLOSED  Merchant Live 2025-01-18 13:08:19   \n",
       "\n",
       "    Updated Timestamp       Ageing Product_Context Name_Match_Status  \\\n",
       "0 2025-05-08 16:29:49  Last 7 days         NON_EDC      Name Matched   \n",
       "1 2025-05-08 12:38:48  Last 7 days         NON_EDC      Name Matched   \n",
       "2 2025-05-07 12:01:07  Last 7 days         NON_EDC      Name Matched   \n",
       "\n",
       "  10K/1rs MID Status     Final TimeStamp QC Panel Successful TimeStamp  \\\n",
       "0    10k MID created 2025-05-08 16:29:04           2025-05-08 16:29:04   \n",
       "1    10k MID created 2025-05-08 12:38:02           2025-05-08 12:38:02   \n",
       "2    10k MID created 2025-05-07 12:00:05           2025-05-07 12:00:05   \n",
       "\n",
       "  Last QC Pending Timestamp             TAT  \\\n",
       "0       2025-05-08 16:27:19 0 days 00:01:45   \n",
       "1       2025-05-08 12:36:13 0 days 00:01:49   \n",
       "2       2025-05-07 11:56:22 0 days 00:03:43   \n",
       "\n",
       "                Merchant QC TAT slab Working TimeSlab New Off Time  \\\n",
       "0     Leads QCed in less than 02 min           Intime          NaT   \n",
       "1     Leads QCed in less than 02 min           Intime          NaT   \n",
       "2  Leads QCed in between 02 - 05 min           Intime          NaT   \n",
       "\n",
       "  New Last QC Pending Time Stage movement count Rejection Ageing     cust_id  \\\n",
       "0      2025-05-08 16:27:19  {\"PANEL_SUCCESS\":1}              NaN  1108896768   \n",
       "1      2025-05-08 12:36:13  {\"PANEL_SUCCESS\":1}              NaN  1421212705   \n",
       "2      2025-05-07 11:56:22  {\"PANEL_SUCCESS\":1}              NaN  1809440960   \n",
       "\n",
       "                agent_team                   mid    mid_created_date  \\\n",
       "0  General Trade QR_SB_EDC  bsBWjk33412643658929 2019-07-27 10:59:22   \n",
       "1  General Trade QR_SB_EDC  cOFEEd39854350439714 2025-05-08 12:38:17   \n",
       "2  General Trade QR_SB_EDC  xQePrv25469891187743 2025-05-07 12:00:23   \n",
       "\n",
       "  solution_type_level_3             category sub_category  \\\n",
       "0                   NaN    Personal Services   Cyber Cafe   \n",
       "1                   NaN  Retail and Shopping       Kirana   \n",
       "2                   NaN  Retail and Shopping    Meat Shop   \n",
       "\n",
       "  first_qc_pending_min_created   end_to_end_tat  \\\n",
       "0          2025-05-08 16:27:19  0 days 00:01:45   \n",
       "1          2025-05-08 12:36:13  0 days 00:01:49   \n",
       "2          2025-05-07 11:56:22  0 days 00:03:43   \n",
       "\n",
       "                 End to End TAT slab  \n",
       "0     Leads QCed in less than 02 min  \n",
       "1     Leads QCed in less than 02 min  \n",
       "2  Leads QCed in between 02 - 05 min  "
      ]
     },
     "execution_count": 171,
     "metadata": {},
     "output_type": "execute_result"
    }
   ],
   "source": [
    "data.head(3)"
   ]
  },
  {
   "cell_type": "code",
   "execution_count": 172,
   "metadata": {},
   "outputs": [],
   "source": [
    "data.to_csv(out_file, index=False)"
   ]
  },
  {
   "cell_type": "code",
   "execution_count": null,
   "metadata": {},
   "outputs": [],
   "source": []
  },
  {
   "cell_type": "code",
   "execution_count": null,
   "metadata": {},
   "outputs": [],
   "source": []
  },
  {
   "cell_type": "code",
   "execution_count": 173,
   "metadata": {},
   "outputs": [
    {
     "ename": "NameError",
     "evalue": "name 'sas' is not defined",
     "output_type": "error",
     "traceback": [
      "\u001b[1;31m---------------------------------------------------------------------------\u001b[0m",
      "\u001b[1;31mNameError\u001b[0m                                 Traceback (most recent call last)",
      "Cell \u001b[1;32mIn[173], line 1\u001b[0m\n\u001b[1;32m----> 1\u001b[0m sas\n",
      "\u001b[1;31mNameError\u001b[0m: name 'sas' is not defined"
     ]
    }
   ],
   "source": [
    "sas"
   ]
  },
  {
   "cell_type": "code",
   "execution_count": null,
   "metadata": {},
   "outputs": [],
   "source": []
  },
  {
   "cell_type": "code",
   "execution_count": null,
   "metadata": {},
   "outputs": [],
   "source": []
  },
  {
   "cell_type": "code",
   "execution_count": null,
   "metadata": {},
   "outputs": [],
   "source": []
  },
  {
   "cell_type": "code",
   "execution_count": null,
   "metadata": {},
   "outputs": [],
   "source": []
  },
  {
   "cell_type": "code",
   "execution_count": null,
   "metadata": {},
   "outputs": [],
   "source": []
  },
  {
   "cell_type": "code",
   "execution_count": null,
   "metadata": {},
   "outputs": [],
   "source": []
  },
  {
   "cell_type": "code",
   "execution_count": null,
   "metadata": {},
   "outputs": [],
   "source": [
    "\n",
    "\n",
    "# Convert to datetime\n",
    "data['Last QC Pending Timestamp'] = pd.to_datetime(data['Last QC Pending Timestamp'])\n",
    "data['Final TimeStamp'] = pd.to_datetime(data['Final TimeStamp'])\n",
    "\n",
    "# Define active hours (08:30 AM - 09:30 PM)\n",
    "active_start_time = pd.to_timedelta('08:30:00')\n",
    "active_end_time = pd.to_timedelta('21:30:00')\n",
    "\n",
    "# Function to calculate active duration for each row\n",
    "def calculate_active_duration(row):\n",
    "    start = row['Last QC Pending Timestamp']\n",
    "    end = row['Final TimeStamp']\n",
    "    \n",
    "    # Check if either start or end is NaT\n",
    "    if pd.isna(start) or pd.isna(end):\n",
    "        return \"00:00:00\"  # Return 0 hours if either is NaT\n",
    "    \n",
    "    # Initialize total active duration\n",
    "    total_active_duration = pd.Timedelta(0)\n",
    "    \n",
    "    # Iterate over each date from start to end\n",
    "    for single_date in pd.date_range(start=start.date(), end=end.date()):\n",
    "        active_start = pd.Timestamp(single_date) + active_start_time\n",
    "        active_end = pd.Timestamp(single_date) + active_end_time\n",
    "        \n",
    "        # Determine the effective active period for this day\n",
    "        effective_start = max(start, active_start)\n",
    "        effective_end = min(end, active_end)\n",
    "\n",
    "        # If there's a valid active period, add its duration\n",
    "        if effective_start < effective_end:\n",
    "            total_active_duration += effective_end - effective_start\n",
    "\n",
    "    # Convert total active duration to hours\n",
    "    total_hours = total_active_duration.total_seconds() / 3600\n",
    "    \n",
    "    # Format the hours to HH:MM:SS\n",
    "    hours = int(total_hours)\n",
    "    minutes = int((total_hours - hours) * 60)\n",
    "    seconds = int(((total_hours - hours) * 60 - minutes) * 60)\n",
    "    \n",
    "    return f\"{hours:02}:{minutes:02}:{seconds:02}\"\n",
    "\n",
    "# Apply the function to each row\n",
    "data['TAT'] = data.apply(calculate_active_duration, axis=1)\n",
    "\n",
    "# Display the result\n",
    "print(data[['Last QC Pending Timestamp', 'Final TimeStamp', 'TAT']])\n",
    "print(len(data))\n"
   ]
  },
  {
   "cell_type": "code",
   "execution_count": null,
   "metadata": {},
   "outputs": [],
   "source": [
    "# data['TAT']=data['Final TimeStamp']-data['Last QC Pending Timestamp']\n",
    "# data['TAT']=data['TAT'].apply(lambda x: str(x).split()[-1] if pd.notna(x) else 'NaT')\n",
    "print(data.columns)\n",
    "print(len(data))"
   ]
  },
  {
   "cell_type": "code",
   "execution_count": null,
   "metadata": {},
   "outputs": [],
   "source": [
    "print(data[['Final TimeStamp','Last QC Pending Timestamp','TAT']].head(10))\n",
    "print(len(data))"
   ]
  },
  {
   "cell_type": "code",
   "execution_count": null,
   "metadata": {},
   "outputs": [],
   "source": [
    "len(data[((data['Lead Status']=='Merchant Live') | (data['Lead Status']=='Documents Rejected (Pending at Sales Team)'))&(data['TAT'].isnull())])"
   ]
  },
  {
   "cell_type": "code",
   "execution_count": null,
   "metadata": {},
   "outputs": [],
   "source": [
    "data[\"TAT\"]=pd.to_timedelta(data['TAT'])\n",
    "\n",
    "\n",
    "\n",
    "print(data[['Final TimeStamp','Last QC Pending Timestamp','TAT']].head(10))"
   ]
  },
  {
   "cell_type": "code",
   "execution_count": null,
   "metadata": {},
   "outputs": [],
   "source": [
    "type(data['TAT'][0])"
   ]
  },
  {
   "cell_type": "code",
   "execution_count": null,
   "metadata": {},
   "outputs": [],
   "source": [
    "def categorize_time(td):\n",
    "    total_minutes = td.total_seconds() / 60  # Convert timedelta to total minutes\n",
    "    if total_minutes < 16:\n",
    "        return 'Leads QCed in less than 15 min'\n",
    "    elif 16 <= total_minutes < 36:\n",
    "        return 'Leads QCed in between 15-30 min'\n",
    "    elif 36 <= total_minutes < 66:\n",
    "        return 'Leads QCed in between 30 min -1 hr'\n",
    "    elif 66 <= total_minutes < 126:\n",
    "        return 'Leads QCed in between 1 - 2 hr'\n",
    "    elif 126 <= total_minutes < 186:\n",
    "        return 'Leads QCed in between 2-3 hr'\n",
    "    elif 186 <= total_minutes < 246:\n",
    "        return 'Leads QCed in between 3-4 hr'\n",
    "    else:\n",
    "        return 'leads QCed in more than 4 hrs'\n",
    "\n",
    "\n",
    "\n",
    "data.loc[(data['Lead Status']=='Merchant Live') | (data['Lead Status']=='Documents Rejected (Pending at Sales Team)'),'Merchant QC TAT slab']=data['TAT'].apply(categorize_time)\n",
    "\n",
    "\n",
    "    \n",
    "\n"
   ]
  },
  {
   "cell_type": "code",
   "execution_count": null,
   "metadata": {},
   "outputs": [],
   "source": [
    "print(data['Merchant QC TAT slab'].value_counts())\n",
    "print(len(data))"
   ]
  },
  {
   "cell_type": "code",
   "execution_count": null,
   "metadata": {},
   "outputs": [],
   "source": [
    "data['TAT'].head(10)"
   ]
  },
  {
   "cell_type": "code",
   "execution_count": null,
   "metadata": {},
   "outputs": [],
   "source": [
    "\n",
    "# Function to convert timedelta to HH:MM:SS format with cumulative hours\n",
    "def format_timedelta(td):\n",
    "    total_seconds = int(td.total_seconds())\n",
    "    hours, remainder = divmod(total_seconds, 3600)  # Convert total seconds to hours\n",
    "    minutes, seconds = divmod(remainder, 60)\n",
    "    return f'{hours:02}:{minutes:02}:{seconds:02}'  # Format as HH:MM:SS\n",
    "\n",
    "# Apply the function to convert timedelta to HH:MM:SS\n",
    "data['TAT'] = data['TAT'].apply(format_timedelta)"
   ]
  },
  {
   "cell_type": "code",
   "execution_count": null,
   "metadata": {},
   "outputs": [],
   "source": [
    "data.loc[(data['Lead Status']!='Merchant Live') & (data['Lead Status']!='Documents Rejected (Pending at Sales Team)'),'TAT']=''\n",
    "\n",
    "data['TAT'].head(10)"
   ]
  },
  {
   "cell_type": "code",
   "execution_count": null,
   "metadata": {},
   "outputs": [],
   "source": [
    "data.columns"
   ]
  },
  {
   "cell_type": "code",
   "execution_count": null,
   "metadata": {},
   "outputs": [],
   "source": [
    "data=data.drop(columns=['Working TimeSlab','New Off Time','New Last QC Pending Time','Node id'])\n",
    "data.columns"
   ]
  },
  {
   "cell_type": "code",
   "execution_count": null,
   "metadata": {},
   "outputs": [],
   "source": [
    "col=data.pop('TAT')\n",
    "\n",
    "t=data.columns.get_loc('Merchant QC TAT slab')\n",
    "\n",
    "data.insert(t+1,'TAT',col)\n",
    "\n",
    "data.columns"
   ]
  },
  {
   "cell_type": "code",
   "execution_count": null,
   "metadata": {},
   "outputs": [],
   "source": [
    "data['solution_type_level_3'].unique()\n",
    "len(data)"
   ]
  },
  {
   "cell_type": "code",
   "execution_count": null,
   "metadata": {},
   "outputs": [],
   "source": [
    "data_acup_kyc=data[data['solution_type_level_3'].isin(['ACCOUNT_UPGRADE', 'KYC_UPDATE'])]\n",
    "data_mco=data[~data['solution_type_level_3'].isin(['ACCOUNT_UPGRADE', 'KYC_UPDATE'])]"
   ]
  },
  {
   "cell_type": "code",
   "execution_count": null,
   "metadata": {},
   "outputs": [],
   "source": [
    "#raise Exception(\"Stop execution here\")"
   ]
  },
  {
   "cell_type": "code",
   "execution_count": null,
   "metadata": {},
   "outputs": [],
   "source": [
    "with pd.ExcelWriter(\"all_flow_data_21st Oct'24.xlsx\") as writer:\n",
    "    # Write the original dataframe to the first sheet\n",
    "    data.to_excel(writer, sheet_name='All Data', index=False)\n",
    "    \n",
    "    # Write data filtered by Category 'A' and 'C' to the second sheet\n",
    "    data_acup_kyc.to_excel(writer, sheet_name=' KYC & ACC UPGD', index=False)\n",
    "    \n",
    "    # Write data filtered by Category 'B' and 'D' to the third sheet\n",
    "    data_mco.to_excel(writer, sheet_name='MCO', index=False)"
   ]
  },
  {
   "cell_type": "code",
   "execution_count": null,
   "metadata": {},
   "outputs": [],
   "source": [
    "data.to_csv(\"all_flow_data_19th Oct'24.csv\", index=False)\n"
   ]
  }
 ],
 "metadata": {
  "kernelspec": {
   "display_name": "base",
   "language": "python",
   "name": "python3"
  },
  "language_info": {
   "codemirror_mode": {
    "name": "ipython",
    "version": 3
   },
   "file_extension": ".py",
   "mimetype": "text/x-python",
   "name": "python",
   "nbconvert_exporter": "python",
   "pygments_lexer": "ipython3",
   "version": "3.12.7"
  }
 },
 "nbformat": 4,
 "nbformat_minor": 2
}
